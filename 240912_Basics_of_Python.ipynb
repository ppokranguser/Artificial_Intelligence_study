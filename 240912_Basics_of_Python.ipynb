{
  "nbformat": 4,
  "nbformat_minor": 0,
  "metadata": {
    "colab": {
      "provenance": [],
      "collapsed_sections": [
        "Rnnyh5R6G-9U",
        "WcxlRgL2DfBV",
        "7usbvvjsHCL2",
        "9lIdn_sQHEVc",
        "h9exIbQwKhG4",
        "fx3n3HSmNdV3",
        "mTN2aG2zHEhn"
      ],
      "include_colab_link": true
    },
    "kernelspec": {
      "name": "python3",
      "display_name": "Python 3"
    }
  },
  "cells": [
    {
      "cell_type": "markdown",
      "metadata": {
        "id": "view-in-github",
        "colab_type": "text"
      },
      "source": [
        "<a href=\"https://colab.research.google.com/github/ppokranguser/Artificial_Intelligence_study/blob/main/240912_Basics_of_Python.ipynb\" target=\"_parent\"><img src=\"https://colab.research.google.com/assets/colab-badge.svg\" alt=\"Open In Colab\"/></a>"
      ]
    },
    {
      "cell_type": "markdown",
      "source": [
        "# Python Basics\n"
      ],
      "metadata": {
        "id": "4WMq5uN2COOa"
      }
    },
    {
      "cell_type": "markdown",
      "source": [
        "## Introduction"
      ],
      "metadata": {
        "id": "Rnnyh5R6G-9U"
      }
    },
    {
      "cell_type": "code",
      "metadata": {
        "id": "15UjtD8rCQUN",
        "outputId": "1097ec74-b125-45cb-b6dc-a39cbde326f3",
        "colab": {
          "base_uri": "https://localhost:8080/"
        }
      },
      "source": [
        "course_name = \"Artifical Intelligence (AI)\"\n",
        "\n",
        "### Simple print function\n",
        "print('Hello CAU!')"
      ],
      "execution_count": null,
      "outputs": [
        {
          "output_type": "stream",
          "name": "stdout",
          "text": [
            "Hello CAU!\n"
          ]
        }
      ]
    },
    {
      "cell_type": "code",
      "source": [
        "### ADD STRING WITH '+' OPERATION\n",
        "print('Hello and welcome to ' + course_name)"
      ],
      "metadata": {
        "id": "PPg5dxWwOyl7",
        "outputId": "480922ff-27c9-428c-e8fb-1ffbf9be525b",
        "colab": {
          "base_uri": "https://localhost:8080/"
        }
      },
      "execution_count": null,
      "outputs": [
        {
          "output_type": "stream",
          "name": "stdout",
          "text": [
            "Hello and welcome to Artifical Intelligence (AI)\n"
          ]
        }
      ]
    },
    {
      "cell_type": "code",
      "source": [
        "### ADD STRING WITH {} & 'format' function\n",
        "### 'data' == '{}'.format('data')\n",
        "print('The course\\'s name is \\\"{}\\\"'.format(course_name))"
      ],
      "metadata": {
        "id": "RRVRsC-2OziY",
        "outputId": "bc9529b5-1ae1-4800-8016-3294978aac37",
        "colab": {
          "base_uri": "https://localhost:8080/"
        }
      },
      "execution_count": null,
      "outputs": [
        {
          "output_type": "stream",
          "name": "stdout",
          "text": [
            "The course's name is \"Artifical Intelligence (AI)\"\n"
          ]
        }
      ]
    },
    {
      "cell_type": "code",
      "source": [
        "### OR use %s (strings) %d (integer) %f (float) ...\n",
        "### \"text, 10\" == \"%s, %d\" %('text', 10)\n",
        "print('In %s course, we will learn various things for %d weeks!' %(course_name, 16))"
      ],
      "metadata": {
        "id": "OVB_E419O0ZK",
        "outputId": "95f4056c-405c-4722-d886-ec52f9ae5346",
        "colab": {
          "base_uri": "https://localhost:8080/"
        }
      },
      "execution_count": null,
      "outputs": [
        {
          "output_type": "stream",
          "name": "stdout",
          "text": [
            "In Artifical Intelligence (AI) course, we will learn various things for 16 weeks!\n"
          ]
        }
      ]
    },
    {
      "cell_type": "markdown",
      "metadata": {
        "id": "WcxlRgL2DfBV"
      },
      "source": [
        "## Python as a Calculator\n"
      ]
    },
    {
      "cell_type": "code",
      "metadata": {
        "id": "DUXC3JC7Dfoh",
        "colab": {
          "base_uri": "https://localhost:8080/"
        },
        "outputId": "32315038-bd72-4afd-80d1-14ec979b77d7"
      },
      "source": [
        "print(2+2) # Addition\n",
        "print(50-5*6) # Subtraction and multiplication\n",
        "print()\n",
        "\n",
        "## Difference from Python 2 and Python 3 : division always makes the float result\n",
        "print(18/5)\n",
        "print()\n",
        "\n",
        "## Use // for generating integer result after division.\n",
        "print(18//5)\n",
        "print()\n",
        "\n",
        "## % for get the remainder of the division\n",
        "# if k % 10 == 0: (if k can be divided by 10 with 0 remainder, below will be run.)\n",
        "print(101 % 10)\n",
        "print()\n",
        "\n",
        "## ** for power.\n",
        "print(10 ** 2) # 10 squared\n",
        "print(10 ** 3) # 10 cubed"
      ],
      "execution_count": null,
      "outputs": [
        {
          "output_type": "stream",
          "name": "stdout",
          "text": [
            "4\n",
            "20\n",
            "\n",
            "3.6\n",
            "\n",
            "3\n",
            "\n",
            "1\n",
            "\n",
            "100\n",
            "1000\n"
          ]
        }
      ]
    },
    {
      "cell_type": "markdown",
      "metadata": {
        "id": "7usbvvjsHCL2"
      },
      "source": [
        "## List\n",
        "\n",
        "### List in Python : group other values together!\n",
        "- len(L): Number of elements inside the List L\n",
        "- Watch out for the indexing\n",
        "    - it starts from 0 1 2...\n",
        "    - If you want to go backward, it is -1, -2, -3, ....\n",
        "\n",
        "\n"
      ]
    },
    {
      "cell_type": "code",
      "metadata": {
        "id": "M_1yAlD0HCrA",
        "outputId": "e7a2d7db-71a7-464f-9dfd-9ce272ecb7ba",
        "colab": {
          "base_uri": "https://localhost:8080/"
        }
      },
      "source": [
        "# Watch out for the indexing\n",
        "my_list = [0, 1, 2, 'a', 'b','c']\n",
        "print('Length of list : {}'.format(len(my_list)))\n",
        "print('len: %d' %len(my_list))\n",
        "print('First element:', my_list[0])  # Accessing the first element\n",
        "print('Last element:', my_list[-1])  # Accessing the last element"
      ],
      "execution_count": null,
      "outputs": [
        {
          "output_type": "stream",
          "name": "stdout",
          "text": [
            "Length of list : 6\n",
            "len: 6\n",
            "First element: 0\n",
            "Last element: c\n"
          ]
        }
      ]
    },
    {
      "cell_type": "markdown",
      "source": [
        "### Slice and Concatenate\n",
        "- L[a:b]: slice the list \"L\" from index `a` to `b-1`. Number of the elements will be `b-a`\n",
        "- L1 + L2: Concatenating two list L1 and L2\n"
      ],
      "metadata": {
        "id": "QealVCGaEHMw"
      }
    },
    {
      "cell_type": "code",
      "source": [
        "# Slicing the list\n",
        "my_list = [0, 1, 2, 'a', 'b','c']\n",
        "print('Sliced list:', my_list[2:5])  # Slicing the list from index 2 to 4\n",
        "\n",
        "# Concatenating lists\n",
        "my_list = [0, 1, 2, 'a', 'b','c']\n",
        "your_list = [3, 4, 5, 'd', 'e','f']\n",
        "concatenated_list = my_list + your_list\n",
        "print('Concatenated list:', concatenated_list)\n",
        "\n"
      ],
      "metadata": {
        "id": "FsPxIK4ryfnQ",
        "outputId": "d5593603-1c1a-432b-fda8-d394b00daa66",
        "colab": {
          "base_uri": "https://localhost:8080/"
        }
      },
      "execution_count": null,
      "outputs": [
        {
          "output_type": "stream",
          "name": "stdout",
          "text": [
            "Sliced list: [2, 'a', 'b']\n",
            "Concatenated list: [0, 1, 2, 'a', 'b', 'c', 3, 4, 5, 'd', 'e', 'f']\n"
          ]
        }
      ]
    },
    {
      "cell_type": "markdown",
      "source": [
        "### Add and Delete\n",
        "\n",
        "- L.append(element): Add the element at the end of L. The length of L will be increased.\n",
        "- del L[a]: delete the element in index `a` of the list L\n",
        "- L[a:b] = []: delete a slice of elements from index `a` to `b-1`\n",
        "\n"
      ],
      "metadata": {
        "id": "qXgYijUeE8kB"
      }
    },
    {
      "cell_type": "code",
      "source": [
        "# Adding an element to the list\n",
        "concatenated_list.append('NEW ELEMENT')\n",
        "print('List after adding new element:', concatenated_list)\n",
        "\n",
        "## Delete the element of list\n",
        "del concatenated_list[-1]\n",
        "print('List after erasing last: ', concatenated_list)\n",
        "\n",
        "## Delete the some part of the list\n",
        "concatenated_list[0:3] = []\n",
        "print('List after erasing block: ', concatenated_list)\n",
        "print()"
      ],
      "metadata": {
        "colab": {
          "base_uri": "https://localhost:8080/"
        },
        "id": "JgJ84BoHE4yA",
        "outputId": "fbcb0ed1-283e-42e8-ca3f-b601ebe2c195"
      },
      "execution_count": null,
      "outputs": [
        {
          "output_type": "stream",
          "name": "stdout",
          "text": [
            "List after adding new element: [0, 1, 2, 'a', 'b', 'c', 3, 4, 5, 'd', 'e', 'f', 'NEW ELEMENT']\n",
            "List after erasing last:  [0, 1, 2, 'a', 'b', 'c', 3, 4, 5, 'd', 'e', 'f']\n",
            "List after erasing block:  ['a', 'b', 'c', 3, 4, 5, 'd', 'e', 'f']\n",
            "\n"
          ]
        }
      ]
    },
    {
      "cell_type": "markdown",
      "source": [
        "### Indexing\n",
        "- L.index(element): find the index of the element."
      ],
      "metadata": {
        "id": "t6sXYngaFE65"
      }
    },
    {
      "cell_type": "code",
      "source": [
        "## find the INDEX of the element!\n",
        "my_list = [0, 1, 2, 'a', 'b','c']\n",
        "your_list = [3, 4, 5, 'd', 'e','f']\n",
        "concatenated_list = my_list + your_list\n",
        "\n",
        "# Finding the index of the element '3' in the concatenated list\n",
        "index_3 = concatenated_list.index(3)\n",
        "print(concatenated_list)\n",
        "print('3 is at the {}th order in concat_list'.format(index_3 + 1 ) )"
      ],
      "metadata": {
        "id": "uhQbY6-rPHQj",
        "outputId": "b44a0cf0-9134-40ab-a1e8-150a6eba30bc",
        "colab": {
          "base_uri": "https://localhost:8080/"
        }
      },
      "execution_count": null,
      "outputs": [
        {
          "output_type": "stream",
          "name": "stdout",
          "text": [
            "[0, 1, 2, 'a', 'b', 'c', 3, 4, 5, 'd', 'e', 'f']\n",
            "3 is at the 7th order in concat_list\n"
          ]
        }
      ]
    },
    {
      "cell_type": "markdown",
      "source": [
        "### Nested list\n",
        "- A list can contain other lists as elements."
      ],
      "metadata": {
        "id": "PlDFMQc4FcXv"
      }
    },
    {
      "cell_type": "code",
      "source": [
        "## List can contain other list as element\n",
        "my_list = [0, 1, 2, 'a', 'b','c']\n",
        "your_list = [3, 4, 5, 'd', 'e','f']\n",
        "super_list = [my_list, your_list, [\"new!\"]]\n",
        "print(super_list)\n",
        "print()"
      ],
      "metadata": {
        "id": "MG8sbZMK37Wd",
        "outputId": "f09512f7-5224-4d69-d84b-553d8686b5cd",
        "colab": {
          "base_uri": "https://localhost:8080/"
        }
      },
      "execution_count": null,
      "outputs": [
        {
          "output_type": "stream",
          "name": "stdout",
          "text": [
            "[[0, 1, 2, 'a', 'b', 'c'], [3, 4, 5, 'd', 'e', 'f'], ['new!']]\n",
            "\n"
          ]
        }
      ]
    },
    {
      "cell_type": "markdown",
      "source": [
        "### Others..."
      ],
      "metadata": {
        "id": "PCLPZig0GlFI"
      }
    },
    {
      "cell_type": "code",
      "source": [
        "## Some useful operations for the list\n",
        "curr_list = [2, 5, 1, 3, 0, 8, 9, 9, 10, 10]\n",
        "\n",
        "# Displaying the current list\n",
        "print('Current List:', curr_list)\n",
        "\n",
        "# Calculating the sum of the elements in the list\n",
        "print('Sum of the list: {}'.format(sum(curr_list)))\n",
        "\n",
        "# Finding the maximum and minimum elements in the list\n",
        "print('Maximum element: {}'.format(max(curr_list)))\n",
        "print('Minimum element: {}'.format(min(curr_list)))\n",
        "\n",
        "# Sorting the list in ascending order\n",
        "print('Sorted List:', sorted(curr_list))\n",
        "\n",
        "# Finding the unique elements in the list using a set\n",
        "print('Unique set:', set(curr_list))"
      ],
      "metadata": {
        "id": "wvungA3LYN7P",
        "outputId": "66279ca4-40ba-41d3-a941-6f3609148004",
        "colab": {
          "base_uri": "https://localhost:8080/"
        }
      },
      "execution_count": null,
      "outputs": [
        {
          "output_type": "stream",
          "name": "stdout",
          "text": [
            "Current List: [2, 5, 1, 3, 0, 8, 9, 9, 10, 10]\n",
            "Sum of the list: 57\n",
            "Maximum element: 10\n",
            "Minimum element: 0\n",
            "Sorted List: [0, 1, 2, 3, 5, 8, 9, 9, 10, 10]\n",
            "Unique set: {0, 1, 2, 3, 5, 8, 9, 10}\n"
          ]
        }
      ]
    },
    {
      "cell_type": "markdown",
      "metadata": {
        "id": "upefgL9eE-HR"
      },
      "source": [
        "## String\n",
        "\n",
        "### Some useful string operations\n",
        "- s1.split()\n",
        "-s1.join()\n",
        "-s1.lower() and s1.upper()\n",
        "\n",
        "### Indexing in the string (list)\n",
        "```\n",
        " +---+---+---+---+---+---+\n",
        " | P | y | t | h | o | n |\n",
        " +---+---+---+---+---+---+\n",
        "   0   1   2   3   4   5   6\n",
        "  -6  -5  -4  -3  -2  -1\n",
        "```\n",
        "\n",
        "\n"
      ]
    },
    {
      "cell_type": "code",
      "metadata": {
        "id": "idLcjC3IE-p0",
        "outputId": "ac9e1ba1-8ce6-4eb0-d2c8-da72736623b4",
        "colab": {
          "base_uri": "https://localhost:8080/"
        }
      },
      "source": [
        "## Split the string! the default is spliting with space\n",
        "curr_str = \"This is the string for you! / Thanks a lot\"\n",
        "\n",
        "print(curr_str.split()) # Split the string into substrings\n",
        "print(curr_str.split('/')) # Split the string using '/' as the delimiter"
      ],
      "execution_count": null,
      "outputs": [
        {
          "output_type": "stream",
          "name": "stdout",
          "text": [
            "['This', 'is', 'the', 'string', 'for', 'you!', '/', 'Thanks', 'a', 'lot']\n",
            "['This is the string for you! ', ' Thanks a lot']\n"
          ]
        }
      ]
    },
    {
      "cell_type": "code",
      "source": [
        "## Join the strings in the list. s1.join(L) would make L[0] + s1 + L[1] + s1 + ....\n",
        "curr_char = ['w', 'h', 'a', 't', 'i', 's', 't', 'h', 'i', 's']\n",
        "\n",
        "print(' '.join(curr_char)) # Join the characters with a space\n",
        "print(''.join(curr_char)) # Join the characters without any separator\n",
        "print('HHH'.join(curr_char)) # Join the characters with 'HHH' as the separator"
      ],
      "metadata": {
        "id": "VkaAUL3KO5PG",
        "outputId": "0b7dc44a-d7b3-45c8-af2e-cc2f4f2a4262",
        "colab": {
          "base_uri": "https://localhost:8080/"
        }
      },
      "execution_count": null,
      "outputs": [
        {
          "output_type": "stream",
          "name": "stdout",
          "text": [
            "w h a t i s t h i s\n",
            "whatisthis\n",
            "wHHHhHHHaHHHtHHHiHHHsHHHtHHHhHHHiHHHs\n"
          ]
        }
      ]
    },
    {
      "cell_type": "code",
      "source": [
        "## String to lower / upper cases\n",
        "curr_str = \"This is the string for you! / Thanks a lot\"\n",
        "print(curr_str.lower())\n",
        "print(curr_str.upper())"
      ],
      "metadata": {
        "id": "tbqz5j-rO66k",
        "outputId": "65b8670f-9f32-492a-bb36-5abd2eeab21c",
        "colab": {
          "base_uri": "https://localhost:8080/"
        }
      },
      "execution_count": null,
      "outputs": [
        {
          "output_type": "stream",
          "name": "stdout",
          "text": [
            "this is the string for you! / thanks a lot\n",
            "THIS IS THE STRING FOR YOU! / THANKS A LOT\n"
          ]
        }
      ]
    },
    {
      "cell_type": "markdown",
      "metadata": {
        "id": "9lIdn_sQHEVc"
      },
      "source": [
        "## Dictionary in Python!\n",
        "- map 'key' with 'value'\n",
        "- D['key'] = value"
      ]
    },
    {
      "cell_type": "code",
      "metadata": {
        "id": "G-zs7_QsKgrw",
        "outputId": "ec25f2e2-7dfe-4be9-e607-bf3926a93025",
        "colab": {
          "base_uri": "https://localhost:8080/"
        }
      },
      "source": [
        "## DEFINE SOME DICTIONARY\n",
        "deep_learning_tools = dict()\n",
        "deep_learning_tools['Google'] = 'Tensorflow'\n",
        "deep_learning_tools['Meta'] = 'PyTorch'\n",
        "deep_learning_tools['Apache'] = 'MXNet'\n",
        "\n",
        "print('Dictionary: \\t', deep_learning_tools)\n",
        "print('Keys: \\t\\t', deep_learning_tools.keys())\n",
        "print('Values: \\t', deep_learning_tools.values())\n",
        "print('Length of this dictionary: {}'.format(len(deep_learning_tools)))"
      ],
      "execution_count": null,
      "outputs": [
        {
          "output_type": "stream",
          "name": "stdout",
          "text": [
            "Dictionary: \t {'Google': 'Tensorflow', 'Meta': 'PyTorch', 'Apache': 'MXNet'}\n",
            "Keys: \t\t dict_keys(['Google', 'Meta', 'Apache'])\n",
            "Values: \t dict_values(['Tensorflow', 'PyTorch', 'MXNet'])\n",
            "Length of this dictionary: 3\n"
          ]
        }
      ]
    },
    {
      "cell_type": "markdown",
      "metadata": {
        "id": "h9exIbQwKhG4"
      },
      "source": [
        "## If statement\n",
        "- Consists of **if, elif, else**.\n",
        "```\n",
        "if [some condition] :\n",
        "    do something you want\n",
        "elif [another condition] :\n",
        "    do another thing you want\n",
        "else:\n",
        "    do others you want\n",
        "```\n",
        "- Always add ' : ' !\n",
        "- Grammar real English"
      ]
    },
    {
      "cell_type": "code",
      "metadata": {
        "id": "GJU5LEUbNc-F",
        "colab": {
          "base_uri": "https://localhost:8080/"
        },
        "outputId": "33bddf0f-1d54-4564-853f-58e8c928c6ea"
      },
      "source": [
        "input_int = int(input('Enter your positive integer value!: '))\n",
        "if input_int < 0:\n",
        "    print('NEGATIVE INTEGER!')\n",
        "else:\n",
        "    if input_int % 5 == 0:\n",
        "        print('This integer can be divided by 5')\n",
        "    elif input_int % 5 == 1:\n",
        "        print('This integer leaves 1 after divided by 5')\n",
        "    else:\n",
        "        print('This interger leaves value larger than 1 after divided by 5')"
      ],
      "execution_count": null,
      "outputs": [
        {
          "output_type": "stream",
          "name": "stdout",
          "text": [
            "Enter your positive integer value!: 12\n",
            "This interger leaves value larger than 1 after divided by 5\n"
          ]
        }
      ]
    },
    {
      "cell_type": "markdown",
      "metadata": {
        "id": "fx3n3HSmNdV3"
      },
      "source": [
        "## For statement and Range function\n",
        "\n",
        "\n",
        "\n",
        "```\n",
        "for (something) in (something that can be iterated):\n",
        "    do what you want with (something)\n",
        "```\n",
        "```\n",
        "for idx in range(start, end, stride):\n",
        "    idx would be start, start+stride, start+2*stride .....\n",
        "```\n",
        "* Always add ' : ' !\n",
        "* Grammar like English"
      ]
    },
    {
      "cell_type": "code",
      "metadata": {
        "id": "K0h3p5jHKhRw",
        "outputId": "718538a5-f8d1-40b2-89c6-fa48988b5497",
        "colab": {
          "base_uri": "https://localhost:8080/"
        }
      },
      "source": [
        "alphabet = ['a', 'b', 'c', 'd', 'e', 'f', 'g', 'h', 'i']\n",
        "### iterate elements in \"alphabet\"\n",
        "for ch in alphabet:\n",
        "    print(ch)\n",
        "print()\n",
        "\n",
        "### iterate elements in \"alphabet\" with index information\n",
        "for char_idx, char in enumerate(alphabet):\n",
        "    print(char_idx, char)"
      ],
      "execution_count": null,
      "outputs": [
        {
          "output_type": "stream",
          "name": "stdout",
          "text": [
            "a\n",
            "b\n",
            "c\n",
            "d\n",
            "e\n",
            "f\n",
            "g\n",
            "h\n",
            "i\n",
            "\n",
            "0 a\n",
            "1 b\n",
            "2 c\n",
            "3 d\n",
            "4 e\n",
            "5 f\n",
            "6 g\n",
            "7 h\n",
            "8 i\n"
          ]
        }
      ]
    },
    {
      "cell_type": "code",
      "source": [
        "for i in range(5): # start from 0 to param-1\n",
        "    print(i)\n",
        "print()\n",
        "\n",
        "for i in range(0, 5, 1): # start, end, stride\n",
        "    print(i)\n",
        "print()\n",
        "\n",
        "for i in range(5, 0, -1):\n",
        "    print(i)\n",
        "\n"
      ],
      "metadata": {
        "id": "84zOzlaJ7ZJp",
        "outputId": "6c71a766-579b-4a5c-c750-16dd88a17ce4",
        "colab": {
          "base_uri": "https://localhost:8080/"
        }
      },
      "execution_count": null,
      "outputs": [
        {
          "output_type": "stream",
          "name": "stdout",
          "text": [
            "0\n",
            "1\n",
            "2\n",
            "3\n",
            "4\n",
            "\n",
            "0\n",
            "1\n",
            "2\n",
            "3\n",
            "4\n",
            "\n",
            "5\n",
            "4\n",
            "3\n",
            "2\n",
            "1\n"
          ]
        }
      ]
    },
    {
      "cell_type": "code",
      "source": [
        "## Iterate with key and values!\n",
        "deep_learning_tools = dict()\n",
        "deep_learning_tools['Google'] = 'Tensorflow'\n",
        "deep_learning_tools['Meta'] = 'PyTorch'\n",
        "deep_learning_tools['Apache'] = 'MXNet'\n",
        "\n",
        "for k, v in deep_learning_tools.items():\n",
        "    print('{} \\t ---> \\t  {}'.format(k, v))"
      ],
      "metadata": {
        "id": "VkBNMoap_zN1",
        "outputId": "509c0ec8-368e-4640-d3d8-57f727733a52",
        "colab": {
          "base_uri": "https://localhost:8080/"
        }
      },
      "execution_count": null,
      "outputs": [
        {
          "output_type": "stream",
          "name": "stdout",
          "text": [
            "Google \t ---> \t  Tensorflow\n",
            "Meta \t ---> \t  PyTorch\n",
            "Apache \t ---> \t  MXNet\n"
          ]
        }
      ]
    },
    {
      "cell_type": "code",
      "metadata": {
        "id": "fs6sHxhbRlcd",
        "outputId": "f98fcf16-e824-4e7c-a6ad-59aae95ef08f",
        "colab": {
          "base_uri": "https://localhost:8080/"
        }
      },
      "source": [
        "## Some tricks to make a list\n",
        "print([x for x in range(10)])\n",
        "print([x for x in range(10) if x % 2 == 0]) # only elements that can be divided by 2\n",
        "print([x**2 for x in range(10) if x % 2 == 1]) # squared value of elements that can not be divided by 2"
      ],
      "execution_count": null,
      "outputs": [
        {
          "output_type": "stream",
          "name": "stdout",
          "text": [
            "[0, 1, 2, 3, 4, 5, 6, 7, 8, 9]\n",
            "[0, 2, 4, 6, 8]\n",
            "[1, 9, 25, 49, 81]\n"
          ]
        }
      ]
    },
    {
      "cell_type": "code",
      "source": [
        "## additional example\n",
        "start_idx = 5\n",
        "end_idx = 0\n",
        "stride = -1\n",
        "alphabet = ['a', 'b', 'c', 'd', 'e', 'f', 'g', 'h', 'i']\n",
        "\n",
        "### iterate elements using \"range\"\n",
        "for idx in range(start_idx, end_idx, stride):\n",
        "    print(alphabet[idx])\n",
        "print()\n",
        "\n",
        "### iterate elements using index information directly.\n",
        "print(alphabet[start_idx:end_idx:stride])\n",
        "print()\n",
        "\n",
        "for char in alphabet[start_idx:end_idx:stride]:\n",
        "    print(char)\n"
      ],
      "metadata": {
        "id": "xPwf_04ePf7p",
        "outputId": "8dedf469-18eb-4030-d5e0-e9878cb387d0",
        "colab": {
          "base_uri": "https://localhost:8080/"
        }
      },
      "execution_count": null,
      "outputs": [
        {
          "output_type": "stream",
          "name": "stdout",
          "text": [
            "f\n",
            "e\n",
            "d\n",
            "c\n",
            "b\n",
            "\n",
            "['f', 'e', 'd', 'c', 'b']\n",
            "\n",
            "f\n",
            "e\n",
            "d\n",
            "c\n",
            "b\n"
          ]
        }
      ]
    },
    {
      "cell_type": "code",
      "source": [
        "## additional example\n",
        "for i in range(2): # 0-1\n",
        "    for j in range(10): # 0-9\n",
        "        value = i * 10 + j\n",
        "        if i == 1 and j == 5:\n",
        "            print('I want this number : '+str(value))\n",
        "            break\n",
        "        else:\n",
        "            print(value)"
      ],
      "metadata": {
        "id": "eKXJFuPrPjle",
        "outputId": "90a769b8-974e-493d-c2b7-a116f892358b",
        "colab": {
          "base_uri": "https://localhost:8080/"
        }
      },
      "execution_count": null,
      "outputs": [
        {
          "output_type": "stream",
          "name": "stdout",
          "text": [
            "0\n",
            "1\n",
            "2\n",
            "3\n",
            "4\n",
            "5\n",
            "6\n",
            "7\n",
            "8\n",
            "9\n",
            "10\n",
            "11\n",
            "12\n",
            "13\n",
            "14\n",
            "I want this number : 15\n"
          ]
        }
      ]
    },
    {
      "cell_type": "markdown",
      "metadata": {
        "id": "mTN2aG2zHEhn"
      },
      "source": [
        "## While statement\n",
        "```\n",
        "while (some condition to keep this while loop) :\n",
        "    do something you want\n",
        "```"
      ]
    },
    {
      "cell_type": "code",
      "metadata": {
        "id": "0n2xqZI2T9Kw",
        "outputId": "12a0c8da-c577-46d6-c28e-0283cb07af6e",
        "colab": {
          "base_uri": "https://localhost:8080/"
        }
      },
      "source": [
        "cnt = 0\n",
        "limit = 10\n",
        "middle_point = 5\n",
        "\n",
        "while cnt < limit:\n",
        "    print('Current Counter : ', cnt)\n",
        "    if cnt is middle_point:\n",
        "        print('STOP')\n",
        "        break\n",
        "    # when you use a 'while' statement, always care about infinite loop!\n",
        "    cnt += 1\n",
        "\n",
        "print('Final Counter : ', cnt)"
      ],
      "execution_count": null,
      "outputs": [
        {
          "output_type": "stream",
          "name": "stdout",
          "text": [
            "Current Counter :  0\n",
            "Current Counter :  1\n",
            "Current Counter :  2\n",
            "Current Counter :  3\n",
            "Current Counter :  4\n",
            "Current Counter :  5\n",
            "STOP\n",
            "Final Counter :  5\n"
          ]
        }
      ]
    }
  ]
}