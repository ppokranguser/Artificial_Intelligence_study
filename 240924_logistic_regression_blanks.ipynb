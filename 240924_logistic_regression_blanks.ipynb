{
  "nbformat": 4,
  "nbformat_minor": 0,
  "metadata": {
    "colab": {
      "provenance": [],
      "include_colab_link": true
    },
    "kernelspec": {
      "name": "python3",
      "display_name": "Python 3"
    }
  },
  "cells": [
    {
      "cell_type": "markdown",
      "metadata": {
        "id": "view-in-github",
        "colab_type": "text"
      },
      "source": [
        "<a href=\"https://colab.research.google.com/github/ppokranguser/Artificial_Intelligence_study/blob/main/240924_logistic_regression_blanks.ipynb\" target=\"_parent\"><img src=\"https://colab.research.google.com/assets/colab-badge.svg\" alt=\"Open In Colab\"/></a>"
      ]
    },
    {
      "cell_type": "markdown",
      "source": [
        "# Logistic Regression using PyTorch!"
      ],
      "metadata": {
        "id": "cN5TSk7m-qRu"
      }
    },
    {
      "cell_type": "markdown",
      "metadata": {
        "id": "EAnVFOzm8e54"
      },
      "source": [
        "# Import Packages"
      ]
    },
    {
      "cell_type": "code",
      "metadata": {
        "id": "JFj1uat-xARX"
      },
      "source": [
        "# import packeges here"
      ],
      "execution_count": null,
      "outputs": []
    },
    {
      "cell_type": "markdown",
      "metadata": {
        "id": "m3snXumO88G7"
      },
      "source": [
        "# Make the dataset!"
      ]
    },
    {
      "cell_type": "code",
      "source": [
        "# Make the dataset here\n"
      ],
      "metadata": {
        "id": "hywiceRw1bJm",
        "collapsed": true
      },
      "execution_count": null,
      "outputs": []
    },
    {
      "cell_type": "markdown",
      "metadata": {
        "id": "a6Jn9ao2_CKn"
      },
      "source": [
        "# Define the model"
      ]
    },
    {
      "cell_type": "code",
      "metadata": {
        "id": "CnuQAIS90B-Z"
      },
      "source": [
        "# Create model\n"
      ],
      "execution_count": null,
      "outputs": []
    },
    {
      "cell_type": "markdown",
      "metadata": {
        "id": "lRQdUsk6_jmR"
      },
      "source": [
        "# Define a loss function and training process"
      ]
    },
    {
      "cell_type": "code",
      "metadata": {
        "id": "v2Sogfqk2rSh"
      },
      "source": [
        "# Loss and optimizer\n",
        "\n",
        "\n",
        "# training loop\n",
        "\n"
      ],
      "execution_count": null,
      "outputs": []
    },
    {
      "cell_type": "markdown",
      "metadata": {
        "id": "x_Ch5xY3B_0w"
      },
      "source": [
        "# Plot the result : training loss"
      ]
    },
    {
      "cell_type": "code",
      "metadata": {
        "id": "gJeS6J9W6j3h"
      },
      "source": [
        "# plot the results\n"
      ],
      "execution_count": null,
      "outputs": []
    },
    {
      "cell_type": "markdown",
      "source": [
        "# Evaluate the trained model using the testset"
      ],
      "metadata": {
        "id": "BDh_6GDqvtZJ"
      }
    },
    {
      "cell_type": "code",
      "source": [
        "# evaluate the trained model\n"
      ],
      "metadata": {
        "id": "A92K1BE8Z0H1"
      },
      "execution_count": null,
      "outputs": []
    }
  ]
}