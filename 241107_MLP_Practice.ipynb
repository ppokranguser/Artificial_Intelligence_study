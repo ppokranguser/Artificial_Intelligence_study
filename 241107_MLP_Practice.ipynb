{
  "cells": [
    {
      "cell_type": "markdown",
      "metadata": {
        "id": "view-in-github",
        "colab_type": "text"
      },
      "source": [
        "<a href=\"https://colab.research.google.com/github/ppokranguser/Artificial_Intelligence_study/blob/main/241107_MLP_Practice.ipynb\" target=\"_parent\"><img src=\"https://colab.research.google.com/assets/colab-badge.svg\" alt=\"Open In Colab\"/></a>"
      ]
    },
    {
      "cell_type": "markdown",
      "metadata": {
        "id": "kmIOkV65f5S0"
      },
      "source": [
        "### Import Packages\n"
      ]
    },
    {
      "cell_type": "code",
      "execution_count": 1,
      "metadata": {
        "colab": {
          "base_uri": "https://localhost:8080/"
        },
        "id": "X1f7bWu9lJtX",
        "outputId": "bd4bdc82-84d3-4a6d-ac56-4dea14b3bf57"
      },
      "outputs": [
        {
          "output_type": "stream",
          "name": "stdout",
          "text": [
            "2.5.0+cu121\n"
          ]
        }
      ],
      "source": [
        "import os # Provides a way to interact with the operating system, such as file operations.\n",
        "import csv # Enables reading and writing CSV files, which are commonly used for tabular data.\n",
        "import numpy as np\n",
        "from tqdm.notebook import tqdm\n",
        "\n",
        "# A plotting library for creating visualizations such as charts, histograms, and scatter plots.\n",
        "import matplotlib.pyplot as plt\n",
        "# The Python Imaging Library, used for image processing tasks such as opening, manipulating, and saving images.\n",
        "from PIL import Image\n",
        "\n",
        "import torch\n",
        "# provides datasets, transforms, and common architectures for computer vision tasks.\n",
        "import torchvision\n",
        "from torchvision import transforms\n",
        "# Contains neural network layers, loss functions, and utilities for building neural networks.\n",
        "import torch.nn as nn\n",
        "# Provides functional interface to neural network operations like activation functions and loss functions.\n",
        "import torch.nn.functional as F\n",
        "# Contains optimization algorithms such as SGD, Adam, RMSprop, etc. for training neural networks.\n",
        "import torch.optim as optim\n",
        "# Provides utilities for handling datasets and data loading in PyTorch.\n",
        "from torch.utils.data import Dataset, DataLoader\n",
        "\n",
        "# Printing PyTorch version\n",
        "print(torch.__version__)"
      ]
    },
    {
      "cell_type": "markdown",
      "metadata": {
        "id": "TTj1RldNHgSQ"
      },
      "source": [
        "### MNIST dataset is provided from Google Colab by default"
      ]
    },
    {
      "cell_type": "code",
      "execution_count": 2,
      "metadata": {
        "id": "pcMuF_m9Ev8W"
      },
      "outputs": [],
      "source": [
        "# Setting paths for train and test data\n",
        "train_path = './sample_data/mnist_train_small.csv'\n",
        "test_path = './sample_data/mnist_test.csv'\n",
        "img_size = 28"
      ]
    },
    {
      "cell_type": "markdown",
      "metadata": {
        "id": "PYiku-SxHnA6"
      },
      "source": [
        "### Choose your device - use GPU or not?"
      ]
    },
    {
      "cell_type": "code",
      "execution_count": 3,
      "metadata": {
        "colab": {
          "base_uri": "https://localhost:8080/"
        },
        "id": "k44xmCOHHmF4",
        "outputId": "3ee93379-6584-4489-aa63-a20073e3e548"
      },
      "outputs": [
        {
          "output_type": "stream",
          "name": "stdout",
          "text": [
            "Current Device : cuda\n"
          ]
        }
      ],
      "source": [
        "# Choosing device: GPU or CPU\n",
        "device = 'cuda' if torch.cuda.is_available() else 'cpu'\n",
        "print('Current Device : {}'.format(device))"
      ]
    },
    {
      "cell_type": "markdown",
      "metadata": {
        "id": "1lukzx9CHuNv"
      },
      "source": [
        "### Read the MNIST dataset\n",
        "- total 1+ 28x28 dimension. 1 For Label, 28x28 for image\n"
      ]
    },
    {
      "cell_type": "code",
      "execution_count": 4,
      "metadata": {
        "id": "KACiPSPiFOyF"
      },
      "outputs": [],
      "source": [
        "# Function to read MNIST dataset from a CSV file\n",
        "def mnist_reader(file_path, img_size=img_size):\n",
        "    # Initialize lists to store images and labels\n",
        "    total_img = list()\n",
        "    total_label = list()\n",
        "\n",
        "    # Open the CSV file\n",
        "    with open(file_path) as csvfile:\n",
        "        # Create a CSV reader\n",
        "        mnist_reader = csv.reader(csvfile)\n",
        "        # Iterate over each row in the CSV file\n",
        "        for row in mnist_reader:\n",
        "            # Convert the pixel values to a NumPy array and reshape it to 28x28\n",
        "            img = np.array(row[1:], dtype=np.uint8).reshape(img_size, img_size)\n",
        "            # Extract the label from the first element of the row\n",
        "            label = int(row[0])\n",
        "\n",
        "            # Append the image and label to their respective lists\n",
        "            total_img.append(img)\n",
        "            total_label.append(label)\n",
        "\n",
        "    # Convert the lists to NumPy arrays\n",
        "    total_img = np.asarray(total_img)\n",
        "    total_label = np.asarray(total_label)\n",
        "\n",
        "    return total_img, total_label"
      ]
    },
    {
      "cell_type": "code",
      "execution_count": 5,
      "metadata": {
        "colab": {
          "base_uri": "https://localhost:8080/"
        },
        "id": "sghlSXb_Gd9-",
        "outputId": "ead4894f-102b-4a59-aaf8-e0721a69867d"
      },
      "outputs": [
        {
          "output_type": "stream",
          "name": "stdout",
          "text": [
            "<class 'numpy.ndarray'>\n",
            "<class 'numpy.ndarray'>\n",
            "(20000, 28, 28) (20000,)\n",
            "(10000, 28, 28) (10000,)\n"
          ]
        }
      ],
      "source": [
        "# Read the training and testing images and labels using the mnist_reader function\n",
        "train_img, train_label = mnist_reader(train_path)\n",
        "test_img, test_label = mnist_reader(test_path)\n",
        "\n",
        "print(type(train_img))\n",
        "print(type(train_label))\n",
        "print(train_img.shape, train_label.shape)\n",
        "print(test_img.shape, test_label.shape)\n"
      ]
    },
    {
      "cell_type": "markdown",
      "metadata": {
        "id": "XwsvttO0IJRL"
      },
      "source": [
        "### Define the Dataset"
      ]
    },
    {
      "cell_type": "code",
      "execution_count": 6,
      "metadata": {
        "id": "naa0-u1dGc6H"
      },
      "outputs": [],
      "source": [
        "# Custom dataset class for MNIST\n",
        "class MNIST_Dataset(Dataset):\n",
        "    def __init__(self, img, label):\n",
        "        # Initialize the dataset with images and labels\n",
        "        self.img = img\n",
        "        self.label = label\n",
        "        # Store the number of data samples\n",
        "        self.num_data = self.img.shape[0]\n",
        "\n",
        "    def __len__(self):\n",
        "        # Return the total number of data samples\n",
        "        return self.num_data\n",
        "\n",
        "    def __getitem__(self, idx):\n",
        "        # Get a sample by its index\n",
        "        sample = dict()\n",
        "\n",
        "        # Normalize the image pixel values to the range [0, 1]\n",
        "        sample['img'] = self.img[idx] / 255\n",
        "        # Get the corresponding label\n",
        "        sample['label'] = self.label[idx]\n",
        "\n",
        "        return sample"
      ]
    },
    {
      "cell_type": "markdown",
      "metadata": {
        "id": "j3S8BdL5IMcb"
      },
      "source": [
        "### Define the DataLoader"
      ]
    },
    {
      "cell_type": "code",
      "execution_count": 7,
      "metadata": {
        "id": "Qu2Vn-qbIeTa"
      },
      "outputs": [],
      "source": [
        "# Set the batch size for training and testing data loaders\n",
        "batch_size = 64\n",
        "\n",
        "# Create instances of the MNIST_Dataset class for training and testing datasets\n",
        "train_dataset = MNIST_Dataset(train_img, train_label)\n",
        "test_dataset = MNIST_Dataset(test_img, test_label)\n",
        "\n",
        "# Create DataLoader objects to iterate over batches of data during training and testing\n",
        "train_dataloader = DataLoader(train_dataset, batch_size=batch_size, shuffle=True)\n",
        "test_dataloader = DataLoader(test_dataset, batch_size=batch_size, shuffle=False)"
      ]
    },
    {
      "cell_type": "markdown",
      "metadata": {
        "id": "sT_N_IqnIQgQ"
      },
      "source": [
        "### Sample one data point from dataloader"
      ]
    },
    {
      "cell_type": "code",
      "execution_count": 8,
      "metadata": {
        "colab": {
          "base_uri": "https://localhost:8080/"
        },
        "id": "RAiU23NUKFl7",
        "outputId": "5f6d77a1-6066-490b-c427-30fb21a01709"
      },
      "outputs": [
        {
          "output_type": "stream",
          "name": "stdout",
          "text": [
            "torch.Size([64, 28, 28])\n",
            "torch.Size([64])\n",
            "tensor([7, 2, 1, 0, 4, 1, 4, 9, 5, 9, 0, 6, 9, 0, 1, 5, 9, 7, 3, 4, 9, 6, 6, 5,\n",
            "        4, 0, 7, 4, 0, 1, 3, 1, 3, 4, 7, 2, 7, 1, 2, 1, 1, 7, 4, 2, 3, 5, 1, 2,\n",
            "        4, 4, 6, 3, 5, 5, 6, 0, 4, 1, 9, 5, 7, 8, 9, 3])\n"
          ]
        }
      ],
      "source": [
        "# Retrieve a batch of data from the test dataloader using the next(iter()) function\n",
        "sample = next(iter(test_dataloader))\n",
        "\n",
        "# Print the shape of the image and label tensors in the sampled batch\n",
        "print(sample['img'].shape)\n",
        "print(sample['label'].shape)\n",
        "print(sample['label'])"
      ]
    },
    {
      "cell_type": "code",
      "execution_count": 9,
      "metadata": {
        "colab": {
          "base_uri": "https://localhost:8080/",
          "height": 452
        },
        "id": "XnDU90xVTpqC",
        "outputId": "bfdb1478-9b7b-40bd-e52d-dab32faeaff7"
      },
      "outputs": [
        {
          "output_type": "display_data",
          "data": {
            "text/plain": [
              "<Figure size 640x480 with 1 Axes>"
            ],
            "image/png": "[encoded data removed]"
          },
          "metadata": {}
        }
      ],
      "source": [
        "plot_idx = 0\n",
        "plt.imshow(sample['img'][plot_idx])\n",
        "plt.title('LABEL : {}'.format(sample['label'][plot_idx]))\n",
        "plt.show()"
      ]
    },
    {
      "cell_type": "markdown",
      "metadata": {
        "id": "LEjuX7lWIYlb"
      },
      "source": [
        "### Define MLPs function"
      ]
    },
    {
      "cell_type": "code",
      "execution_count": 10,
      "metadata": {
        "id": "Cx-fxCW5JD_w"
      },
      "outputs": [],
      "source": [
        "class MyModel(nn.Module):\n",
        "    def __init__(self, dim_hid_1=128, dim_hid_2=128, dim_inp=img_size**2, dim_out=10):\n",
        "        super(MyModel, self).__init__()\n",
        "\n",
        "        # Initialize the dimensions of hidden layers, input, and output\n",
        "        self.dim_hid_1 = dim_hid_1\n",
        "        self.dim_hid_2 = dim_hid_2\n",
        "        self.dim_inp = dim_inp\n",
        "        self.dim_out = dim_out\n",
        "\n",
        "        # Define the activation function (ReLU)\n",
        "        self.acti = nn.ReLU()\n",
        "\n",
        "        # Define the first block of the neural network\n",
        "        self.block_1 = nn.Sequential(nn.Linear(dim_inp, dim_hid_1),\n",
        "                                     self.acti,\n",
        "                                     )\n",
        "\n",
        "        # Define the second block of the neural network\n",
        "        self.block_2 = nn.Sequential(nn.Linear(dim_hid_1, dim_hid_2),\n",
        "                                     self.acti,\n",
        "                                     )\n",
        "\n",
        "        # Define the final output layer\n",
        "        self.final_layer = nn.Linear(dim_hid_2, dim_out)\n",
        "\n",
        "    def forward(self, img):\n",
        "        # Flatten the input image into a 1D tensor\n",
        "        batch_size = img.shape[0]\n",
        "        inp = img.view(batch_size, -1)\n",
        "\n",
        "        # Pass the input through the first block\n",
        "        out = self.block_1(inp)\n",
        "\n",
        "        # Pass the output of the first block through the second block\n",
        "        out = self.block_2(out)\n",
        "\n",
        "        # Pass the output of the second block through the final output layer\n",
        "        out = self.final_layer(out)\n",
        "\n",
        "        return out"
      ]
    },
    {
      "cell_type": "markdown",
      "metadata": {
        "id": "r4hjFl4-IsqO"
      },
      "source": [
        "### Create an instance of our MLP model and prepare the optimizer"
      ]
    },
    {
      "cell_type": "code",
      "execution_count": 11,
      "metadata": {
        "id": "ZWtw-y-MKuv1"
      },
      "outputs": [],
      "source": [
        "# Define the model instance of our MLP model.\n",
        "model = MyModel()\n",
        "\n",
        "# Move the model to the appropriate device (CPU or GPU).\n",
        "model = model.to(device)\n",
        "\n",
        "# Define the optimizer for training the model parameters.\n",
        "optimizer = optim.Adam(model.parameters(), lr=1e-4)"
      ]
    },
    {
      "cell_type": "markdown",
      "metadata": {
        "id": "DUSpLgVXIwqG"
      },
      "source": [
        "### Define functions for training and testing the model"
      ]
    },
    {
      "cell_type": "code",
      "execution_count": 12,
      "metadata": {
        "id": "Q9pXkpAMK42y"
      },
      "outputs": [],
      "source": [
        "def train(model, optimizer, sample):\n",
        "    # Set the model to 'train' mode\n",
        "    model.train()\n",
        "\n",
        "    # Define the loss function (cross-entropy loss)\n",
        "    criterion = nn.CrossEntropyLoss()\n",
        "\n",
        "    # Extract input image and label from the sample\n",
        "    img = sample['img'].float().to(device)\n",
        "    label = sample['label'].long().to(device)\n",
        "\n",
        "    # Get the model's prediction\n",
        "    pred = model(img)\n",
        "\n",
        "    # Count the number of correct predictions\n",
        "    num_correct = sum(torch.argmax(pred, dim=1) == label)\n",
        "\n",
        "    # Calculate the loss\n",
        "    pred_loss = criterion(pred, label)\n",
        "\n",
        "    # Perform one step of optimization (backward pass, gradient descent)\n",
        "    optimizer.zero_grad()\n",
        "    pred_loss.backward()\n",
        "    optimizer.step()\n",
        "\n",
        "    # Return the loss value and the number of correct predictions\n",
        "    return pred_loss.item(), num_correct.item()"
      ]
    },
    {
      "cell_type": "code",
      "execution_count": 13,
      "metadata": {
        "id": "MhcKwq8WOUGu"
      },
      "outputs": [],
      "source": [
        "def test(model, sample):\n",
        "    # Set the model to 'evaluation' mode\n",
        "    model.eval()\n",
        "\n",
        "    # Define the loss function (cross-entropy loss)\n",
        "    criterion = nn.CrossEntropyLoss()\n",
        "\n",
        "    # Extract input image and label from the sample\n",
        "    img = sample['img'].float().to(device)\n",
        "    label = sample['label'].long().to(device)\n",
        "\n",
        "    # Disable gradient calculation for efficiency\n",
        "    with torch.no_grad():\n",
        "        # Get the model's prediction\n",
        "        pred = model(img)\n",
        "\n",
        "        # Calculate the loss\n",
        "        pred_loss = criterion(pred, label)\n",
        "\n",
        "        # Count the number of correct predictions\n",
        "        num_correct = sum(torch.argmax(pred, dim=1) == label)\n",
        "\n",
        "    # Return the loss value and the number of correct predictions\n",
        "    return pred_loss.item(), num_correct.item()"
      ]
    },
    {
      "cell_type": "markdown",
      "metadata": {
        "id": "T23Toz8vI7Gu"
      },
      "source": [
        "### Run the MLP model"
      ]
    },
    {
      "cell_type": "code",
      "execution_count": null,
      "metadata": {
        "colab": {
          "base_uri": "https://localhost:8080/",
          "height": 202,
          "referenced_widgets": [
            "7c61ee1cffd34eecafb2cb9d84a64f44",
            "493f2551810a43178409e117408105f0",
            "d87998580bba4ab5bd20cc68dfcafc35",
            "7e71ada7a1924b16b6ad644aae3d8ecd",
            "354d17d7e5644bf29943bffe253b9cf3",
            "a06fa84796b947bfb349ca5eacb74a63",
            "1c4e3a39ae8545f0855f681362ca0148",
            "4764239ea5da43ef8e6e90e5a4bdc9d7",
            "df97dcf728524d40a29a3bb65128a096",
            "53e3be7e87f541d3a09997dce2ee77b9",
            "a4301d0b546b46c29f166b1175615b04"
          ]
        },
        "id": "-kTrpt4YMRS6",
        "outputId": "cad50882-e0db-45f3-a402-6aaf5cf61148"
      },
      "outputs": [
        {
          "output_type": "display_data",
          "data": {
            "text/plain": [
              "  0%|          | 0/100 [00:00<?, ?it/s]"
            ],
            "application/vnd.jupyter.widget-view+json": {
              "version_major": 2,
              "version_minor": 0,
              "model_id": "7c61ee1cffd34eecafb2cb9d84a64f44"
            }
          },
          "metadata": {}
        },
        {
          "output_type": "stream",
          "name": "stdout",
          "text": [
            "[epoch 10] train accu :0.93 , test accu :0.93\n",
            "[epoch 20] train accu :0.96 , test accu :0.95\n",
            "[epoch 30] train accu :0.97 , test accu :0.95\n",
            "[epoch 40] train accu :0.98 , test accu :0.96\n",
            "[epoch 50] train accu :0.99 , test accu :0.96\n",
            "[epoch 60] train accu :0.99 , test accu :0.96\n",
            "[epoch 70] train accu :1.00 , test accu :0.96\n",
            "[epoch 80] train accu :1.00 , test accu :0.96\n",
            "[epoch 90] train accu :1.00 , test accu :0.96\n"
          ]
        }
      ],
      "source": [
        "# Define the maximum number of epochs for training\n",
        "max_epoch = 100\n",
        "\n",
        "# Define the frequency of printing the training and testing accuracy during training\n",
        "print_stride = 10\n",
        "\n",
        "# Lists to store training and testing losses\n",
        "tr_loss_saver = []\n",
        "te_loss_saver = []\n",
        "\n",
        "# Iterate over each epoch\n",
        "for epoch in tqdm(range(max_epoch)):\n",
        "    ### Train Phase\n",
        "\n",
        "    # Initialize loss and accuracy for training\n",
        "    train_loss = 0.0\n",
        "    train_accu = 0.0\n",
        "\n",
        "    # Iterate over the training data loader\n",
        "    for idx, sample in enumerate(train_dataloader):\n",
        "        # Perform one step of training and compute the current loss and number of correct predictions\n",
        "        curr_loss, num_correct = train(model, optimizer, sample)\n",
        "        # Accumulate the loss and accuracy\n",
        "        train_loss += curr_loss / len(train_dataloader)\n",
        "        train_accu += num_correct / len(train_dataset)\n",
        "\n",
        "    # Save the training loss\n",
        "    tr_loss_saver.append(train_loss)\n",
        "\n",
        "    # Save the current model parameters\n",
        "    torch.save(model.state_dict(), 'recent.pth')\n",
        "\n",
        "\n",
        "    ### Test Phase\n",
        "    # Initialize loss and accuracy for testing\n",
        "    test_loss = 0.0\n",
        "    test_accu = 0.0\n",
        "\n",
        "    # Iterate over the testing data loader\n",
        "    for idx, sample in enumerate(test_dataloader):\n",
        "        # Compute the current loss and number of correct predictions for testing\n",
        "        curr_loss, num_correct = test(model, sample)\n",
        "        # Accumulate the loss and accuracy\n",
        "        test_loss += curr_loss / len(test_dataloader)\n",
        "        test_accu += num_correct / len(test_dataset)\n",
        "\n",
        "    # Save the testing loss\n",
        "    te_loss_saver.append(test_loss)\n",
        "\n",
        "    # Print the training and testing accuracy every 'print_stride' epochs\n",
        "    if (epoch+1) % print_stride == 0:\n",
        "        print('[epoch {}] train accu :{:.2f} , test accu :{:.2f}'.format(epoch+1, train_accu, test_accu))"
      ]
    },
    {
      "cell_type": "markdown",
      "metadata": {
        "id": "AJxCEmIL3Eai"
      },
      "source": [
        "### Plot the train and test loss"
      ]
    },
    {
      "cell_type": "code",
      "execution_count": null,
      "metadata": {
        "id": "DZpimy3esueo"
      },
      "outputs": [],
      "source": [
        "plt.figure(figsize=(4, 3))\n",
        "plt.plot(tr_loss_saver)  # Plot the training loss\n",
        "plt.plot(te_loss_saver)  # Plot the testing loss\n",
        "plt.legend(['Train Loss', 'Test Loss'])  # Add legend to the plot\n",
        "plt.xlabel('Epoch')  # Label for the x-axis\n",
        "plt.ylabel('Loss')  # Label for the y-axis\n",
        "plt.title('Train and Test Loss')  # Title of the plot\n",
        "plt.show()  # Display the plot"
      ]
    }
  ],
  "metadata": {
    "accelerator": "GPU",
    "colab": {
      "provenance": [],
      "include_colab_link": true
    },
    "kernelspec": {
      "display_name": "Python 3",
      "name": "python3"
    },
    "widgets": {
      "application/vnd.jupyter.widget-state+json": {
        "7c61ee1cffd34eecafb2cb9d84a64f44": {
          "model_module": "@jupyter-widgets/controls",
          "model_name": "HBoxModel",
          "model_module_version": "1.5.0",
          "state": {
            "_dom_classes": [],
            "_model_module": "@jupyter-widgets/controls",
            "_model_module_version": "1.5.0",
            "_model_name": "HBoxModel",
            "_view_count": null,
            "_view_module": "@jupyter-widgets/controls",
            "_view_module_version": "1.5.0",
            "_view_name": "HBoxView",
            "box_style": "",
            "children": [
              "IPY_MODEL_493f2551810a43178409e117408105f0",
              "IPY_MODEL_d87998580bba4ab5bd20cc68dfcafc35",
              "IPY_MODEL_7e71ada7a1924b16b6ad644aae3d8ecd"
            ],
            "layout": "IPY_MODEL_354d17d7e5644bf29943bffe253b9cf3"
          }
        },
        "493f2551810a43178409e117408105f0": {
          "model_module": "@jupyter-widgets/controls",
          "model_name": "HTMLModel",
          "model_module_version": "1.5.0",
          "state": {
            "_dom_classes": [],
            "_model_module": "@jupyter-widgets/controls",
            "_model_module_version": "1.5.0",
            "_model_name": "HTMLModel",
            "_view_count": null,
            "_view_module": "@jupyter-widgets/controls",
            "_view_module_version": "1.5.0",
            "_view_name": "HTMLView",
            "description": "",
            "description_tooltip": null,
            "layout": "IPY_MODEL_a06fa84796b947bfb349ca5eacb74a63",
            "placeholder": "​",
            "style": "IPY_MODEL_1c4e3a39ae8545f0855f681362ca0148",
            "value": " 92%"
          }
        },
        "d87998580bba4ab5bd20cc68dfcafc35": {
          "model_module": "@jupyter-widgets/controls",
          "model_name": "FloatProgressModel",
          "model_module_version": "1.5.0",
          "state": {
            "_dom_classes": [],
            "_model_module": "@jupyter-widgets/controls",
            "_model_module_version": "1.5.0",
            "_model_name": "FloatProgressModel",
            "_view_count": null,
            "_view_module": "@jupyter-widgets/controls",
            "_view_module_version": "1.5.0",
            "_view_name": "ProgressView",
            "bar_style": "",
            "description": "",
            "description_tooltip": null,
            "layout": "IPY_MODEL_4764239ea5da43ef8e6e90e5a4bdc9d7",
            "max": 100,
            "min": 0,
            "orientation": "horizontal",
            "style": "IPY_MODEL_df97dcf728524d40a29a3bb65128a096",
            "value": 92
          }
        },
        "7e71ada7a1924b16b6ad644aae3d8ecd": {
          "model_module": "@jupyter-widgets/controls",
          "model_name": "HTMLModel",
          "model_module_version": "1.5.0",
          "state": {
            "_dom_classes": [],
            "_model_module": "@jupyter-widgets/controls",
            "_model_module_version": "1.5.0",
            "_model_name": "HTMLModel",
            "_view_count": null,
            "_view_module": "@jupyter-widgets/controls",
            "_view_module_version": "1.5.0",
            "_view_name": "HTMLView",
            "description": "",
            "description_tooltip": null,
            "layout": "IPY_MODEL_53e3be7e87f541d3a09997dce2ee77b9",
            "placeholder": "​",
            "style": "IPY_MODEL_a4301d0b546b46c29f166b1175615b04",
            "value": " 92/100 [02:20&lt;00:11,  1.47s/it]"
          }
        },
        "354d17d7e5644bf29943bffe253b9cf3": {
          "model_module": "@jupyter-widgets/base",
          "model_name": "LayoutModel",
          "model_module_version": "1.2.0",
          "state": {
            "_model_module": "@jupyter-widgets/base",
            "_model_module_version": "1.2.0",
            "_model_name": "LayoutModel",
            "_view_count": null,
            "_view_module": "@jupyter-widgets/base",
            "_view_module_version": "1.2.0",
            "_view_name": "LayoutView",
            "align_content": null,
            "align_items": null,
            "align_self": null,
            "border": null,
            "bottom": null,
            "display": null,
            "flex": null,
            "flex_flow": null,
            "grid_area": null,
            "grid_auto_columns": null,
            "grid_auto_flow": null,
            "grid_auto_rows": null,
            "grid_column": null,
            "grid_gap": null,
            "grid_row": null,
            "grid_template_areas": null,
            "grid_template_columns": null,
            "grid_template_rows": null,
            "height": null,
            "justify_content": null,
            "justify_items": null,
            "left": null,
            "margin": null,
            "max_height": null,
            "max_width": null,
            "min_height": null,
            "min_width": null,
            "object_fit": null,
            "object_position": null,
            "order": null,
            "overflow": null,
            "overflow_x": null,
            "overflow_y": null,
            "padding": null,
            "right": null,
            "top": null,
            "visibility": null,
            "width": null
          }
        },
        "a06fa84796b947bfb349ca5eacb74a63": {
          "model_module": "@jupyter-widgets/base",
          "model_name": "LayoutModel",
          "model_module_version": "1.2.0",
          "state": {
            "_model_module": "@jupyter-widgets/base",
            "_model_module_version": "1.2.0",
            "_model_name": "LayoutModel",
            "_view_count": null,
            "_view_module": "@jupyter-widgets/base",
            "_view_module_version": "1.2.0",
            "_view_name": "LayoutView",
            "align_content": null,
            "align_items": null,
            "align_self": null,
            "border": null,
            "bottom": null,
            "display": null,
            "flex": null,
            "flex_flow": null,
            "grid_area": null,
            "grid_auto_columns": null,
            "grid_auto_flow": null,
            "grid_auto_rows": null,
            "grid_column": null,
            "grid_gap": null,
            "grid_row": null,
            "grid_template_areas": null,
            "grid_template_columns": null,
            "grid_template_rows": null,
            "height": null,
            "justify_content": null,
            "justify_items": null,
            "left": null,
            "margin": null,
            "max_height": null,
            "max_width": null,
            "min_height": null,
            "min_width": null,
            "object_fit": null,
            "object_position": null,
            "order": null,
            "overflow": null,
            "overflow_x": null,
            "overflow_y": null,
            "padding": null,
            "right": null,
            "top": null,
            "visibility": null,
            "width": null
          }
        },
        "1c4e3a39ae8545f0855f681362ca0148": {
          "model_module": "@jupyter-widgets/controls",
          "model_name": "DescriptionStyleModel",
          "model_module_version": "1.5.0",
          "state": {
            "_model_module": "@jupyter-widgets/controls",
            "_model_module_version": "1.5.0",
            "_model_name": "DescriptionStyleModel",
            "_view_count": null,
            "_view_module": "@jupyter-widgets/base",
            "_view_module_version": "1.2.0",
            "_view_name": "StyleView",
            "description_width": ""
          }
        },
        "4764239ea5da43ef8e6e90e5a4bdc9d7": {
          "model_module": "@jupyter-widgets/base",
          "model_name": "LayoutModel",
          "model_module_version": "1.2.0",
          "state": {
            "_model_module": "@jupyter-widgets/base",
            "_model_module_version": "1.2.0",
            "_model_name": "LayoutModel",
            "_view_count": null,
            "_view_module": "@jupyter-widgets/base",
            "_view_module_version": "1.2.0",
            "_view_name": "LayoutView",
            "align_content": null,
            "align_items": null,
            "align_self": null,
            "border": null,
            "bottom": null,
            "display": null,
            "flex": null,
            "flex_flow": null,
            "grid_area": null,
            "grid_auto_columns": null,
            "grid_auto_flow": null,
            "grid_auto_rows": null,
            "grid_column": null,
            "grid_gap": null,
            "grid_row": null,
            "grid_template_areas": null,
            "grid_template_columns": null,
            "grid_template_rows": null,
            "height": null,
            "justify_content": null,
            "justify_items": null,
            "left": null,
            "margin": null,
            "max_height": null,
            "max_width": null,
            "min_height": null,
            "min_width": null,
            "object_fit": null,
            "object_position": null,
            "order": null,
            "overflow": null,
            "overflow_x": null,
            "overflow_y": null,
            "padding": null,
            "right": null,
            "top": null,
            "visibility": null,
            "width": null
          }
        },
        "df97dcf728524d40a29a3bb65128a096": {
          "model_module": "@jupyter-widgets/controls",
          "model_name": "ProgressStyleModel",
          "model_module_version": "1.5.0",
          "state": {
            "_model_module": "@jupyter-widgets/controls",
            "_model_module_version": "1.5.0",
            "_model_name": "ProgressStyleModel",
            "_view_count": null,
            "_view_module": "@jupyter-widgets/base",
            "_view_module_version": "1.2.0",
            "_view_name": "StyleView",
            "bar_color": null,
            "description_width": ""
          }
        },
        "53e3be7e87f541d3a09997dce2ee77b9": {
          "model_module": "@jupyter-widgets/base",
          "model_name": "LayoutModel",
          "model_module_version": "1.2.0",
          "state": {
            "_model_module": "@jupyter-widgets/base",
            "_model_module_version": "1.2.0",
            "_model_name": "LayoutModel",
            "_view_count": null,
            "_view_module": "@jupyter-widgets/base",
            "_view_module_version": "1.2.0",
            "_view_name": "LayoutView",
            "align_content": null,
            "align_items": null,
            "align_self": null,
            "border": null,
            "bottom": null,
            "display": null,
            "flex": null,
            "flex_flow": null,
            "grid_area": null,
            "grid_auto_columns": null,
            "grid_auto_flow": null,
            "grid_auto_rows": null,
            "grid_column": null,
            "grid_gap": null,
            "grid_row": null,
            "grid_template_areas": null,
            "grid_template_columns": null,
            "grid_template_rows": null,
            "height": null,
            "justify_content": null,
            "justify_items": null,
            "left": null,
            "margin": null,
            "max_height": null,
            "max_width": null,
            "min_height": null,
            "min_width": null,
            "object_fit": null,
            "object_position": null,
            "order": null,
            "overflow": null,
            "overflow_x": null,
            "overflow_y": null,
            "padding": null,
            "right": null,
            "top": null,
            "visibility": null,
            "width": null
          }
        },
        "a4301d0b546b46c29f166b1175615b04": {
          "model_module": "@jupyter-widgets/controls",
          "model_name": "DescriptionStyleModel",
          "model_module_version": "1.5.0",
          "state": {
            "_model_module": "@jupyter-widgets/controls",
            "_model_module_version": "1.5.0",
            "_model_name": "DescriptionStyleModel",
            "_view_count": null,
            "_view_module": "@jupyter-widgets/base",
            "_view_module_version": "1.2.0",
            "_view_name": "StyleView",
            "description_width": ""
          }
        }
      }
    }
  },
  "nbformat": 4,
  "nbformat_minor": 0
}