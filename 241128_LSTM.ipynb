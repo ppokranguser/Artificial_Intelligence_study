{
  "cells": [
    {
      "cell_type": "markdown",
      "metadata": {
        "id": "view-in-github",
        "colab_type": "text"
      },
      "source": [
        "<a href=\"https://colab.research.google.com/github/ppokranguser/Artificial_Intelligence_study/blob/main/241128_LSTM.ipynb\" target=\"_parent\"><img src=\"https://colab.research.google.com/assets/colab-badge.svg\" alt=\"Open In Colab\"/></a>"
      ]
    },
    {
      "cell_type": "code",
      "execution_count": 1,
      "metadata": {
        "id": "rQO90yEK24X8"
      },
      "outputs": [],
      "source": [
        "import numpy as np\n",
        "import torch\n",
        "import torch.nn as nn\n",
        "from torch.utils.data import Dataset, DataLoader\n",
        "\n",
        "from tqdm.notebook import tqdm\n",
        "\n",
        "device = 'cuda' if torch.cuda.is_available() else 'cpu'"
      ]
    },
    {
      "cell_type": "code",
      "execution_count": 2,
      "metadata": {
        "colab": {
          "base_uri": "https://localhost:8080/"
        },
        "id": "xcdpjvBb2psF",
        "outputId": "ae073653-3550-4e4b-8a79-4e4d319a6eb6"
      },
      "outputs": [
        {
          "output_type": "stream",
          "name": "stdout",
          "text": [
            "--2024-11-28 04:14:30--  http://www.cs.cmu.edu/afs/cs/project/ai-repository/ai/areas/nlp/corpora/names/female.txt\n",
            "Resolving www.cs.cmu.edu (www.cs.cmu.edu)... 128.2.42.95\n",
            "Connecting to www.cs.cmu.edu (www.cs.cmu.edu)|128.2.42.95|:80... connected.\n",
            "HTTP request sent, awaiting response... 200 OK\n",
            "Length: 35751 (35K) [text/plain]\n",
            "Saving to: ‘female.txt’\n",
            "\n",
            "female.txt          100%[===================>]  34.91K  --.-KB/s    in 0.1s    \n",
            "\n",
            "2024-11-28 04:14:31 (265 KB/s) - ‘female.txt’ saved [35751/35751]\n",
            "\n"
          ]
        }
      ],
      "source": [
        "!wget http://www.cs.cmu.edu/afs/cs/project/ai-repository/ai/areas/nlp/corpora/names/female.txt"
      ]
    },
    {
      "cell_type": "markdown",
      "metadata": {
        "id": "Pc5ib0mFfSOw"
      },
      "source": [
        "# **Data Preprocessing**"
      ]
    },
    {
      "cell_type": "code",
      "execution_count": 3,
      "metadata": {
        "colab": {
          "base_uri": "https://localhost:8080/"
        },
        "id": "toeJz1ewgdmF",
        "outputId": "d0e4740f-5424-4ff4-a159-1e9f7bc80612"
      },
      "outputs": [
        {
          "output_type": "stream",
          "name": "stdout",
          "text": [
            "['# List of common female names.\\n', '# Copyright (c) January 1991 by Mark Kantrowitz.\\n', '# 4987 names\\n', '# Thanks to Bill.Ross for about 1000 additional names.\\n', '# Version 1.3 (29-MAR-94)\\n', '\\n', 'Abagael\\n', 'Abagail\\n', 'Abbe\\n', 'Abbey\\n', 'Abbi\\n', 'Abbie\\n', 'Abby\\n', 'Abigael\\n', 'Abigail\\n', 'Abigale\\n', 'Abra\\n', 'Acacia\\n', 'Ada\\n', 'Adah\\n', 'Adaline\\n', 'Adara\\n', 'Addie\\n', 'Addis\\n', 'Adel\\n', 'Adela\\n', 'Adelaide\\n', 'Adele\\n', 'Adelice\\n', 'Adelina\\n', 'Adelind\\n', 'Adeline\\n', 'Adella\\n', 'Adelle\\n', 'Adena\\n', 'Adey\\n', 'Adi\\n', 'Adiana\\n', 'Adina\\n', 'Adora\\n', 'Adore\\n', 'Adoree\\n', 'Adorne\\n', 'Adrea\\n', 'Adria\\n', 'Adriaens\\n', 'Adrian\\n', 'Adriana\\n', 'Adriane\\n', 'Adrianna\\n', 'Adrianne\\n', 'Adrien\\n', 'Adriena\\n', 'Adrienne\\n', 'Aeriel\\n', 'Aeriela\\n', 'Aeriell\\n', 'Ag\\n', 'Agace\\n', 'Agata\\n', 'Agatha\\n', 'Agathe\\n', 'Aggi\\n', 'Aggie\\n', 'Aggy\\n', 'Agna\\n', 'Agnella\\n', 'Agnes\\n', 'Agnese\\n', 'Agnesse\\n', 'Agneta\\n', 'Agnola\\n', 'Agretha\\n', 'Aida\\n', 'Aidan\\n', 'Aigneis\\n', 'Aila\\n', 'Aile\\n', 'Ailee\\n', 'Aileen\\n', 'Ailene\\n', 'Ailey\\n', 'Aili\\n', 'Ailina\\n', 'Ailyn\\n', 'Aime\\n', 'Aimee\\n', 'Aimil\\n', 'Aina\\n', 'Aindrea\\n', 'Ainslee\\n', 'Ainsley\\n', 'Ainslie\\n', 'Ajay\\n', 'Alaine\\n', 'Alameda\\n', 'Alana\\n', 'Alanah\\n', 'Alane\\n', 'Alanna\\n', 'Alayne\\n', 'Alberta\\n', 'Albertina\\n', 'Albertine\\n', 'Albina\\n', 'Alecia\\n', 'Aleda\\n', 'Aleece\\n', 'Aleecia\\n', 'Aleen\\n', 'Alejandra\\n', 'Alejandrina\\n', 'Alena\\n', 'Alene\\n', 'Alessandra\\n', 'Aleta\\n', 'Alethea\\n', 'Alex\\n', 'Alexa\\n', 'Alexandra\\n', 'Alexandrina\\n', 'Alexi\\n', 'Alexia\\n', 'Alexina\\n', 'Alexine\\n', 'Alexis\\n', 'Alfie\\n', 'Alfreda\\n', 'Ali\\n', 'Alia\\n', 'Alica\\n', 'Alice\\n', 'Alicea\\n', 'Alicia\\n', 'Alida\\n', 'Alidia\\n', 'Alina\\n', 'Aline\\n', 'Alis\\n', 'Alisa\\n', 'Alisha\\n', 'Alison\\n', 'Alissa\\n', 'Alisun\\n', 'Alix\\n', 'Aliza\\n', 'Alla\\n', 'Alleen\\n', 'Allegra\\n', 'Allene\\n', 'Alli\\n', 'Allianora\\n', 'Allie\\n', 'Allina\\n', 'Allis\\n', 'Allison\\n', 'Allissa\\n', 'Allsun\\n', 'Ally\\n', 'Allyce\\n', 'Allyn\\n', 'Allys\\n', 'Allyson\\n', 'Alma\\n', 'Almeda\\n', 'Almeria\\n', 'Almeta\\n', 'Almira\\n', 'Almire\\n', 'Aloise\\n', 'Aloisia\\n', 'Aloysia\\n', 'Alpa\\n', 'Alta\\n', 'Althea\\n', 'Alvera\\n', 'Alvina\\n', 'Alvinia\\n', 'Alvira\\n', 'Alyce\\n', 'Alyda\\n', 'Alys\\n', 'Alysa\\n', 'Alyse\\n', 'Alysia\\n', 'Alyson\\n', 'Alyss\\n', 'Alyssa\\n', 'Amabel\\n', 'Amabelle\\n', 'Amalea\\n', 'Amalee\\n', 'Amaleta\\n', 'Amalia\\n', 'Amalie\\n', 'Amalita\\n', 'Amalle\\n', 'Amanda\\n', 'Amandi\\n', 'Amandie\\n', 'Amandy\\n', 'Amara\\n', 'Amargo\\n', 'Amata\\n', 'Amber\\n', 'Amberly\\n', 'Ambrosia\\n', 'Ambur\\n', 'Ame\\n', 'Amelia\\n', 'Amelie\\n', 'Amelina\\n', 'Ameline\\n', 'Amelita\\n', 'Ami\\n', 'Amie\\n', 'Amity\\n', 'Ammamaria\\n', 'Amy\\n', 'Ana\\n', 'Anabel\\n', 'Anabella\\n', 'Anabelle\\n', 'Anais\\n', 'Analiese\\n', 'Analise\\n', 'Anallese\\n', 'Anallise\\n', 'Anastasia\\n', 'Anastasie\\n', 'Anastassia\\n', 'Anatola\\n', 'Andee\\n', 'Andi\\n', 'Andie\\n', 'Andra\\n', 'Andrea\\n', 'Andreana\\n', 'Andree\\n', 'Andrei\\n', 'Andria\\n', 'Andriana\\n', 'Andriette\\n', 'Andromache\\n', 'Andromeda\\n', 'Andy\\n', 'Anestassia\\n', 'Anet\\n', 'Anett\\n', 'Anetta\\n', 'Anette\\n', 'Ange\\n', 'Angel\\n', 'Angela\\n', 'Angele\\n', 'Angelia\\n', 'Angelica\\n', 'Angelika\\n', 'Angelina\\n', 'Angeline\\n', 'Angelique\\n', 'Angelita\\n', 'Angelle\\n', 'Angie\\n', 'Angil\\n', 'Angy\\n', 'Ania\\n', 'Anica\\n', 'Anissa\\n', 'Anita\\n', 'Anitra\\n', 'Anja\\n', 'Anjanette\\n', 'Anjela\\n', 'Ann\\n', 'Ann-Mari\\n', 'Ann-Marie\\n', 'Anna\\n', 'Anna-Diana\\n', 'Anna-Diane\\n', 'Anna-Maria\\n', 'Annabal\\n', 'Annabel\\n', 'Annabela\\n', 'Annabell\\n', 'Annabella\\n', 'Annabelle\\n', 'Annadiana\\n', 'Annadiane\\n', 'Annalee\\n', 'Annalena\\n', 'Annaliese\\n', 'Annalisa\\n', 'Annalise\\n', 'Annalyse\\n', 'Annamari\\n', 'Annamaria\\n', 'Annamarie\\n', 'Anne\\n', 'Anne-Corinne\\n', 'Anne-Mar\\n', 'Anne-Marie\\n', 'Annecorinne\\n', 'Anneliese\\n', 'Annelise\\n', 'Annemarie\\n', 'Annetta\\n', 'Annette\\n', 'Anni\\n', 'Annice\\n', 'Annie\\n', 'Annissa\\n', 'Annmaria\\n', 'Annmarie\\n', 'Annnora\\n', 'Annora\\n', 'Anny\\n', 'Anselma\\n', 'Ansley\\n', 'Anstice\\n', 'Anthe\\n', 'Anthea\\n', 'Anthia\\n', 'Antoinette\\n', 'Antonella\\n', 'Antonetta\\n', 'Antonia\\n', 'Antonie\\n', 'Antonietta\\n', 'Antonina\\n', 'Anya\\n', 'Aphrodite\\n', 'Appolonia\\n', 'April\\n', 'Aprilette\\n', 'Ara\\n', 'Arabel\\n', 'Arabela\\n', 'Arabele\\n', 'Arabella\\n', 'Arabelle\\n', 'Arda\\n', 'Ardath\\n', 'Ardeen\\n', 'Ardelia\\n', 'Ardelis\\n', 'Ardella\\n', 'Ardelle\\n', 'Arden\\n', 'Ardene\\n', 'Ardenia\\n', 'Ardine\\n', 'Ardis\\n', 'Ardith\\n', 'Ardra\\n', 'Ardyce\\n', 'Ardys\\n', 'Ardyth\\n', 'Aretha\\n', 'Ariadne\\n', 'Ariana\\n', 'Arianne\\n', 'Aridatha\\n', 'Ariel\\n', 'Ariela\\n', 'Ariella\\n', 'Arielle\\n', 'Arlana\\n', 'Arlee\\n', 'Arleen\\n', 'Arlen\\n', 'Arlena\\n', 'Arlene\\n', 'Arleta\\n', 'Arlette\\n', 'Arleyne\\n', 'Arlie\\n', 'Arliene\\n', 'Arlina\\n', 'Arlinda\\n', 'Arline\\n', 'Arly\\n', 'Arlyn\\n', 'Arlyne\\n', 'Aryn\\n', 'Ashely\\n', 'Ashlee\\n', 'Ashleigh\\n', 'Ashlen\\n', 'Ashley\\n', 'Ashli\\n', 'Ashlie\\n', 'Ashly\\n', 'Asia\\n', 'Astra\\n', 'Astrid\\n', 'Astrix\\n', 'Atalanta\\n', 'Athena\\n', 'Athene\\n', 'Atlanta\\n', 'Atlante\\n', 'Auberta\\n', 'Aubine\\n', 'Aubree\\n', 'Aubrette\\n', 'Aubrey\\n', 'Aubrie\\n', 'Aubry\\n', 'Audi\\n', 'Audie\\n', 'Audra\\n', 'Audre\\n', 'Audrey\\n', 'Audrie\\n', 'Audry\\n', 'Audrye\\n', 'Audy\\n', 'Augusta\\n', 'Auguste\\n', 'Augustina\\n', 'Augustine\\n', 'Aura\\n', 'Aurea\\n', 'Aurel\\n', 'Aurelea\\n', 'Aurelia\\n', 'Aurelie\\n', 'Auria\\n', 'Aurie\\n', 'Aurilia\\n', 'Aurlie\\n', 'Auroora\\n', 'Aurora\\n', 'Aurore\\n', 'Austin\\n', 'Austina\\n', 'Austine\\n', 'Ava\\n', 'Aveline\\n', 'Averil\\n', 'Averyl\\n', 'Avie\\n', 'Avis\\n', 'Aviva\\n', 'Avivah\\n', 'Avril\\n', 'Avrit\\n', 'Ayn\\n', 'Bab\\n', 'Babara\\n', 'Babette\\n', 'Babita\\n', 'Babs\\n', 'Bambi\\n', 'Bambie\\n', 'Bamby\\n', 'Barb\\n', 'Barbabra\\n', 'Barbara\\n', 'Barbara-Anne\\n', 'Barbaraanne\\n', 'Barbe\\n', 'Barbee\\n', 'Barbette\\n', 'Barbey\\n', 'Barbi\\n', 'Barbie\\n', 'Barbra\\n', 'Barby\\n', 'Bari\\n', 'Barrie\\n', 'Barry\\n', 'Basia\\n', 'Bathsheba\\n', 'Batsheva\\n', 'Bea\\n', 'Beatrice\\n', 'Beatrisa\\n', 'Beatrix\\n', 'Beatriz\\n', 'Beau\\n', 'Bebe\\n', 'Becca\\n', 'Becka\\n', 'Becki\\n', 'Beckie\\n', 'Becky\\n', 'Bee\\n', 'Beilul\\n', 'Beitris\\n', 'Bekki\\n', 'Bel\\n', 'Belia\\n', 'Belicia\\n', 'Belinda\\n', 'Belita\\n', 'Bell\\n', 'Bella\\n', 'Bellamy\\n', 'Bellanca\\n', 'Belle\\n', 'Bellina\\n', 'Belva\\n', 'Belvia\\n', 'Bendite\\n', 'Benedetta\\n', 'Benedicta\\n', 'Benedikta\\n', 'Benetta\\n', 'Benita\\n', 'Benni\\n', 'Bennie\\n', 'Benny\\n', 'Benoite\\n', 'Berenice\\n', 'Beret\\n', 'Berget\\n', 'Berna\\n', 'Bernadene\\n', 'Bernadette\\n', 'Bernadina\\n', 'Bernadine\\n', 'Bernardina\\n', 'Bernardine\\n', 'Bernelle\\n', 'Bernete\\n', 'Bernetta\\n', 'Bernette\\n', 'Berni\\n', 'Bernice\\n', 'Bernie\\n', 'Bernita\\n', 'Berny\\n', 'Berri\\n', 'Berrie\\n', 'Berry\\n', 'Bert\\n', 'Berta\\n', 'Berte\\n', 'Bertha\\n', 'Berthe\\n', 'Berti\\n', 'Bertie\\n', 'Bertina\\n', 'Bertine\\n', 'Berty\\n', 'Beryl\\n', 'Beryle\\n', 'Bess\\n', 'Bessie\\n', 'Bessy\\n', 'Beth\\n', 'Bethanne\\n', 'Bethany\\n', 'Bethena\\n', 'Bethina\\n', 'Betsey\\n', 'Betsy\\n', 'Betta\\n', 'Bette\\n', 'Bette-Ann\\n', 'Betteann\\n', 'Betteanne\\n', 'Betti\\n', 'Bettie\\n', 'Bettina\\n', 'Bettine\\n', 'Betty\\n', 'Bettye\\n', 'Beulah\\n', 'Bev\\n', 'Beverie\\n', 'Beverlee\\n', 'Beverlie\\n', 'Beverly\\n', 'Bevvy\\n', 'Bianca\\n', 'Bianka\\n', 'Biddy\\n', 'Bidget\\n', 'Bill\\n', 'Billi\\n', 'Billie\\n', 'Billy\\n', 'Binni\\n', 'Binnie\\n', 'Binny\\n', 'Bird\\n', 'Birdie\\n', 'Birgit\\n', 'Birgitta\\n', 'Blair\\n', 'Blaire\\n', 'Blake\\n', 'Blakelee\\n', 'Blakeley\\n', 'Blanca\\n', 'Blanch\\n', 'Blancha\\n', 'Blanche\\n', 'Blinni\\n', 'Blinnie\\n', 'Blinny\\n', 'Bliss\\n', 'Blisse\\n', 'Blithe\\n', 'Blondell\\n', 'Blondelle\\n', 'Blondie\\n', 'Blondy\\n', 'Blythe\\n', 'Bo\\n', 'Bobbette\\n', 'Bobbi\\n', 'Bobbie\\n', 'Bobby\\n', 'Bobette\\n', 'Bobina\\n', 'Bobine\\n', 'Bobinette\\n', 'Bonita\\n', 'Bonnee\\n', 'Bonni\\n', 'Bonnie\\n', 'Bonny\\n', 'Brana\\n', 'Brandais\\n', 'Brande\\n', 'Brandea\\n', 'Brandi\\n', 'Brandice\\n', 'Brandie\\n', 'Brandise\\n', 'Brandy\\n', 'Brea\\n', 'Breanne\\n', 'Brear\\n', 'Bree\\n', 'Breena\\n', 'Bren\\n', 'Brena\\n', 'Brenda\\n', 'Brenn\\n', 'Brenna\\n', 'Brett\\n', 'Bria\\n', 'Briana\\n', 'Brianna\\n', 'Brianne\\n', 'Bride\\n', 'Bridget\\n', 'Bridgett\\n', 'Bridgette\\n', 'Bridie\\n', 'Brier\\n', 'Brietta\\n', 'Brigid\\n', 'Brigida\\n', 'Brigit\\n', 'Brigitta\\n', 'Brigitte\\n', 'Brina\\n', 'Briney\\n', 'Briny\\n', 'Brit\\n', 'Brita\\n', 'Britaney\\n', 'Britani\\n', 'Briteny\\n', 'Britney\\n', 'Britni\\n', 'Britt\\n', 'Britta\\n', 'Brittan\\n', 'Brittany\\n', 'Britte\\n', 'Brittney\\n', 'Brook\\n', 'Brooke\\n', 'Brooks\\n', 'Brunella\\n', 'Brunhilda\\n', 'Brunhilde\\n', 'Bryana\\n', 'Bryn\\n', 'Bryna\\n', 'Brynn\\n', 'Brynna\\n', 'Brynne\\n', 'Buffy\\n', 'Bunni\\n', 'Bunnie\\n', 'Bunny\\n', 'Burta\\n', 'Cabrina\\n', 'Cacilia\\n', 'Cacilie\\n', 'Caitlin\\n', 'Caitrin\\n', 'Cal\\n', 'Calida\\n', 'Calla\\n', 'Calley\\n', 'Calli\\n', 'Callida\\n', 'Callie\\n', 'Cally\\n', 'Calypso\\n', 'Cam\\n', 'Camala\\n', 'Camel\\n', 'Camella\\n', 'Camellia\\n', 'Cameo\\n', 'Cami\\n', 'Camila\\n', 'Camile\\n', 'Camilla\\n', 'Camille\\n', 'Cammi\\n', 'Cammie\\n', 'Cammy\\n', 'Canada\\n', 'Candace\\n', 'Candi\\n', 'Candice\\n', 'Candida\\n', 'Candide\\n', 'Candie\\n', 'Candis\\n', 'Candra\\n', 'Candy\\n', 'Cappella\\n', 'Caprice\\n', 'Cara\\n', 'Caralie\\n', 'Caren\\n', 'Carena\\n', 'Caresa\\n', 'Caressa\\n', 'Caresse\\n', 'Carey\\n', 'Cari\\n', 'Caria\\n', 'Carie\\n', 'Caril\\n', 'Carilyn\\n', 'Carin\\n', 'Carina\\n', 'Carine\\n', 'Cariotta\\n', 'Carissa\\n', 'Carita\\n', 'Caritta\\n', 'Carla\\n', 'Carlee\\n', 'Carleen\\n', 'Carlen\\n', 'Carlena\\n', 'Carlene\\n', 'Carley\\n', 'Carli\\n', 'Carlie\\n', 'Carlin\\n', 'Carlina\\n', 'Carline\\n', 'Carlisle\\n', 'Carlita\\n', 'Carlota\\n', 'Carlotta\\n', 'Carly\\n', 'Carlye\\n', 'Carlyn\\n', 'Carlynn\\n', 'Carlynne\\n', 'Carma\\n', 'Carmel\\n', 'Carmela\\n', 'Carmelia\\n', 'Carmelina\\n', 'Carmelita\\n', 'Carmella\\n', 'Carmelle\\n', 'Carmen\\n', 'Carmina\\n', 'Carmine\\n', 'Carmita\\n', 'Carmon\\n', 'Caro\\n', 'Carol\\n', 'Carol-Jean\\n', 'Carola\\n', 'Carolan\\n', 'Carolann\\n', 'Carole\\n', 'Carolee\\n', 'Caroleen\\n', 'Carolie\\n', 'Carolin\\n', 'Carolina\\n', 'Caroline\\n', 'Caroljean\\n', 'Carolyn\\n', 'Carolyne\\n', 'Carolynn\\n', 'Caron\\n', 'Carree\\n', 'Carri\\n', 'Carrie\\n', 'Carrissa\\n', 'Carrol\\n', 'Carroll\\n', 'Carry\\n', 'Cary\\n', 'Caryl\\n', 'Caryn\\n', 'Casandra\\n', 'Casey\\n', 'Casi\\n', 'Casia\\n', 'Casie\\n', 'Cass\\n', 'Cassandra\\n', 'Cassandre\\n', 'Cassandry\\n', 'Cassaundra\\n', 'Cassey\\n', 'Cassi\\n', 'Cassie\\n', 'Cassondra\\n', 'Cassy\\n', 'Cat\\n', 'Catarina\\n', 'Cate\\n', 'Caterina\\n', 'Catha\\n', 'Catharina\\n', 'Catharine\\n', 'Cathe\\n', 'Cathee\\n', 'Catherin\\n', 'Catherina\\n', 'Catherine\\n', 'Cathi\\n', 'Cathie\\n', 'Cathleen\\n', 'Cathlene\\n', 'Cathrin\\n', 'Cathrine\\n', 'Cathryn\\n', 'Cathy\\n', 'Cathyleen\\n', 'Cati\\n', 'Catie\\n', 'Catina\\n', 'Catlaina\\n', 'Catlee\\n', 'Catlin\\n', 'Catrina\\n', 'Catriona\\n', 'Caty\\n', 'Cayla\\n', 'Cecelia\\n', 'Cecil\\n', 'Cecile\\n', 'Ceciley\\n', 'Cecilia\\n', 'Cecilla\\n', 'Cecily\\n', 'Ceil\\n', 'Cele\\n', 'Celene\\n', 'Celesta\\n', 'Celeste\\n', 'Celestia\\n', 'Celestina\\n', 'Celestine\\n', 'Celestyn\\n', 'Celestyna\\n', 'Celia\\n', 'Celie\\n', 'Celina\\n', 'Celinda\\n', 'Celine\\n', 'Celinka\\n', 'Celisse\\n', 'Celle\\n', 'Cesya\\n', 'Chad\\n', 'Chanda\\n', 'Chandal\\n', 'Chandra\\n', 'Channa\\n', 'Chantal\\n', 'Chantalle\\n', 'Charil\\n', 'Charin\\n', 'Charis\\n', 'Charissa\\n', 'Charisse\\n', 'Charita\\n', 'Charity\\n', 'Charla\\n', 'Charlean\\n', 'Charleen\\n', 'Charlena\\n', 'Charlene\\n', 'Charline\\n', 'Charlot\\n', 'Charlott\\n', 'Charlotta\\n', 'Charlotte\\n', 'Charmain\\n', 'Charmaine\\n', 'Charmane\\n', 'Charmian\\n', 'Charmine\\n', 'Charmion\\n', 'Charo\\n', 'Charyl\\n', 'Chastity\\n', 'Chelsae\\n', 'Chelsea\\n', 'Chelsey\\n', 'Chelsie\\n', 'Chelsy\\n', 'Cher\\n', 'Chere\\n', 'Cherey\\n', 'Cheri\\n', 'Cherianne\\n', 'Cherice\\n', 'Cherida\\n', 'Cherie\\n', 'Cherilyn\\n', 'Cherilynn\\n', 'Cherin\\n', 'Cherise\\n', 'Cherish\\n', 'Cherlyn\\n', 'Cherri\\n', 'Cherrita\\n', 'Cherry\\n', 'Chery\\n', 'Cherye\\n', 'Cheryl\\n', 'Cheslie\\n', 'Chiarra\\n', 'Chickie\\n', 'Chicky\\n', 'Chiquita\\n', 'Chloe\\n', 'Chloette\\n', 'Chloris\\n', 'Chris\\n', 'Chriss\\n', 'Chrissa\\n', 'Chrissie\\n', 'Chrissy\\n', 'Christa\\n', 'Christabel\\n', 'Christabella\\n', 'Christabelle\\n', 'Christal\\n', 'Christalle\\n', 'Christan\\n', 'Christean\\n', 'Christel\\n', 'Christen\\n', 'Christi\\n', 'Christian\\n', 'Christiana\\n', 'Christiane\\n', 'Christie\\n', 'Christin\\n', 'Christina\\n', 'Christine\\n', 'Christy\\n', 'Christyna\\n', 'Chrysa\\n', 'Chrysler\\n', 'Chrystal\\n', 'Chryste\\n', 'Chrystel\\n', 'Ciara\\n', 'Cicely\\n', 'Cicily\\n', 'Ciel\\n', 'Cilka\\n', 'Cinda\\n', 'Cindee\\n', 'Cindelyn\\n', 'Cinderella\\n', 'Cindi\\n', 'Cindie\\n', 'Cindra\\n', 'Cindy\\n', 'Cinnamon\\n', 'Cissie\\n', 'Cissy\\n', 'Clair\\n', 'Claire\\n', 'Clara\\n', 'Clarabelle\\n', 'Clare\\n', 'Claresta\\n', 'Clareta\\n', 'Claretta\\n', 'Clarette\\n', 'Clarey\\n', 'Clari\\n', 'Claribel\\n', 'Clarice\\n', 'Clarie\\n', 'Clarinda\\n', 'Clarine\\n', 'Clarisa\\n', 'Clarissa\\n', 'Clarisse\\n', 'Clarita\\n', 'Clary\\n', 'Claude\\n', 'Claudelle\\n', 'Claudetta\\n', 'Claudette\\n', 'Claudia\\n', 'Claudie\\n', 'Claudina\\n', 'Claudine\\n', 'Clea\\n', 'Clem\\n', 'Clemence\\n', 'Clementia\\n', 'Clementina\\n', 'Clementine\\n', 'Clemmie\\n', 'Clemmy\\n', 'Cleo\\n', 'Cleopatra\\n', 'Clerissa\\n', 'Cleva\\n', 'Clio\\n', 'Clo\\n', 'Cloe\\n', 'Cloris\\n', 'Clotilda\\n', 'Clovis\\n', 'Codee\\n', 'Codi\\n', 'Codie\\n', 'Cody\\n', 'Coleen\\n', 'Colene\\n', 'Coletta\\n', 'Colette\\n', 'Colleen\\n', 'Collete\\n', 'Collette\\n', 'Collie\\n', 'Colline\\n', 'Colly\\n', 'Con\\n', 'Concettina\\n', 'Conchita\\n', 'Concordia\\n', 'Conney\\n', 'Conni\\n', 'Connie\\n', 'Conny\\n', 'Consolata\\n', 'Constance\\n', 'Constancia\\n', 'Constancy\\n', 'Constanta\\n', 'Constantia\\n', 'Constantina\\n', 'Constantine\\n', 'Consuela\\n', 'Consuelo\\n', 'Cookie\\n', 'Cora\\n', 'Corabel\\n', 'Corabella\\n', 'Corabelle\\n', 'Coral\\n', 'Coralie\\n', 'Coraline\\n', 'Coralyn\\n', 'Cordelia\\n', 'Cordelie\\n', 'Cordey\\n', 'Cordie\\n', 'Cordula\\n', 'Cordy\\n', 'Coreen\\n', 'Corella\\n', 'Corena\\n', 'Corenda\\n', 'Corene\\n', 'Coretta\\n', 'Corette\\n', 'Corey\\n', 'Cori\\n', 'Corie\\n', 'Corilla\\n', 'Corina\\n', 'Corine\\n', 'Corinna\\n', 'Corinne\\n', 'Coriss\\n', 'Corissa\\n', 'Corliss\\n', 'Corly\\n', 'Cornela\\n', 'Cornelia\\n', 'Cornelle\\n', 'Cornie\\n', 'Corny\\n', 'Correna\\n', 'Correy\\n', 'Corri\\n', 'Corrianne\\n', 'Corrie\\n', 'Corrina\\n', 'Corrine\\n', 'Corrinne\\n', 'Corry\\n', 'Cortney\\n', 'Cory\\n', 'Cosetta\\n', 'Cosette\\n', 'Courtenay\\n', 'Courtney\\n', 'Cresa\\n', 'Cris\\n', 'Crissie\\n', 'Crissy\\n', 'Crista\\n', 'Cristabel\\n', 'Cristal\\n', 'Cristen\\n', 'Cristi\\n', 'Cristie\\n', 'Cristin\\n', 'Cristina\\n', 'Cristine\\n', 'Cristionna\\n', 'Cristy\\n', 'Crysta\\n', 'Crystal\\n', 'Crystie\\n', 'Cyb\\n', 'Cybal\\n', 'Cybel\\n', 'Cybelle\\n', 'Cybil\\n', 'Cybill\\n', 'Cyndi\\n', 'Cyndy\\n', 'Cynthea\\n', 'Cynthia\\n', 'Cynthie\\n', 'Cynthy\\n', 'Dacey\\n', 'Dacia\\n', 'Dacie\\n', 'Dacy\\n', 'Dael\\n', 'Daffi\\n', 'Daffie\\n', 'Daffy\\n', 'Dafna\\n', 'Dagmar\\n', 'Dahlia\\n', 'Daile\\n', 'Daisey\\n', 'Daisi\\n', 'Daisie\\n', 'Daisy\\n', 'Dale\\n', 'Dalenna\\n', 'Dalia\\n', 'Dalila\\n', 'Dallas\\n', 'Daloris\\n', 'Damara\\n', 'Damaris\\n', 'Damita\\n', 'Dana\\n', 'Danell\\n', 'Danella\\n', 'Danelle\\n', 'Danette\\n', 'Dani\\n', 'Dania\\n', 'Danica\\n', 'Danice\\n', 'Daniel\\n', 'Daniela\\n', 'Daniele\\n', 'Daniella\\n', 'Danielle\\n', 'Danika\\n', 'Danila\\n', 'Danit\\n', 'Danita\\n', 'Danna\\n', 'Danni\\n', 'Dannie\\n', 'Danny\\n', 'Dannye\\n', 'Danya\\n', 'Danyelle\\n', 'Danyette\\n', 'Daphene\\n', 'Daphna\\n', 'Daphne\\n', 'Dara\\n', 'Darb\\n', 'Darbie\\n', 'Darby\\n', 'Darcee\\n', 'Darcey\\n', 'Darci\\n', 'Darcie\\n', 'Darcy\\n', 'Darda\\n', 'Dareen\\n', 'Darell\\n', 'Darelle\\n', 'Dari\\n', 'Daria\\n', 'Darice\\n', 'Darla\\n', 'Darleen\\n', 'Darlene\\n', 'Darline\\n', 'Darryl\\n', 'Darsey\\n', 'Darsie\\n', 'Darya\\n', 'Daryl\\n', 'Daryn\\n', 'Dasha\\n', 'Dasi\\n', 'Dasie\\n', 'Dasya\\n', 'Datha\\n', 'Daune\\n', 'Daveen\\n', 'Daveta\\n', 'Davida\\n', 'Davina\\n', 'Davine\\n', 'Davita\\n', 'Dawn\\n', 'Dawna\\n', 'Dayle\\n', 'Dayna\\n', 'Dea\\n', 'Deana\\n', 'Deane\\n', 'Deanna\\n', 'Deanne\\n', 'Deb\\n', 'Debbi\\n', 'Debbie\\n', 'Debbra\\n', 'Debby\\n', 'Debee\\n', 'Debera\\n', 'Debi\\n', 'Debor\\n', 'Debora\\n', 'Deborah\\n', 'Debra\\n', 'Dede\\n', 'Dedie\\n', 'Dedra\\n', 'Dee\\n', 'Dee Dee\\n', 'Deeann\\n', 'Deeanne\\n', 'Deedee\\n', 'Deena\\n', 'Deerdre\\n', 'Dehlia\\n', 'Deidre\\n', 'Deina\\n', 'Deirdre\\n', 'Del\\n', 'Dela\\n', 'Delaney\\n', 'Delcina\\n', 'Delcine\\n', 'Delia\\n', 'Delila\\n', 'Delilah\\n', 'Delinda\\n', 'Dell\\n', 'Della\\n', 'Delly\\n', 'Delora\\n', 'Delores\\n', 'Deloria\\n', 'Deloris\\n', 'Delphina\\n', 'Delphine\\n', 'Delphinia\\n', 'Demeter\\n', 'Demetra\\n', 'Demetria\\n', 'Demetris\\n', 'Dena\\n', 'Deni\\n', 'Denice\\n', 'Denise\\n', 'Denna\\n', 'Denni\\n', 'Dennie\\n', 'Denny\\n', 'Deny\\n', 'Denys\\n', 'Denyse\\n', 'Deonne\\n', 'Desaree\\n', 'Desdemona\\n', 'Desirae\\n', 'Desiree\\n', 'Desiri\\n', 'Deva\\n', 'Devan\\n', 'Devi\\n', 'Devin\\n', 'Devina\\n', 'Devinne\\n', 'Devon\\n', 'Devondra\\n', 'Devonna\\n', 'Devonne\\n', 'Devora\\n', 'Dew\\n', 'Di\\n', 'Diahann\\n', 'Diamond\\n', 'Dian\\n', 'Diana\\n', 'Diandra\\n', 'Diane\\n', 'Diane-Marie\\n', 'Dianemarie\\n', 'Diann\\n', 'Dianna\\n', 'Dianne\\n', 'Diannne\\n', 'Didi\\n', 'Dido\\n', 'Diena\\n', 'Dierdre\\n', 'Dina\\n', 'Dinah\\n', 'Dinnie\\n', 'Dinny\\n', 'Dion\\n', 'Dione\\n', 'Dionis\\n', 'Dionne\\n', 'Dita\\n', 'Dix\\n', 'Dixie\\n', 'Dode\\n', 'Dodi\\n', 'Dodie\\n', 'Dody\\n', 'Doe\\n', 'Doll\\n', 'Dolley\\n', 'Dolli\\n', 'Dollie\\n', 'Dolly\\n', 'Dolora\\n', 'Dolores\\n', 'Dolorita\\n', 'Doloritas\\n', 'Dominica\\n', 'Dominique\\n', 'Dona\\n', 'Donella\\n', 'Donelle\\n', 'Donetta\\n', 'Donia\\n', 'Donica\\n', 'Donielle\\n', 'Donna\\n', 'Donnajean\\n', 'Donnamarie\\n', 'Donni\\n', 'Donnie\\n', 'Donny\\n', 'Dora\\n', 'Doralia\\n', 'Doralin\\n', 'Doralyn\\n', 'Doralynn\\n', 'Doralynne\\n', 'Dorcas\\n', 'Dore\\n', 'Doreen\\n', 'Dorelia\\n', 'Dorella\\n', 'Dorelle\\n', 'Dorena\\n', 'Dorene\\n', 'Doretta\\n', 'Dorette\\n', 'Dorey\\n', 'Dori\\n', 'Doria\\n', 'Dorian\\n', 'Dorice\\n', 'Dorie\\n', 'Dorine\\n', 'Doris\\n', 'Dorisa\\n', 'Dorise\\n', 'Dorit\\n', 'Dorita\\n', 'Doro\\n', 'Dorolice\\n', 'Dorolisa\\n', 'Dorotea\\n', 'Doroteya\\n', 'Dorothea\\n', 'Dorothee\\n', 'Dorothy\\n', 'Dorree\\n', 'Dorri\\n', 'Dorrie\\n', 'Dorris\\n', 'Dorry\\n', 'Dorthea\\n', 'Dorthy\\n', 'Dory\\n', 'Dosi\\n', 'Dot\\n', 'Doti\\n', 'Dotti\\n', 'Dottie\\n', 'Dotty\\n', 'Dove\\n', 'Drea\\n', 'Drew\\n', 'Dulce\\n', 'Dulcea\\n', 'Dulci\\n', 'Dulcia\\n', 'Dulciana\\n', 'Dulcie\\n', 'Dulcine\\n', 'Dulcinea\\n', 'Dulcy\\n', 'Dulsea\\n', 'Dusty\\n', 'Dyan\\n', 'Dyana\\n', 'Dyane\\n', 'Dyann\\n', 'Dyanna\\n', 'Dyanne\\n', 'Dyna\\n', 'Dynah\\n', \"E'Lane\\n\", 'Eada\\n', 'Eadie\\n', 'Eadith\\n', 'Ealasaid\\n', 'Eartha\\n', 'Easter\\n', 'Eba\\n', 'Ebba\\n', 'Ebonee\\n', 'Ebony\\n', 'Eda\\n', 'Eddi\\n', 'Eddie\\n', 'Eddy\\n', 'Ede\\n', 'Edee\\n', 'Edeline\\n', 'Eden\\n', 'Edi\\n', 'Edie\\n', 'Edin\\n', 'Edita\\n', 'Edith\\n', 'Editha\\n', 'Edithe\\n', 'Ediva\\n', 'Edna\\n', 'Edwina\\n', 'Edy\\n', 'Edyth\\n', 'Edythe\\n', 'Effie\\n', 'Eileen\\n', 'Eilis\\n', 'Eimile\\n', 'Eirena\\n', 'Ekaterina\\n', 'Elaina\\n', 'Elaine\\n', 'Elana\\n', 'Elane\\n', 'Elayne\\n', 'Elberta\\n', 'Elbertina\\n', 'Elbertine\\n', 'Eleanor\\n', 'Eleanora\\n', 'Eleanore\\n', 'Electra\\n', 'Elena\\n', 'Elene\\n', 'Eleni\\n', 'Elenore\\n', 'Eleonora\\n', 'Eleonore\\n', 'Elfie\\n', 'Elfreda\\n', 'Elfrida\\n', 'Elfrieda\\n', 'Elga\\n', 'Elianora\\n', 'Elianore\\n', 'Elicia\\n', 'Elie\\n', 'Elinor\\n', 'Elinore\\n', 'Elisa\\n', 'Elisabet\\n', 'Elisabeth\\n', 'Elisabetta\\n', 'Elise\\n', 'Elisha\\n', 'Elissa\\n', 'Elita\\n', 'Eliza\\n', 'Elizabet\\n', 'Elizabeth\\n', 'Elka\\n', 'Elke\\n', 'Ella\\n', 'Elladine\\n', 'Elle\\n', 'Ellen\\n', 'Ellene\\n', 'Ellette\\n', 'Elli\\n', 'Ellie\\n', 'Ellissa\\n', 'Elly\\n', 'Ellyn\\n', 'Ellynn\\n', 'Elmira\\n', 'Elna\\n', 'Elnora\\n', 'Elnore\\n', 'Eloisa\\n', 'Eloise\\n', 'Elonore\\n', 'Elora\\n', 'Elsa\\n', 'Elsbeth\\n', 'Else\\n', 'Elsey\\n', 'Elsi\\n', 'Elsie\\n', 'Elsinore\\n', 'Elspeth\\n', 'Elsy\\n', 'Elva\\n', 'Elvera\\n', 'Elvina\\n', 'Elvira\\n', 'Elwina\\n', 'Elwira\\n', 'Elyn\\n', 'Elyse\\n', 'Elysee\\n', 'Elysha\\n', 'Elysia\\n', 'Elyssa\\n', 'Em\\n', 'Ema\\n', 'Emalee\\n', 'Emalia\\n', 'Emanuela\\n', 'Emelda\\n', 'Emelia\\n', 'Emelina\\n', 'Emeline\\n', 'Emelita\\n', 'Emelyne\\n', 'Emera\\n', 'Emilee\\n', 'Emili\\n', 'Emilia\\n', 'Emilie\\n', 'Emiline\\n', 'Emily\\n', 'Emlyn\\n', 'Emlynn\\n', 'Emlynne\\n', 'Emma\\n', 'Emmalee\\n', 'Emmaline\\n', 'Emmalyn\\n', 'Emmalynn\\n', 'Emmalynne\\n', 'Emmeline\\n', 'Emmey\\n', 'Emmi\\n', 'Emmie\\n', 'Emmy\\n', 'Emmye\\n', 'Emogene\\n', 'Emyle\\n', 'Emylee\\n', 'Endora\\n', 'Engracia\\n', 'Enid\\n', 'Enrica\\n', 'Enrichetta\\n', 'Enrika\\n', 'Enriqueta\\n', 'Enya\\n', 'Eolanda\\n', 'Eolande\\n', 'Eran\\n', 'Erda\\n', 'Erena\\n', 'Erica\\n', 'Ericha\\n', 'Ericka\\n', 'Erika\\n', 'Erin\\n', 'Erina\\n', 'Erinn\\n', 'Erinna\\n', 'Erma\\n', 'Ermengarde\\n', 'Ermentrude\\n', 'Ermina\\n', 'Erminia\\n', 'Erminie\\n', 'Erna\\n', 'Ernaline\\n', 'Ernesta\\n', 'Ernestine\\n', 'Ertha\\n', 'Eryn\\n', 'Esma\\n', 'Esmaria\\n', 'Esme\\n', 'Esmeralda\\n', 'Esmerelda\\n', 'Essa\\n', 'Essie\\n', 'Essy\\n', 'Esta\\n', 'Estel\\n', 'Estele\\n', 'Estell\\n', 'Estella\\n', 'Estelle\\n', 'Ester\\n', 'Esther\\n', 'Estrella\\n', 'Estrellita\\n', 'Ethel\\n', 'Ethelda\\n', 'Ethelin\\n', 'Ethelind\\n', 'Etheline\\n', 'Ethelyn\\n', 'Ethyl\\n', 'Etta\\n', 'Etti\\n', 'Ettie\\n', 'Etty\\n', 'Eudora\\n', 'Eugenia\\n', 'Eugenie\\n', 'Eugine\\n', 'Eula\\n', 'Eulalie\\n', 'Eunice\\n', 'Euphemia\\n', 'Eustacia\\n', 'Eva\\n', 'Evaleen\\n', 'Evangelia\\n', 'Evangelin\\n', 'Evangelina\\n', 'Evangeline\\n', 'Evania\\n', 'Evanne\\n', 'Eve\\n', 'Eveleen\\n', 'Evelina\\n', 'Eveline\\n', 'Evelyn\\n', 'Evette\\n', 'Evey\\n', 'Evie\\n', 'Evita\\n', 'Evonne\\n', 'Evvie\\n', 'Evvy\\n', 'Evy\\n', 'Eyde\\n', 'Eydie\\n', 'Fabrianne\\n', 'Fabrice\\n', 'Fae\\n', 'Faina\\n', 'Faith\\n', 'Fallon\\n', 'Fan\\n', 'Fanchette\\n', 'Fanchon\\n', 'Fancie\\n', 'Fancy\\n', 'Fanechka\\n', 'Fania\\n', 'Fanni\\n', 'Fannie\\n', 'Fanny\\n', 'Fanya\\n', 'Fara\\n', 'Farah\\n', 'Farand\\n', 'Farica\\n', 'Farra\\n', 'Farrah\\n', 'Farrand\\n', 'Fatima\\n', 'Faun\\n', 'Faunie\\n', 'Faustina\\n', 'Faustine\\n', 'Fawn\\n', 'Fawna\\n', 'Fawne\\n', 'Fawnia\\n', 'Fay\\n', 'Faydra\\n', 'Faye\\n', 'Fayette\\n', 'Fayina\\n', 'Fayre\\n', 'Fayth\\n', 'Faythe\\n', 'Federica\\n', 'Fedora\\n', 'Felecia\\n', 'Felicdad\\n', 'Felice\\n', 'Felicia\\n', 'Felicity\\n', 'Felicle\\n', 'Felipa\\n', 'Felisha\\n', 'Felita\\n', 'Feliza\\n', 'Fenelia\\n', 'Feodora\\n', 'Ferdinanda\\n', 'Ferdinande\\n', 'Fern\\n', 'Fernanda\\n', 'Fernande\\n', 'Fernandina\\n', 'Ferne\\n', 'Fey\\n', 'Fiann\\n', 'Fianna\\n', 'Fidela\\n', 'Fidelia\\n', 'Fidelity\\n', 'Fifi\\n', 'Fifine\\n', 'Filia\\n', 'Filide\\n', 'Filippa\\n', 'Fina\\n', 'Fiona\\n', 'Fionna\\n', 'Fionnula\\n', 'Fiorenze\\n', 'Fleur\\n', 'Fleurette\\n', 'Flo\\n', 'Flor\\n', 'Flora\\n', 'Florance\\n', 'Flore\\n', 'Florella\\n', 'Florence\\n', 'Florencia\\n', 'Florentia\\n', 'Florenza\\n', 'Florette\\n', 'Flori\\n', 'Floria\\n', 'Florice\\n', 'Florida\\n', 'Florie\\n', 'Florina\\n', 'Florinda\\n', 'Floris\\n', 'Florri\\n', 'Florrie\\n', 'Florry\\n', 'Flory\\n', 'Flossi\\n', 'Flossie\\n', 'Flossy\\n', 'Flower\\n', 'Fortuna\\n', 'Fortune\\n', 'Fran\\n', 'France\\n', 'Francene\\n', 'Frances\\n', 'Francesca\\n', 'Francesmary\\n', 'Francine\\n', 'Francis\\n', 'Francisca\\n', 'Franciska\\n', 'Francoise\\n', 'Francyne\\n', 'Frank\\n', 'Frankie\\n', 'Franky\\n', 'Franni\\n', 'Frannie\\n', 'Franny\\n', 'Frayda\\n', 'Fred\\n', 'Freda\\n', 'Freddi\\n', 'Freddie\\n', 'Freddy\\n', 'Fredelia\\n', 'Frederica\\n', 'Fredericka\\n', 'Fredi\\n', 'Fredia\\n', 'Fredra\\n', 'Fredrika\\n', 'Freida\\n', 'Frieda\\n', 'Friederike\\n', 'Fulvia\\n', 'Gabbey\\n', 'Gabbi\\n', 'Gabbie\\n', 'Gabey\\n', 'Gabi\\n', 'Gabie\\n', 'Gabriel\\n', 'Gabriela\\n', 'Gabriell\\n', 'Gabriella\\n', 'Gabrielle\\n', 'Gabriellia\\n', 'Gabrila\\n', 'Gaby\\n', 'Gae\\n', 'Gael\\n', 'Gail\\n', 'Gale\\n', 'Gale \\n', 'Galina\\n', 'Garland\\n', 'Garnet\\n', 'Garnette\\n', 'Gates\\n', 'Gavra\\n', 'Gavrielle\\n', 'Gay\\n', 'Gayla\\n', 'Gayle\\n', 'Gayleen\\n', 'Gaylene\\n', 'Gaynor\\n', 'Gelya\\n', 'Gen\\n', 'Gena\\n', 'Gene\\n', 'Geneva\\n', 'Genevieve\\n', 'Genevra\\n', 'Genia\\n', 'Genna\\n', 'Genni\\n', 'Gennie\\n', 'Gennifer\\n', 'Genny\\n', 'Genovera\\n', 'Genvieve\\n', 'George\\n', 'Georgeanna\\n', 'Georgeanne\\n', 'Georgena\\n', 'Georgeta\\n', 'Georgetta\\n', 'Georgette\\n', 'Georgia\\n', 'Georgiamay\\n', 'Georgiana\\n', 'Georgianna\\n', 'Georgianne\\n', 'Georgie\\n', 'Georgina\\n', 'Georgine\\n', 'Gera\\n', 'Geralda\\n', 'Geraldina\\n', 'Geraldine\\n', 'Gerda\\n', 'Gerhardine\\n', 'Geri\\n', 'Gerianna\\n', 'Gerianne\\n', 'Gerladina\\n', 'Germain\\n', 'Germaine\\n', 'Germana\\n', 'Gerri\\n', 'Gerrie\\n', 'Gerrilee\\n', 'Gerry\\n', 'Gert\\n', 'Gerta\\n', 'Gerti\\n', 'Gertie\\n', 'Gertrud\\n', 'Gertruda\\n', 'Gertrude\\n', 'Gertrudis\\n', 'Gerty\\n', 'Giacinta\\n', 'Giana\\n', 'Gianina\\n', 'Gianna\\n', 'Gigi\\n', 'Gilberta\\n', 'Gilberte\\n', 'Gilbertina\\n', 'Gilbertine\\n', 'Gilda\\n', 'Gill\\n', 'Gillan\\n', 'Gilli\\n', 'Gillian\\n', 'Gillie\\n', 'Gilligan\\n', 'Gilly\\n', 'Gina\\n', 'Ginelle\\n', 'Ginevra\\n', 'Ginger\\n', 'Ginni\\n', 'Ginnie\\n', 'Ginnifer\\n', 'Ginny\\n', 'Giorgia\\n', 'Giovanna\\n', 'Gipsy\\n', 'Giralda\\n', 'Gisela\\n', 'Gisele\\n', 'Gisella\\n', 'Giselle\\n', 'Gizela\\n', 'Glad\\n', 'Gladi\\n', 'Gladis\\n', 'Gladys\\n', 'Gleda\\n', 'Glen\\n', 'Glenda\\n', 'Glenine\\n', 'Glenn\\n', 'Glenna\\n', 'Glennie\\n', 'Glennis\\n', 'Glori\\n', 'Gloria\\n', 'Gloriana\\n', 'Gloriane\\n', 'Glorianna\\n', 'Glory\\n', 'Glyn\\n', 'Glynda\\n', 'Glynis\\n', 'Glynnis\\n', 'Godiva\\n', 'Golda\\n', 'Goldarina\\n', 'Goldi\\n', 'Goldia\\n', 'Goldie\\n', 'Goldina\\n', 'Goldy\\n', 'Grace\\n', 'Gracia\\n', 'Gracie\\n', 'Grata\\n', 'Gratia\\n', 'Gratiana\\n', 'Gray\\n', 'Grayce\\n', 'Grazia\\n', 'Gredel\\n', 'Greer\\n', 'Greta\\n', 'Gretal\\n', 'Gretchen\\n', 'Grete\\n', 'Gretel\\n', 'Grethel\\n', 'Gretna\\n', 'Gretta\\n', 'Grier\\n', 'Griselda\\n', 'Grissel\\n', 'Guendolen\\n', 'Guenevere\\n', 'Guenna\\n', 'Guglielma\\n', 'Gui\\n', 'Guillema\\n', 'Guillemette\\n', 'Guinevere\\n', 'Guinna\\n', 'Gunilla\\n', 'Gunvor\\n', 'Gus\\n', 'Gusella\\n', 'Gussi\\n', 'Gussie\\n', 'Gussy\\n', 'Gusta\\n', 'Gusti\\n', 'Gustie\\n', 'Gusty\\n', 'Gwen\\n', 'Gwendolen\\n', 'Gwendolin\\n', 'Gwendolyn\\n', 'Gweneth\\n', 'Gwenette\\n', 'Gwenn\\n', 'Gwenneth\\n', 'Gwenni\\n', 'Gwennie\\n', 'Gwenny\\n', 'Gwenora\\n', 'Gwenore\\n', 'Gwyn\\n', 'Gwyneth\\n', 'Gwynne\\n', 'Gypsy\\n', 'Hadria\\n', 'Hailee\\n', 'Haily\\n', 'Haleigh\\n', 'Halette\\n', 'Haley\\n', 'Hali\\n', 'Halie\\n', 'Halimeda\\n', 'Halley\\n', 'Halli\\n', 'Hallie\\n', 'Hally\\n', 'Hana\\n', 'Hanna\\n', 'Hannah\\n', 'Hanni\\n', 'Hannibal\\n', 'Hannie\\n', 'Hannis\\n', 'Hanny\\n', 'Happy\\n', 'Harlene\\n', 'Harley\\n', 'Harli\\n', 'Harlie\\n', 'Harmonia\\n', 'Harmonie\\n', 'Harmony\\n', 'Harri\\n', 'Harrie\\n', 'Harriet\\n', 'Harriett\\n', 'Harrietta\\n', 'Harriette\\n', 'Harriot\\n', 'Harriott\\n', 'Hatti\\n', 'Hattie\\n', 'Hatty\\n', 'Havivah\\n', 'Hayley\\n', 'Hazel\\n', 'Heath\\n', 'Heather\\n', 'Heda\\n', 'Hedda\\n', 'Heddi\\n', 'Heddie\\n', 'Hedi\\n', 'Hedvig\\n', 'Hedwig\\n', 'Hedy\\n', 'Heida\\n', 'Heide\\n', 'Heidi\\n', 'Heidie\\n', 'Helaina\\n', 'Helaine\\n', 'Helen\\n', 'Helen-Elizabeth\\n', 'Helena\\n', 'Helene\\n', 'Helga\\n', 'Helge\\n', 'Helise\\n', 'Hellene\\n', 'Helli\\n', 'Heloise\\n', 'Helsa\\n', 'Helyn\\n', 'Hendrika\\n', 'Henka\\n', 'Henrie\\n', 'Henrieta\\n', 'Henrietta\\n', 'Henriette\\n', 'Henryetta\\n', 'Hephzibah\\n', 'Hermia\\n', 'Hermina\\n', 'Hermine\\n', 'Herminia\\n', 'Hermione\\n', 'Herta\\n', 'Hertha\\n', 'Hester\\n', 'Hesther\\n', 'Hestia\\n', 'Hetti\\n', 'Hettie\\n', 'Hetty\\n', 'Hilarie\\n', 'Hilary\\n', 'Hilda\\n', 'Hildagard\\n', 'Hildagarde\\n', 'Hilde\\n', 'Hildegaard\\n', 'Hildegarde\\n', 'Hildy\\n', 'Hillary\\n', 'Hilliary\\n', 'Hinda\\n', 'Holley\\n', 'Holli\\n', 'Hollie\\n', 'Holly\\n', 'Holly-Anne\\n', 'Hollyanne\\n', 'Honey\\n', 'Honor\\n', 'Honoria\\n', 'Hope\\n', 'Horatia\\n', 'Hortense\\n', 'Hortensia\\n', 'Hulda\\n', 'Hyacinth\\n', 'Hyacintha\\n', 'Hyacinthe\\n', 'Hyacinthia\\n', 'Hyacinthie\\n', 'Hynda\\n', 'Ianthe\\n', 'Ibbie\\n', 'Ibby\\n', 'Ida\\n', 'Idalia\\n', 'Idalina\\n', 'Idaline\\n', 'Idell\\n', 'Idelle\\n', 'Idette\\n', 'Ike\\n', 'Ikey\\n', 'Ilana\\n', 'Ileana\\n', 'Ileane\\n', 'Ilene\\n', 'Ilise\\n', 'Ilka\\n', 'Illa\\n', 'Ilona\\n', 'Ilsa\\n', 'Ilse\\n', 'Ilysa\\n', 'Ilyse\\n', 'Ilyssa\\n', 'Imelda\\n', 'Imogen\\n', 'Imogene\\n', 'Imojean\\n', 'Ina\\n', 'Inci\\n', 'Indira\\n', 'Ines\\n', 'Inesita\\n', 'Inessa\\n', 'Inez\\n', 'Inga\\n', 'Ingaberg\\n', 'Ingaborg\\n', 'Inge\\n', 'Ingeberg\\n', 'Ingeborg\\n', 'Inger\\n', 'Ingrid\\n', 'Ingunna\\n', 'Inna\\n', 'Ioana\\n', 'Iolande\\n', 'Iolanthe\\n', 'Iona\\n', 'Iormina\\n', 'Ira\\n', 'Irena\\n', 'Irene\\n', 'Irina\\n', 'Iris\\n', 'Irita\\n', 'Irma\\n', 'Isa\\n', 'Isabeau\\n', 'Isabel\\n', 'Isabelita\\n', 'Isabella\\n', 'Isabelle\\n', 'Isador\\n', 'Isadora\\n', 'Isadore\\n', 'Isahella\\n', 'Iseabal\\n', 'Isidora\\n', 'Isis\\n', 'Isobel\\n', 'Issi\\n', 'Issie\\n', 'Issy\\n', 'Ivett\\n', 'Ivette\\n', 'Ivie\\n', 'Ivonne\\n', 'Ivory\\n', 'Ivy\\n', 'Izabel\\n', 'Izzi\\n', 'Jacenta\\n', 'Jacinda\\n', 'Jacinta\\n', 'Jacintha\\n', 'Jacinthe\\n', 'Jackelyn\\n', 'Jacki\\n', 'Jackie\\n', 'Jacklin\\n', 'Jacklyn\\n', 'Jackquelin\\n', 'Jackqueline\\n', 'Jacky\\n', 'Jaclin\\n', 'Jaclyn\\n', 'Jacquelin\\n', 'Jacqueline\\n', 'Jacquelyn\\n', 'Jacquelynn\\n', 'Jacquenetta\\n', 'Jacquenette\\n', 'Jacquetta\\n', 'Jacquette\\n', 'Jacqui\\n', 'Jacquie\\n', 'Jacynth\\n', 'Jada\\n', 'Jade\\n', 'Jaime\\n', 'Jaimie\\n', 'Jaine\\n', 'Jaleh\\n', 'Jami\\n', 'Jamie\\n', 'Jamima\\n', 'Jammie\\n', 'Jan\\n', 'Jana\\n', 'Janaya\\n', 'Janaye\\n', 'Jandy\\n', 'Jane\\n', 'Janean\\n', 'Janeczka\\n', 'Janeen\\n', 'Janel\\n', 'Janela\\n', 'Janella\\n', 'Janelle\\n', 'Janene\\n', 'Janenna\\n', 'Janessa\\n', 'Janet\\n', 'Janeta\\n', 'Janetta\\n', 'Janette\\n', 'Janeva\\n', 'Janey\\n', 'Jania\\n', 'Janice\\n', 'Janie\\n', 'Janifer\\n', 'Janina\\n', 'Janine\\n', 'Janis\\n', 'Janith\\n', 'Janka\\n', 'Janna\\n', 'Jannel\\n', 'Jannelle\\n', 'Janot\\n', 'Jany\\n', 'Jaquelin\\n', 'Jaquelyn\\n', 'Jaquenetta\\n', 'Jaquenette\\n', 'Jaquith\\n', 'Jasmin\\n', 'Jasmina\\n', 'Jasmine\\n', 'Jayme\\n', 'Jaymee\\n', 'Jayne\\n', 'Jaynell\\n', 'Jazmin\\n', 'Jean\\n', 'Jeana\\n', 'Jeane\\n', 'Jeanelle\\n', 'Jeanette\\n', 'Jeanie\\n', 'Jeanine\\n', 'Jeanna\\n', 'Jeanne\\n', 'Jeannette\\n', 'Jeannie\\n', 'Jeannine\\n', 'Jehanna\\n', 'Jelene\\n', 'Jemie\\n', 'Jemima\\n', 'Jemimah\\n', 'Jemmie\\n', 'Jemmy\\n', 'Jen\\n', 'Jena\\n', 'Jenda\\n', 'Jenelle\\n', 'Jenette\\n', 'Jeni\\n', 'Jenica\\n', 'Jeniece\\n', 'Jenifer\\n', 'Jeniffer\\n', 'Jenilee\\n', 'Jenine\\n', 'Jenn\\n', 'Jenna\\n', 'Jennee\\n', 'Jennette\\n', 'Jenni\\n', 'Jennica\\n', 'Jennie\\n', 'Jennifer\\n', 'Jennilee\\n', 'Jennine\\n', 'Jenny\\n', 'Jeraldine\\n', 'Jeralee\\n', 'Jere\\n', 'Jeri\\n', 'Jermaine\\n', 'Jerrie\\n', 'Jerrilee\\n', 'Jerrilyn\\n', 'Jerrine\\n', 'Jerry\\n', 'Jerrylee\\n', 'Jess\\n', 'Jessa\\n', 'Jessalin\\n', 'Jessalyn\\n', 'Jessamine\\n', 'Jessamyn\\n', 'Jesse\\n', 'Jesselyn\\n', 'Jessi\\n', 'Jessica\\n', 'Jessie\\n', 'Jessika\\n', 'Jessy\\n', 'Jewel\\n', 'Jewell\\n', 'Jewelle\\n', 'Jill\\n', 'Jillana\\n', 'Jillane\\n', 'Jillayne\\n', 'Jilleen\\n', 'Jillene\\n', 'Jilli\\n', 'Jillian\\n', 'Jillie\\n', 'Jilly\\n', 'Jinny\\n', 'Jo\\n', 'Jo Ann\\n', 'Jo-Ann\\n', 'Jo-Anne\\n', 'JoAnn\\n', 'JoAnne\\n', 'Joan\\n', 'Joana\\n', 'Joane\\n', 'Joanie\\n', 'Joann\\n', 'Joanna\\n', 'Joanne\\n', 'Joannes\\n', 'Jobey\\n', 'Jobi\\n', 'Jobie\\n', 'Jobina\\n', 'Joby\\n', 'Jobye\\n', 'Jobyna\\n', 'Jocelin\\n', 'Joceline\\n', 'Jocelyn\\n', 'Jocelyne\\n', 'Jodee\\n', 'Jodi\\n', 'Jodie\\n', 'Jody\\n', 'Joela\\n', 'Joelie\\n', 'Joell\\n', 'Joella\\n', 'Joelle\\n', 'Joellen\\n', 'Joelly\\n', 'Joellyn\\n', 'Joelynn\\n', 'Joete\\n', 'Joey\\n', 'Johanna\\n', 'Johannah\\n', 'Johnette\\n', 'Johnna\\n', 'Joice\\n', 'Jojo\\n', 'Jolee\\n', 'Joleen\\n', 'Jolene\\n', 'Joletta\\n', 'Joli\\n', 'Jolie\\n', 'Joline\\n', 'Joly\\n', 'Jolyn\\n', 'Jolynn\\n', 'Jonell\\n', 'Joni\\n', 'Jonie\\n', 'Jonis\\n', 'Jordain\\n', 'Jordan\\n', 'Jordana\\n', 'Jordanna\\n', 'Jorey\\n', 'Jori\\n', 'Jorie\\n', 'Jorrie\\n', 'Jorry\\n', 'Joscelin\\n', 'Josee\\n', 'Josefa\\n', 'Josefina\\n', 'Joselyn\\n', 'Josepha\\n', 'Josephina\\n', 'Josephine\\n', 'Josey\\n', 'Josi\\n', 'Josie\\n', 'Joslyn\\n', 'Josselyn\\n', 'Josy\\n', 'Jourdan\\n', 'Joy\\n', 'Joya\\n', 'Joyan\\n', 'Joyann\\n', 'Joyce\\n', 'Joycelin\\n', 'Joye\\n', 'Joyous\\n', 'Juana\\n', 'Juanita\\n', 'Jude\\n', 'Judi\\n', 'Judie\\n', 'Judith\\n', 'Juditha\\n', 'Judy\\n', 'Judye\\n', 'Julee\\n', 'Juli\\n', 'Julia\\n', 'Juliana\\n', 'Juliane\\n', 'Juliann\\n', 'Julianna\\n', 'Julianne\\n', 'Julie\\n', 'Julienne\\n', 'Juliet\\n', 'Julieta\\n', 'Julietta\\n', 'Juliette\\n', 'Julina\\n', 'Juline\\n', 'Julissa\\n', 'Julita\\n', 'June\\n', 'Junette\\n', 'Junia\\n', 'Junie\\n', 'Junina\\n', 'Justin\\n', 'Justina\\n', 'Justine\\n', 'Jyoti\\n', 'Kacey\\n', 'Kacie\\n', 'Kacy\\n', 'Kai\\n', 'Kaia\\n', 'Kaila\\n', 'Kaile\\n', 'Kailey\\n', 'Kaitlin\\n', 'Kaitlyn\\n', 'Kaitlynn\\n', 'Kaja\\n', 'Kakalina\\n', 'Kala\\n', 'Kaleena\\n', 'Kali\\n', 'Kalie\\n', 'Kalila\\n', 'Kalina\\n', 'Kalinda\\n', 'Kalindi\\n', 'Kalli\\n', 'Kally\\n', 'Kameko\\n', 'Kamila\\n', 'Kamilah\\n', 'Kamillah\\n', 'Kandace\\n', 'Kandy\\n', 'Kania\\n', 'Kanya\\n', 'Kara\\n', 'Kara-Lynn\\n', 'Karalee\\n', 'Karalynn\\n', 'Kare\\n', 'Karee\\n', 'Karel\\n', 'Karen\\n', 'Karena\\n', 'Kari\\n', 'Karia\\n', 'Karie\\n', 'Karil\\n', 'Karilynn\\n', 'Karin\\n', 'Karina\\n', 'Karine\\n', 'Kariotta\\n', 'Karisa\\n', 'Karissa\\n', 'Karita\\n', 'Karla\\n', 'Karlee\\n', 'Karleen\\n', 'Karlen\\n', 'Karlene\\n', 'Karlie\\n', 'Karlotta\\n', 'Karlotte\\n', 'Karly\\n', 'Karlyn\\n', 'Karmen\\n', 'Karna\\n', 'Karol\\n', 'Karola\\n', 'Karole\\n', 'Karolina\\n', 'Karoline\\n', 'Karoly\\n', 'Karon\\n', 'Karrah\\n', 'Karrie\\n', 'Karry\\n', 'Kary\\n', 'Karyl\\n', 'Karylin\\n', 'Karyn\\n', 'Kasey\\n', 'Kass\\n', 'Kassandra\\n', 'Kassey\\n', 'Kassi\\n', 'Kassia\\n', 'Kassie\\n', 'Kaster\\n', 'Kat\\n', 'Kata\\n', 'Katalin\\n', 'Kate\\n', 'Katee\\n', 'Katerina\\n', 'Katerine\\n', 'Katey\\n', 'Kath\\n', 'Katha\\n', 'Katharina\\n', 'Katharine\\n', 'Katharyn\\n', 'Kathe\\n', 'Katheleen\\n', 'Katherina\\n', 'Katherine\\n', 'Katheryn\\n', 'Kathi\\n', 'Kathie\\n', 'Kathleen\\n', 'Kathlene\\n', 'Kathlin\\n', 'Kathrine\\n', 'Kathryn\\n', 'Kathryne\\n', 'Kathy\\n', 'Kathye\\n', 'Kati\\n', 'Katie\\n', 'Katina\\n', 'Katine\\n', 'Katinka\\n', 'Katleen\\n', 'Katlin\\n', 'Katrina\\n', 'Katrine\\n', 'Katrinka\\n', 'Katti\\n', 'Kattie\\n', 'Katuscha\\n', 'Katusha\\n', 'Katy\\n', 'Katya\\n', 'Kay\\n', 'Kaycee\\n', 'Kaye\\n', 'Kayla\\n', 'Kayle\\n', 'Kaylee\\n', 'Kayley\\n', 'Kaylil\\n', 'Kaylyn\\n', 'Kee\\n', 'Keeley\\n', 'Keelia\\n', 'Keely\\n', 'Kelcey\\n', 'Kelci\\n', 'Kelcie\\n', 'Kelcy\\n', 'Kelila\\n', 'Kellen\\n', 'Kelley\\n', 'Kelli\\n', 'Kellia\\n', 'Kellie\\n', 'Kellina\\n', 'Kellsie\\n', 'Kelly\\n', 'Kellyann\\n', 'Kelsey\\n', 'Kelsi\\n', 'Kelsy\\n', 'Kendra\\n', 'Kendre\\n', 'Kenna\\n', 'Keren\\n', 'Keri\\n', 'Keriann\\n', 'Kerianne\\n', 'Kerri\\n', 'Kerrie\\n', 'Kerrill\\n', 'Kerrin\\n', 'Kerry\\n', 'Kerstin\\n', 'Kesley\\n', 'Keslie\\n', 'Kessia\\n', 'Kessiah\\n', 'Ketti\\n', 'Kettie\\n', 'Ketty\\n', 'Kevina\\n', 'Kevyn\\n', 'Ki\\n', 'Kia\\n', 'Kiah\\n', 'Kial\\n', 'Kiele\\n', 'Kiersten\\n', 'Kikelia\\n', 'Kiley\\n', 'Kim\\n', 'Kimberlee\\n', 'Kimberley\\n', 'Kimberli\\n', 'Kimberly\\n', 'Kimberlyn\\n', 'Kimbra\\n', 'Kimmi\\n', 'Kimmie\\n', 'Kimmy\\n', 'Kinna\\n', 'Kip\\n', 'Kipp\\n', 'Kippie\\n', 'Kippy\\n', 'Kira\\n', 'Kirbee\\n', 'Kirbie\\n', 'Kirby\\n', 'Kiri\\n', 'Kirsten\\n', 'Kirsteni\\n', 'Kirsti\\n', 'Kirstie\\n', 'Kirstin\\n', 'Kirstyn\\n', 'Kissee\\n', 'Kissiah\\n', 'Kissie\\n', 'Kit\\n', 'Kitti\\n', 'Kittie\\n', 'Kitty\\n', 'Kizzee\\n', 'Kizzie\\n', 'Klara\\n', 'Klarika\\n', 'Klarrisa\\n', 'Konstance\\n', 'Konstanze\\n', 'Koo\\n', 'Kora\\n', 'Koral\\n', 'Koralle\\n', 'Kordula\\n', 'Kore\\n', 'Korella\\n', 'Koren\\n', 'Koressa\\n', 'Kori\\n', 'Korie\\n', 'Korney\\n', 'Korrie\\n', 'Korry\\n', 'Kourtney\\n', 'Kris\\n', 'Krissie\\n', 'Krissy\\n', 'Krista\\n', 'Kristal\\n', 'Kristan\\n', 'Kriste\\n', 'Kristel\\n', 'Kristen\\n', 'Kristi\\n', 'Kristien\\n', 'Kristin\\n', 'Kristina\\n', 'Kristine\\n', 'Kristy\\n', 'Kristyn\\n', 'Krysta\\n', 'Krystal\\n', 'Krystalle\\n', 'Krystle\\n', 'Krystyna\\n', 'Kyla\\n', 'Kyle\\n', 'Kylen\\n', 'Kylie\\n', 'Kylila\\n', 'Kylynn\\n', 'Kym\\n', 'Kynthia\\n', 'Kyrstin\\n', 'La\\n', 'Lacee\\n', 'Lacey\\n', 'Lacie\\n', 'Lacy\\n', 'Ladonna\\n', 'Laetitia\\n', 'Laila\\n', 'Laina\\n', 'Lainey\\n', 'Lamb\\n', 'Lana\\n', 'Lane\\n', 'Lanette\\n', 'Laney\\n', 'Lani\\n', 'Lanie\\n', 'Lanita\\n', 'Lanna\\n', 'Lanni\\n', 'Lanny\\n', 'Lara\\n', 'Laraine\\n', 'Lari\\n', 'Larina\\n', 'Larine\\n', 'Larisa\\n', 'Larissa\\n', 'Lark\\n', 'Laryssa\\n', 'Latashia\\n', 'Latia\\n', 'Latisha\\n', 'Latrena\\n', 'Latrina\\n', 'Laura\\n', 'Lauraine\\n', 'Laural\\n', 'Lauralee\\n', 'Laure\\n', 'Lauree\\n', 'Laureen\\n', 'Laurel\\n', 'Laurella\\n', 'Lauren\\n', 'Laurena\\n', 'Laurene\\n', 'Lauretta\\n', 'Laurette\\n', 'Lauri\\n', 'Laurianne\\n', 'Laurice\\n', 'Laurie\\n', 'Lauryn\\n', 'Lavena\\n', 'Laverna\\n', 'Laverne\\n', 'Lavina\\n', 'Lavinia\\n', 'Lavinie\\n', 'Layla\\n', 'Layne\\n', 'Layney\\n', 'Lea\\n', 'Leah\\n', 'Leandra\\n', 'Leann\\n', 'Leanna\\n', 'Leanne\\n', 'Leanor\\n', 'Leanora\\n', 'Lebbie\\n', 'Leda\\n', 'Lee\\n', 'LeeAnn\\n', 'Leeann\\n', 'Leeanne\\n', 'Leela\\n', 'Leelah\\n', 'Leena\\n', 'Leesa\\n', 'Leese\\n', 'Legra\\n', 'Leia\\n', 'Leiah\\n', 'Leigh\\n', 'Leigha\\n', 'Leila\\n', 'Leilah\\n', 'Leisha\\n', 'Lela\\n', 'Lelah\\n', 'Leland\\n', 'Lelia\\n', 'Lena\\n', 'Lenee\\n', 'Lenette\\n', 'Lenka\\n', 'Lenna\\n', 'Lenora\\n', 'Lenore\\n', 'Leodora\\n', 'Leoine\\n', 'Leola\\n', 'Leoline\\n', 'Leona\\n', 'Leonanie\\n', 'Leone\\n', 'Leonelle\\n', 'Leonie\\n', 'Leonora\\n', 'Leonore\\n', 'Leontine\\n', 'Leontyne\\n', 'Leora\\n', 'Leorah\\n', 'Leshia\\n', 'Lesley\\n', 'Lesli\\n', 'Leslie\\n', 'Lesly\\n', 'Lesya\\n', 'Leta\\n', 'Lethia\\n', 'Leticia\\n', 'Letisha\\n', 'Letitia\\n', 'Letta\\n', 'Letti\\n', 'Lettie\\n', 'Letty\\n', 'Leyla\\n', 'Lezlie\\n', 'Lia\\n', 'Lian\\n', 'Liana\\n', 'Liane\\n', 'Lianna\\n', 'Lianne\\n', 'Lib\\n', 'Libbey\\n', 'Libbi\\n', 'Libbie\\n', 'Libby\\n', 'Licha\\n', 'Lida\\n', 'Lidia\\n', 'Lil\\n', 'Lila\\n', 'Lilah\\n', 'Lilas\\n', 'Lilia\\n', 'Lilian\\n', 'Liliane\\n', 'Lilias\\n', 'Lilith\\n', 'Lilla\\n', 'Lilli\\n', 'Lillian\\n', 'Lillis\\n', 'Lilllie\\n', 'Lilly\\n', 'Lily\\n', 'Lilyan\\n', 'Lin\\n', 'Lina\\n', 'Lind\\n', 'Linda\\n', 'Lindi\\n', 'Lindie\\n', 'Lindsay\\n', 'Lindsey\\n', 'Lindsy\\n', 'Lindy\\n', 'Linea\\n', 'Linell\\n', 'Linet\\n', 'Linette\\n', 'Linn\\n', 'Linnea\\n', 'Linnell\\n', 'Linnet\\n', 'Linnie\\n', 'Linzy\\n', 'Liora\\n', 'Liorah\\n', 'Lira\\n', 'Lisa\\n', 'Lisabeth\\n', 'Lisandra\\n', 'Lisbeth\\n', 'Lise\\n', 'Lisetta\\n', 'Lisette\\n', 'Lisha\\n', 'Lishe\\n', 'Lissa\\n', 'Lissi\\n', 'Lissie\\n', 'Lissy\\n', 'Lita\\n', 'Liuka\\n', 'Livia\\n', 'Liz\\n', 'Liza\\n', 'Lizabeth\\n', 'Lizbeth\\n', 'Lizette\\n', 'Lizzie\\n', 'Lizzy\\n', 'Loella\\n', 'Lois\\n', 'Loise\\n', 'Lola\\n', 'Lolande\\n', 'Loleta\\n', 'Lolita\\n', 'Lolly\\n', 'Lona\\n', 'Lonee\\n', 'Loni\\n', 'Lonna\\n', 'Lonni\\n', 'Lonnie\\n', 'Lora\\n', 'Lorain\\n', 'Loraine\\n', 'Loralee\\n', 'Loralie\\n', 'Loralyn\\n', 'Loree\\n', 'Loreen\\n', 'Lorelei\\n', 'Lorelle\\n', 'Loren\\n', 'Lorena\\n', 'Lorene\\n', 'Lorenza\\n', 'Loretta\\n', 'Lorettalorna\\n', 'Lorette\\n', 'Lori\\n', 'Loria\\n', 'Lorianna\\n', 'Lorianne\\n', 'Lorie\\n', 'Lorilee\\n', 'Lorilyn\\n', 'Lorinda\\n', 'Lorine\\n', 'Lorita\\n', 'Lorna\\n', 'Lorne\\n', 'Lorraine\\n', 'Lorrayne\\n', 'Lorri\\n', 'Lorrie\\n', 'Lorrin\\n', 'Lorry\\n', 'Lory\\n', 'Lotta\\n', 'Lotte\\n', 'Lotti\\n', 'Lottie\\n', 'Lotty\\n', 'Lou\\n', 'Louella\\n', 'Louisa\\n', 'Louise\\n', 'Louisette\\n', 'Love\\n', 'Luana\\n', 'Luanna\\n', 'Luce\\n', 'Luci\\n', 'Lucia\\n', 'Luciana\\n', 'Lucie\\n', 'Lucienne\\n', 'Lucila\\n', 'Lucilia\\n', 'Lucille\\n', 'Lucina\\n', 'Lucinda\\n', 'Lucine\\n', 'Lucita\\n', 'Lucky\\n', 'Lucretia\\n', 'Lucy\\n', 'Luella\\n', 'Luelle\\n', 'Luisa\\n', 'Luise\\n', 'Lula\\n', 'Lulita\\n', 'Lulu\\n', 'Luna\\n', 'Lura\\n', 'Lurette\\n', 'Lurleen\\n', 'Lurlene\\n', 'Lurline\\n', 'Lusa\\n', 'Lust\\n', 'Lyda\\n', 'Lydia\\n', 'Lydie\\n', 'Lyn\\n', 'Lynda\\n', 'Lynde\\n', 'Lyndel\\n', 'Lyndell\\n', 'Lyndsay\\n', 'Lyndsey\\n', 'Lyndsie\\n', 'Lyndy\\n', 'Lynea\\n', 'Lynelle\\n', 'Lynett\\n', 'Lynette\\n', 'Lynn\\n', 'Lynna\\n', 'Lynne\\n', 'Lynnea\\n', 'Lynnell\\n', 'Lynnelle\\n', 'Lynnet\\n', 'Lynnett\\n', 'Lynnette\\n', 'Lynsey\\n', 'Lysandra\\n', 'Lyssa\\n', 'Mab\\n', 'Mabel\\n', 'Mabelle\\n', 'Mable\\n', 'Mada\\n', 'Madalena\\n', 'Madalyn\\n', 'Maddalena\\n', 'Maddi\\n', 'Maddie\\n', 'Maddy\\n', 'Madel\\n', 'Madelaine\\n', 'Madeleine\\n', 'Madelena\\n', 'Madelene\\n', 'Madelin\\n', 'Madelina\\n', 'Madeline\\n', 'Madella\\n', 'Madelle\\n', 'Madelon\\n', 'Madelyn\\n', 'Madge\\n', 'Madlen\\n', 'Madlin\\n', 'Madona\\n', 'Madonna\\n', 'Mady\\n', 'Mae\\n', 'Maegan\\n', 'Mag\\n', 'Magda\\n', 'Magdaia\\n', 'Magdalen\\n', 'Magdalena\\n', 'Magdalene\\n', 'Maggee\\n', 'Maggi\\n', 'Maggie\\n', 'Maggy\\n', 'Magna\\n', 'Mahala\\n', 'Mahalia\\n', 'Maia\\n', 'Maible\\n', 'Maiga\\n', 'Mair\\n', 'Maire\\n', 'Mairead\\n', 'Maisey\\n', 'Maisie\\n', 'Mala\\n', 'Malanie\\n', 'Malcah\\n', 'Malena\\n', 'Malia\\n', 'Malina\\n', 'Malinda\\n', 'Malinde\\n', 'Malissa\\n', 'Malissia\\n', 'Malka\\n', 'Malkah\\n', 'Mallissa\\n', 'Mallorie\\n', 'Mallory\\n', 'Malorie\\n', 'Malory\\n', 'Malva\\n', 'Malvina\\n', 'Malynda\\n', 'Mame\\n', 'Mamie\\n', 'Manda\\n', 'Mandi\\n', 'Mandie\\n', 'Mandy\\n', 'Manon\\n', 'Manya\\n', 'Mara\\n', 'Marabel\\n', 'Marcela\\n', 'Marcelia\\n', 'Marcella\\n', 'Marcelle\\n', 'Marcellina\\n', 'Marcelline\\n', 'Marchelle\\n', 'Marci\\n', 'Marcia\\n', 'Marcie\\n', 'Marcile\\n', 'Marcille\\n', 'Marcy\\n', 'Mareah\\n', 'Maren\\n', 'Marena\\n', 'Maressa\\n', 'Marga\\n', 'Margalit\\n', 'Margalo\\n', 'Margaret\\n', 'Margareta\\n', 'Margarete\\n', 'Margaretha\\n', 'Margarethe\\n', 'Margaretta\\n', 'Margarette\\n', 'Margarita\\n', 'Margaux\\n', 'Marge\\n', 'Margeaux\\n', 'Margery\\n', 'Marget\\n', 'Margette\\n', 'Margi\\n', 'Margie\\n', 'Margit\\n', 'Marglerite\\n', 'Margo\\n', 'Margot\\n', 'Margret\\n', 'Marguerite\\n', 'Margurite\\n', 'Margy\\n', 'Mari\\n', 'Maria\\n', 'Mariam\\n', 'Marian\\n', 'Mariana\\n', 'Mariann\\n', 'Marianna\\n', 'Marianne\\n', 'Maribel\\n', 'Maribelle\\n', 'Maribeth\\n', 'Marice\\n', 'Maridel\\n', 'Marie\\n', 'Marie-Ann\\n', 'Marie-Jeanne\\n', 'Marieann\\n', 'Mariejeanne\\n', 'Mariel\\n', 'Mariele\\n', 'Marielle\\n', 'Mariellen\\n', 'Marietta\\n', 'Mariette\\n', 'Marigold\\n', 'Marijo\\n', 'Marika\\n', 'Marilee\\n', 'Marilin\\n', 'Marillin\\n', 'Marilyn\\n', 'Marin\\n', 'Marina\\n', 'Marinna\\n', 'Marion\\n', 'Mariquilla\\n', 'Maris\\n', 'Marisa\\n', 'Mariska\\n', 'Marissa\\n', 'Marit\\n', 'Marita\\n', 'Maritsa\\n', 'Mariya\\n', 'Marj\\n', 'Marja\\n', 'Marje\\n', 'Marji\\n', 'Marjie\\n', 'Marjorie\\n', 'Marjory\\n', 'Marjy\\n', 'Marketa\\n', 'Marla\\n', 'Marlane\\n', 'Marleah\\n', 'Marlee\\n', 'Marleen\\n', 'Marlena\\n', 'Marlene\\n', 'Marley\\n', 'Marlie\\n', 'Marline\\n', 'Marlo\\n', 'Marlyn\\n', 'Marna\\n', 'Marne\\n', 'Marney\\n', 'Marni\\n', 'Marnia\\n', 'Marnie\\n', 'Marquita\\n', 'Marrilee\\n', 'Marris\\n', 'Marrissa\\n', 'Marry\\n', 'Marsha\\n', 'Marsiella\\n', 'Marta\\n', 'Martelle\\n', 'Martguerita\\n', 'Martha\\n', 'Marthe\\n', 'Marthena\\n', 'Marti\\n', 'Martica\\n', 'Martie\\n', 'Martina\\n', 'Martita\\n', 'Marty\\n', 'Martynne\\n', 'Mary\\n', 'Marya\\n', 'Maryangelyn\\n', 'Maryann\\n', 'Maryanna\\n', 'Maryanne\\n', 'Marybelle\\n', 'Marybeth\\n', 'Maryellen\\n', 'Maryjane\\n', 'Maryjo\\n', 'Maryl\\n', 'Marylee\\n', 'Marylin\\n', 'Marylinda\\n', 'Marylou\\n', 'Marylynne\\n', 'Maryrose\\n', 'Marys\\n', 'Marysa\\n', 'Masha\\n', 'Matelda\\n', 'Mathilda\\n', 'Mathilde\\n', 'Matilda\\n', 'Matilde\\n', 'Matti\\n', 'Mattie\\n', 'Matty\\n', 'Maud\\n', 'Maude\\n', 'Maudie\\n', 'Maura\\n', 'Maure\\n', 'Maureen\\n', 'Maureene\\n', 'Maurene\\n', 'Maurine\\n', 'Maurise\\n', 'Maurita\\n', 'Mavis\\n', 'Mavra\\n', 'Max\\n', 'Maxi\\n', 'Maxie\\n', 'Maxine\\n', 'Maxy\\n', 'May\\n', 'Maya\\n', 'Maybelle\\n', 'Mayda\\n', 'Maye\\n', 'Mead\\n', 'Meade\\n', 'Meagan\\n', 'Meaghan\\n', 'Meara\\n', 'Mechelle\\n', 'Meg\\n', 'Megan\\n', 'Megen\\n', 'Meggan\\n', 'Meggi\\n', 'Meggie\\n', 'Meggy\\n', 'Meghan\\n', 'Meghann\\n', 'Mehetabel\\n', 'Mei\\n', 'Meira\\n', 'Mel\\n', 'Mela\\n', 'Melamie\\n', 'Melania\\n', 'Melanie\\n', 'Melantha\\n', 'Melany\\n', 'Melba\\n', 'Melesa\\n', 'Melessa\\n', 'Melicent\\n', 'Melina\\n', 'Melinda\\n', 'Melinde\\n', 'Melisa\\n', 'Melisande\\n', 'Melisandra\\n', 'Melisenda\\n', 'Melisent\\n', 'Melissa\\n', 'Melisse\\n', 'Melita\\n', 'Melitta\\n', 'Mella\\n', 'Melli\\n', 'Mellicent\\n', 'Mellie\\n', 'Mellisa\\n', 'Mellisent\\n', 'Mellissa\\n', 'Melloney\\n', 'Melly\\n', 'Melodee\\n', 'Melodie\\n', 'Melody\\n', 'Melonie\\n', 'Melony\\n', 'Melosa\\n', 'Melva\\n', 'Mercedes\\n', 'Merci\\n', 'Mercie\\n', 'Mercy\\n', 'Meredith\\n', 'Meredithe\\n', 'Meridel\\n', 'Meridith\\n', 'Meriel\\n', 'Merilee\\n', 'Merilyn\\n', 'Meris\\n', 'Merissa\\n', 'Merl\\n', 'Merla\\n', 'Merle\\n', 'Merlina\\n', 'Merline\\n', 'Merna\\n', 'Merola\\n', 'Merralee\\n', 'Merridie\\n', 'Merrie\\n', 'Merrielle\\n', 'Merrile\\n', 'Merrilee\\n', 'Merrili\\n', 'Merrill\\n', 'Merrily\\n', 'Merry\\n', 'Mersey\\n', 'Meryl\\n', 'Meta\\n', 'Mia\\n', 'Micaela\\n', 'Michaela\\n', 'Michaelina\\n', 'Michaeline\\n', 'Michaella\\n', 'Michal\\n', 'Michel\\n', 'Michele\\n', 'Michelina\\n', 'Micheline\\n', 'Michell\\n', 'Michelle\\n', 'Micki\\n', 'Mickie\\n', 'Micky\\n', 'Midge\\n', 'Mignon\\n', 'Mignonne\\n', 'Miguela\\n', 'Miguelita\\n', 'Mildred\\n', 'Mildrid\\n', 'Milena\\n', 'Milicent\\n', 'Milissent\\n', 'Milka\\n', 'Milli\\n', 'Millicent\\n', 'Millie\\n', 'Millisent\\n', 'Milly\\n', 'Milzie\\n', 'Mimi\\n', 'Min\\n', 'Mina\\n', 'Minda\\n', 'Mindy\\n', 'Minerva\\n', 'Minetta\\n', 'Minette\\n', 'Minna\\n', 'Minni\\n', 'Minnie\\n', 'Minny\\n', 'Minta\\n', 'Miquela\\n', 'Mira\\n', 'Mirabel\\n', 'Mirabella\\n', 'Mirabelle\\n', 'Miran\\n', 'Miranda\\n', 'Mireielle\\n', 'Mireille\\n', 'Mirella\\n', 'Mirelle\\n', 'Miriam\\n', 'Mirilla\\n', 'Mirna\\n', 'Misha\\n', 'Missie\\n', 'Missy\\n', 'Misti\\n', 'Misty\\n', 'Mitra\\n', 'Mitzi\\n', 'Mmarianne\\n', 'Modesta\\n', 'Modestia\\n', 'Modestine\\n', 'Modesty\\n', 'Moina\\n', 'Moira\\n', 'Moll\\n', 'Mollee\\n', 'Molli\\n', 'Mollie\\n', 'Molly\\n', 'Mommy\\n', 'Mona\\n', 'Monah\\n', 'Monica\\n', 'Monika\\n', 'Monique\\n', 'Mora\\n', 'Moreen\\n', 'Morena\\n', 'Morgan\\n', 'Morgana\\n', 'Morganica\\n', 'Morganne\\n', 'Morgen\\n', 'Moria\\n', 'Morissa\\n', 'Morlee\\n', 'Morna\\n', 'Moselle\\n', 'Moya\\n', 'Moyna\\n', 'Moyra\\n', 'Mozelle\\n', 'Muffin\\n', 'Mufi\\n', 'Mufinella\\n', 'Muire\\n', 'Mureil\\n', 'Murial\\n', 'Muriel\\n', 'Murielle\\n', 'Myna\\n', 'Myra\\n', 'Myrah\\n', 'Myranda\\n', 'Myriam\\n', 'Myrilla\\n', 'Myrle\\n', 'Myrlene\\n', 'Myrna\\n', 'Myrta\\n', 'Myrtia\\n', 'Myrtice\\n', 'Myrtie\\n', 'Myrtle\\n', 'Nada\\n', 'Nadean\\n', 'Nadeen\\n', 'Nadia\\n', 'Nadine\\n', 'Nadiya\\n', 'Nady\\n', 'Nadya\\n', 'Nalani\\n', 'Nan\\n', 'Nana\\n', 'Nananne\\n', 'Nance\\n', 'Nancee\\n', 'Nancey\\n', 'Nanci\\n', 'Nancie\\n', 'Nancy\\n', 'Nanete\\n', 'Nanette\\n', 'Nani\\n', 'Nanice\\n', 'Nanine\\n', 'Nannette\\n', 'Nanni\\n', 'Nannie\\n', 'Nanny\\n', 'Nanon\\n', 'Naoma\\n', 'Naomi\\n', 'Nara\\n', 'Nari\\n', 'Nariko\\n', 'Nat\\n', 'Nata\\n', 'Natala\\n', 'Natalee\\n', 'Natalia\\n', 'Natalie\\n', 'Natalina\\n', 'Nataline\\n', 'Natalya\\n', 'Natasha\\n', 'Natassia\\n', 'Nathalia\\n', 'Nathalie\\n', 'Natka\\n', 'Natty\\n', 'Neala\\n', 'Neda\\n', 'Nedda\\n', 'Nedi\\n', 'Neely\\n', 'Neila\\n', 'Neile\\n', 'Neilla\\n', 'Neille\\n', 'Nela\\n', 'Nelia\\n', 'Nelie\\n', 'Nell\\n', 'Nelle\\n', 'Nelli\\n', 'Nellie\\n', 'Nelly\\n', 'Nena\\n', 'Nerissa\\n', 'Nerita\\n', 'Nert\\n', 'Nerta\\n', 'Nerte\\n', 'Nerti\\n', 'Nertie\\n', 'Nerty\\n', 'Nessa\\n', 'Nessi\\n', 'Nessie\\n', 'Nessy\\n', 'Nesta\\n', 'Netta\\n', 'Netti\\n', 'Nettie\\n', 'Nettle\\n', 'Netty\\n', 'Nevsa\\n', 'Neysa\\n', 'Nichol\\n', 'Nichole\\n', 'Nicholle\\n', 'Nicki\\n', 'Nickie\\n', 'Nicky\\n', 'Nicol\\n', 'Nicola\\n', 'Nicole\\n', 'Nicolea\\n', 'Nicolette\\n', 'Nicoli\\n', 'Nicolina\\n', 'Nicoline\\n', 'Nicolle\\n', 'Nidia\\n', 'Nike\\n', 'Niki\\n', 'Nikki\\n', 'Nikkie\\n', 'Nikoletta\\n', 'Nikolia\\n', 'Nil\\n', 'Nina\\n', 'Ninetta\\n', 'Ninette\\n', 'Ninnetta\\n', 'Ninnette\\n', 'Ninon\\n', 'Nisa\\n', 'Nissa\\n', 'Nisse\\n', 'Nissie\\n', 'Nissy\\n', 'Nita\\n', 'Nitin\\n', 'Nixie\\n', 'Noami\\n', 'Noel\\n', 'Noelani\\n', 'Noell\\n', 'Noella\\n', 'Noelle\\n', 'Noellyn\\n', 'Noelyn\\n', 'Noemi\\n', 'Nola\\n', 'Nolana\\n', 'Nolie\\n', 'Nollie\\n', 'Nomi\\n', 'Nona\\n', 'Nonah\\n', 'Noni\\n', 'Nonie\\n', 'Nonna\\n', 'Nonnah\\n', 'Nora\\n', 'Norah\\n', 'Norean\\n', 'Noreen\\n', 'Norene\\n', 'Norina\\n', 'Norine\\n', 'Norma\\n', 'Norri\\n', 'Norrie\\n', 'Norry\\n', 'Nova\\n', 'Novelia\\n', 'Nydia\\n', 'Nyssa\\n', 'Octavia\\n', 'Odele\\n', 'Odelia\\n', 'Odelinda\\n', 'Odella\\n', 'Odelle\\n', 'Odessa\\n', 'Odetta\\n', 'Odette\\n', 'Odilia\\n', 'Odille\\n', 'Ofelia\\n', 'Ofella\\n', 'Ofilia\\n', 'Ola\\n', 'Olenka\\n', 'Olga\\n', 'Olia\\n', 'Olimpia\\n', 'Olive\\n', 'Olivette\\n', 'Olivia\\n', 'Olivie\\n', 'Oliy\\n', 'Ollie\\n', 'Olly\\n', 'Olva\\n', 'Olwen\\n', 'Olympe\\n', 'Olympia\\n', 'Olympie\\n', 'Ondrea\\n', 'Oneida\\n', 'Onida\\n', 'Onlea\\n', 'Oona\\n', 'Opal\\n', 'Opalina\\n', 'Opaline\\n', 'Ophelia\\n', 'Ophelie\\n', 'Oprah\\n', 'Ora\\n', 'Oralee\\n', 'Oralia\\n', 'Oralie\\n', 'Oralla\\n', 'Oralle\\n', 'Orel\\n', 'Orelee\\n', 'Orelia\\n', 'Orelie\\n', 'Orella\\n', 'Orelle\\n', 'Oreste\\n', 'Oriana\\n', 'Orly\\n', 'Orsa\\n', 'Orsola\\n', 'Ortensia\\n', 'Otha\\n', 'Othelia\\n', 'Othella\\n', 'Othilia\\n', 'Othilie\\n', 'Ottilie\\n', 'Pacifica\\n', 'Page\\n', 'Paige\\n', 'Paloma\\n', 'Pam\\n', 'Pamela\\n', 'Pamelina\\n', 'Pamella\\n', 'Pammi\\n', 'Pammie\\n', 'Pammy\\n', 'Pandora\\n', 'Pansie\\n', 'Pansy\\n', 'Paola\\n', 'Paolina\\n', 'Parwane\\n', 'Pat\\n', 'Patience\\n', 'Patrica\\n', 'Patrice\\n', 'Patricia\\n', 'Patrizia\\n', 'Patsy\\n', 'Patti\\n', 'Pattie\\n', 'Patty\\n', 'Paula\\n', 'Paula-Grace\\n', 'Paule\\n', 'Pauletta\\n', 'Paulette\\n', 'Pauli\\n', 'Paulie\\n', 'Paulina\\n', 'Pauline\\n', 'Paulita\\n', 'Pauly\\n', 'Pavia\\n', 'Pavla\\n', 'Pearl\\n', 'Pearla\\n', 'Pearle\\n', 'Pearline\\n', 'Peg\\n', 'Pegeen\\n', 'Peggi\\n', 'Peggie\\n', 'Peggy\\n', 'Pen\\n', 'Penelopa\\n', 'Penelope\\n', 'Penni\\n', 'Pennie\\n', 'Penny\\n', 'Pepi\\n', 'Pepita\\n', 'Peri\\n', 'Peria\\n', 'Perl\\n', 'Perla\\n', 'Perle\\n', 'Perri\\n', 'Perrine\\n', 'Perry\\n', 'Persis\\n', 'Pet\\n', 'Peta\\n', 'Petra\\n', 'Petrina\\n', 'Petronella\\n', 'Petronia\\n', 'Petronilla\\n', 'Petronille\\n', 'Petunia\\n', 'Phaedra\\n', 'Phaidra\\n', 'Phebe\\n', 'Phedra\\n', 'Phelia\\n', 'Phil\\n', 'Philipa\\n', 'Philippa\\n', 'Philippe\\n', 'Philippine\\n', 'Philis\\n', 'Phillida\\n', 'Phillie\\n', 'Phillis\\n', 'Philly\\n', 'Philomena\\n', 'Phoebe\\n', 'Phylis\\n', 'Phyllida\\n', 'Phyllis\\n', 'Phyllys\\n', 'Phylys\\n', 'Pia\\n', 'Pier\\n', 'Pierette\\n', 'Pierrette\\n', 'Pietra\\n', 'Piper\\n', 'Pippa\\n', 'Pippy\\n', 'Polly\\n', 'Pollyanna\\n', 'Pooh\\n', 'Poppy\\n', 'Portia\\n', 'Pris\\n', 'Prisca\\n', 'Priscella\\n', 'Priscilla\\n', 'Prissie\\n', 'Pru\\n', 'Prudence\\n', 'Prudi\\n', 'Prudy\\n', 'Prue\\n', 'Prunella\\n', 'Queada\\n', 'Queenie\\n', 'Quentin\\n', 'Querida\\n', 'Quinn\\n', 'Quinta\\n', 'Quintana\\n', 'Quintilla\\n', 'Quintina\\n', 'Rachael\\n', 'Rachel\\n', 'Rachele\\n', 'Rachelle\\n', 'Rae\\n', 'Raf\\n', 'Rafa\\n', 'Rafaela\\n', 'Rafaelia\\n', 'Rafaelita\\n', 'Ragnhild\\n', 'Rahal\\n', 'Rahel\\n', 'Raina\\n', 'Raine\\n', 'Rakel\\n', 'Ralina\\n', 'Ramona\\n', 'Ramonda\\n', 'Rana\\n', 'Randa\\n', 'Randee\\n', 'Randene\\n', 'Randi\\n', 'Randie\\n', 'Randy\\n', 'Ranee\\n', 'Rani\\n', 'Rania\\n', 'Ranice\\n', 'Ranique\\n', 'Ranna\\n', 'Raphaela\\n', 'Raquel\\n', 'Raquela\\n', 'Rasia\\n', 'Rasla\\n', 'Raven\\n', 'Ray\\n', 'Raychel\\n', 'Raye\\n', 'Rayna\\n', 'Raynell\\n', 'Rayshell\\n', 'Rea\\n', 'Reba\\n', 'Rebbecca\\n', 'Rebe\\n', 'Rebeca\\n', 'Rebecca\\n', 'Rebecka\\n', 'Rebeka\\n', 'Rebekah\\n', 'Rebekkah\\n', 'Ree\\n', 'Reeba\\n', 'Reena\\n', 'Reeta\\n', 'Reeva\\n', 'Regan\\n', 'Reggi\\n', 'Reggie\\n', 'Regina\\n', 'Regine\\n', 'Reiko\\n', 'Reina\\n', 'Reine\\n', 'Remy\\n', 'Rena\\n', 'Renae\\n', 'Renata\\n', 'Renate\\n', 'Rene\\n', 'Renee\\n', 'Renel\\n', 'Renell\\n', 'Renelle\\n', 'Renie\\n', 'Rennie\\n', 'Reta\\n', 'Retha\\n', 'Revkah\\n', 'Rey\\n', 'Reyna\\n', 'Rhea\\n', 'Rheba\\n', 'Rheta\\n', 'Rhetta\\n', 'Rhiamon\\n', 'Rhianna\\n', 'Rhianon\\n', 'Rhoda\\n', 'Rhodia\\n', 'Rhodie\\n', 'Rhody\\n', 'Rhona\\n', 'Rhonda\\n', 'Riane\\n', 'Riannon\\n', 'Rianon\\n', 'Rica\\n', 'Ricca\\n', 'Rici\\n', 'Ricki\\n', 'Rickie\\n', 'Ricky\\n', 'Riki\\n', 'Rikki\\n', 'Rina\\n', 'Risa\\n', 'Rissa\\n', 'Rita\\n', 'Riva\\n', 'Rivalee\\n', 'Rivi\\n', 'Rivkah\\n', 'Rivy\\n', 'Roana\\n', 'Roanna\\n', 'Roanne\\n', 'Robbi\\n', 'Robbie\\n', 'Robbin\\n', 'Robby\\n', 'Robbyn\\n', 'Robena\\n', 'Robenia\\n', 'Roberta\\n', 'Robin\\n', 'Robina\\n', 'Robinet\\n', 'Robinett\\n', 'Robinetta\\n', 'Robinette\\n', 'Robinia\\n', 'Roby\\n', 'Robyn\\n', 'Roch\\n', 'Rochell\\n', 'Rochella\\n', 'Rochelle\\n', 'Rochette\\n', 'Roda\\n', 'Rodi\\n', 'Rodie\\n', 'Rodina\\n', 'Romola\\n', 'Romona\\n', 'Romonda\\n', 'Romy\\n', 'Rona\\n', 'Ronalda\\n', 'Ronda\\n', 'Ronica\\n', 'Ronna\\n', 'Ronni\\n', 'Ronnica\\n', 'Ronnie\\n', 'Ronny\\n', 'Roobbie\\n', 'Rora\\n', 'Rori\\n', 'Rorie\\n', 'Rory\\n', 'Ros\\n', 'Rosa\\n', 'Rosabel\\n', 'Rosabella\\n', 'Rosabelle\\n', 'Rosaleen\\n', 'Rosalia\\n', 'Rosalie\\n', 'Rosalind\\n', 'Rosalinda\\n', 'Rosalinde\\n', 'Rosaline\\n', 'Rosalyn\\n', 'Rosalynd\\n', 'Rosamond\\n', 'Rosamund\\n', 'Rosana\\n', 'Rosanna\\n', 'Rosanne\\n', 'Rosario\\n', 'Rose\\n', 'Roseann\\n', 'Roseanna\\n', 'Roseanne\\n', 'Roselia\\n', 'Roselin\\n', 'Roseline\\n', 'Rosella\\n', 'Roselle\\n', 'Roselyn\\n', 'Rosemaria\\n', 'Rosemarie\\n', 'Rosemary\\n', 'Rosemonde\\n', 'Rosene\\n', 'Rosetta\\n', 'Rosette\\n', 'Roshelle\\n', 'Rosie\\n', 'Rosina\\n', 'Rosita\\n', 'Roslyn\\n', 'Rosmunda\\n', 'Rosy\\n', 'Row\\n', 'Rowe\\n', 'Rowena\\n', 'Roxana\\n', 'Roxane\\n', 'Roxanna\\n', 'Roxanne\\n', 'Roxi\\n', 'Roxie\\n', 'Roxine\\n', 'Roxy\\n', 'Roz\\n', 'Rozalie\\n', 'Rozalin\\n', 'Rozamond\\n', 'Rozanna\\n', 'Rozanne\\n', 'Roze\\n', 'Rozele\\n', 'Rozella\\n', 'Rozelle\\n', 'Rozina\\n', 'Rubetta\\n', 'Rubi\\n', 'Rubia\\n', 'Rubie\\n', 'Rubina\\n', 'Ruby\\n', 'Ruella\\n', 'Ruperta\\n', 'Ruth\\n', 'Ruthann\\n', 'Ruthanne\\n', 'Ruthe\\n', 'Ruthi\\n', 'Ruthie\\n', 'Ruthy\\n', 'Ryann\\n', 'Rycca\\n', 'Saba\\n', 'Sabina\\n', 'Sabine\\n', 'Sabra\\n', 'Sabrina\\n', 'Sacha\\n', 'Sada\\n', 'Sadella\\n', 'Sadie\\n', 'Sal\\n', 'Sallee\\n', 'Salli\\n', 'Sallie\\n', 'Sally\\n', 'Sallyann\\n', 'Sallyanne\\n', 'Salome\\n', 'Sam\\n', 'Samantha\\n', 'Samara\\n', 'Samaria\\n', 'Sammy\\n', 'Samuela\\n', 'Samuella\\n', 'Sande\\n', 'Sandi\\n', 'Sandie\\n', 'Sandra\\n', 'Sandy\\n', 'Sandye\\n', 'Sapphira\\n', 'Sapphire\\n', 'Sara\\n', 'Sara-Ann\\n', 'Saraann\\n', 'Sarah\\n', 'Sarajane\\n', 'Saree\\n', 'Sarena\\n', 'Sarene\\n', 'Sarette\\n', 'Sari\\n', 'Sarina\\n', 'Sarine\\n', 'Sarita\\n', 'Sascha\\n', 'Sasha\\n', 'Sashenka\\n', 'Saudra\\n', 'Saundra\\n', 'Savina\\n', 'Sayre\\n', 'Scarlet\\n', 'Scarlett\\n', 'Scotty\\n', 'Sean\\n', 'Seana\\n', 'Secunda\\n', 'Seka\\n', 'Sela\\n', 'Selena\\n', 'Selene\\n', 'Selestina\\n', 'Selia\\n', 'Selie\\n', 'Selina\\n', 'Selinda\\n', 'Seline\\n', 'Sella\\n', 'Selle\\n', 'Selma\\n', 'Sena\\n', 'Sephira\\n', 'Serena\\n', 'Serene\\n', 'Shaina\\n', 'Shaine\\n', 'Shalna\\n', 'Shalne\\n', 'Shamit\\n', 'Shana\\n', 'Shanda\\n', 'Shandee\\n', 'Shandie\\n', 'Shandra\\n', 'Shandy\\n', 'Shane\\n', 'Shani\\n', 'Shanie\\n', 'Shanna\\n', 'Shannah\\n', 'Shannen\\n', 'Shannon\\n', 'Shanon\\n', 'Shanta\\n', 'Shantee\\n', 'Shara\\n', 'Sharai\\n', 'Shari\\n', 'Sharia\\n', 'Sharie\\n', 'Sharity\\n', 'Sharl\\n', 'Sharla\\n', 'Sharleen\\n', 'Sharlene\\n', 'Sharline\\n', 'Sharna\\n', 'Sharon\\n', 'Sharona\\n', 'Sharra\\n', 'Sharron\\n', 'Sharyl\\n', 'Shaun\\n', 'Shauna\\n', 'Shawn\\n', 'Shawna\\n', 'Shawnee\\n', 'Shay\\n', 'Shayla\\n', 'Shaylah\\n', 'Shaylyn\\n', 'Shaylynn\\n', 'Shayna\\n', 'Shayne\\n', 'Shea\\n', 'Sheba\\n', 'Sheela\\n', 'Sheelagh\\n', 'Sheelah\\n', 'Sheena\\n', 'Sheeree\\n', 'Sheila\\n', 'Sheila-Kathryn\\n', 'Sheilah\\n', 'Sheilakathryn\\n', 'Shel\\n', 'Shela\\n', 'Shelagh\\n', 'Shelba\\n', 'Shelbi\\n', 'Shelby\\n', 'Shelia\\n', 'Shell\\n', 'Shelley\\n', 'Shelli\\n', 'Shellie\\n', 'Shelly\\n', 'Shena\\n', 'Sher\\n', 'Sheree\\n', 'Sheri\\n', 'Sherie\\n', 'Sheril\\n', 'Sherill\\n', 'Sherilyn\\n', 'Sherline\\n', 'Sherri\\n', 'Sherrie\\n', 'Sherry\\n', 'Sherye\\n', 'Sheryl\\n', 'Shilpa\\n', 'Shina\\n', 'Shir\\n', 'Shira\\n', 'Shirah\\n', 'Shirl\\n', 'Shirlee\\n', 'Shirleen\\n', 'Shirlene\\n', 'Shirley\\n', 'Shirline\\n', 'Shoshana\\n', 'Shoshanna\\n', 'Shoshie\\n', 'Siana\\n', 'Sianna\\n', 'Sib\\n', 'Sibbie\\n', 'Sibby\\n', 'Sibeal\\n', 'Sibel\\n', 'Sibella\\n', 'Sibelle\\n', 'Sibilla\\n', 'Sibley\\n', 'Sibyl\\n', 'Sibylla\\n', 'Sibylle\\n', 'Sidoney\\n', 'Sidonia\\n', 'Sidonnie\\n', 'Sigrid\\n', 'Sile\\n', 'Sileas\\n', 'Silva\\n', 'Silvana\\n', 'Silvia\\n', 'Silvie\\n', 'Simona\\n', 'Simone\\n', 'Simonette\\n', 'Simonne\\n', 'Sindee\\n', 'Sinead\\n', 'Siobhan\\n', 'Sioux\\n', 'Siouxie\\n', 'Sisely\\n', 'Sisile\\n', 'Sissie\\n', 'Sissy\\n', 'Sofia\\n', 'Sofie\\n', 'Solange\\n', 'Sondra\\n', 'Sonia\\n', 'Sonja\\n', 'Sonni\\n', 'Sonnie\\n', 'Sonnnie\\n', 'Sonny\\n', 'Sonya\\n', 'Sophey\\n', 'Sophi\\n', 'Sophia\\n', 'Sophie\\n', 'Sophronia\\n', 'Sorcha\\n', 'Sosanna\\n', 'Stace\\n', 'Stacee\\n', 'Stacey\\n', 'Staci\\n', 'Stacia\\n', 'Stacie\\n', 'Stacy\\n', 'Stafani\\n', 'Star\\n', 'Starla\\n', 'Starlene\\n', 'Starlin\\n', 'Starr\\n', 'Stefa\\n', 'Stefania\\n', 'Stefanie\\n', 'Steffane\\n', 'Steffi\\n', 'Steffie\\n', 'Stella\\n', 'Stepha\\n', 'Stephana\\n', 'Stephani\\n', 'Stephanie\\n', 'Stephannie\\n', 'Stephenie\\n', 'Stephi\\n', 'Stephie\\n', 'Stephine\\n', 'Stesha\\n', 'Stevana\\n', 'Stevena\\n', 'Stoddard\\n', 'Storey\\n', 'Storm\\n', 'Stormi\\n', 'Stormie\\n', 'Stormy\\n', 'Sue\\n', 'Sue-elle\\n', 'Suellen\\n', 'Sukey\\n', 'Suki\\n', 'Sula\\n', 'Sunny\\n', 'Sunshine\\n', 'Susan\\n', 'Susana\\n', 'Susanetta\\n', 'Susann\\n', 'Susanna\\n', 'Susannah\\n', 'Susanne\\n', 'Susette\\n', 'Susi\\n', 'Susie\\n', 'Sussi\\n', 'Susy\\n', 'Suzan\\n', 'Suzann\\n', 'Suzanna\\n', 'Suzanne\\n', 'Suzetta\\n', 'Suzette\\n', 'Suzi\\n', 'Suzie\\n', 'Suzy\\n', 'Suzzy\\n', 'Sybil\\n', 'Sybila\\n', 'Sybilla\\n', 'Sybille\\n', 'Sybyl\\n', 'Sydel\\n', 'Sydelle\\n', 'Sydney\\n', 'Sylvia\\n', 'Sylvie\\n', 'Tabatha\\n', 'Tabbatha\\n', 'Tabbi\\n', 'Tabbie\\n', 'Tabbitha\\n', 'Tabby\\n', 'Tabina\\n', 'Tabitha\\n', 'Taffy\\n', 'Talia\\n', 'Tallia\\n', 'Tallie\\n', 'Tally\\n', 'Talya\\n', 'Talyah\\n', 'Tamar\\n', 'Tamara\\n', 'Tamarah\\n', 'Tamarra\\n', 'Tamera\\n', 'Tami\\n', 'Tamiko\\n', 'Tamma\\n', 'Tammara\\n', 'Tammi\\n', 'Tammie\\n', 'Tammy\\n', 'Tamra\\n', 'Tana\\n', 'Tandi\\n', 'Tandie\\n', 'Tandy\\n', 'Tani\\n', 'Tania\\n', 'Tansy\\n', 'Tanya\\n', 'Tara\\n', 'Tarah\\n', 'Tarra\\n', 'Tarrah\\n', 'Taryn\\n', 'Tasha\\n', 'Tasia\\n', 'Tate\\n', 'Tatiana\\n', 'Tatiania\\n', 'Tatum\\n', 'Tawnya\\n', 'Tawsha\\n', 'Teane\\n', 'Ted\\n', 'Tedda\\n', 'Teddi\\n', 'Teddie\\n', 'Teddy\\n', 'Tedi\\n', 'Tedra\\n', 'Teena\\n', 'Tella\\n', 'Teodora\\n', 'Tera\\n', 'Teresa\\n', 'TeresaAnne\\n', 'Terese\\n', 'Teresina\\n', 'Teresita\\n', 'Teressa\\n', 'Teri\\n', 'Teriann\\n', 'Terina\\n', 'Terra\\n', 'Terri\\n', 'Terri-Jo\\n', 'Terrianne\\n', 'Terrie\\n', 'Terry\\n', 'Terrye\\n', 'Tersina\\n', 'Teryl\\n', 'Terza\\n', 'Tess\\n', 'Tessa\\n', 'Tessi\\n', 'Tessie\\n', 'Tessy\\n', 'Thalia\\n', 'Thea\\n', 'Theada\\n', 'Theadora\\n', 'Theda\\n', 'Thekla\\n', 'Thelma\\n', 'Theo\\n', 'Theodora\\n', 'Theodosia\\n', 'Theresa\\n', 'Theresa-Marie\\n', 'Therese\\n', 'Theresina\\n', 'Theresita\\n', 'Theressa\\n', 'Therine\\n', 'Thia\\n', 'Thomasa\\n', 'Thomasin\\n', 'Thomasina\\n', 'Thomasine\\n', 'Tia\\n', 'Tiana\\n', 'Tiena\\n', 'Tierney\\n', 'Tiertza\\n', 'Tiff\\n', 'Tiffani\\n', 'Tiffanie\\n', 'Tiffany\\n', 'Tiffi\\n', 'Tiffie\\n', 'Tiffy\\n', 'Tilda\\n', 'Tildi\\n', 'Tildie\\n', 'Tildy\\n', 'Tillie\\n', 'Tilly\\n', 'Tim\\n', 'Timi\\n', 'Timmi\\n', 'Timmie\\n', 'Timmy\\n', 'Timothea\\n', 'Tina\\n', 'Tine\\n', 'Tiphani\\n', 'Tiphanie\\n', 'Tiphany\\n', 'Tish\\n', 'Tisha\\n', 'Tobe\\n', 'Tobey\\n', 'Tobi\\n', 'Tobie\\n', 'Toby\\n', 'Tobye\\n', 'Toinette\\n', 'Toma\\n', 'Tomasina\\n', 'Tomasine\\n', 'Tomi\\n', 'Tomiko\\n', 'Tommi\\n', 'Tommie\\n', 'Tommy\\n', 'Toni\\n', 'Tonia\\n', 'Tonie\\n', 'Tony\\n', 'Tonya\\n', 'Tootsie\\n', 'Torey\\n', 'Tori\\n', 'Torie\\n', 'Torrie\\n', 'Tory\\n', 'Tova\\n', 'Tove\\n', 'Trace\\n', 'Tracee\\n', 'Tracey\\n', 'Traci\\n', 'Tracie\\n', 'Tracy\\n', 'Trenna\\n', 'Tresa\\n', 'Trescha\\n', 'Tressa\\n', 'Tricia\\n', 'Trina\\n', 'Trish\\n', 'Trisha\\n', 'Trista\\n', 'Trix\\n', 'Trixi\\n', 'Trixie\\n', 'Trixy\\n', 'Truda\\n', 'Trude\\n', 'Trudey\\n', 'Trudi\\n', 'Trudie\\n', 'Trudy\\n', 'Trula\\n', 'Tuesday\\n', 'Twila\\n', 'Twyla\\n', 'Tybi\\n', 'Tybie\\n', 'Tyne\\n', 'Ula\\n', 'Ulla\\n', 'Ulrica\\n', 'Ulrika\\n', 'Ulrike\\n', 'Umeko\\n', 'Una\\n', 'Ursa\\n', 'Ursala\\n', 'Ursola\\n', 'Ursula\\n', 'Ursulina\\n', 'Ursuline\\n', 'Uta\\n', 'Val\\n', 'Valaree\\n', 'Valaria\\n', 'Vale\\n', 'Valeda\\n', 'Valencia\\n', 'Valene\\n', 'Valenka\\n', 'Valentia\\n', 'Valentina\\n', 'Valentine\\n', 'Valera\\n', 'Valeria\\n', 'Valerie\\n', 'Valery\\n', 'Valerye\\n', 'Valida\\n', 'Valina\\n', 'Valli\\n', 'Vallie\\n', 'Vally\\n', 'Valma\\n', 'Valry\\n', 'Van\\n', 'Vanda\\n', 'Vanessa\\n', 'Vania\\n', 'Vanna\\n', 'Vanni\\n', 'Vannie\\n', 'Vanny\\n', 'Vanya\\n', 'Veda\\n', 'Velma\\n', 'Velvet\\n', 'Vena\\n', 'Venita\\n', 'Ventura\\n', 'Venus\\n', 'Vera\\n', 'Veradis\\n', 'Vere\\n', 'Verena\\n', 'Verene\\n', 'Veriee\\n', 'Verile\\n', 'Verina\\n', 'Verine\\n', 'Verla\\n', 'Verna\\n', 'Vernice\\n', 'Veronica\\n', 'Veronika\\n', 'Veronike\\n', 'Veronique\\n', 'Vi\\n', 'Vicki\\n', 'Vickie\\n', 'Vicky\\n', 'Victoria\\n', 'Vida\\n', 'Viki\\n', 'Vikki\\n', 'Vikkie\\n', 'Vikky\\n', 'Vilhelmina\\n', 'Vilma\\n', 'Vin\\n', 'Vina\\n', 'Vinita\\n', 'Vinni\\n', 'Vinnie\\n', 'Vinny\\n', 'Viola\\n', 'Violante\\n', 'Viole\\n', 'Violet\\n', 'Violetta\\n', 'Violette\\n', 'Virgie\\n', 'Virgina\\n', 'Virginia\\n', 'Virginie\\n', 'Vita\\n', 'Vitia\\n', 'Vitoria\\n', 'Vittoria\\n', 'Viv\\n', 'Viva\\n', 'Vivi\\n', 'Vivia\\n', 'Vivian\\n', 'Viviana\\n', 'Vivianna\\n', 'Vivianne\\n', 'Vivie\\n', 'Vivien\\n', 'Viviene\\n', 'Vivienne\\n', 'Viviyan\\n', 'Vivyan\\n', 'Vivyanne\\n', 'Vonni\\n', 'Vonnie\\n', 'Vonny\\n', 'Wallie\\n', 'Wallis\\n', 'Wally\\n', 'Waly\\n', 'Wanda\\n', 'Wandie\\n', 'Wandis\\n', 'Waneta\\n', 'Wenda\\n', 'Wendeline\\n', 'Wendi\\n', 'Wendie\\n', 'Wendy\\n', 'Wenona\\n', 'Wenonah\\n', 'Whitney\\n', 'Wileen\\n', 'Wilhelmina\\n', 'Wilhelmine\\n', 'Wilie\\n', 'Willa\\n', 'Willabella\\n', 'Willamina\\n', 'Willetta\\n', 'Willette\\n', 'Willi\\n', 'Willie\\n', 'Willow\\n', 'Willy\\n', 'Willyt\\n', 'Wilma\\n', 'Wilmette\\n', 'Wilona\\n', 'Wilone\\n', 'Wilow\\n', 'Windy\\n', 'Wini\\n', 'Winifred\\n', 'Winna\\n', 'Winnah\\n', 'Winne\\n', 'Winni\\n', 'Winnie\\n', 'Winnifred\\n', 'Winny\\n', 'Winona\\n', 'Winonah\\n', 'Wren\\n', 'Wrennie\\n', 'Wylma\\n', 'Wynn\\n', 'Wynne\\n', 'Wynnie\\n', 'Wynny\\n', 'Xaviera\\n', 'Xena\\n', 'Xenia\\n', 'Xylia\\n', 'Xylina\\n', 'Yalonda\\n', 'Yehudit\\n', 'Yelena\\n', 'Yetta\\n', 'Yettie\\n', 'Yetty\\n', 'Yevette\\n', 'Yoko\\n', 'Yolanda\\n', 'Yolande\\n', 'Yolane\\n', 'Yolanthe\\n', 'Yonina\\n', 'Yoshi\\n', 'Yoshiko\\n', 'Yovonnda\\n', 'Yvette\\n', 'Yvonne\\n', 'Zabrina\\n', 'Zahara\\n', 'Zandra\\n', 'Zaneta\\n', 'Zara\\n', 'Zarah\\n', 'Zaria\\n', 'Zarla\\n', 'Zea\\n', 'Zelda\\n', 'Zelma\\n', 'Zena\\n', 'Zenia\\n', 'Zia\\n', 'Zilvia\\n', 'Zita\\n', 'Zitella\\n', 'Zoe\\n', 'Zola\\n', 'Zonda\\n', 'Zondra\\n', 'Zonnya\\n', 'Zora\\n', 'Zorah\\n', 'Zorana\\n', 'Zorina\\n', 'Zorine\\n', 'Zsa Zsa\\n', 'Zsazsa\\n', 'Zulema\\n', 'Zuzana\\n', 'Mikako\\n', 'Kaari\\n', 'Gita\\n', 'Geeta\\n']\n"
          ]
        }
      ],
      "source": [
        "# Read the lines from the file\n",
        "with open('female.txt', 'r') as f:\n",
        "    lines = f.readlines()\n",
        "print(lines)"
      ]
    },
    {
      "cell_type": "code",
      "execution_count": 4,
      "metadata": {
        "colab": {
          "base_uri": "https://localhost:8080/"
        },
        "id": "4SU8fka-IgPH",
        "outputId": "2577cd7e-08ab-4014-c0ae-ac9e188b3bb0"
      },
      "outputs": [
        {
          "output_type": "stream",
          "name": "stdout",
          "text": [
            "Maximum Length : 14\n",
            "['abagael', 'abagail', 'abbe', 'abbey', 'abbi', 'abbie', 'abby', 'abigael', 'abigail', 'abigale', 'abra', 'acacia', 'ada', 'adah', 'adaline', 'adara', 'addie', 'addis', 'adel', 'adela', 'adelaide', 'adele', 'adelice', 'adelina', 'adelind', 'adeline', 'adella', 'adelle', 'adena', 'adey', 'adi', 'adiana', 'adina', 'adora', 'adore', 'adoree', 'adorne', 'adrea', 'adria', 'adriaens', 'adrian', 'adriana', 'adriane', 'adrianna', 'adrianne', 'adrien', 'adriena', 'adrienne', 'aeriel', 'aeriela', 'aeriell', 'ag', 'agace', 'agata', 'agatha', 'agathe', 'aggi', 'aggie', 'aggy', 'agna', 'agnella', 'agnes', 'agnese', 'agnesse', 'agneta', 'agnola', 'agretha', 'aida', 'aidan', 'aigneis', 'aila', 'aile', 'ailee', 'aileen', 'ailene', 'ailey', 'aili', 'ailina', 'ailyn', 'aime', 'aimee', 'aimil', 'aina', 'aindrea', 'ainslee', 'ainsley', 'ainslie', 'ajay', 'alaine', 'alameda', 'alana', 'alanah', 'alane', 'alanna', 'alayne', 'alberta', 'albertina', 'albertine', 'albina', 'alecia', 'aleda', 'aleece', 'aleecia', 'aleen', 'alejandra', 'alejandrina', 'alena', 'alene', 'alessandra', 'aleta', 'alethea', 'alex', 'alexa', 'alexandra', 'alexandrina', 'alexi', 'alexia', 'alexina', 'alexine', 'alexis', 'alfie', 'alfreda', 'ali', 'alia', 'alica', 'alice', 'alicea', 'alicia', 'alida', 'alidia', 'alina', 'aline', 'alis', 'alisa', 'alisha', 'alison', 'alissa', 'alisun', 'alix', 'aliza', 'alla', 'alleen', 'allegra', 'allene', 'alli', 'allianora', 'allie', 'allina', 'allis', 'allison', 'allissa', 'allsun', 'ally', 'allyce', 'allyn', 'allys', 'allyson', 'alma', 'almeda', 'almeria', 'almeta', 'almira', 'almire', 'aloise', 'aloisia', 'aloysia', 'alpa', 'alta', 'althea', 'alvera', 'alvina', 'alvinia', 'alvira', 'alyce', 'alyda', 'alys', 'alysa', 'alyse', 'alysia', 'alyson', 'alyss', 'alyssa', 'amabel', 'amabelle', 'amalea', 'amalee', 'amaleta', 'amalia', 'amalie', 'amalita', 'amalle', 'amanda', 'amandi', 'amandie', 'amandy', 'amara', 'amargo', 'amata', 'amber', 'amberly', 'ambrosia', 'ambur', 'ame', 'amelia', 'amelie', 'amelina', 'ameline', 'amelita', 'ami', 'amie', 'amity', 'ammamaria', 'amy', 'ana', 'anabel', 'anabella', 'anabelle', 'anais', 'analiese', 'analise', 'anallese', 'anallise', 'anastasia', 'anastasie', 'anastassia', 'anatola', 'andee', 'andi', 'andie', 'andra', 'andrea', 'andreana', 'andree', 'andrei', 'andria', 'andriana', 'andriette', 'andromache', 'andromeda', 'andy', 'anestassia', 'anet', 'anett', 'anetta', 'anette', 'ange', 'angel', 'angela', 'angele', 'angelia', 'angelica', 'angelika', 'angelina', 'angeline', 'angelique', 'angelita', 'angelle', 'angie', 'angil', 'angy', 'ania', 'anica', 'anissa', 'anita', 'anitra', 'anja', 'anjanette', 'anjela', 'ann', 'anna', 'annabal', 'annabel', 'annabela', 'annabell', 'annabella', 'annabelle', 'annadiana', 'annadiane', 'annalee', 'annalena', 'annaliese', 'annalisa', 'annalise', 'annalyse', 'annamari', 'annamaria', 'annamarie', 'anne', 'annecorinne', 'anneliese', 'annelise', 'annemarie', 'annetta', 'annette', 'anni', 'annice', 'annie', 'annissa', 'annmaria', 'annmarie', 'annnora', 'annora', 'anny', 'anselma', 'ansley', 'anstice', 'anthe', 'anthea', 'anthia', 'antoinette', 'antonella', 'antonetta', 'antonia', 'antonie', 'antonietta', 'antonina', 'anya', 'aphrodite', 'appolonia', 'april', 'aprilette', 'ara', 'arabel', 'arabela', 'arabele', 'arabella', 'arabelle', 'arda', 'ardath', 'ardeen', 'ardelia', 'ardelis', 'ardella', 'ardelle', 'arden', 'ardene', 'ardenia', 'ardine', 'ardis', 'ardith', 'ardra', 'ardyce', 'ardys', 'ardyth', 'aretha', 'ariadne', 'ariana', 'arianne', 'aridatha', 'ariel', 'ariela', 'ariella', 'arielle', 'arlana', 'arlee', 'arleen', 'arlen', 'arlena', 'arlene', 'arleta', 'arlette', 'arleyne', 'arlie', 'arliene', 'arlina', 'arlinda', 'arline', 'arly', 'arlyn', 'arlyne', 'aryn', 'ashely', 'ashlee', 'ashleigh', 'ashlen', 'ashley', 'ashli', 'ashlie', 'ashly', 'asia', 'astra', 'astrid', 'astrix', 'atalanta', 'athena', 'athene', 'atlanta', 'atlante', 'auberta', 'aubine', 'aubree', 'aubrette', 'aubrey', 'aubrie', 'aubry', 'audi', 'audie', 'audra', 'audre', 'audrey', 'audrie', 'audry', 'audrye', 'audy', 'augusta', 'auguste', 'augustina', 'augustine', 'aura', 'aurea', 'aurel', 'aurelea', 'aurelia', 'aurelie', 'auria', 'aurie', 'aurilia', 'aurlie', 'auroora', 'aurora', 'aurore', 'austin', 'austina', 'austine', 'ava', 'aveline', 'averil', 'averyl', 'avie', 'avis', 'aviva', 'avivah', 'avril', 'avrit', 'ayn', 'bab', 'babara', 'babette', 'babita', 'babs', 'bambi', 'bambie', 'bamby', 'barb', 'barbabra', 'barbara', 'barbaraanne', 'barbe', 'barbee', 'barbette', 'barbey', 'barbi', 'barbie', 'barbra', 'barby', 'bari', 'barrie', 'barry', 'basia', 'bathsheba', 'batsheva', 'bea', 'beatrice', 'beatrisa', 'beatrix', 'beatriz', 'beau', 'bebe', 'becca', 'becka', 'becki', 'beckie', 'becky', 'bee', 'beilul', 'beitris', 'bekki', 'bel', 'belia', 'belicia', 'belinda', 'belita', 'bell', 'bella', 'bellamy', 'bellanca', 'belle', 'bellina', 'belva', 'belvia', 'bendite', 'benedetta', 'benedicta', 'benedikta', 'benetta', 'benita', 'benni', 'bennie', 'benny', 'benoite', 'berenice', 'beret', 'berget', 'berna', 'bernadene', 'bernadette', 'bernadina', 'bernadine', 'bernardina', 'bernardine', 'bernelle', 'bernete', 'bernetta', 'bernette', 'berni', 'bernice', 'bernie', 'bernita', 'berny', 'berri', 'berrie', 'berry', 'bert', 'berta', 'berte', 'bertha', 'berthe', 'berti', 'bertie', 'bertina', 'bertine', 'berty', 'beryl', 'beryle', 'bess', 'bessie', 'bessy', 'beth', 'bethanne', 'bethany', 'bethena', 'bethina', 'betsey', 'betsy', 'betta', 'bette', 'betteann', 'betteanne', 'betti', 'bettie', 'bettina', 'bettine', 'betty', 'bettye', 'beulah', 'bev', 'beverie', 'beverlee', 'beverlie', 'beverly', 'bevvy', 'bianca', 'bianka', 'biddy', 'bidget', 'bill', 'billi', 'billie', 'billy', 'binni', 'binnie', 'binny', 'bird', 'birdie', 'birgit', 'birgitta', 'blair', 'blaire', 'blake', 'blakelee', 'blakeley', 'blanca', 'blanch', 'blancha', 'blanche', 'blinni', 'blinnie', 'blinny', 'bliss', 'blisse', 'blithe', 'blondell', 'blondelle', 'blondie', 'blondy', 'blythe', 'bo', 'bobbette', 'bobbi', 'bobbie', 'bobby', 'bobette', 'bobina', 'bobine', 'bobinette', 'bonita', 'bonnee', 'bonni', 'bonnie', 'bonny', 'brana', 'brandais', 'brande', 'brandea', 'brandi', 'brandice', 'brandie', 'brandise', 'brandy', 'brea', 'breanne', 'brear', 'bree', 'breena', 'bren', 'brena', 'brenda', 'brenn', 'brenna', 'brett', 'bria', 'briana', 'brianna', 'brianne', 'bride', 'bridget', 'bridgett', 'bridgette', 'bridie', 'brier', 'brietta', 'brigid', 'brigida', 'brigit', 'brigitta', 'brigitte', 'brina', 'briney', 'briny', 'brit', 'brita', 'britaney', 'britani', 'briteny', 'britney', 'britni', 'britt', 'britta', 'brittan', 'brittany', 'britte', 'brittney', 'brook', 'brooke', 'brooks', 'brunella', 'brunhilda', 'brunhilde', 'bryana', 'bryn', 'bryna', 'brynn', 'brynna', 'brynne', 'buffy', 'bunni', 'bunnie', 'bunny', 'burta', 'cabrina', 'cacilia', 'cacilie', 'caitlin', 'caitrin', 'cal', 'calida', 'calla', 'calley', 'calli', 'callida', 'callie', 'cally', 'calypso', 'cam', 'camala', 'camel', 'camella', 'camellia', 'cameo', 'cami', 'camila', 'camile', 'camilla', 'camille', 'cammi', 'cammie', 'cammy', 'canada', 'candace', 'candi', 'candice', 'candida', 'candide', 'candie', 'candis', 'candra', 'candy', 'cappella', 'caprice', 'cara', 'caralie', 'caren', 'carena', 'caresa', 'caressa', 'caresse', 'carey', 'cari', 'caria', 'carie', 'caril', 'carilyn', 'carin', 'carina', 'carine', 'cariotta', 'carissa', 'carita', 'caritta', 'carla', 'carlee', 'carleen', 'carlen', 'carlena', 'carlene', 'carley', 'carli', 'carlie', 'carlin', 'carlina', 'carline', 'carlisle', 'carlita', 'carlota', 'carlotta', 'carly', 'carlye', 'carlyn', 'carlynn', 'carlynne', 'carma', 'carmel', 'carmela', 'carmelia', 'carmelina', 'carmelita', 'carmella', 'carmelle', 'carmen', 'carmina', 'carmine', 'carmita', 'carmon', 'caro', 'carol', 'carola', 'carolan', 'carolann', 'carole', 'carolee', 'caroleen', 'carolie', 'carolin', 'carolina', 'caroline', 'caroljean', 'carolyn', 'carolyne', 'carolynn', 'caron', 'carree', 'carri', 'carrie', 'carrissa', 'carrol', 'carroll', 'carry', 'cary', 'caryl', 'caryn', 'casandra', 'casey', 'casi', 'casia', 'casie', 'cass', 'cassandra', 'cassandre', 'cassandry', 'cassaundra', 'cassey', 'cassi', 'cassie', 'cassondra', 'cassy', 'cat', 'catarina', 'cate', 'caterina', 'catha', 'catharina', 'catharine', 'cathe', 'cathee', 'catherin', 'catherina', 'catherine', 'cathi', 'cathie', 'cathleen', 'cathlene', 'cathrin', 'cathrine', 'cathryn', 'cathy', 'cathyleen', 'cati', 'catie', 'catina', 'catlaina', 'catlee', 'catlin', 'catrina', 'catriona', 'caty', 'cayla', 'cecelia', 'cecil', 'cecile', 'ceciley', 'cecilia', 'cecilla', 'cecily', 'ceil', 'cele', 'celene', 'celesta', 'celeste', 'celestia', 'celestina', 'celestine', 'celestyn', 'celestyna', 'celia', 'celie', 'celina', 'celinda', 'celine', 'celinka', 'celisse', 'celle', 'cesya', 'chad', 'chanda', 'chandal', 'chandra', 'channa', 'chantal', 'chantalle', 'charil', 'charin', 'charis', 'charissa', 'charisse', 'charita', 'charity', 'charla', 'charlean', 'charleen', 'charlena', 'charlene', 'charline', 'charlot', 'charlott', 'charlotta', 'charlotte', 'charmain', 'charmaine', 'charmane', 'charmian', 'charmine', 'charmion', 'charo', 'charyl', 'chastity', 'chelsae', 'chelsea', 'chelsey', 'chelsie', 'chelsy', 'cher', 'chere', 'cherey', 'cheri', 'cherianne', 'cherice', 'cherida', 'cherie', 'cherilyn', 'cherilynn', 'cherin', 'cherise', 'cherish', 'cherlyn', 'cherri', 'cherrita', 'cherry', 'chery', 'cherye', 'cheryl', 'cheslie', 'chiarra', 'chickie', 'chicky', 'chiquita', 'chloe', 'chloette', 'chloris', 'chris', 'chriss', 'chrissa', 'chrissie', 'chrissy', 'christa', 'christabel', 'christabella', 'christabelle', 'christal', 'christalle', 'christan', 'christean', 'christel', 'christen', 'christi', 'christian', 'christiana', 'christiane', 'christie', 'christin', 'christina', 'christine', 'christy', 'christyna', 'chrysa', 'chrysler', 'chrystal', 'chryste', 'chrystel', 'ciara', 'cicely', 'cicily', 'ciel', 'cilka', 'cinda', 'cindee', 'cindelyn', 'cinderella', 'cindi', 'cindie', 'cindra', 'cindy', 'cinnamon', 'cissie', 'cissy', 'clair', 'claire', 'clara', 'clarabelle', 'clare', 'claresta', 'clareta', 'claretta', 'clarette', 'clarey', 'clari', 'claribel', 'clarice', 'clarie', 'clarinda', 'clarine', 'clarisa', 'clarissa', 'clarisse', 'clarita', 'clary', 'claude', 'claudelle', 'claudetta', 'claudette', 'claudia', 'claudie', 'claudina', 'claudine', 'clea', 'clem', 'clemence', 'clementia', 'clementina', 'clementine', 'clemmie', 'clemmy', 'cleo', 'cleopatra', 'clerissa', 'cleva', 'clio', 'clo', 'cloe', 'cloris', 'clotilda', 'clovis', 'codee', 'codi', 'codie', 'cody', 'coleen', 'colene', 'coletta', 'colette', 'colleen', 'collete', 'collette', 'collie', 'colline', 'colly', 'con', 'concettina', 'conchita', 'concordia', 'conney', 'conni', 'connie', 'conny', 'consolata', 'constance', 'constancia', 'constancy', 'constanta', 'constantia', 'constantina', 'constantine', 'consuela', 'consuelo', 'cookie', 'cora', 'corabel', 'corabella', 'corabelle', 'coral', 'coralie', 'coraline', 'coralyn', 'cordelia', 'cordelie', 'cordey', 'cordie', 'cordula', 'cordy', 'coreen', 'corella', 'corena', 'corenda', 'corene', 'coretta', 'corette', 'corey', 'cori', 'corie', 'corilla', 'corina', 'corine', 'corinna', 'corinne', 'coriss', 'corissa', 'corliss', 'corly', 'cornela', 'cornelia', 'cornelle', 'cornie', 'corny', 'correna', 'correy', 'corri', 'corrianne', 'corrie', 'corrina', 'corrine', 'corrinne', 'corry', 'cortney', 'cory', 'cosetta', 'cosette', 'courtenay', 'courtney', 'cresa', 'cris', 'crissie', 'crissy', 'crista', 'cristabel', 'cristal', 'cristen', 'cristi', 'cristie', 'cristin', 'cristina', 'cristine', 'cristionna', 'cristy', 'crysta', 'crystal', 'crystie', 'cyb', 'cybal', 'cybel', 'cybelle', 'cybil', 'cybill', 'cyndi', 'cyndy', 'cynthea', 'cynthia', 'cynthie', 'cynthy', 'dacey', 'dacia', 'dacie', 'dacy', 'dael', 'daffi', 'daffie', 'daffy', 'dafna', 'dagmar', 'dahlia', 'daile', 'daisey', 'daisi', 'daisie', 'daisy', 'dale', 'dalenna', 'dalia', 'dalila', 'dallas', 'daloris', 'damara', 'damaris', 'damita', 'dana', 'danell', 'danella', 'danelle', 'danette', 'dani', 'dania', 'danica', 'danice', 'daniel', 'daniela', 'daniele', 'daniella', 'danielle', 'danika', 'danila', 'danit', 'danita', 'danna', 'danni', 'dannie', 'danny', 'dannye', 'danya', 'danyelle', 'danyette', 'daphene', 'daphna', 'daphne', 'dara', 'darb', 'darbie', 'darby', 'darcee', 'darcey', 'darci', 'darcie', 'darcy', 'darda', 'dareen', 'darell', 'darelle', 'dari', 'daria', 'darice', 'darla', 'darleen', 'darlene', 'darline', 'darryl', 'darsey', 'darsie', 'darya', 'daryl', 'daryn', 'dasha', 'dasi', 'dasie', 'dasya', 'datha', 'daune', 'daveen', 'daveta', 'davida', 'davina', 'davine', 'davita', 'dawn', 'dawna', 'dayle', 'dayna', 'dea', 'deana', 'deane', 'deanna', 'deanne', 'deb', 'debbi', 'debbie', 'debbra', 'debby', 'debee', 'debera', 'debi', 'debor', 'debora', 'deborah', 'debra', 'dede', 'dedie', 'dedra', 'dee', 'deeann', 'deeanne', 'deedee', 'deena', 'deerdre', 'dehlia', 'deidre', 'deina', 'deirdre', 'del', 'dela', 'delaney', 'delcina', 'delcine', 'delia', 'delila', 'delilah', 'delinda', 'dell', 'della', 'delly', 'delora', 'delores', 'deloria', 'deloris', 'delphina', 'delphine', 'delphinia', 'demeter', 'demetra', 'demetria', 'demetris', 'dena', 'deni', 'denice', 'denise', 'denna', 'denni', 'dennie', 'denny', 'deny', 'denys', 'denyse', 'deonne', 'desaree', 'desdemona', 'desirae', 'desiree', 'desiri', 'deva', 'devan', 'devi', 'devin', 'devina', 'devinne', 'devon', 'devondra', 'devonna', 'devonne', 'devora', 'dew', 'di', 'diahann', 'diamond', 'dian', 'diana', 'diandra', 'diane', 'dianemarie', 'diann', 'dianna', 'dianne', 'diannne', 'didi', 'dido', 'diena', 'dierdre', 'dina', 'dinah', 'dinnie', 'dinny', 'dion', 'dione', 'dionis', 'dionne', 'dita', 'dix', 'dixie', 'dode', 'dodi', 'dodie', 'dody', 'doe', 'doll', 'dolley', 'dolli', 'dollie', 'dolly', 'dolora', 'dolores', 'dolorita', 'doloritas', 'dominica', 'dominique', 'dona', 'donella', 'donelle', 'donetta', 'donia', 'donica', 'donielle', 'donna', 'donnajean', 'donnamarie', 'donni', 'donnie', 'donny', 'dora', 'doralia', 'doralin', 'doralyn', 'doralynn', 'doralynne', 'dorcas', 'dore', 'doreen', 'dorelia', 'dorella', 'dorelle', 'dorena', 'dorene', 'doretta', 'dorette', 'dorey', 'dori', 'doria', 'dorian', 'dorice', 'dorie', 'dorine', 'doris', 'dorisa', 'dorise', 'dorit', 'dorita', 'doro', 'dorolice', 'dorolisa', 'dorotea', 'doroteya', 'dorothea', 'dorothee', 'dorothy', 'dorree', 'dorri', 'dorrie', 'dorris', 'dorry', 'dorthea', 'dorthy', 'dory', 'dosi', 'dot', 'doti', 'dotti', 'dottie', 'dotty', 'dove', 'drea', 'drew', 'dulce', 'dulcea', 'dulci', 'dulcia', 'dulciana', 'dulcie', 'dulcine', 'dulcinea', 'dulcy', 'dulsea', 'dusty', 'dyan', 'dyana', 'dyane', 'dyann', 'dyanna', 'dyanne', 'dyna', 'dynah', 'eada', 'eadie', 'eadith', 'ealasaid', 'eartha', 'easter', 'eba', 'ebba', 'ebonee', 'ebony', 'eda', 'eddi', 'eddie', 'eddy', 'ede', 'edee', 'edeline', 'eden', 'edi', 'edie', 'edin', 'edita', 'edith', 'editha', 'edithe', 'ediva', 'edna', 'edwina', 'edy', 'edyth', 'edythe', 'effie', 'eileen', 'eilis', 'eimile', 'eirena', 'ekaterina', 'elaina', 'elaine', 'elana', 'elane', 'elayne', 'elberta', 'elbertina', 'elbertine', 'eleanor', 'eleanora', 'eleanore', 'electra', 'elena', 'elene', 'eleni', 'elenore', 'eleonora', 'eleonore', 'elfie', 'elfreda', 'elfrida', 'elfrieda', 'elga', 'elianora', 'elianore', 'elicia', 'elie', 'elinor', 'elinore', 'elisa', 'elisabet', 'elisabeth', 'elisabetta', 'elise', 'elisha', 'elissa', 'elita', 'eliza', 'elizabet', 'elizabeth', 'elka', 'elke', 'ella', 'elladine', 'elle', 'ellen', 'ellene', 'ellette', 'elli', 'ellie', 'ellissa', 'elly', 'ellyn', 'ellynn', 'elmira', 'elna', 'elnora', 'elnore', 'eloisa', 'eloise', 'elonore', 'elora', 'elsa', 'elsbeth', 'else', 'elsey', 'elsi', 'elsie', 'elsinore', 'elspeth', 'elsy', 'elva', 'elvera', 'elvina', 'elvira', 'elwina', 'elwira', 'elyn', 'elyse', 'elysee', 'elysha', 'elysia', 'elyssa', 'em', 'ema', 'emalee', 'emalia', 'emanuela', 'emelda', 'emelia', 'emelina', 'emeline', 'emelita', 'emelyne', 'emera', 'emilee', 'emili', 'emilia', 'emilie', 'emiline', 'emily', 'emlyn', 'emlynn', 'emlynne', 'emma', 'emmalee', 'emmaline', 'emmalyn', 'emmalynn', 'emmalynne', 'emmeline', 'emmey', 'emmi', 'emmie', 'emmy', 'emmye', 'emogene', 'emyle', 'emylee', 'endora', 'engracia', 'enid', 'enrica', 'enrichetta', 'enrika', 'enriqueta', 'enya', 'eolanda', 'eolande', 'eran', 'erda', 'erena', 'erica', 'ericha', 'ericka', 'erika', 'erin', 'erina', 'erinn', 'erinna', 'erma', 'ermengarde', 'ermentrude', 'ermina', 'erminia', 'erminie', 'erna', 'ernaline', 'ernesta', 'ernestine', 'ertha', 'eryn', 'esma', 'esmaria', 'esme', 'esmeralda', 'esmerelda', 'essa', 'essie', 'essy', 'esta', 'estel', 'estele', 'estell', 'estella', 'estelle', 'ester', 'esther', 'estrella', 'estrellita', 'ethel', 'ethelda', 'ethelin', 'ethelind', 'etheline', 'ethelyn', 'ethyl', 'etta', 'etti', 'ettie', 'etty', 'eudora', 'eugenia', 'eugenie', 'eugine', 'eula', 'eulalie', 'eunice', 'euphemia', 'eustacia', 'eva', 'evaleen', 'evangelia', 'evangelin', 'evangelina', 'evangeline', 'evania', 'evanne', 'eve', 'eveleen', 'evelina', 'eveline', 'evelyn', 'evette', 'evey', 'evie', 'evita', 'evonne', 'evvie', 'evvy', 'evy', 'eyde', 'eydie', 'fabrianne', 'fabrice', 'fae', 'faina', 'faith', 'fallon', 'fan', 'fanchette', 'fanchon', 'fancie', 'fancy', 'fanechka', 'fania', 'fanni', 'fannie', 'fanny', 'fanya', 'fara', 'farah', 'farand', 'farica', 'farra', 'farrah', 'farrand', 'fatima', 'faun', 'faunie', 'faustina', 'faustine', 'fawn', 'fawna', 'fawne', 'fawnia', 'fay', 'faydra', 'faye', 'fayette', 'fayina', 'fayre', 'fayth', 'faythe', 'federica', 'fedora', 'felecia', 'felicdad', 'felice', 'felicia', 'felicity', 'felicle', 'felipa', 'felisha', 'felita', 'feliza', 'fenelia', 'feodora', 'ferdinanda', 'ferdinande', 'fern', 'fernanda', 'fernande', 'fernandina', 'ferne', 'fey', 'fiann', 'fianna', 'fidela', 'fidelia', 'fidelity', 'fifi', 'fifine', 'filia', 'filide', 'filippa', 'fina', 'fiona', 'fionna', 'fionnula', 'fiorenze', 'fleur', 'fleurette', 'flo', 'flor', 'flora', 'florance', 'flore', 'florella', 'florence', 'florencia', 'florentia', 'florenza', 'florette', 'flori', 'floria', 'florice', 'florida', 'florie', 'florina', 'florinda', 'floris', 'florri', 'florrie', 'florry', 'flory', 'flossi', 'flossie', 'flossy', 'flower', 'fortuna', 'fortune', 'fran', 'france', 'francene', 'frances', 'francesca', 'francesmary', 'francine', 'francis', 'francisca', 'franciska', 'francoise', 'francyne', 'frank', 'frankie', 'franky', 'franni', 'frannie', 'franny', 'frayda', 'fred', 'freda', 'freddi', 'freddie', 'freddy', 'fredelia', 'frederica', 'fredericka', 'fredi', 'fredia', 'fredra', 'fredrika', 'freida', 'frieda', 'friederike', 'fulvia', 'gabbey', 'gabbi', 'gabbie', 'gabey', 'gabi', 'gabie', 'gabriel', 'gabriela', 'gabriell', 'gabriella', 'gabrielle', 'gabriellia', 'gabrila', 'gaby', 'gae', 'gael', 'gail', 'gale', 'galina', 'garland', 'garnet', 'garnette', 'gates', 'gavra', 'gavrielle', 'gay', 'gayla', 'gayle', 'gayleen', 'gaylene', 'gaynor', 'gelya', 'gen', 'gena', 'gene', 'geneva', 'genevieve', 'genevra', 'genia', 'genna', 'genni', 'gennie', 'gennifer', 'genny', 'genovera', 'genvieve', 'george', 'georgeanna', 'georgeanne', 'georgena', 'georgeta', 'georgetta', 'georgette', 'georgia', 'georgiamay', 'georgiana', 'georgianna', 'georgianne', 'georgie', 'georgina', 'georgine', 'gera', 'geralda', 'geraldina', 'geraldine', 'gerda', 'gerhardine', 'geri', 'gerianna', 'gerianne', 'gerladina', 'germain', 'germaine', 'germana', 'gerri', 'gerrie', 'gerrilee', 'gerry', 'gert', 'gerta', 'gerti', 'gertie', 'gertrud', 'gertruda', 'gertrude', 'gertrudis', 'gerty', 'giacinta', 'giana', 'gianina', 'gianna', 'gigi', 'gilberta', 'gilberte', 'gilbertina', 'gilbertine', 'gilda', 'gill', 'gillan', 'gilli', 'gillian', 'gillie', 'gilligan', 'gilly', 'gina', 'ginelle', 'ginevra', 'ginger', 'ginni', 'ginnie', 'ginnifer', 'ginny', 'giorgia', 'giovanna', 'gipsy', 'giralda', 'gisela', 'gisele', 'gisella', 'giselle', 'gizela', 'glad', 'gladi', 'gladis', 'gladys', 'gleda', 'glen', 'glenda', 'glenine', 'glenn', 'glenna', 'glennie', 'glennis', 'glori', 'gloria', 'gloriana', 'gloriane', 'glorianna', 'glory', 'glyn', 'glynda', 'glynis', 'glynnis', 'godiva', 'golda', 'goldarina', 'goldi', 'goldia', 'goldie', 'goldina', 'goldy', 'grace', 'gracia', 'gracie', 'grata', 'gratia', 'gratiana', 'gray', 'grayce', 'grazia', 'gredel', 'greer', 'greta', 'gretal', 'gretchen', 'grete', 'gretel', 'grethel', 'gretna', 'gretta', 'grier', 'griselda', 'grissel', 'guendolen', 'guenevere', 'guenna', 'guglielma', 'gui', 'guillema', 'guillemette', 'guinevere', 'guinna', 'gunilla', 'gunvor', 'gus', 'gusella', 'gussi', 'gussie', 'gussy', 'gusta', 'gusti', 'gustie', 'gusty', 'gwen', 'gwendolen', 'gwendolin', 'gwendolyn', 'gweneth', 'gwenette', 'gwenn', 'gwenneth', 'gwenni', 'gwennie', 'gwenny', 'gwenora', 'gwenore', 'gwyn', 'gwyneth', 'gwynne', 'gypsy', 'hadria', 'hailee', 'haily', 'haleigh', 'halette', 'haley', 'hali', 'halie', 'halimeda', 'halley', 'halli', 'hallie', 'hally', 'hana', 'hanna', 'hannah', 'hanni', 'hannibal', 'hannie', 'hannis', 'hanny', 'happy', 'harlene', 'harley', 'harli', 'harlie', 'harmonia', 'harmonie', 'harmony', 'harri', 'harrie', 'harriet', 'harriett', 'harrietta', 'harriette', 'harriot', 'harriott', 'hatti', 'hattie', 'hatty', 'havivah', 'hayley', 'hazel', 'heath', 'heather', 'heda', 'hedda', 'heddi', 'heddie', 'hedi', 'hedvig', 'hedwig', 'hedy', 'heida', 'heide', 'heidi', 'heidie', 'helaina', 'helaine', 'helen', 'helena', 'helene', 'helga', 'helge', 'helise', 'hellene', 'helli', 'heloise', 'helsa', 'helyn', 'hendrika', 'henka', 'henrie', 'henrieta', 'henrietta', 'henriette', 'henryetta', 'hephzibah', 'hermia', 'hermina', 'hermine', 'herminia', 'hermione', 'herta', 'hertha', 'hester', 'hesther', 'hestia', 'hetti', 'hettie', 'hetty', 'hilarie', 'hilary', 'hilda', 'hildagard', 'hildagarde', 'hilde', 'hildegaard', 'hildegarde', 'hildy', 'hillary', 'hilliary', 'hinda', 'holley', 'holli', 'hollie', 'holly', 'hollyanne', 'honey', 'honor', 'honoria', 'hope', 'horatia', 'hortense', 'hortensia', 'hulda', 'hyacinth', 'hyacintha', 'hyacinthe', 'hyacinthia', 'hyacinthie', 'hynda', 'ianthe', 'ibbie', 'ibby', 'ida', 'idalia', 'idalina', 'idaline', 'idell', 'idelle', 'idette', 'ike', 'ikey', 'ilana', 'ileana', 'ileane', 'ilene', 'ilise', 'ilka', 'illa', 'ilona', 'ilsa', 'ilse', 'ilysa', 'ilyse', 'ilyssa', 'imelda', 'imogen', 'imogene', 'imojean', 'ina', 'inci', 'indira', 'ines', 'inesita', 'inessa', 'inez', 'inga', 'ingaberg', 'ingaborg', 'inge', 'ingeberg', 'ingeborg', 'inger', 'ingrid', 'ingunna', 'inna', 'ioana', 'iolande', 'iolanthe', 'iona', 'iormina', 'ira', 'irena', 'irene', 'irina', 'iris', 'irita', 'irma', 'isa', 'isabeau', 'isabel', 'isabelita', 'isabella', 'isabelle', 'isador', 'isadora', 'isadore', 'isahella', 'iseabal', 'isidora', 'isis', 'isobel', 'issi', 'issie', 'issy', 'ivett', 'ivette', 'ivie', 'ivonne', 'ivory', 'ivy', 'izabel', 'izzi', 'jacenta', 'jacinda', 'jacinta', 'jacintha', 'jacinthe', 'jackelyn', 'jacki', 'jackie', 'jacklin', 'jacklyn', 'jackquelin', 'jackqueline', 'jacky', 'jaclin', 'jaclyn', 'jacquelin', 'jacqueline', 'jacquelyn', 'jacquelynn', 'jacquenetta', 'jacquenette', 'jacquetta', 'jacquette', 'jacqui', 'jacquie', 'jacynth', 'jada', 'jade', 'jaime', 'jaimie', 'jaine', 'jaleh', 'jami', 'jamie', 'jamima', 'jammie', 'jan', 'jana', 'janaya', 'janaye', 'jandy', 'jane', 'janean', 'janeczka', 'janeen', 'janel', 'janela', 'janella', 'janelle', 'janene', 'janenna', 'janessa', 'janet', 'janeta', 'janetta', 'janette', 'janeva', 'janey', 'jania', 'janice', 'janie', 'janifer', 'janina', 'janine', 'janis', 'janith', 'janka', 'janna', 'jannel', 'jannelle', 'janot', 'jany', 'jaquelin', 'jaquelyn', 'jaquenetta', 'jaquenette', 'jaquith', 'jasmin', 'jasmina', 'jasmine', 'jayme', 'jaymee', 'jayne', 'jaynell', 'jazmin', 'jean', 'jeana', 'jeane', 'jeanelle', 'jeanette', 'jeanie', 'jeanine', 'jeanna', 'jeanne', 'jeannette', 'jeannie', 'jeannine', 'jehanna', 'jelene', 'jemie', 'jemima', 'jemimah', 'jemmie', 'jemmy', 'jen', 'jena', 'jenda', 'jenelle', 'jenette', 'jeni', 'jenica', 'jeniece', 'jenifer', 'jeniffer', 'jenilee', 'jenine', 'jenn', 'jenna', 'jennee', 'jennette', 'jenni', 'jennica', 'jennie', 'jennifer', 'jennilee', 'jennine', 'jenny', 'jeraldine', 'jeralee', 'jere', 'jeri', 'jermaine', 'jerrie', 'jerrilee', 'jerrilyn', 'jerrine', 'jerry', 'jerrylee', 'jess', 'jessa', 'jessalin', 'jessalyn', 'jessamine', 'jessamyn', 'jesse', 'jesselyn', 'jessi', 'jessica', 'jessie', 'jessika', 'jessy', 'jewel', 'jewell', 'jewelle', 'jill', 'jillana', 'jillane', 'jillayne', 'jilleen', 'jillene', 'jilli', 'jillian', 'jillie', 'jilly', 'jinny', 'jo', 'joann', 'joanne', 'joan', 'joana', 'joane', 'joanie', 'joann', 'joanna', 'joanne', 'joannes', 'jobey', 'jobi', 'jobie', 'jobina', 'joby', 'jobye', 'jobyna', 'jocelin', 'joceline', 'jocelyn', 'jocelyne', 'jodee', 'jodi', 'jodie', 'jody', 'joela', 'joelie', 'joell', 'joella', 'joelle', 'joellen', 'joelly', 'joellyn', 'joelynn', 'joete', 'joey', 'johanna', 'johannah', 'johnette', 'johnna', 'joice', 'jojo', 'jolee', 'joleen', 'jolene', 'joletta', 'joli', 'jolie', 'joline', 'joly', 'jolyn', 'jolynn', 'jonell', 'joni', 'jonie', 'jonis', 'jordain', 'jordan', 'jordana', 'jordanna', 'jorey', 'jori', 'jorie', 'jorrie', 'jorry', 'joscelin', 'josee', 'josefa', 'josefina', 'joselyn', 'josepha', 'josephina', 'josephine', 'josey', 'josi', 'josie', 'joslyn', 'josselyn', 'josy', 'jourdan', 'joy', 'joya', 'joyan', 'joyann', 'joyce', 'joycelin', 'joye', 'joyous', 'juana', 'juanita', 'jude', 'judi', 'judie', 'judith', 'juditha', 'judy', 'judye', 'julee', 'juli', 'julia', 'juliana', 'juliane', 'juliann', 'julianna', 'julianne', 'julie', 'julienne', 'juliet', 'julieta', 'julietta', 'juliette', 'julina', 'juline', 'julissa', 'julita', 'june', 'junette', 'junia', 'junie', 'junina', 'justin', 'justina', 'justine', 'jyoti', 'kacey', 'kacie', 'kacy', 'kai', 'kaia', 'kaila', 'kaile', 'kailey', 'kaitlin', 'kaitlyn', 'kaitlynn', 'kaja', 'kakalina', 'kala', 'kaleena', 'kali', 'kalie', 'kalila', 'kalina', 'kalinda', 'kalindi', 'kalli', 'kally', 'kameko', 'kamila', 'kamilah', 'kamillah', 'kandace', 'kandy', 'kania', 'kanya', 'kara', 'karalee', 'karalynn', 'kare', 'karee', 'karel', 'karen', 'karena', 'kari', 'karia', 'karie', 'karil', 'karilynn', 'karin', 'karina', 'karine', 'kariotta', 'karisa', 'karissa', 'karita', 'karla', 'karlee', 'karleen', 'karlen', 'karlene', 'karlie', 'karlotta', 'karlotte', 'karly', 'karlyn', 'karmen', 'karna', 'karol', 'karola', 'karole', 'karolina', 'karoline', 'karoly', 'karon', 'karrah', 'karrie', 'karry', 'kary', 'karyl', 'karylin', 'karyn', 'kasey', 'kass', 'kassandra', 'kassey', 'kassi', 'kassia', 'kassie', 'kaster', 'kat', 'kata', 'katalin', 'kate', 'katee', 'katerina', 'katerine', 'katey', 'kath', 'katha', 'katharina', 'katharine', 'katharyn', 'kathe', 'katheleen', 'katherina', 'katherine', 'katheryn', 'kathi', 'kathie', 'kathleen', 'kathlene', 'kathlin', 'kathrine', 'kathryn', 'kathryne', 'kathy', 'kathye', 'kati', 'katie', 'katina', 'katine', 'katinka', 'katleen', 'katlin', 'katrina', 'katrine', 'katrinka', 'katti', 'kattie', 'katuscha', 'katusha', 'katy', 'katya', 'kay', 'kaycee', 'kaye', 'kayla', 'kayle', 'kaylee', 'kayley', 'kaylil', 'kaylyn', 'kee', 'keeley', 'keelia', 'keely', 'kelcey', 'kelci', 'kelcie', 'kelcy', 'kelila', 'kellen', 'kelley', 'kelli', 'kellia', 'kellie', 'kellina', 'kellsie', 'kelly', 'kellyann', 'kelsey', 'kelsi', 'kelsy', 'kendra', 'kendre', 'kenna', 'keren', 'keri', 'keriann', 'kerianne', 'kerri', 'kerrie', 'kerrill', 'kerrin', 'kerry', 'kerstin', 'kesley', 'keslie', 'kessia', 'kessiah', 'ketti', 'kettie', 'ketty', 'kevina', 'kevyn', 'ki', 'kia', 'kiah', 'kial', 'kiele', 'kiersten', 'kikelia', 'kiley', 'kim', 'kimberlee', 'kimberley', 'kimberli', 'kimberly', 'kimberlyn', 'kimbra', 'kimmi', 'kimmie', 'kimmy', 'kinna', 'kip', 'kipp', 'kippie', 'kippy', 'kira', 'kirbee', 'kirbie', 'kirby', 'kiri', 'kirsten', 'kirsteni', 'kirsti', 'kirstie', 'kirstin', 'kirstyn', 'kissee', 'kissiah', 'kissie', 'kit', 'kitti', 'kittie', 'kitty', 'kizzee', 'kizzie', 'klara', 'klarika', 'klarrisa', 'konstance', 'konstanze', 'koo', 'kora', 'koral', 'koralle', 'kordula', 'kore', 'korella', 'koren', 'koressa', 'kori', 'korie', 'korney', 'korrie', 'korry', 'kourtney', 'kris', 'krissie', 'krissy', 'krista', 'kristal', 'kristan', 'kriste', 'kristel', 'kristen', 'kristi', 'kristien', 'kristin', 'kristina', 'kristine', 'kristy', 'kristyn', 'krysta', 'krystal', 'krystalle', 'krystle', 'krystyna', 'kyla', 'kyle', 'kylen', 'kylie', 'kylila', 'kylynn', 'kym', 'kynthia', 'kyrstin', 'la', 'lacee', 'lacey', 'lacie', 'lacy', 'ladonna', 'laetitia', 'laila', 'laina', 'lainey', 'lamb', 'lana', 'lane', 'lanette', 'laney', 'lani', 'lanie', 'lanita', 'lanna', 'lanni', 'lanny', 'lara', 'laraine', 'lari', 'larina', 'larine', 'larisa', 'larissa', 'lark', 'laryssa', 'latashia', 'latia', 'latisha', 'latrena', 'latrina', 'laura', 'lauraine', 'laural', 'lauralee', 'laure', 'lauree', 'laureen', 'laurel', 'laurella', 'lauren', 'laurena', 'laurene', 'lauretta', 'laurette', 'lauri', 'laurianne', 'laurice', 'laurie', 'lauryn', 'lavena', 'laverna', 'laverne', 'lavina', 'lavinia', 'lavinie', 'layla', 'layne', 'layney', 'lea', 'leah', 'leandra', 'leann', 'leanna', 'leanne', 'leanor', 'leanora', 'lebbie', 'leda', 'lee', 'leeann', 'leeann', 'leeanne', 'leela', 'leelah', 'leena', 'leesa', 'leese', 'legra', 'leia', 'leiah', 'leigh', 'leigha', 'leila', 'leilah', 'leisha', 'lela', 'lelah', 'leland', 'lelia', 'lena', 'lenee', 'lenette', 'lenka', 'lenna', 'lenora', 'lenore', 'leodora', 'leoine', 'leola', 'leoline', 'leona', 'leonanie', 'leone', 'leonelle', 'leonie', 'leonora', 'leonore', 'leontine', 'leontyne', 'leora', 'leorah', 'leshia', 'lesley', 'lesli', 'leslie', 'lesly', 'lesya', 'leta', 'lethia', 'leticia', 'letisha', 'letitia', 'letta', 'letti', 'lettie', 'letty', 'leyla', 'lezlie', 'lia', 'lian', 'liana', 'liane', 'lianna', 'lianne', 'lib', 'libbey', 'libbi', 'libbie', 'libby', 'licha', 'lida', 'lidia', 'lil', 'lila', 'lilah', 'lilas', 'lilia', 'lilian', 'liliane', 'lilias', 'lilith', 'lilla', 'lilli', 'lillian', 'lillis', 'lilllie', 'lilly', 'lily', 'lilyan', 'lin', 'lina', 'lind', 'linda', 'lindi', 'lindie', 'lindsay', 'lindsey', 'lindsy', 'lindy', 'linea', 'linell', 'linet', 'linette', 'linn', 'linnea', 'linnell', 'linnet', 'linnie', 'linzy', 'liora', 'liorah', 'lira', 'lisa', 'lisabeth', 'lisandra', 'lisbeth', 'lise', 'lisetta', 'lisette', 'lisha', 'lishe', 'lissa', 'lissi', 'lissie', 'lissy', 'lita', 'liuka', 'livia', 'liz', 'liza', 'lizabeth', 'lizbeth', 'lizette', 'lizzie', 'lizzy', 'loella', 'lois', 'loise', 'lola', 'lolande', 'loleta', 'lolita', 'lolly', 'lona', 'lonee', 'loni', 'lonna', 'lonni', 'lonnie', 'lora', 'lorain', 'loraine', 'loralee', 'loralie', 'loralyn', 'loree', 'loreen', 'lorelei', 'lorelle', 'loren', 'lorena', 'lorene', 'lorenza', 'loretta', 'lorettalorna', 'lorette', 'lori', 'loria', 'lorianna', 'lorianne', 'lorie', 'lorilee', 'lorilyn', 'lorinda', 'lorine', 'lorita', 'lorna', 'lorne', 'lorraine', 'lorrayne', 'lorri', 'lorrie', 'lorrin', 'lorry', 'lory', 'lotta', 'lotte', 'lotti', 'lottie', 'lotty', 'lou', 'louella', 'louisa', 'louise', 'louisette', 'love', 'luana', 'luanna', 'luce', 'luci', 'lucia', 'luciana', 'lucie', 'lucienne', 'lucila', 'lucilia', 'lucille', 'lucina', 'lucinda', 'lucine', 'lucita', 'lucky', 'lucretia', 'lucy', 'luella', 'luelle', 'luisa', 'luise', 'lula', 'lulita', 'lulu', 'luna', 'lura', 'lurette', 'lurleen', 'lurlene', 'lurline', 'lusa', 'lust', 'lyda', 'lydia', 'lydie', 'lyn', 'lynda', 'lynde', 'lyndel', 'lyndell', 'lyndsay', 'lyndsey', 'lyndsie', 'lyndy', 'lynea', 'lynelle', 'lynett', 'lynette', 'lynn', 'lynna', 'lynne', 'lynnea', 'lynnell', 'lynnelle', 'lynnet', 'lynnett', 'lynnette', 'lynsey', 'lysandra', 'lyssa', 'mab', 'mabel', 'mabelle', 'mable', 'mada', 'madalena', 'madalyn', 'maddalena', 'maddi', 'maddie', 'maddy', 'madel', 'madelaine', 'madeleine', 'madelena', 'madelene', 'madelin', 'madelina', 'madeline', 'madella', 'madelle', 'madelon', 'madelyn', 'madge', 'madlen', 'madlin', 'madona', 'madonna', 'mady', 'mae', 'maegan', 'mag', 'magda', 'magdaia', 'magdalen', 'magdalena', 'magdalene', 'maggee', 'maggi', 'maggie', 'maggy', 'magna', 'mahala', 'mahalia', 'maia', 'maible', 'maiga', 'mair', 'maire', 'mairead', 'maisey', 'maisie', 'mala', 'malanie', 'malcah', 'malena', 'malia', 'malina', 'malinda', 'malinde', 'malissa', 'malissia', 'malka', 'malkah', 'mallissa', 'mallorie', 'mallory', 'malorie', 'malory', 'malva', 'malvina', 'malynda', 'mame', 'mamie', 'manda', 'mandi', 'mandie', 'mandy', 'manon', 'manya', 'mara', 'marabel', 'marcela', 'marcelia', 'marcella', 'marcelle', 'marcellina', 'marcelline', 'marchelle', 'marci', 'marcia', 'marcie', 'marcile', 'marcille', 'marcy', 'mareah', 'maren', 'marena', 'maressa', 'marga', 'margalit', 'margalo', 'margaret', 'margareta', 'margarete', 'margaretha', 'margarethe', 'margaretta', 'margarette', 'margarita', 'margaux', 'marge', 'margeaux', 'margery', 'marget', 'margette', 'margi', 'margie', 'margit', 'marglerite', 'margo', 'margot', 'margret', 'marguerite', 'margurite', 'margy', 'mari', 'maria', 'mariam', 'marian', 'mariana', 'mariann', 'marianna', 'marianne', 'maribel', 'maribelle', 'maribeth', 'marice', 'maridel', 'marie', 'marieann', 'mariejeanne', 'mariel', 'mariele', 'marielle', 'mariellen', 'marietta', 'mariette', 'marigold', 'marijo', 'marika', 'marilee', 'marilin', 'marillin', 'marilyn', 'marin', 'marina', 'marinna', 'marion', 'mariquilla', 'maris', 'marisa', 'mariska', 'marissa', 'marit', 'marita', 'maritsa', 'mariya', 'marj', 'marja', 'marje', 'marji', 'marjie', 'marjorie', 'marjory', 'marjy', 'marketa', 'marla', 'marlane', 'marleah', 'marlee', 'marleen', 'marlena', 'marlene', 'marley', 'marlie', 'marline', 'marlo', 'marlyn', 'marna', 'marne', 'marney', 'marni', 'marnia', 'marnie', 'marquita', 'marrilee', 'marris', 'marrissa', 'marry', 'marsha', 'marsiella', 'marta', 'martelle', 'martguerita', 'martha', 'marthe', 'marthena', 'marti', 'martica', 'martie', 'martina', 'martita', 'marty', 'martynne', 'mary', 'marya', 'maryangelyn', 'maryann', 'maryanna', 'maryanne', 'marybelle', 'marybeth', 'maryellen', 'maryjane', 'maryjo', 'maryl', 'marylee', 'marylin', 'marylinda', 'marylou', 'marylynne', 'maryrose', 'marys', 'marysa', 'masha', 'matelda', 'mathilda', 'mathilde', 'matilda', 'matilde', 'matti', 'mattie', 'matty', 'maud', 'maude', 'maudie', 'maura', 'maure', 'maureen', 'maureene', 'maurene', 'maurine', 'maurise', 'maurita', 'mavis', 'mavra', 'max', 'maxi', 'maxie', 'maxine', 'maxy', 'may', 'maya', 'maybelle', 'mayda', 'maye', 'mead', 'meade', 'meagan', 'meaghan', 'meara', 'mechelle', 'meg', 'megan', 'megen', 'meggan', 'meggi', 'meggie', 'meggy', 'meghan', 'meghann', 'mehetabel', 'mei', 'meira', 'mel', 'mela', 'melamie', 'melania', 'melanie', 'melantha', 'melany', 'melba', 'melesa', 'melessa', 'melicent', 'melina', 'melinda', 'melinde', 'melisa', 'melisande', 'melisandra', 'melisenda', 'melisent', 'melissa', 'melisse', 'melita', 'melitta', 'mella', 'melli', 'mellicent', 'mellie', 'mellisa', 'mellisent', 'mellissa', 'melloney', 'melly', 'melodee', 'melodie', 'melody', 'melonie', 'melony', 'melosa', 'melva', 'mercedes', 'merci', 'mercie', 'mercy', 'meredith', 'meredithe', 'meridel', 'meridith', 'meriel', 'merilee', 'merilyn', 'meris', 'merissa', 'merl', 'merla', 'merle', 'merlina', 'merline', 'merna', 'merola', 'merralee', 'merridie', 'merrie', 'merrielle', 'merrile', 'merrilee', 'merrili', 'merrill', 'merrily', 'merry', 'mersey', 'meryl', 'meta', 'mia', 'micaela', 'michaela', 'michaelina', 'michaeline', 'michaella', 'michal', 'michel', 'michele', 'michelina', 'micheline', 'michell', 'michelle', 'micki', 'mickie', 'micky', 'midge', 'mignon', 'mignonne', 'miguela', 'miguelita', 'mildred', 'mildrid', 'milena', 'milicent', 'milissent', 'milka', 'milli', 'millicent', 'millie', 'millisent', 'milly', 'milzie', 'mimi', 'min', 'mina', 'minda', 'mindy', 'minerva', 'minetta', 'minette', 'minna', 'minni', 'minnie', 'minny', 'minta', 'miquela', 'mira', 'mirabel', 'mirabella', 'mirabelle', 'miran', 'miranda', 'mireielle', 'mireille', 'mirella', 'mirelle', 'miriam', 'mirilla', 'mirna', 'misha', 'missie', 'missy', 'misti', 'misty', 'mitra', 'mitzi', 'mmarianne', 'modesta', 'modestia', 'modestine', 'modesty', 'moina', 'moira', 'moll', 'mollee', 'molli', 'mollie', 'molly', 'mommy', 'mona', 'monah', 'monica', 'monika', 'monique', 'mora', 'moreen', 'morena', 'morgan', 'morgana', 'morganica', 'morganne', 'morgen', 'moria', 'morissa', 'morlee', 'morna', 'moselle', 'moya', 'moyna', 'moyra', 'mozelle', 'muffin', 'mufi', 'mufinella', 'muire', 'mureil', 'murial', 'muriel', 'murielle', 'myna', 'myra', 'myrah', 'myranda', 'myriam', 'myrilla', 'myrle', 'myrlene', 'myrna', 'myrta', 'myrtia', 'myrtice', 'myrtie', 'myrtle', 'nada', 'nadean', 'nadeen', 'nadia', 'nadine', 'nadiya', 'nady', 'nadya', 'nalani', 'nan', 'nana', 'nananne', 'nance', 'nancee', 'nancey', 'nanci', 'nancie', 'nancy', 'nanete', 'nanette', 'nani', 'nanice', 'nanine', 'nannette', 'nanni', 'nannie', 'nanny', 'nanon', 'naoma', 'naomi', 'nara', 'nari', 'nariko', 'nat', 'nata', 'natala', 'natalee', 'natalia', 'natalie', 'natalina', 'nataline', 'natalya', 'natasha', 'natassia', 'nathalia', 'nathalie', 'natka', 'natty', 'neala', 'neda', 'nedda', 'nedi', 'neely', 'neila', 'neile', 'neilla', 'neille', 'nela', 'nelia', 'nelie', 'nell', 'nelle', 'nelli', 'nellie', 'nelly', 'nena', 'nerissa', 'nerita', 'nert', 'nerta', 'nerte', 'nerti', 'nertie', 'nerty', 'nessa', 'nessi', 'nessie', 'nessy', 'nesta', 'netta', 'netti', 'nettie', 'nettle', 'netty', 'nevsa', 'neysa', 'nichol', 'nichole', 'nicholle', 'nicki', 'nickie', 'nicky', 'nicol', 'nicola', 'nicole', 'nicolea', 'nicolette', 'nicoli', 'nicolina', 'nicoline', 'nicolle', 'nidia', 'nike', 'niki', 'nikki', 'nikkie', 'nikoletta', 'nikolia', 'nil', 'nina', 'ninetta', 'ninette', 'ninnetta', 'ninnette', 'ninon', 'nisa', 'nissa', 'nisse', 'nissie', 'nissy', 'nita', 'nitin', 'nixie', 'noami', 'noel', 'noelani', 'noell', 'noella', 'noelle', 'noellyn', 'noelyn', 'noemi', 'nola', 'nolana', 'nolie', 'nollie', 'nomi', 'nona', 'nonah', 'noni', 'nonie', 'nonna', 'nonnah', 'nora', 'norah', 'norean', 'noreen', 'norene', 'norina', 'norine', 'norma', 'norri', 'norrie', 'norry', 'nova', 'novelia', 'nydia', 'nyssa', 'octavia', 'odele', 'odelia', 'odelinda', 'odella', 'odelle', 'odessa', 'odetta', 'odette', 'odilia', 'odille', 'ofelia', 'ofella', 'ofilia', 'ola', 'olenka', 'olga', 'olia', 'olimpia', 'olive', 'olivette', 'olivia', 'olivie', 'oliy', 'ollie', 'olly', 'olva', 'olwen', 'olympe', 'olympia', 'olympie', 'ondrea', 'oneida', 'onida', 'onlea', 'oona', 'opal', 'opalina', 'opaline', 'ophelia', 'ophelie', 'oprah', 'ora', 'oralee', 'oralia', 'oralie', 'oralla', 'oralle', 'orel', 'orelee', 'orelia', 'orelie', 'orella', 'orelle', 'oreste', 'oriana', 'orly', 'orsa', 'orsola', 'ortensia', 'otha', 'othelia', 'othella', 'othilia', 'othilie', 'ottilie', 'pacifica', 'page', 'paige', 'paloma', 'pam', 'pamela', 'pamelina', 'pamella', 'pammi', 'pammie', 'pammy', 'pandora', 'pansie', 'pansy', 'paola', 'paolina', 'parwane', 'pat', 'patience', 'patrica', 'patrice', 'patricia', 'patrizia', 'patsy', 'patti', 'pattie', 'patty', 'paula', 'paule', 'pauletta', 'paulette', 'pauli', 'paulie', 'paulina', 'pauline', 'paulita', 'pauly', 'pavia', 'pavla', 'pearl', 'pearla', 'pearle', 'pearline', 'peg', 'pegeen', 'peggi', 'peggie', 'peggy', 'pen', 'penelopa', 'penelope', 'penni', 'pennie', 'penny', 'pepi', 'pepita', 'peri', 'peria', 'perl', 'perla', 'perle', 'perri', 'perrine', 'perry', 'persis', 'pet', 'peta', 'petra', 'petrina', 'petronella', 'petronia', 'petronilla', 'petronille', 'petunia', 'phaedra', 'phaidra', 'phebe', 'phedra', 'phelia', 'phil', 'philipa', 'philippa', 'philippe', 'philippine', 'philis', 'phillida', 'phillie', 'phillis', 'philly', 'philomena', 'phoebe', 'phylis', 'phyllida', 'phyllis', 'phyllys', 'phylys', 'pia', 'pier', 'pierette', 'pierrette', 'pietra', 'piper', 'pippa', 'pippy', 'polly', 'pollyanna', 'pooh', 'poppy', 'portia', 'pris', 'prisca', 'priscella', 'priscilla', 'prissie', 'pru', 'prudence', 'prudi', 'prudy', 'prue', 'prunella', 'queada', 'queenie', 'quentin', 'querida', 'quinn', 'quinta', 'quintana', 'quintilla', 'quintina', 'rachael', 'rachel', 'rachele', 'rachelle', 'rae', 'raf', 'rafa', 'rafaela', 'rafaelia', 'rafaelita', 'ragnhild', 'rahal', 'rahel', 'raina', 'raine', 'rakel', 'ralina', 'ramona', 'ramonda', 'rana', 'randa', 'randee', 'randene', 'randi', 'randie', 'randy', 'ranee', 'rani', 'rania', 'ranice', 'ranique', 'ranna', 'raphaela', 'raquel', 'raquela', 'rasia', 'rasla', 'raven', 'ray', 'raychel', 'raye', 'rayna', 'raynell', 'rayshell', 'rea', 'reba', 'rebbecca', 'rebe', 'rebeca', 'rebecca', 'rebecka', 'rebeka', 'rebekah', 'rebekkah', 'ree', 'reeba', 'reena', 'reeta', 'reeva', 'regan', 'reggi', 'reggie', 'regina', 'regine', 'reiko', 'reina', 'reine', 'remy', 'rena', 'renae', 'renata', 'renate', 'rene', 'renee', 'renel', 'renell', 'renelle', 'renie', 'rennie', 'reta', 'retha', 'revkah', 'rey', 'reyna', 'rhea', 'rheba', 'rheta', 'rhetta', 'rhiamon', 'rhianna', 'rhianon', 'rhoda', 'rhodia', 'rhodie', 'rhody', 'rhona', 'rhonda', 'riane', 'riannon', 'rianon', 'rica', 'ricca', 'rici', 'ricki', 'rickie', 'ricky', 'riki', 'rikki', 'rina', 'risa', 'rissa', 'rita', 'riva', 'rivalee', 'rivi', 'rivkah', 'rivy', 'roana', 'roanna', 'roanne', 'robbi', 'robbie', 'robbin', 'robby', 'robbyn', 'robena', 'robenia', 'roberta', 'robin', 'robina', 'robinet', 'robinett', 'robinetta', 'robinette', 'robinia', 'roby', 'robyn', 'roch', 'rochell', 'rochella', 'rochelle', 'rochette', 'roda', 'rodi', 'rodie', 'rodina', 'romola', 'romona', 'romonda', 'romy', 'rona', 'ronalda', 'ronda', 'ronica', 'ronna', 'ronni', 'ronnica', 'ronnie', 'ronny', 'roobbie', 'rora', 'rori', 'rorie', 'rory', 'ros', 'rosa', 'rosabel', 'rosabella', 'rosabelle', 'rosaleen', 'rosalia', 'rosalie', 'rosalind', 'rosalinda', 'rosalinde', 'rosaline', 'rosalyn', 'rosalynd', 'rosamond', 'rosamund', 'rosana', 'rosanna', 'rosanne', 'rosario', 'rose', 'roseann', 'roseanna', 'roseanne', 'roselia', 'roselin', 'roseline', 'rosella', 'roselle', 'roselyn', 'rosemaria', 'rosemarie', 'rosemary', 'rosemonde', 'rosene', 'rosetta', 'rosette', 'roshelle', 'rosie', 'rosina', 'rosita', 'roslyn', 'rosmunda', 'rosy', 'row', 'rowe', 'rowena', 'roxana', 'roxane', 'roxanna', 'roxanne', 'roxi', 'roxie', 'roxine', 'roxy', 'roz', 'rozalie', 'rozalin', 'rozamond', 'rozanna', 'rozanne', 'roze', 'rozele', 'rozella', 'rozelle', 'rozina', 'rubetta', 'rubi', 'rubia', 'rubie', 'rubina', 'ruby', 'ruella', 'ruperta', 'ruth', 'ruthann', 'ruthanne', 'ruthe', 'ruthi', 'ruthie', 'ruthy', 'ryann', 'rycca', 'saba', 'sabina', 'sabine', 'sabra', 'sabrina', 'sacha', 'sada', 'sadella', 'sadie', 'sal', 'sallee', 'salli', 'sallie', 'sally', 'sallyann', 'sallyanne', 'salome', 'sam', 'samantha', 'samara', 'samaria', 'sammy', 'samuela', 'samuella', 'sande', 'sandi', 'sandie', 'sandra', 'sandy', 'sandye', 'sapphira', 'sapphire', 'sara', 'saraann', 'sarah', 'sarajane', 'saree', 'sarena', 'sarene', 'sarette', 'sari', 'sarina', 'sarine', 'sarita', 'sascha', 'sasha', 'sashenka', 'saudra', 'saundra', 'savina', 'sayre', 'scarlet', 'scarlett', 'scotty', 'sean', 'seana', 'secunda', 'seka', 'sela', 'selena', 'selene', 'selestina', 'selia', 'selie', 'selina', 'selinda', 'seline', 'sella', 'selle', 'selma', 'sena', 'sephira', 'serena', 'serene', 'shaina', 'shaine', 'shalna', 'shalne', 'shamit', 'shana', 'shanda', 'shandee', 'shandie', 'shandra', 'shandy', 'shane', 'shani', 'shanie', 'shanna', 'shannah', 'shannen', 'shannon', 'shanon', 'shanta', 'shantee', 'shara', 'sharai', 'shari', 'sharia', 'sharie', 'sharity', 'sharl', 'sharla', 'sharleen', 'sharlene', 'sharline', 'sharna', 'sharon', 'sharona', 'sharra', 'sharron', 'sharyl', 'shaun', 'shauna', 'shawn', 'shawna', 'shawnee', 'shay', 'shayla', 'shaylah', 'shaylyn', 'shaylynn', 'shayna', 'shayne', 'shea', 'sheba', 'sheela', 'sheelagh', 'sheelah', 'sheena', 'sheeree', 'sheila', 'sheilah', 'sheilakathryn', 'shel', 'shela', 'shelagh', 'shelba', 'shelbi', 'shelby', 'shelia', 'shell', 'shelley', 'shelli', 'shellie', 'shelly', 'shena', 'sher', 'sheree', 'sheri', 'sherie', 'sheril', 'sherill', 'sherilyn', 'sherline', 'sherri', 'sherrie', 'sherry', 'sherye', 'sheryl', 'shilpa', 'shina', 'shir', 'shira', 'shirah', 'shirl', 'shirlee', 'shirleen', 'shirlene', 'shirley', 'shirline', 'shoshana', 'shoshanna', 'shoshie', 'siana', 'sianna', 'sib', 'sibbie', 'sibby', 'sibeal', 'sibel', 'sibella', 'sibelle', 'sibilla', 'sibley', 'sibyl', 'sibylla', 'sibylle', 'sidoney', 'sidonia', 'sidonnie', 'sigrid', 'sile', 'sileas', 'silva', 'silvana', 'silvia', 'silvie', 'simona', 'simone', 'simonette', 'simonne', 'sindee', 'sinead', 'siobhan', 'sioux', 'siouxie', 'sisely', 'sisile', 'sissie', 'sissy', 'sofia', 'sofie', 'solange', 'sondra', 'sonia', 'sonja', 'sonni', 'sonnie', 'sonnnie', 'sonny', 'sonya', 'sophey', 'sophi', 'sophia', 'sophie', 'sophronia', 'sorcha', 'sosanna', 'stace', 'stacee', 'stacey', 'staci', 'stacia', 'stacie', 'stacy', 'stafani', 'star', 'starla', 'starlene', 'starlin', 'starr', 'stefa', 'stefania', 'stefanie', 'steffane', 'steffi', 'steffie', 'stella', 'stepha', 'stephana', 'stephani', 'stephanie', 'stephannie', 'stephenie', 'stephi', 'stephie', 'stephine', 'stesha', 'stevana', 'stevena', 'stoddard', 'storey', 'storm', 'stormi', 'stormie', 'stormy', 'sue', 'suellen', 'sukey', 'suki', 'sula', 'sunny', 'sunshine', 'susan', 'susana', 'susanetta', 'susann', 'susanna', 'susannah', 'susanne', 'susette', 'susi', 'susie', 'sussi', 'susy', 'suzan', 'suzann', 'suzanna', 'suzanne', 'suzetta', 'suzette', 'suzi', 'suzie', 'suzy', 'suzzy', 'sybil', 'sybila', 'sybilla', 'sybille', 'sybyl', 'sydel', 'sydelle', 'sydney', 'sylvia', 'sylvie', 'tabatha', 'tabbatha', 'tabbi', 'tabbie', 'tabbitha', 'tabby', 'tabina', 'tabitha', 'taffy', 'talia', 'tallia', 'tallie', 'tally', 'talya', 'talyah', 'tamar', 'tamara', 'tamarah', 'tamarra', 'tamera', 'tami', 'tamiko', 'tamma', 'tammara', 'tammi', 'tammie', 'tammy', 'tamra', 'tana', 'tandi', 'tandie', 'tandy', 'tani', 'tania', 'tansy', 'tanya', 'tara', 'tarah', 'tarra', 'tarrah', 'taryn', 'tasha', 'tasia', 'tate', 'tatiana', 'tatiania', 'tatum', 'tawnya', 'tawsha', 'teane', 'ted', 'tedda', 'teddi', 'teddie', 'teddy', 'tedi', 'tedra', 'teena', 'tella', 'teodora', 'tera', 'teresa', 'teresaanne', 'terese', 'teresina', 'teresita', 'teressa', 'teri', 'teriann', 'terina', 'terra', 'terri', 'terrianne', 'terrie', 'terry', 'terrye', 'tersina', 'teryl', 'terza', 'tess', 'tessa', 'tessi', 'tessie', 'tessy', 'thalia', 'thea', 'theada', 'theadora', 'theda', 'thekla', 'thelma', 'theo', 'theodora', 'theodosia', 'theresa', 'therese', 'theresina', 'theresita', 'theressa', 'therine', 'thia', 'thomasa', 'thomasin', 'thomasina', 'thomasine', 'tia', 'tiana', 'tiena', 'tierney', 'tiertza', 'tiff', 'tiffani', 'tiffanie', 'tiffany', 'tiffi', 'tiffie', 'tiffy', 'tilda', 'tildi', 'tildie', 'tildy', 'tillie', 'tilly', 'tim', 'timi', 'timmi', 'timmie', 'timmy', 'timothea', 'tina', 'tine', 'tiphani', 'tiphanie', 'tiphany', 'tish', 'tisha', 'tobe', 'tobey', 'tobi', 'tobie', 'toby', 'tobye', 'toinette', 'toma', 'tomasina', 'tomasine', 'tomi', 'tomiko', 'tommi', 'tommie', 'tommy', 'toni', 'tonia', 'tonie', 'tony', 'tonya', 'tootsie', 'torey', 'tori', 'torie', 'torrie', 'tory', 'tova', 'tove', 'trace', 'tracee', 'tracey', 'traci', 'tracie', 'tracy', 'trenna', 'tresa', 'trescha', 'tressa', 'tricia', 'trina', 'trish', 'trisha', 'trista', 'trix', 'trixi', 'trixie', 'trixy', 'truda', 'trude', 'trudey', 'trudi', 'trudie', 'trudy', 'trula', 'tuesday', 'twila', 'twyla', 'tybi', 'tybie', 'tyne', 'ula', 'ulla', 'ulrica', 'ulrika', 'ulrike', 'umeko', 'una', 'ursa', 'ursala', 'ursola', 'ursula', 'ursulina', 'ursuline', 'uta', 'val', 'valaree', 'valaria', 'vale', 'valeda', 'valencia', 'valene', 'valenka', 'valentia', 'valentina', 'valentine', 'valera', 'valeria', 'valerie', 'valery', 'valerye', 'valida', 'valina', 'valli', 'vallie', 'vally', 'valma', 'valry', 'van', 'vanda', 'vanessa', 'vania', 'vanna', 'vanni', 'vannie', 'vanny', 'vanya', 'veda', 'velma', 'velvet', 'vena', 'venita', 'ventura', 'venus', 'vera', 'veradis', 'vere', 'verena', 'verene', 'veriee', 'verile', 'verina', 'verine', 'verla', 'verna', 'vernice', 'veronica', 'veronika', 'veronike', 'veronique', 'vi', 'vicki', 'vickie', 'vicky', 'victoria', 'vida', 'viki', 'vikki', 'vikkie', 'vikky', 'vilhelmina', 'vilma', 'vin', 'vina', 'vinita', 'vinni', 'vinnie', 'vinny', 'viola', 'violante', 'viole', 'violet', 'violetta', 'violette', 'virgie', 'virgina', 'virginia', 'virginie', 'vita', 'vitia', 'vitoria', 'vittoria', 'viv', 'viva', 'vivi', 'vivia', 'vivian', 'viviana', 'vivianna', 'vivianne', 'vivie', 'vivien', 'viviene', 'vivienne', 'viviyan', 'vivyan', 'vivyanne', 'vonni', 'vonnie', 'vonny', 'wallie', 'wallis', 'wally', 'waly', 'wanda', 'wandie', 'wandis', 'waneta', 'wenda', 'wendeline', 'wendi', 'wendie', 'wendy', 'wenona', 'wenonah', 'whitney', 'wileen', 'wilhelmina', 'wilhelmine', 'wilie', 'willa', 'willabella', 'willamina', 'willetta', 'willette', 'willi', 'willie', 'willow', 'willy', 'willyt', 'wilma', 'wilmette', 'wilona', 'wilone', 'wilow', 'windy', 'wini', 'winifred', 'winna', 'winnah', 'winne', 'winni', 'winnie', 'winnifred', 'winny', 'winona', 'winonah', 'wren', 'wrennie', 'wylma', 'wynn', 'wynne', 'wynnie', 'wynny', 'xaviera', 'xena', 'xenia', 'xylia', 'xylina', 'yalonda', 'yehudit', 'yelena', 'yetta', 'yettie', 'yetty', 'yevette', 'yoko', 'yolanda', 'yolande', 'yolane', 'yolanthe', 'yonina', 'yoshi', 'yoshiko', 'yovonnda', 'yvette', 'yvonne', 'zabrina', 'zahara', 'zandra', 'zaneta', 'zara', 'zarah', 'zaria', 'zarla', 'zea', 'zelda', 'zelma', 'zena', 'zenia', 'zia', 'zilvia', 'zita', 'zitella', 'zoe', 'zola', 'zonda', 'zondra', 'zonnya', 'zora', 'zorah', 'zorana', 'zorina', 'zorine', 'zsazsa', 'zulema', 'zuzana', 'mikako', 'kaari', 'gita', 'geeta']\n"
          ]
        }
      ],
      "source": [
        "names = []\n",
        "max_len = 0\n",
        "\n",
        "# Iterate through the lines to process names\n",
        "for l in lines[6:]:\n",
        "    # Remove the trailing newline and convert to lowercase\n",
        "    curr_name = l[:-1].lower()\n",
        "    if curr_name.isalpha():\n",
        "        names.append(curr_name)\n",
        "        max_len = max(len(curr_name), max_len)\n",
        "\n",
        "# Increase max_len to account for the end of signal (EOS)\n",
        "# if name is \"Tom\" what exactly generated is \"Tom<EndOfSignal>\"\n",
        "max_len += 1\n",
        "\n",
        "print('Maximum Length : ' + str(max_len))\n",
        "print(names)"
      ]
    },
    {
      "cell_type": "markdown",
      "metadata": {
        "id": "kcJoqx1NfGTb"
      },
      "source": [
        "# **Define a Dataset Class**"
      ]
    },
    {
      "cell_type": "code",
      "execution_count": 5,
      "metadata": {
        "colab": {
          "base_uri": "https://localhost:8080/"
        },
        "id": "X6C7i1YmLAZL",
        "outputId": "ebc0460c-cce2-417e-f1c7-7316c917a8ea"
      },
      "outputs": [
        {
          "output_type": "stream",
          "name": "stdout",
          "text": [
            "97 98 122\n",
            "Index of \"c\" : 2\n"
          ]
        }
      ],
      "source": [
        "print(ord('a'), ord('b'), ord('z'))\n",
        "print('Index of \"c\" :', ord('c')-ord('a'))"
      ]
    },
    {
      "cell_type": "code",
      "execution_count": 6,
      "metadata": {
        "id": "AclIiMX9f4ta"
      },
      "outputs": [],
      "source": [
        "# Define a dataset class\n",
        "class NameDataset(Dataset):\n",
        "    def __init__(self, names, max_len):\n",
        "        self.names = names\n",
        "        self.max_len = max_len\n",
        "        self.a_order = ord('a')\n",
        "        self.z_order = ord('z')\n",
        "        self.num_classes = 26 + 1 # a-z + include the end of signal\n",
        "\n",
        "    def __len__(self):\n",
        "        return len(self.names)\n",
        "\n",
        "    def __getitem__(self, idx):\n",
        "        # Get the current name and convert to numerical values\n",
        "        # names[idx] : current alphabet name ('abe')\n",
        "        # curr_name : [0, 1, 4]\n",
        "        curr_name = [ord(n)-self.a_order for n in names[idx]]\n",
        "\n",
        "        # Buffer before padding 26(index of EOS) to the name info.\n",
        "        # [26, 26, ... 26]\n",
        "        padded_name = [self.num_classes-1 for _ in range(self.max_len)]\n",
        "        # padded name : [0, 1, 4, 26, 26, 26, .... ]\n",
        "        padded_name[:len(curr_name)] = curr_name\n",
        "\n",
        "        # Prepare the sample\n",
        "        sample = dict()\n",
        "        sample['input'] = torch.LongTensor(padded_name[:-1]) # Input sequence\n",
        "        sample['output'] = torch.LongTensor(padded_name[1:]) # Output sequence\n",
        "        sample['length'] = len(names[idx]) # Length of the name\n",
        "        sample['original'] = names[idx] # Original name string\n",
        "\n",
        "        return sample"
      ]
    },
    {
      "cell_type": "code",
      "execution_count": 7,
      "metadata": {
        "id": "6eM0TZVpiuCf"
      },
      "outputs": [],
      "source": [
        "batch_size = 64\n",
        "dataset = NameDataset(names, max_len)\n",
        "dataloader = DataLoader(dataset, batch_size=64, shuffle=True)"
      ]
    },
    {
      "cell_type": "code",
      "execution_count": 8,
      "metadata": {
        "colab": {
          "base_uri": "https://localhost:8080/"
        },
        "id": "6yQkTkHMk9m1",
        "outputId": "635365f5-f962-4c01-acd3-3325d8e0c192"
      },
      "outputs": [
        {
          "output_type": "stream",
          "name": "stdout",
          "text": [
            "annette\n",
            "tensor(7)\n",
            "tensor([ 0, 13, 13,  4, 19, 19,  4, 26, 26, 26, 26, 26, 26])\n",
            "tensor([13, 13,  4, 19, 19,  4, 26, 26, 26, 26, 26, 26, 26])\n",
            "torch.Size([64, 13]) torch.Size([64, 13])\n"
          ]
        }
      ],
      "source": [
        "# Get a sample batch from the dataloader\n",
        "sample = next(iter(dataloader))\n",
        "print(sample['original'][0])\n",
        "print(sample['length'][0])\n",
        "print(sample['input'][0])\n",
        "print(sample['output'][0])\n",
        "print(sample['input'].shape, sample['output'].shape)"
      ]
    },
    {
      "cell_type": "code",
      "execution_count": 9,
      "metadata": {
        "colab": {
          "base_uri": "https://localhost:8080/"
        },
        "id": "aw0rHh8hlJ4z",
        "outputId": "556a40f7-a553-4109-9c81-5a0095fb3044"
      },
      "outputs": [
        {
          "output_type": "stream",
          "name": "stdout",
          "text": [
            "['ferdinanda', 'ferdinande', 'annamaria', 'katherina', 'hermione', 'andriana', 'cariotta', 'charlott', 'nathalie', 'ursuline', 'kourtney', 'marrissa', 'juliette', 'julienne', 'gertruda', 'lucille', 'vanessa', 'annette', 'hillary', 'tiphani', 'deirdre', 'nananne', 'theresa', 'marissa', 'daniele', 'junette', 'prissie', 'tandie', 'phylis', 'kirbie', 'meagan', 'lynnet', 'karlie', 'gunvor', 'linell', 'kriste', 'oneida', 'freida', 'nancie', 'danita', 'loreen', 'maggie', 'heidie', 'jessa', 'patsy', 'gussy', 'dulce', 'andee', 'pearl', 'vilma', 'trace', 'tilly', 'anja', 'roby', 'leah', 'nady', 'cara', 'evie', 'rory', 'bell', 'rita', 'gigi', 'flo', 'roz']\n"
          ]
        }
      ],
      "source": [
        "# Sort the input sequences based on their lengths\n",
        "# This could be useful with variable lengths\n",
        "\n",
        "total_lengths = sample['length'] # lengths of multiple names\n",
        "\n",
        "# sort the names in the descending order, sort_idx is a set of indices of total_lengths\n",
        "sort_length, sort_idx = torch.sort(total_lengths, descending=True)\n",
        "\n",
        "# sorting sample['input'][sort_idx] and assigning it to sort_input. Thus, sort_input is a sorted list.\n",
        "sort_input = sample['input'][sort_idx]\n",
        "sort_output = sample['output'][sort_idx]\n",
        "sort_original_name = [sample['original'][idx] for idx in sort_idx]\n",
        "\n",
        "print(sort_original_name)"
      ]
    },
    {
      "cell_type": "markdown",
      "metadata": {
        "id": "xQwvv6Z2q9KA"
      },
      "source": [
        "# **Define the RNN Model**"
      ]
    },
    {
      "cell_type": "code",
      "execution_count": 10,
      "metadata": {
        "id": "j_i2kCPlnXO7"
      },
      "outputs": [],
      "source": [
        "# Define the RNN model\n",
        "class RNNmodel(nn.Module):\n",
        "    def __init__(self,\n",
        "                 lstm_dim=256,\n",
        "                 num_classes=dataset.num_classes,\n",
        "                 max_len=max_len):\n",
        "        super(RNNmodel, self).__init__()\n",
        "\n",
        "        self.lstm_dim = lstm_dim\n",
        "        self.num_classes = num_classes\n",
        "        self.max_len = max_len\n",
        "\n",
        "        self.char_embedding = nn.Embedding(num_embeddings=num_classes,\n",
        "                                           embedding_dim=lstm_dim)\n",
        "\n",
        "        self.lstm = nn.LSTM(input_size=lstm_dim,\n",
        "                            hidden_size=lstm_dim,\n",
        "                            num_layers=1,\n",
        "                            batch_first=True,\n",
        "                            )\n",
        "\n",
        "        self.out_linear = nn.Linear(lstm_dim, num_classes)\n",
        "\n",
        "    def forward(self, sort_input):\n",
        "        # lstm_input: (Batch) x (Length) x (Dimension)\n",
        "        lstm_input = self.char_embedding(sort_input)\n",
        "\n",
        "        # h refers to the hidden state, and c refers to the cell state.\n",
        "        lstm_out, (h, c) = self.lstm(lstm_input)\n",
        "\n",
        "        # out: ( batch x length x num_class)-sized tensor\n",
        "        out = self.out_linear(lstm_out)\n",
        "\n",
        "        return out\n",
        "\n",
        "    # Function to generate a name\n",
        "    def generate(self, start_char):\n",
        "        generated_name = list()\n",
        "        generated_name.append(start_char)\n",
        "\n",
        "        start_order = torch.LongTensor([ord(start_char)]).to(device) - ord('a')\n",
        "        start_order = start_order.reshape(1, 1)\n",
        "        cnt = 0\n",
        "\n",
        "        while cnt <= self.max_len:\n",
        "            curr_embed = self.char_embedding(start_order)\n",
        "            if cnt == 0:\n",
        "                lstm_out, (h, c) = self.lstm(curr_embed)\n",
        "            else:\n",
        "                lstm_out, (h, c) = self.lstm(curr_embed, (h, c))\n",
        "            out = self.out_linear(lstm_out)\n",
        "\n",
        "            # Sample the next character using the output distribution\n",
        "            sample_next = torch.distributions.Categorical(logits = out[0, 0, :]).sample().item()\n",
        "            if sample_next == 26:\n",
        "                break\n",
        "            else:\n",
        "                generated_name.append(chr(ord('a')+sample_next))\n",
        "                sample_next = torch.LongTensor([sample_next]).to(device)\n",
        "                start_order = sample_next.reshape(1, 1)\n",
        "\n",
        "                cnt += 1\n",
        "\n",
        "        return ''.join(generated_name)\n"
      ]
    },
    {
      "cell_type": "markdown",
      "metadata": {
        "id": "ykwYFMZ-7hjb"
      },
      "source": [
        "# **Model Training**"
      ]
    },
    {
      "cell_type": "code",
      "execution_count": 11,
      "metadata": {
        "colab": {
          "base_uri": "https://localhost:8080/"
        },
        "id": "XPuT8GV8pJLX",
        "outputId": "2a2d7ff9-c0b1-466d-9783-60fc0d73ae24"
      },
      "outputs": [
        {
          "output_type": "stream",
          "name": "stdout",
          "text": [
            "RNNmodel(\n",
            "  (char_embedding): Embedding(27, 256)\n",
            "  (lstm): LSTM(256, 256, batch_first=True)\n",
            "  (out_linear): Linear(in_features=256, out_features=27, bias=True)\n",
            ")\n"
          ]
        }
      ],
      "source": [
        "model = RNNmodel()\n",
        "\n",
        "# Move the model to GPU if available\n",
        "model = model.to(device)\n",
        "optimizer = torch.optim.Adam(model.parameters(), lr=1e-4)\n",
        "print(model)"
      ]
    },
    {
      "cell_type": "code",
      "execution_count": 12,
      "metadata": {
        "id": "0Q-ep_yepepC"
      },
      "outputs": [],
      "source": [
        "# Define the training function\n",
        "def train(model, optimizer, sample):\n",
        "    optimizer.zero_grad()\n",
        "    criteria = nn.CrossEntropyLoss()\n",
        "\n",
        "    # Extract lengths of each sequence in the batch\n",
        "    total_lengths = sample['length']\n",
        "    # Sort the sequences based on their lengths in descending order\n",
        "    sort_length, sort_idx = torch.sort(total_lengths, descending=True)\n",
        "\n",
        "    # Retrieve the sorted input and output sequences\n",
        "    sort_input = sample['input'][sort_idx].to(device)\n",
        "    sort_output = sample['output'][sort_idx].to(device)\n",
        "    sort_length = sort_length.to(device)\n",
        "\n",
        "    # Forward pass through the model\n",
        "    pred = model(sort_input)\n",
        "    B, L, C = pred.shape\n",
        "\n",
        "    # Compute the loss\n",
        "    # Reshape the predictions and ground truth to match the CrossEntropyLoss requirements\n",
        "    curr_loss = criteria(pred.reshape(B*L, C), sort_output.reshape(B*L))\n",
        "\n",
        "    # Backpropagation\n",
        "    curr_loss.backward()\n",
        "    optimizer.step()\n",
        "\n",
        "    return curr_loss.item()"
      ]
    },
    {
      "cell_type": "markdown",
      "metadata": {
        "id": "QoTwp7Hy-JlK"
      },
      "source": [
        "# **Run the RNN Model**"
      ]
    },
    {
      "cell_type": "code",
      "execution_count": 13,
      "metadata": {
        "colab": {
          "base_uri": "https://localhost:8080/",
          "height": 1000,
          "referenced_widgets": [
            "a2942c62e0dd455c9f6bf6cd62e3ec41",
            "17b6090350b849f99974c5cd7945e1c7",
            "cc3d95f9d3854838993c9896a5d76c27",
            "57ca5e708ac74f26bbae68a8420a3307",
            "cd3e32cd35364687b462ec7c5853477c",
            "8c7c913156f24cbd928e42d10de0ce3b",
            "2dea7b5620c64106a4bc60648d545fd0",
            "f6d3107148b941fdac2b1f5469be45d5",
            "0ebfedde69bf4befbfe078a313922644",
            "9452cfdfa67041c4b28430483220e7a2",
            "69ae08d7384849da8e512efe164411de"
          ]
        },
        "id": "UaMHeot3wzm_",
        "outputId": "2cf5df20-061b-449a-9ba2-d908fcd9a3c8"
      },
      "outputs": [
        {
          "output_type": "display_data",
          "data": {
            "text/plain": [
              "  0%|          | 0/100 [00:00<?, ?it/s]"
            ],
            "application/vnd.jupyter.widget-view+json": {
              "version_major": 2,
              "version_minor": 0,
              "model_id": "a2942c62e0dd455c9f6bf6cd62e3ec41"
            }
          },
          "metadata": {}
        },
        {
          "output_type": "stream",
          "name": "stdout",
          "text": [
            "[EPOCH 0] TRAIN LOSS: 1.9173202132567382, SAMPLED NAMES: hzmsrdlkqoofnzpa, pyoyevkyiey, fflb, uaqyqhddtwdudzhs, gjfgqpusspwpbn\n",
            "[EPOCH 1] TRAIN LOSS: 1.2702803137974856, SAMPLED NAMES: ewriie, lhcpucyma, ehuar, otxela, c\n",
            "[EPOCH 2] TRAIN LOSS: 1.1425157403334594, SAMPLED NAMES: pqcgzf, ketal, saypv, gjfljneis, eotnne\n",
            "[EPOCH 3] TRAIN LOSS: 1.076709693823105, SAMPLED NAMES: pmtrie, aliwe, wjelisy, tsari, kel\n",
            "[EPOCH 4] TRAIN LOSS: 1.0315466660719652, SAMPLED NAMES: y, lenane, ys, gylane, bnelisa\n",
            "[EPOCH 5] TRAIN LOSS: 0.997556590881103, SAMPLED NAMES: ynna, torale, yu, areemrell, trine\n",
            "[EPOCH 6] TRAIN LOSS: 0.9708933295347754, SAMPLED NAMES: bwela, gi, rrica, peestie, barlia\n",
            "[EPOCH 7] TRAIN LOSS: 0.9487611307547645, SAMPLED NAMES: puy, vgtene, car, xuwlie, harnssa\n",
            "[EPOCH 8] TRAIN LOSS: 0.930902338180786, SAMPLED NAMES: eubeda, ywi, sthevette, mralenna, shostan\n",
            "[EPOCH 9] TRAIN LOSS: 0.9156749156805188, SAMPLED NAMES: btimbie, juyne, fforien, sshanlela, innera\n",
            "[EPOCH 10] TRAIN LOSS: 0.9018908395217015, SAMPLED NAMES: tnethel, malonne, nday, coreles, foda\n",
            "[EPOCH 11] TRAIN LOSS: 0.889469092473006, SAMPLED NAMES: yita, illessrathe, cahnda, pa, uqfrenea\n",
            "[EPOCH 12] TRAIN LOSS: 0.878456730873157, SAMPLED NAMES: pethana, fanna, gynue, utfia, sarlenan\n",
            "[EPOCH 13] TRAIN LOSS: 0.8693203597496717, SAMPLED NAMES: qnynina, lishi, ana, nmiceva, modelia\n",
            "[EPOCH 14] TRAIN LOSS: 0.8599514250571908, SAMPLED NAMES: sarbe, nnest, kereina, paria, nithane\n",
            "[EPOCH 15] TRAIN LOSS: 0.8511493985469525, SAMPLED NAMES: niseie, pandie, ka, ran, gnahlla\n",
            "[EPOCH 16] TRAIN LOSS: 0.8426408011179704, SAMPLED NAMES: wsi, mabelyn, liente, oryn, frrexla\n",
            "[EPOCH 17] TRAIN LOSS: 0.8354186262839881, SAMPLED NAMES: gerdie, qornnia, xabria, cagrilly, glorri\n",
            "[EPOCH 18] TRAIN LOSS: 0.8281885599478697, SAMPLED NAMES: dogind, dynie, liove, jobella, qxhinezi\n",
            "[EPOCH 19] TRAIN LOSS: 0.8211805690557529, SAMPLED NAMES: pondi, annite, daruetta, loriria, gemaine\n",
            "[EPOCH 20] TRAIN LOSS: 0.8144980661379987, SAMPLED NAMES: nely, forna, paparihe, yla, karie\n",
            "[EPOCH 21] TRAIN LOSS: 0.8081818933670336, SAMPLED NAMES: kary, rasalle, inroh, willy, iviot\n",
            "[EPOCH 22] TRAIN LOSS: 0.8024204480342375, SAMPLED NAMES: tathane, ikassa, celcha, arolee, xeaddbertina\n",
            "[EPOCH 23] TRAIN LOSS: 0.7963227354563202, SAMPLED NAMES: laudray, glintune, gdrila, hol, sica\n",
            "[EPOCH 24] TRAIN LOSS: 0.7903662935281411, SAMPLED NAMES: syndalee, wanned, xnaya, araxi, emirna\n",
            "[EPOCH 25] TRAIN LOSS: 0.7846597310824273, SAMPLED NAMES: jusky, faugelle, jechessa, athander, vebil\n",
            "[EPOCH 26] TRAIN LOSS: 0.7793895655717606, SAMPLED NAMES: hillinia, tafenta, bacina, olania, morie\n",
            "[EPOCH 27] TRAIN LOSS: 0.7739944885938594, SAMPLED NAMES: ulita, donnie, paurethe, alean, kauita\n",
            "[EPOCH 28] TRAIN LOSS: 0.7692953562125181, SAMPLED NAMES: arhanne, baron, xianne, korel, ivivafra\n",
            "[EPOCH 29] TRAIN LOSS: 0.764138237023965, SAMPLED NAMES: ucley, tartianey, sharie, nellie, briandy\n",
            "[EPOCH 30] TRAIN LOSS: 0.7592383577273442, SAMPLED NAMES: xilla, vildie, clariset, tanora, vivi\n",
            "[EPOCH 31] TRAIN LOSS: 0.754684696594874, SAMPLED NAMES: ylena, prustene, buciahci, vorgette, oroille\n",
            "[EPOCH 32] TRAIN LOSS: 0.7496499029489662, SAMPLED NAMES: joelly, nacina, elysabal, gyanne, folpi\n",
            "[EPOCH 33] TRAIN LOSS: 0.7455668151378633, SAMPLED NAMES: kenise, tarnka, proteliana, amel, leris\n",
            "[EPOCH 34] TRAIN LOSS: 0.7407419727398797, SAMPLED NAMES: enna, ynesta, ftredie, daisty, lorinaquta\n",
            "[EPOCH 35] TRAIN LOSS: 0.7363151074984138, SAMPLED NAMES: vinnetta, ycly, isel, hrtabbela, corissa\n",
            "[EPOCH 36] TRAIN LOSS: 0.7325629974022891, SAMPLED NAMES: pap, pyrice, ubsyban, xinna, genne\n",
            "[EPOCH 37] TRAIN LOSS: 0.7282900909582773, SAMPLED NAMES: emralyn, pormina, lichalee, ramina, tesalita\n",
            "[EPOCH 38] TRAIN LOSS: 0.7240806779800317, SAMPLED NAMES: maphlyn, ste, abrianne, joralin, xkaid\n",
            "[EPOCH 39] TRAIN LOSS: 0.7199419629879484, SAMPLED NAMES: jebey, quedia, teanna, innix, marbell\n",
            "[EPOCH 40] TRAIN LOSS: 0.7165675109777695, SAMPLED NAMES: alory, elien, pelika, orma, bertina\n",
            "[EPOCH 41] TRAIN LOSS: 0.7124395446899607, SAMPLED NAMES: ustancie, nybrle, patilee, etonie, patrian\n",
            "[EPOCH 42] TRAIN LOSS: 0.7091499024476762, SAMPLED NAMES: shai, xienda, guella, ellita, gennacelin\n",
            "[EPOCH 43] TRAIN LOSS: 0.7055068550965723, SAMPLED NAMES: jetralinie, dalinman, reathe, jcoy, brya\n",
            "[EPOCH 44] TRAIN LOSS: 0.7017827882216523, SAMPLED NAMES: pamira, nolli, karmina, hedtrie, delicea\n",
            "[EPOCH 45] TRAIN LOSS: 0.6986209826591688, SAMPLED NAMES: nobille, fasine, ooletta, daglen, idalen\n",
            "[EPOCH 46] TRAIN LOSS: 0.6954041406130177, SAMPLED NAMES: uste, britta, eunyt, carmonika, teressa\n",
            "[EPOCH 47] TRAIN LOSS: 0.6922196470774136, SAMPLED NAMES: emerie, izma, wille, efice, xyne\n",
            "[EPOCH 48] TRAIN LOSS: 0.688833279487414, SAMPLED NAMES: olvina, jetis, beanida, idean, tanelia\n",
            "[EPOCH 49] TRAIN LOSS: 0.6856122926259653, SAMPLED NAMES: ordi, quen, avigah, fyoby, renace\n",
            "[EPOCH 50] TRAIN LOSS: 0.6826435151772624, SAMPLED NAMES: oquelle, paunema, iolianne, onapee, hedelia\n",
            "[EPOCH 51] TRAIN LOSS: 0.679798865929628, SAMPLED NAMES: grathia, yolene, yeste, indika, xiyah\n",
            "[EPOCH 52] TRAIN LOSS: 0.6772536497849683, SAMPLED NAMES: quinvitha, sterona, fulleta, viveger, ysubith\n",
            "[EPOCH 53] TRAIN LOSS: 0.6739467412997515, SAMPLED NAMES: emelie, uzie, maimlea, yolith, danica\n",
            "[EPOCH 54] TRAIN LOSS: 0.6718293757010727, SAMPLED NAMES: elige, brann, nattie, jenny, xannie\n",
            "[EPOCH 55] TRAIN LOSS: 0.6681585151415607, SAMPLED NAMES: quitana, nedeta, verand, joelle, quintanetta\n",
            "[EPOCH 56] TRAIN LOSS: 0.6657728117245894, SAMPLED NAMES: pora, charrisa, aurra, fania, gerthe\n",
            "[EPOCH 57] TRAIN LOSS: 0.6629855457024695, SAMPLED NAMES: oxina, lorrena, ulda, dorrila, ara\n",
            "[EPOCH 58] TRAIN LOSS: 0.6606160402297975, SAMPLED NAMES: dorny, wilki, stommi, vyno, doracen\n",
            "[EPOCH 59] TRAIN LOSS: 0.6578483138328944, SAMPLED NAMES: henity, urlosa, uveina, ivie, viru\n",
            "[EPOCH 60] TRAIN LOSS: 0.6553055743376414, SAMPLED NAMES: very, conita, vianonna, frerrud, meline\n",
            "[EPOCH 61] TRAIN LOSS: 0.6528346821283684, SAMPLED NAMES: landina, quuitta, juciel, tristi, audrea\n",
            "[EPOCH 62] TRAIN LOSS: 0.6507840103063829, SAMPLED NAMES: cla, branca, elessie, datile, elina\n",
            "[EPOCH 63] TRAIN LOSS: 0.6483583710132502, SAMPLED NAMES: libbe, uanna, tersadarre, rosca, yetti\n",
            "[EPOCH 64] TRAIN LOSS: 0.6458312593973601, SAMPLED NAMES: brinada, vannie, josetha, frozaline, britul\n",
            "[EPOCH 65] TRAIN LOSS: 0.6433867590549666, SAMPLED NAMES: adride, dophila, brugette, gimmi, flaurina\n",
            "[EPOCH 66] TRAIN LOSS: 0.6410727050059882, SAMPLED NAMES: oralia, madelin, tomy, daria, megann\n",
            "[EPOCH 67] TRAIN LOSS: 0.6391548781822889, SAMPLED NAMES: rodulia, yoothelli, uriddie, nitsha, janmy\n",
            "[EPOCH 68] TRAIN LOSS: 0.6365753427529944, SAMPLED NAMES: sustia, iassie, abiana, xamika, sardie\n",
            "[EPOCH 69] TRAIN LOSS: 0.6347102362375995, SAMPLED NAMES: ybille, i, esoel, eletta, max\n",
            "[EPOCH 70] TRAIN LOSS: 0.6327811487210104, SAMPLED NAMES: vina, concyn, randi, katine, tallia\n",
            "[EPOCH 71] TRAIN LOSS: 0.6305028605155453, SAMPLED NAMES: dedari, rozella, thefane, winda, jobina\n",
            "[EPOCH 72] TRAIN LOSS: 0.6282639732727641, SAMPLED NAMES: yamala, heologe, tracey, kat, yviane\n",
            "[EPOCH 73] TRAIN LOSS: 0.6262243672823294, SAMPLED NAMES: margy, florri, hona, bride, mastarra\n",
            "[EPOCH 74] TRAIN LOSS: 0.6244939168294269, SAMPLED NAMES: storbi, kirssia, carrile, viva, wylbette\n",
            "[EPOCH 75] TRAIN LOSS: 0.6224835354548234, SAMPLED NAMES: qulita, kaylene, questin, tomania, ainelia\n",
            "[EPOCH 76] TRAIN LOSS: 0.620403780386998, SAMPLED NAMES: olotie, andisse, helmarie, bernakkah, adala\n",
            "[EPOCH 77] TRAIN LOSS: 0.6186157999894558, SAMPLED NAMES: isla, tezsia, perre, olette, gilimde\n",
            "[EPOCH 78] TRAIN LOSS: 0.6168960990049898, SAMPLED NAMES: jacque, viviane, emil, shela, dyanen\n",
            "[EPOCH 79] TRAIN LOSS: 0.6148875546761047, SAMPLED NAMES: lene, hildarisa, devonch, bobine, kharita\n",
            "[EPOCH 80] TRAIN LOSS: 0.6130069196224214, SAMPLED NAMES: daer, xiantore, leonne, christy, ulissa\n",
            "[EPOCH 81] TRAIN LOSS: 0.6115262324993428, SAMPLED NAMES: flait, weneloa, xioela, leysia, ximie\n",
            "[EPOCH 82] TRAIN LOSS: 0.609965455073577, SAMPLED NAMES: trichie, flore, jaclyn, vinnie, ulestina\n",
            "[EPOCH 83] TRAIN LOSS: 0.6078364199552782, SAMPLED NAMES: ir, erminia, roxy, blinnis, edy\n",
            "[EPOCH 84] TRAIN LOSS: 0.6063319085500178, SAMPLED NAMES: mirnett, nise, theadra, cibbelte, esami\n",
            "[EPOCH 85] TRAIN LOSS: 0.6046312833443663, SAMPLED NAMES: lufzine, winni, joreliane, jada, quitten\n",
            "[EPOCH 86] TRAIN LOSS: 0.6023982488192042, SAMPLED NAMES: amela, ullca, tildi, isabel, oyoriah\n",
            "[EPOCH 87] TRAIN LOSS: 0.600877072566595, SAMPLED NAMES: carelie, bernel, xynda, wenonore, vallee\n",
            "[EPOCH 88] TRAIN LOSS: 0.599673495078698, SAMPLED NAMES: glyss, pris, famie, xynett, corie\n",
            "[EPOCH 89] TRAIN LOSS: 0.5978492123958393, SAMPLED NAMES: hesti, fauti, naitha, xel, raisa\n",
            "[EPOCH 90] TRAIN LOSS: 0.5963012469120514, SAMPLED NAMES: phalia, quenita, hylly, gwyneth, meda\n",
            "[EPOCH 91] TRAIN LOSS: 0.5949099338971652, SAMPLED NAMES: tanio, mardis, hernica, rosamau, georganda\n",
            "[EPOCH 92] TRAIN LOSS: 0.5934330408389752, SAMPLED NAMES: sylana, larry, orelle, linnice, ushon\n",
            "[EPOCH 93] TRAIN LOSS: 0.5920418798923491, SAMPLED NAMES: hemitra, bert, miurie, rosi, belli\n",
            "[EPOCH 94] TRAIN LOSS: 0.5904676471001062, SAMPLED NAMES: ameleta, ymim, deeanne, yann, valana\n",
            "[EPOCH 95] TRAIN LOSS: 0.5886226632656194, SAMPLED NAMES: heddi, quintia, xidie, lucia, lezah\n",
            "[EPOCH 96] TRAIN LOSS: 0.5871226894549835, SAMPLED NAMES: beouztan, florance, delila, vikky, quenna\n",
            "[EPOCH 97] TRAIN LOSS: 0.585789202879637, SAMPLED NAMES: farrie, selena, vivyanne, yolise, quintelia\n",
            "[EPOCH 98] TRAIN LOSS: 0.5843834426158515, SAMPLED NAMES: golda, ukrik, vivie, florice, lindsa\n",
            "[EPOCH 99] TRAIN LOSS: 0.5833439292051853, SAMPLED NAMES: oflie, leylah, xyania, rhia, dina\n"
          ]
        }
      ],
      "source": [
        "max_epoch = 100\n",
        "for epoch in tqdm(range(max_epoch)):\n",
        "    total_loss = 0.0\n",
        "    for sample in dataloader:\n",
        "        curr_loss = train(model, optimizer, sample)\n",
        "        total_loss += curr_loss / len(dataloader)\n",
        "\n",
        "    # Test the model by generating a name by 5 times\n",
        "    generated_names = []\n",
        "    for _ in range(5):\n",
        "        # Randomly select a starting character within the range of lowercase English letters\n",
        "        start_char = chr(np.random.randint(ord('a'), ord('z')))\n",
        "        generated_names.append(model.generate(start_char))\n",
        "\n",
        "    # Print the epoch number, training loss, and a sampled name generated by the model\n",
        "    print('[EPOCH {}] TRAIN LOSS: {}, SAMPLED NAMES: {}'.format(epoch,\n",
        "                                                            total_loss,\n",
        "                                                            ', '.join(generated_names)))"
      ]
    }
  ],
  "metadata": {
    "accelerator": "GPU",
    "colab": {
      "provenance": [],
      "include_colab_link": true
    },
    "kernelspec": {
      "display_name": "Python 3",
      "name": "python3"
    },
    "widgets": {
      "application/vnd.jupyter.widget-state+json": {
        "a2942c62e0dd455c9f6bf6cd62e3ec41": {
          "model_module": "@jupyter-widgets/controls",
          "model_name": "HBoxModel",
          "model_module_version": "1.5.0",
          "state": {
            "_dom_classes": [],
            "_model_module": "@jupyter-widgets/controls",
            "_model_module_version": "1.5.0",
            "_model_name": "HBoxModel",
            "_view_count": null,
            "_view_module": "@jupyter-widgets/controls",
            "_view_module_version": "1.5.0",
            "_view_name": "HBoxView",
            "box_style": "",
            "children": [
              "IPY_MODEL_17b6090350b849f99974c5cd7945e1c7",
              "IPY_MODEL_cc3d95f9d3854838993c9896a5d76c27",
              "IPY_MODEL_57ca5e708ac74f26bbae68a8420a3307"
            ],
            "layout": "IPY_MODEL_cd3e32cd35364687b462ec7c5853477c"
          }
        },
        "17b6090350b849f99974c5cd7945e1c7": {
          "model_module": "@jupyter-widgets/controls",
          "model_name": "HTMLModel",
          "model_module_version": "1.5.0",
          "state": {
            "_dom_classes": [],
            "_model_module": "@jupyter-widgets/controls",
            "_model_module_version": "1.5.0",
            "_model_name": "HTMLModel",
            "_view_count": null,
            "_view_module": "@jupyter-widgets/controls",
            "_view_module_version": "1.5.0",
            "_view_name": "HTMLView",
            "description": "",
            "description_tooltip": null,
            "layout": "IPY_MODEL_8c7c913156f24cbd928e42d10de0ce3b",
            "placeholder": "​",
            "style": "IPY_MODEL_2dea7b5620c64106a4bc60648d545fd0",
            "value": "100%"
          }
        },
        "cc3d95f9d3854838993c9896a5d76c27": {
          "model_module": "@jupyter-widgets/controls",
          "model_name": "FloatProgressModel",
          "model_module_version": "1.5.0",
          "state": {
            "_dom_classes": [],
            "_model_module": "@jupyter-widgets/controls",
            "_model_module_version": "1.5.0",
            "_model_name": "FloatProgressModel",
            "_view_count": null,
            "_view_module": "@jupyter-widgets/controls",
            "_view_module_version": "1.5.0",
            "_view_name": "ProgressView",
            "bar_style": "success",
            "description": "",
            "description_tooltip": null,
            "layout": "IPY_MODEL_f6d3107148b941fdac2b1f5469be45d5",
            "max": 100,
            "min": 0,
            "orientation": "horizontal",
            "style": "IPY_MODEL_0ebfedde69bf4befbfe078a313922644",
            "value": 100
          }
        },
        "57ca5e708ac74f26bbae68a8420a3307": {
          "model_module": "@jupyter-widgets/controls",
          "model_name": "HTMLModel",
          "model_module_version": "1.5.0",
          "state": {
            "_dom_classes": [],
            "_model_module": "@jupyter-widgets/controls",
            "_model_module_version": "1.5.0",
            "_model_name": "HTMLModel",
            "_view_count": null,
            "_view_module": "@jupyter-widgets/controls",
            "_view_module_version": "1.5.0",
            "_view_name": "HTMLView",
            "description": "",
            "description_tooltip": null,
            "layout": "IPY_MODEL_9452cfdfa67041c4b28430483220e7a2",
            "placeholder": "​",
            "style": "IPY_MODEL_69ae08d7384849da8e512efe164411de",
            "value": " 100/100 [00:41&lt;00:00,  2.99it/s]"
          }
        },
        "cd3e32cd35364687b462ec7c5853477c": {
          "model_module": "@jupyter-widgets/base",
          "model_name": "LayoutModel",
          "model_module_version": "1.2.0",
          "state": {
            "_model_module": "@jupyter-widgets/base",
            "_model_module_version": "1.2.0",
            "_model_name": "LayoutModel",
            "_view_count": null,
            "_view_module": "@jupyter-widgets/base",
            "_view_module_version": "1.2.0",
            "_view_name": "LayoutView",
            "align_content": null,
            "align_items": null,
            "align_self": null,
            "border": null,
            "bottom": null,
            "display": null,
            "flex": null,
            "flex_flow": null,
            "grid_area": null,
            "grid_auto_columns": null,
            "grid_auto_flow": null,
            "grid_auto_rows": null,
            "grid_column": null,
            "grid_gap": null,
            "grid_row": null,
            "grid_template_areas": null,
            "grid_template_columns": null,
            "grid_template_rows": null,
            "height": null,
            "justify_content": null,
            "justify_items": null,
            "left": null,
            "margin": null,
            "max_height": null,
            "max_width": null,
            "min_height": null,
            "min_width": null,
            "object_fit": null,
            "object_position": null,
            "order": null,
            "overflow": null,
            "overflow_x": null,
            "overflow_y": null,
            "padding": null,
            "right": null,
            "top": null,
            "visibility": null,
            "width": null
          }
        },
        "8c7c913156f24cbd928e42d10de0ce3b": {
          "model_module": "@jupyter-widgets/base",
          "model_name": "LayoutModel",
          "model_module_version": "1.2.0",
          "state": {
            "_model_module": "@jupyter-widgets/base",
            "_model_module_version": "1.2.0",
            "_model_name": "LayoutModel",
            "_view_count": null,
            "_view_module": "@jupyter-widgets/base",
            "_view_module_version": "1.2.0",
            "_view_name": "LayoutView",
            "align_content": null,
            "align_items": null,
            "align_self": null,
            "border": null,
            "bottom": null,
            "display": null,
            "flex": null,
            "flex_flow": null,
            "grid_area": null,
            "grid_auto_columns": null,
            "grid_auto_flow": null,
            "grid_auto_rows": null,
            "grid_column": null,
            "grid_gap": null,
            "grid_row": null,
            "grid_template_areas": null,
            "grid_template_columns": null,
            "grid_template_rows": null,
            "height": null,
            "justify_content": null,
            "justify_items": null,
            "left": null,
            "margin": null,
            "max_height": null,
            "max_width": null,
            "min_height": null,
            "min_width": null,
            "object_fit": null,
            "object_position": null,
            "order": null,
            "overflow": null,
            "overflow_x": null,
            "overflow_y": null,
            "padding": null,
            "right": null,
            "top": null,
            "visibility": null,
            "width": null
          }
        },
        "2dea7b5620c64106a4bc60648d545fd0": {
          "model_module": "@jupyter-widgets/controls",
          "model_name": "DescriptionStyleModel",
          "model_module_version": "1.5.0",
          "state": {
            "_model_module": "@jupyter-widgets/controls",
            "_model_module_version": "1.5.0",
            "_model_name": "DescriptionStyleModel",
            "_view_count": null,
            "_view_module": "@jupyter-widgets/base",
            "_view_module_version": "1.2.0",
            "_view_name": "StyleView",
            "description_width": ""
          }
        },
        "f6d3107148b941fdac2b1f5469be45d5": {
          "model_module": "@jupyter-widgets/base",
          "model_name": "LayoutModel",
          "model_module_version": "1.2.0",
          "state": {
            "_model_module": "@jupyter-widgets/base",
            "_model_module_version": "1.2.0",
            "_model_name": "LayoutModel",
            "_view_count": null,
            "_view_module": "@jupyter-widgets/base",
            "_view_module_version": "1.2.0",
            "_view_name": "LayoutView",
            "align_content": null,
            "align_items": null,
            "align_self": null,
            "border": null,
            "bottom": null,
            "display": null,
            "flex": null,
            "flex_flow": null,
            "grid_area": null,
            "grid_auto_columns": null,
            "grid_auto_flow": null,
            "grid_auto_rows": null,
            "grid_column": null,
            "grid_gap": null,
            "grid_row": null,
            "grid_template_areas": null,
            "grid_template_columns": null,
            "grid_template_rows": null,
            "height": null,
            "justify_content": null,
            "justify_items": null,
            "left": null,
            "margin": null,
            "max_height": null,
            "max_width": null,
            "min_height": null,
            "min_width": null,
            "object_fit": null,
            "object_position": null,
            "order": null,
            "overflow": null,
            "overflow_x": null,
            "overflow_y": null,
            "padding": null,
            "right": null,
            "top": null,
            "visibility": null,
            "width": null
          }
        },
        "0ebfedde69bf4befbfe078a313922644": {
          "model_module": "@jupyter-widgets/controls",
          "model_name": "ProgressStyleModel",
          "model_module_version": "1.5.0",
          "state": {
            "_model_module": "@jupyter-widgets/controls",
            "_model_module_version": "1.5.0",
            "_model_name": "ProgressStyleModel",
            "_view_count": null,
            "_view_module": "@jupyter-widgets/base",
            "_view_module_version": "1.2.0",
            "_view_name": "StyleView",
            "bar_color": null,
            "description_width": ""
          }
        },
        "9452cfdfa67041c4b28430483220e7a2": {
          "model_module": "@jupyter-widgets/base",
          "model_name": "LayoutModel",
          "model_module_version": "1.2.0",
          "state": {
            "_model_module": "@jupyter-widgets/base",
            "_model_module_version": "1.2.0",
            "_model_name": "LayoutModel",
            "_view_count": null,
            "_view_module": "@jupyter-widgets/base",
            "_view_module_version": "1.2.0",
            "_view_name": "LayoutView",
            "align_content": null,
            "align_items": null,
            "align_self": null,
            "border": null,
            "bottom": null,
            "display": null,
            "flex": null,
            "flex_flow": null,
            "grid_area": null,
            "grid_auto_columns": null,
            "grid_auto_flow": null,
            "grid_auto_rows": null,
            "grid_column": null,
            "grid_gap": null,
            "grid_row": null,
            "grid_template_areas": null,
            "grid_template_columns": null,
            "grid_template_rows": null,
            "height": null,
            "justify_content": null,
            "justify_items": null,
            "left": null,
            "margin": null,
            "max_height": null,
            "max_width": null,
            "min_height": null,
            "min_width": null,
            "object_fit": null,
            "object_position": null,
            "order": null,
            "overflow": null,
            "overflow_x": null,
            "overflow_y": null,
            "padding": null,
            "right": null,
            "top": null,
            "visibility": null,
            "width": null
          }
        },
        "69ae08d7384849da8e512efe164411de": {
          "model_module": "@jupyter-widgets/controls",
          "model_name": "DescriptionStyleModel",
          "model_module_version": "1.5.0",
          "state": {
            "_model_module": "@jupyter-widgets/controls",
            "_model_module_version": "1.5.0",
            "_model_name": "DescriptionStyleModel",
            "_view_count": null,
            "_view_module": "@jupyter-widgets/base",
            "_view_module_version": "1.2.0",
            "_view_name": "StyleView",
            "description_width": ""
          }
        }
      }
    }
  },
  "nbformat": 4,
  "nbformat_minor": 0
}