{
  "cells": [
    {
      "cell_type": "markdown",
      "metadata": {
        "id": "view-in-github",
        "colab_type": "text"
      },
      "source": [
        "<a href=\"https://colab.research.google.com/github/ppokranguser/Artificial_Intelligence_study/blob/main/24_AI_CNN_CIFAR_100.ipynb\" target=\"_parent\"><img src=\"https://colab.research.google.com/assets/colab-badge.svg\" alt=\"Open In Colab\"/></a>"
      ]
    },
    {
      "cell_type": "markdown",
      "metadata": {
        "id": "kmIOkV65f5S0"
      },
      "source": [
        "### Import Packages\n"
      ]
    },
    {
      "cell_type": "code",
      "source": [
        "from google.colab import drive\n",
        "drive.mount('/content/drive')"
      ],
      "metadata": {
        "colab": {
          "base_uri": "https://localhost:8080/"
        },
        "id": "avbAhhN__LgQ",
        "outputId": "84b79a92-dcd8-479e-df36-b2fa03eeddb6"
      },
      "execution_count": null,
      "outputs": [
        {
          "output_type": "stream",
          "name": "stdout",
          "text": [
            "Mounted at /content/drive\n"
          ]
        }
      ]
    },
    {
      "cell_type": "code",
      "execution_count": null,
      "metadata": {
        "colab": {
          "base_uri": "https://localhost:8080/"
        },
        "id": "X1f7bWu9lJtX",
        "outputId": "98d92699-0325-4e02-b046-c885f67bfad7"
      },
      "outputs": [
        {
          "output_type": "stream",
          "name": "stdout",
          "text": [
            "2.5.1+cu121\n"
          ]
        }
      ],
      "source": [
        "import os\n",
        "import csv\n",
        "import numpy as np\n",
        "from tqdm.notebook import tqdm\n",
        "\n",
        "import matplotlib.pyplot as plt\n",
        "\n",
        "import torch\n",
        "import torch.nn as nn\n",
        "import torch.nn.functional as F\n",
        "import torch.optim as optim\n",
        "\n",
        "import torchvision\n",
        "import torchvision.transforms as transforms\n",
        "\n",
        "from torch.utils.data import Dataset, DataLoader\n",
        "\n",
        "print(torch.__version__)"
      ]
    },
    {
      "cell_type": "markdown",
      "metadata": {
        "id": "TTj1RldNHgSQ"
      },
      "source": [
        "### Let's load the CIFAR-100 dataset\n"
      ]
    },
    {
      "cell_type": "code",
      "execution_count": null,
      "metadata": {
        "id": "pcMuF_m9Ev8W",
        "outputId": "45aeccb5-1994-4204-ba95-bc969fccef59",
        "colab": {
          "base_uri": "https://localhost:8080/"
        }
      },
      "outputs": [
        {
          "output_type": "stream",
          "name": "stdout",
          "text": [
            "Downloading https://www.cs.toronto.edu/~kriz/cifar-100-python.tar.gz to ./cifar100/cifar-100-python.tar.gz\n"
          ]
        },
        {
          "output_type": "stream",
          "name": "stderr",
          "text": [
            "100%|██████████| 169M/169M [00:12<00:00, 13.1MB/s]\n"
          ]
        },
        {
          "output_type": "stream",
          "name": "stdout",
          "text": [
            "Extracting ./cifar100/cifar-100-python.tar.gz to ./cifar100\n",
            "Files already downloaded and verified\n"
          ]
        }
      ],
      "source": [
        "# Set the path to the CIFAR-100 dataset directory\n",
        "data_path = './cifar100'\n",
        "\n",
        "batch_size = 256\n",
        "\n",
        "transform_train = transforms.Compose([\n",
        "    transforms.RandomHorizontalFlip(),  # Randomly flip the image horizontally\n",
        "    transforms.RandomVerticalFlip(),  # Randomly flip the image vertically\n",
        "    transforms.RandomCrop(32, padding=4),  # Randomly crop the image with padding\n",
        "    transforms.RandomRotation(15),  # Randomly rotate the image by up to 15 degrees\n",
        "    transforms.ToTensor(),  # Convert the image to PyTorch tensor\n",
        "    transforms.RandomErasing(p=0.5, scale=(0.02, 0.33), ratio=(0.3, 3.3), value=0, inplace=False),  # Randomly erase a portion of the image    # Convert the image to PyTorch tensor\n",
        "    transforms.Normalize((0.4914, 0.4822, 0.4465), (0.2470, 0.2435, 0.2616))\n",
        "])\n",
        "transform_test = transforms.Compose([\n",
        "    transforms.ToTensor(),  # Convert the image to PyTorch tensor\n",
        "    transforms.Normalize((0.4914, 0.4822, 0.4465), (0.2470, 0.2435, 0.2616))\n",
        "])\n",
        "\n",
        "# Load the CIFAR-100 training dataset and apply transformation to convert images to tensors\n",
        "train_dataset = torchvision.datasets.CIFAR100(data_path, train=True, transform=transform_train, download=True)\n",
        "# Load the CIFAR-100 testing dataset and apply the same transformation\n",
        "test_dataset = torchvision.datasets.CIFAR100(data_path, train=False, transform=transform_test, download=True)\n",
        "\n",
        "# Create a DataLoader for the training and dataset with batching and shuffling\n",
        "train_dataloader = DataLoader(train_dataset, batch_size=batch_size, shuffle=True)\n",
        "# Create a DataLoader for the testing dataset with batching (but no shuffling)\n",
        "test_dataloader = DataLoader(test_dataset, batch_size=batch_size, shuffle=False)\n"
      ]
    },
    {
      "cell_type": "markdown",
      "metadata": {
        "id": "PYiku-SxHnA6"
      },
      "source": [
        "### Choose your device - use GPU or not?"
      ]
    },
    {
      "cell_type": "code",
      "execution_count": null,
      "metadata": {
        "id": "k44xmCOHHmF4",
        "outputId": "4c57d9c7-bbed-48e8-da13-306a867c5e3d",
        "colab": {
          "base_uri": "https://localhost:8080/"
        }
      },
      "outputs": [
        {
          "output_type": "stream",
          "name": "stdout",
          "text": [
            "Current Device : cuda\n"
          ]
        }
      ],
      "source": [
        "# device = 'cpu'\n",
        "device = 'cuda' if torch.cuda.is_available() else 'cpu'\n",
        "print('Current Device : {}'.format(device))"
      ]
    },
    {
      "cell_type": "markdown",
      "metadata": {
        "id": "sT_N_IqnIQgQ"
      },
      "source": [
        "### Try to sample out one data point from dataloader"
      ]
    },
    {
      "cell_type": "code",
      "execution_count": null,
      "metadata": {
        "id": "RAiU23NUKFl7",
        "outputId": "f16eb43c-70e8-48e5-f52e-da4f6d0086a8",
        "colab": {
          "base_uri": "https://localhost:8080/"
        }
      },
      "outputs": [
        {
          "output_type": "stream",
          "name": "stdout",
          "text": [
            "torch.Size([256, 3, 32, 32])\n",
            "tensor([ 2, 37, 94, 47, 35, 61, 19, 17, 12, 62, 98, 16, 58, 81, 77, 50, 14, 46,\n",
            "        95, 68, 20, 10, 62, 88, 75, 34,  7, 85, 98, 98,  2, 95, 20, 39, 41, 26,\n",
            "        65, 85, 66, 82, 20, 59, 68, 82, 39, 19, 37, 50,  7, 37, 51, 93, 74, 39,\n",
            "        23, 99, 31, 13, 60,  2, 45, 19, 74,  2, 44, 61, 55, 53, 27, 66, 79, 49,\n",
            "        98, 91, 20, 43, 88, 79, 83, 85, 16, 93, 53, 61, 57, 87, 14, 11, 70, 67,\n",
            "        85,  3, 18, 96, 28, 30, 92, 17,  5, 51, 80, 52, 75, 32, 59, 34, 44, 15,\n",
            "        50, 12,  2, 97, 72, 17, 92, 61, 60, 23, 69, 74, 83, 10, 77, 28, 59, 93,\n",
            "        85, 81, 64, 35, 20, 70, 38, 95, 67, 17, 36, 56, 84, 44, 23, 63, 30, 72,\n",
            "        70,  2, 32, 25, 98, 38,  6, 73,  5,  3, 67,  5,  4, 66, 95, 27, 77, 41,\n",
            "         9, 10, 50, 99, 61, 82, 27, 50, 20, 95, 96, 60, 21, 51, 10, 87, 13, 39,\n",
            "        83, 39, 92, 41, 64, 69, 80, 24, 74, 10, 78, 74, 34, 16,  0, 44, 75, 37,\n",
            "        55, 84, 56, 23, 79, 92, 40, 48, 28, 21, 49, 14,  7, 94, 10, 93, 26, 62,\n",
            "        69, 45, 44, 98, 43,  4, 57, 21, 46, 46, 33, 33, 87, 89, 81, 75, 18, 89,\n",
            "        79, 64, 73,  3, 98, 53, 25, 24, 31, 65, 15, 82, 42, 34, 30, 88, 69,  7,\n",
            "        42, 60, 51, 75])\n"
          ]
        }
      ],
      "source": [
        "# Get a single batch of data from the training dataloader\n",
        "sample = next(iter(train_dataloader))\n",
        "\n",
        "# Print the shape of the input images in the sample batch\n",
        "print(sample[0].shape)\n",
        "# Print the corresponding labels for the input images in the sample batch\n",
        "print(sample[1])"
      ]
    },
    {
      "cell_type": "code",
      "execution_count": null,
      "metadata": {
        "id": "XnDU90xVTpqC",
        "outputId": "52d8f313-1da1-4ee0-996e-64dd92b095e4",
        "colab": {
          "base_uri": "https://localhost:8080/",
          "height": 301
        }
      },
      "outputs": [
        {
          "output_type": "stream",
          "name": "stderr",
          "text": [
            "WARNING:matplotlib.image:Clipping input data to the valid range for imshow with RGB data ([0..1] for floats or [0..255] for integers).\n",
            "WARNING:matplotlib.image:Clipping input data to the valid range for imshow with RGB data ([0..1] for floats or [0..255] for integers).\n",
            "WARNING:matplotlib.image:Clipping input data to the valid range for imshow with RGB data ([0..1] for floats or [0..255] for integers).\n",
            "WARNING:matplotlib.image:Clipping input data to the valid range for imshow with RGB data ([0..1] for floats or [0..255] for integers).\n",
            "WARNING:matplotlib.image:Clipping input data to the valid range for imshow with RGB data ([0..1] for floats or [0..255] for integers).\n",
            "WARNING:matplotlib.image:Clipping input data to the valid range for imshow with RGB data ([0..1] for floats or [0..255] for integers).\n",
            "WARNING:matplotlib.image:Clipping input data to the valid range for imshow with RGB data ([0..1] for floats or [0..255] for integers).\n",
            "WARNING:matplotlib.image:Clipping input data to the valid range for imshow with RGB data ([0..1] for floats or [0..255] for integers).\n",
            "WARNING:matplotlib.image:Clipping input data to the valid range for imshow with RGB data ([0..1] for floats or [0..255] for integers).\n",
            "WARNING:matplotlib.image:Clipping input data to the valid range for imshow with RGB data ([0..1] for floats or [0..255] for integers).\n"
          ]
        },
        {
          "output_type": "display_data",
          "data": {
            "text/plain": [
              "<Figure size 1500x400 with 10 Axes>"
            ],
            "image/png": "[encoded data removed]"
          },
          "metadata": {}
        }
      ],
      "source": [
        "fig, ax = plt.subplots(1, 10, figsize=(15, 4))\n",
        "\n",
        "# Loop over the first 10 samples in the batch\n",
        "for plot_idx in range(10):\n",
        "    # Display the image for the current sample\n",
        "    # permute(1, 2, 0) changes the order of dimensions from (C, H, W) to (H, W, C)\n",
        "    ax[plot_idx].imshow(sample[0][plot_idx].permute(1, 2, 0))\n",
        "\n",
        "    # Set the title of the plot with the corresponding label\n",
        "    ax[plot_idx].set_title('LABEL : {}'.format(sample[1][plot_idx]))\n",
        "\n",
        "    # Remove x and y ticks\n",
        "    ax[plot_idx].set_xticks([])\n",
        "    ax[plot_idx].set_yticks([])\n",
        "\n",
        "# Show the plot\n",
        "plt.show()"
      ]
    },
    {
      "cell_type": "markdown",
      "metadata": {
        "id": "LEjuX7lWIYlb"
      },
      "source": [
        "### Define the Convolutional Neural Networks\n",
        "\n",
        "---\n",
        "\n"
      ]
    },
    {
      "cell_type": "code",
      "execution_count": null,
      "metadata": {
        "id": "Cx-fxCW5JD_w"
      },
      "outputs": [],
      "source": [
        "\n",
        "\n",
        "# 3x3 Convolution 정의\n",
        "def conv3x3(in_channels, out_channels, stride=1):\n",
        "    return nn.Conv2d(in_channels, out_channels, kernel_size=3, stride=stride, padding=1, bias=False)\n",
        "\n",
        "# BasicBlock 정의\n",
        "class BasicBlock(nn.Module):\n",
        "    def __init__(self, in_channels, out_channels, stride=1, downsample=None):\n",
        "        super(BasicBlock, self).__init__()\n",
        "        self.conv1 = conv3x3(in_channels, out_channels, stride)\n",
        "        self.bn1 = nn.BatchNorm2d(out_channels)\n",
        "        self.relu = nn.ReLU(inplace=True)\n",
        "        self.conv2 = conv3x3(out_channels, out_channels)\n",
        "        self.bn2 = nn.BatchNorm2d(out_channels)\n",
        "        self.downsample = downsample\n",
        "\n",
        "    def forward(self, x):\n",
        "        identity = x\n",
        "\n",
        "        out = self.conv1(x)\n",
        "        out = self.bn1(out)\n",
        "        out = self.relu(out)\n",
        "\n",
        "        out = self.conv2(out)\n",
        "        out = self.bn2(out)\n",
        "\n",
        "        if self.downsample is not None:\n",
        "            identity = self.downsample(x)\n",
        "\n",
        "        out += identity\n",
        "        out = self.relu(out)\n",
        "\n",
        "        return out\n",
        "\n",
        "# ResNet 모델 정의\n",
        "class MyModel(nn.Module):\n",
        "    def __init__(self, img_size=32, num_class=100):\n",
        "        super(MyModel, self).__init__()\n",
        "\n",
        "        self.img_size = img_size\n",
        "        self.num_class = num_class\n",
        "        # Initialize in_channels here\n",
        "        self.in_channels = 64\n",
        "\n",
        "        # Define the layers of ResNet manually based on ResNet architecture principles\n",
        "        self.conv1 = nn.Conv2d(3, 64, kernel_size=3, stride=1, padding=1, bias=False)\n",
        "        self.bn1 = nn.BatchNorm2d(64)\n",
        "        self.relu = nn.ReLU(inplace=True)\n",
        "        self.layer1 = self._make_layer(BasicBlock, 64, 3)\n",
        "        self.layer2 = self._make_layer(BasicBlock, 128, 4, stride=2)\n",
        "        self.layer3 = self._make_layer(BasicBlock, 256, 6, stride=2)\n",
        "        self.layer4 = self._make_layer(BasicBlock, 512, 3, stride=2)\n",
        "        self.avgpool = nn.AdaptiveAvgPool2d((1, 1))\n",
        "        self.fc = nn.Linear(512, num_class)\n",
        "\n",
        "    def _make_layer(self, block, out_channels, blocks, stride=1):\n",
        "        downsample = None\n",
        "        if stride != 1 or self.in_channels != out_channels:\n",
        "            downsample = nn.Sequential(\n",
        "                nn.Conv2d(self.in_channels, out_channels, kernel_size=1, stride=stride, bias=False),\n",
        "                nn.BatchNorm2d(out_channels),\n",
        "            )\n",
        "\n",
        "        layers = []\n",
        "        layers.append(block(self.in_channels, out_channels, stride, downsample))\n",
        "        self.in_channels = out_channels\n",
        "        for _ in range(1, blocks):\n",
        "            layers.append(block(out_channels, out_channels))\n",
        "\n",
        "        return nn.Sequential(*layers)\n",
        "\n",
        "    def forward(self, x):\n",
        "        x = self.conv1(x)\n",
        "        x = self.bn1(x)\n",
        "        x = self.relu(x)\n",
        "\n",
        "        x = self.layer1(x)\n",
        "        x = self.layer2(x)\n",
        "        x = self.layer3(x)\n",
        "        x = self.layer4(x)\n",
        "\n",
        "        x = self.avgpool(x)\n",
        "        x = torch.flatten(x, 1)\n",
        "        out = self.fc(x)\n",
        "\n",
        "        return out\n"
      ]
    },
    {
      "cell_type": "markdown",
      "metadata": {
        "id": "r4hjFl4-IsqO"
      },
      "source": [
        "### Define the Model"
      ]
    },
    {
      "cell_type": "code",
      "execution_count": null,
      "metadata": {
        "id": "ZWtw-y-MKuv1",
        "collapsed": true,
        "outputId": "a8ca1c9a-0a55-4e8a-cdd3-30a20621e386",
        "colab": {
          "base_uri": "https://localhost:8080/"
        }
      },
      "outputs": [
        {
          "output_type": "stream",
          "name": "stdout",
          "text": [
            "MyModel(\n",
            "  (conv1): Conv2d(3, 64, kernel_size=(3, 3), stride=(1, 1), padding=(1, 1), bias=False)\n",
            "  (bn1): BatchNorm2d(64, eps=1e-05, momentum=0.1, affine=True, track_running_stats=True)\n",
            "  (relu): ReLU(inplace=True)\n",
            "  (layer1): Sequential(\n",
            "    (0): BasicBlock(\n",
            "      (conv1): Conv2d(64, 64, kernel_size=(3, 3), stride=(1, 1), padding=(1, 1), bias=False)\n",
            "      (bn1): BatchNorm2d(64, eps=1e-05, momentum=0.1, affine=True, track_running_stats=True)\n",
            "      (relu): ReLU(inplace=True)\n",
            "      (conv2): Conv2d(64, 64, kernel_size=(3, 3), stride=(1, 1), padding=(1, 1), bias=False)\n",
            "      (bn2): BatchNorm2d(64, eps=1e-05, momentum=0.1, affine=True, track_running_stats=True)\n",
            "    )\n",
            "    (1): BasicBlock(\n",
            "      (conv1): Conv2d(64, 64, kernel_size=(3, 3), stride=(1, 1), padding=(1, 1), bias=False)\n",
            "      (bn1): BatchNorm2d(64, eps=1e-05, momentum=0.1, affine=True, track_running_stats=True)\n",
            "      (relu): ReLU(inplace=True)\n",
            "      (conv2): Conv2d(64, 64, kernel_size=(3, 3), stride=(1, 1), padding=(1, 1), bias=False)\n",
            "      (bn2): BatchNorm2d(64, eps=1e-05, momentum=0.1, affine=True, track_running_stats=True)\n",
            "    )\n",
            "    (2): BasicBlock(\n",
            "      (conv1): Conv2d(64, 64, kernel_size=(3, 3), stride=(1, 1), padding=(1, 1), bias=False)\n",
            "      (bn1): BatchNorm2d(64, eps=1e-05, momentum=0.1, affine=True, track_running_stats=True)\n",
            "      (relu): ReLU(inplace=True)\n",
            "      (conv2): Conv2d(64, 64, kernel_size=(3, 3), stride=(1, 1), padding=(1, 1), bias=False)\n",
            "      (bn2): BatchNorm2d(64, eps=1e-05, momentum=0.1, affine=True, track_running_stats=True)\n",
            "    )\n",
            "  )\n",
            "  (layer2): Sequential(\n",
            "    (0): BasicBlock(\n",
            "      (conv1): Conv2d(64, 128, kernel_size=(3, 3), stride=(2, 2), padding=(1, 1), bias=False)\n",
            "      (bn1): BatchNorm2d(128, eps=1e-05, momentum=0.1, affine=True, track_running_stats=True)\n",
            "      (relu): ReLU(inplace=True)\n",
            "      (conv2): Conv2d(128, 128, kernel_size=(3, 3), stride=(1, 1), padding=(1, 1), bias=False)\n",
            "      (bn2): BatchNorm2d(128, eps=1e-05, momentum=0.1, affine=True, track_running_stats=True)\n",
            "      (downsample): Sequential(\n",
            "        (0): Conv2d(64, 128, kernel_size=(1, 1), stride=(2, 2), bias=False)\n",
            "        (1): BatchNorm2d(128, eps=1e-05, momentum=0.1, affine=True, track_running_stats=True)\n",
            "      )\n",
            "    )\n",
            "    (1): BasicBlock(\n",
            "      (conv1): Conv2d(128, 128, kernel_size=(3, 3), stride=(1, 1), padding=(1, 1), bias=False)\n",
            "      (bn1): BatchNorm2d(128, eps=1e-05, momentum=0.1, affine=True, track_running_stats=True)\n",
            "      (relu): ReLU(inplace=True)\n",
            "      (conv2): Conv2d(128, 128, kernel_size=(3, 3), stride=(1, 1), padding=(1, 1), bias=False)\n",
            "      (bn2): BatchNorm2d(128, eps=1e-05, momentum=0.1, affine=True, track_running_stats=True)\n",
            "    )\n",
            "    (2): BasicBlock(\n",
            "      (conv1): Conv2d(128, 128, kernel_size=(3, 3), stride=(1, 1), padding=(1, 1), bias=False)\n",
            "      (bn1): BatchNorm2d(128, eps=1e-05, momentum=0.1, affine=True, track_running_stats=True)\n",
            "      (relu): ReLU(inplace=True)\n",
            "      (conv2): Conv2d(128, 128, kernel_size=(3, 3), stride=(1, 1), padding=(1, 1), bias=False)\n",
            "      (bn2): BatchNorm2d(128, eps=1e-05, momentum=0.1, affine=True, track_running_stats=True)\n",
            "    )\n",
            "    (3): BasicBlock(\n",
            "      (conv1): Conv2d(128, 128, kernel_size=(3, 3), stride=(1, 1), padding=(1, 1), bias=False)\n",
            "      (bn1): BatchNorm2d(128, eps=1e-05, momentum=0.1, affine=True, track_running_stats=True)\n",
            "      (relu): ReLU(inplace=True)\n",
            "      (conv2): Conv2d(128, 128, kernel_size=(3, 3), stride=(1, 1), padding=(1, 1), bias=False)\n",
            "      (bn2): BatchNorm2d(128, eps=1e-05, momentum=0.1, affine=True, track_running_stats=True)\n",
            "    )\n",
            "  )\n",
            "  (layer3): Sequential(\n",
            "    (0): BasicBlock(\n",
            "      (conv1): Conv2d(128, 256, kernel_size=(3, 3), stride=(2, 2), padding=(1, 1), bias=False)\n",
            "      (bn1): BatchNorm2d(256, eps=1e-05, momentum=0.1, affine=True, track_running_stats=True)\n",
            "      (relu): ReLU(inplace=True)\n",
            "      (conv2): Conv2d(256, 256, kernel_size=(3, 3), stride=(1, 1), padding=(1, 1), bias=False)\n",
            "      (bn2): BatchNorm2d(256, eps=1e-05, momentum=0.1, affine=True, track_running_stats=True)\n",
            "      (downsample): Sequential(\n",
            "        (0): Conv2d(128, 256, kernel_size=(1, 1), stride=(2, 2), bias=False)\n",
            "        (1): BatchNorm2d(256, eps=1e-05, momentum=0.1, affine=True, track_running_stats=True)\n",
            "      )\n",
            "    )\n",
            "    (1): BasicBlock(\n",
            "      (conv1): Conv2d(256, 256, kernel_size=(3, 3), stride=(1, 1), padding=(1, 1), bias=False)\n",
            "      (bn1): BatchNorm2d(256, eps=1e-05, momentum=0.1, affine=True, track_running_stats=True)\n",
            "      (relu): ReLU(inplace=True)\n",
            "      (conv2): Conv2d(256, 256, kernel_size=(3, 3), stride=(1, 1), padding=(1, 1), bias=False)\n",
            "      (bn2): BatchNorm2d(256, eps=1e-05, momentum=0.1, affine=True, track_running_stats=True)\n",
            "    )\n",
            "    (2): BasicBlock(\n",
            "      (conv1): Conv2d(256, 256, kernel_size=(3, 3), stride=(1, 1), padding=(1, 1), bias=False)\n",
            "      (bn1): BatchNorm2d(256, eps=1e-05, momentum=0.1, affine=True, track_running_stats=True)\n",
            "      (relu): ReLU(inplace=True)\n",
            "      (conv2): Conv2d(256, 256, kernel_size=(3, 3), stride=(1, 1), padding=(1, 1), bias=False)\n",
            "      (bn2): BatchNorm2d(256, eps=1e-05, momentum=0.1, affine=True, track_running_stats=True)\n",
            "    )\n",
            "    (3): BasicBlock(\n",
            "      (conv1): Conv2d(256, 256, kernel_size=(3, 3), stride=(1, 1), padding=(1, 1), bias=False)\n",
            "      (bn1): BatchNorm2d(256, eps=1e-05, momentum=0.1, affine=True, track_running_stats=True)\n",
            "      (relu): ReLU(inplace=True)\n",
            "      (conv2): Conv2d(256, 256, kernel_size=(3, 3), stride=(1, 1), padding=(1, 1), bias=False)\n",
            "      (bn2): BatchNorm2d(256, eps=1e-05, momentum=0.1, affine=True, track_running_stats=True)\n",
            "    )\n",
            "    (4): BasicBlock(\n",
            "      (conv1): Conv2d(256, 256, kernel_size=(3, 3), stride=(1, 1), padding=(1, 1), bias=False)\n",
            "      (bn1): BatchNorm2d(256, eps=1e-05, momentum=0.1, affine=True, track_running_stats=True)\n",
            "      (relu): ReLU(inplace=True)\n",
            "      (conv2): Conv2d(256, 256, kernel_size=(3, 3), stride=(1, 1), padding=(1, 1), bias=False)\n",
            "      (bn2): BatchNorm2d(256, eps=1e-05, momentum=0.1, affine=True, track_running_stats=True)\n",
            "    )\n",
            "    (5): BasicBlock(\n",
            "      (conv1): Conv2d(256, 256, kernel_size=(3, 3), stride=(1, 1), padding=(1, 1), bias=False)\n",
            "      (bn1): BatchNorm2d(256, eps=1e-05, momentum=0.1, affine=True, track_running_stats=True)\n",
            "      (relu): ReLU(inplace=True)\n",
            "      (conv2): Conv2d(256, 256, kernel_size=(3, 3), stride=(1, 1), padding=(1, 1), bias=False)\n",
            "      (bn2): BatchNorm2d(256, eps=1e-05, momentum=0.1, affine=True, track_running_stats=True)\n",
            "    )\n",
            "  )\n",
            "  (layer4): Sequential(\n",
            "    (0): BasicBlock(\n",
            "      (conv1): Conv2d(256, 512, kernel_size=(3, 3), stride=(2, 2), padding=(1, 1), bias=False)\n",
            "      (bn1): BatchNorm2d(512, eps=1e-05, momentum=0.1, affine=True, track_running_stats=True)\n",
            "      (relu): ReLU(inplace=True)\n",
            "      (conv2): Conv2d(512, 512, kernel_size=(3, 3), stride=(1, 1), padding=(1, 1), bias=False)\n",
            "      (bn2): BatchNorm2d(512, eps=1e-05, momentum=0.1, affine=True, track_running_stats=True)\n",
            "      (downsample): Sequential(\n",
            "        (0): Conv2d(256, 512, kernel_size=(1, 1), stride=(2, 2), bias=False)\n",
            "        (1): BatchNorm2d(512, eps=1e-05, momentum=0.1, affine=True, track_running_stats=True)\n",
            "      )\n",
            "    )\n",
            "    (1): BasicBlock(\n",
            "      (conv1): Conv2d(512, 512, kernel_size=(3, 3), stride=(1, 1), padding=(1, 1), bias=False)\n",
            "      (bn1): BatchNorm2d(512, eps=1e-05, momentum=0.1, affine=True, track_running_stats=True)\n",
            "      (relu): ReLU(inplace=True)\n",
            "      (conv2): Conv2d(512, 512, kernel_size=(3, 3), stride=(1, 1), padding=(1, 1), bias=False)\n",
            "      (bn2): BatchNorm2d(512, eps=1e-05, momentum=0.1, affine=True, track_running_stats=True)\n",
            "    )\n",
            "    (2): BasicBlock(\n",
            "      (conv1): Conv2d(512, 512, kernel_size=(3, 3), stride=(1, 1), padding=(1, 1), bias=False)\n",
            "      (bn1): BatchNorm2d(512, eps=1e-05, momentum=0.1, affine=True, track_running_stats=True)\n",
            "      (relu): ReLU(inplace=True)\n",
            "      (conv2): Conv2d(512, 512, kernel_size=(3, 3), stride=(1, 1), padding=(1, 1), bias=False)\n",
            "      (bn2): BatchNorm2d(512, eps=1e-05, momentum=0.1, affine=True, track_running_stats=True)\n",
            "    )\n",
            "  )\n",
            "  (avgpool): AdaptiveAvgPool2d(output_size=(1, 1))\n",
            "  (fc): Linear(in_features=512, out_features=100, bias=True)\n",
            ")\n"
          ]
        }
      ],
      "source": [
        "model = MyModel()\n",
        "model = model.to(device)\n",
        "\n",
        "# Define the optimizer for updating the model parameters using the Adam optimizer\n",
        "optimizer = optim.SGD(model.parameters(), momentum = 0.9, lr=1e-2, weight_decay=1e-5)\n",
        "\n",
        "# Print the model architecture\n",
        "print(model)"
      ]
    },
    {
      "cell_type": "markdown",
      "metadata": {
        "id": "DUSpLgVXIwqG"
      },
      "source": [
        "### Define functions for train/test"
      ]
    },
    {
      "cell_type": "code",
      "execution_count": null,
      "metadata": {
        "id": "Q9pXkpAMK42y"
      },
      "outputs": [],
      "source": [
        "def train(model, optimizer, sample):\n",
        "    # Set the model to training mode\n",
        "    model.train()\n",
        "\n",
        "    # Define the loss function and reset the gradients\n",
        "    criterion = nn.CrossEntropyLoss()\n",
        "    optimizer.zero_grad()\n",
        "\n",
        "    # Get the input image and label from the sample\n",
        "    img = sample[0].float().to(device)\n",
        "    label = sample[1].long().to(device)\n",
        "\n",
        "    # Forward pass: compute predicted outputs by passing inputs to the model\n",
        "    # Compute the number of correct predictions\n",
        "    pred = model(img)\n",
        "    num_correct = sum(torch.argmax(pred, dim=-1) == label)\n",
        "\n",
        "    # Calculate the loss, Compute gradients, and Update weights\n",
        "    pred_loss = criterion(pred, label)\n",
        "    pred_loss.backward()\n",
        "    optimizer.step()\n",
        "\n",
        "    # Return the loss and the number of correct predictions\n",
        "    return pred_loss.item(), num_correct.item()"
      ]
    },
    {
      "cell_type": "code",
      "execution_count": null,
      "metadata": {
        "id": "MhcKwq8WOUGu"
      },
      "outputs": [],
      "source": [
        "def test(model, sample):\n",
        "    # Set the model to evaluation mode\n",
        "    model.eval()\n",
        "\n",
        "    # Define the criterion for calculating the loss\n",
        "    criterion = nn.CrossEntropyLoss()\n",
        "\n",
        "    # Disable gradient computation for testing\n",
        "    with torch.no_grad():\n",
        "        # Extract the image and label from the sample\n",
        "        img = sample[0].float().to(device)\n",
        "        label = sample[1].long().to(device)\n",
        "\n",
        "        # Perform forward pass to get predictions from the model\n",
        "        # Calculate the loss based on the predictions and labels\n",
        "        pred = model(img)\n",
        "        pred_loss = criterion(pred, label)\n",
        "\n",
        "        # Count the number of correctly predicted samples\n",
        "        num_correct = sum(torch.argmax(pred, dim=-1) == label)\n",
        "\n",
        "    # Return the loss and the number of correctly predicted samples\n",
        "    return pred_loss.item(), num_correct.item()"
      ]
    },
    {
      "cell_type": "markdown",
      "metadata": {
        "id": "T23Toz8vI7Gu"
      },
      "source": [
        "### Run Training"
      ]
    },
    {
      "cell_type": "code",
      "execution_count": null,
      "metadata": {
        "id": "-kTrpt4YMRS6",
        "outputId": "764b82f8-ceb8-4b99-b977-6fb4f6dd6caa",
        "colab": {
          "base_uri": "https://localhost:8080/",
          "height": 1000,
          "referenced_widgets": [
            "f4986a29975f4b25bd52fca3f7ad8c14",
            "a392c92574f54f37a695fb75b15c66be",
            "1b2ae7178f4944afb46ff674b1dac0f6",
            "58a68e8c53ab471d9867e93259f3e085",
            "aad5cd725f324db6ba13b6a47eee587a",
            "1804a9a1eb7f4f0faa1bbee8603ddf00",
            "4449265decfe4130b5fddd570aa745d7",
            "1c3efb6e87834034bf949971f4a1fa51",
            "89ddb4da9d7041b78f828ceebda4a0d8",
            "aaab954af1d84c96a2933116980085db",
            "8f4ee5016d2d4ff7a792e861d2a5820c"
          ]
        }
      },
      "outputs": [
        {
          "data": {
            "application/vnd.jupyter.widget-view+json": {
              "model_id": "f4986a29975f4b25bd52fca3f7ad8c14",
              "version_major": 2,
              "version_minor": 0
            },
            "text/plain": [
              "  0%|          | 0/100 [00:00<?, ?it/s]"
            ]
          },
          "metadata": {},
          "output_type": "display_data"
        },
        {
          "output_type": "stream",
          "name": "stdout",
          "text": [
            "[EPOCH 1] TR LOSS : 4.064, TE LOSS : 3.769, TR ACCU: 0.077, TE ACCU : 0.124\n",
            "[EPOCH 2] TR LOSS : 3.522, TE LOSS : 3.427, TR ACCU: 0.155, TE ACCU : 0.174\n",
            "[EPOCH 3] TR LOSS : 3.205, TE LOSS : 3.066, TR ACCU: 0.209, TE ACCU : 0.246\n",
            "[EPOCH 4] TR LOSS : 2.947, TE LOSS : 3.166, TR ACCU: 0.258, TE ACCU : 0.242\n",
            "[EPOCH 5] TR LOSS : 2.737, TE LOSS : 2.773, TR ACCU: 0.296, TE ACCU : 0.297\n",
            "[EPOCH 6] TR LOSS : 2.556, TE LOSS : 2.724, TR ACCU: 0.334, TE ACCU : 0.331\n",
            "[EPOCH 7] TR LOSS : 2.405, TE LOSS : 2.682, TR ACCU: 0.366, TE ACCU : 0.336\n",
            "[EPOCH 8] TR LOSS : 2.271, TE LOSS : 2.309, TR ACCU: 0.395, TE ACCU : 0.391\n",
            "[EPOCH 9] TR LOSS : 2.167, TE LOSS : 2.192, TR ACCU: 0.414, TE ACCU : 0.423\n",
            "[EPOCH 10] TR LOSS : 2.055, TE LOSS : 2.052, TR ACCU: 0.441, TE ACCU : 0.441\n",
            "[EPOCH 11] TR LOSS : 1.972, TE LOSS : 2.097, TR ACCU: 0.459, TE ACCU : 0.442\n",
            "[EPOCH 12] TR LOSS : 1.902, TE LOSS : 1.990, TR ACCU: 0.477, TE ACCU : 0.466\n",
            "[EPOCH 13] TR LOSS : 1.832, TE LOSS : 2.104, TR ACCU: 0.490, TE ACCU : 0.452\n",
            "[EPOCH 14] TR LOSS : 1.764, TE LOSS : 1.872, TR ACCU: 0.509, TE ACCU : 0.493\n",
            "[EPOCH 15] TR LOSS : 1.707, TE LOSS : 1.780, TR ACCU: 0.522, TE ACCU : 0.511\n",
            "[EPOCH 16] TR LOSS : 1.643, TE LOSS : 1.757, TR ACCU: 0.538, TE ACCU : 0.524\n",
            "[EPOCH 17] TR LOSS : 1.594, TE LOSS : 1.807, TR ACCU: 0.547, TE ACCU : 0.506\n",
            "[EPOCH 18] TR LOSS : 1.547, TE LOSS : 1.682, TR ACCU: 0.561, TE ACCU : 0.539\n",
            "[EPOCH 19] TR LOSS : 1.509, TE LOSS : 1.711, TR ACCU: 0.570, TE ACCU : 0.532\n",
            "[EPOCH 20] TR LOSS : 1.457, TE LOSS : 1.766, TR ACCU: 0.583, TE ACCU : 0.531\n",
            "[EPOCH 21] TR LOSS : 1.419, TE LOSS : 1.633, TR ACCU: 0.594, TE ACCU : 0.552\n",
            "[EPOCH 22] TR LOSS : 1.379, TE LOSS : 1.684, TR ACCU: 0.602, TE ACCU : 0.553\n",
            "[EPOCH 23] TR LOSS : 1.346, TE LOSS : 1.614, TR ACCU: 0.609, TE ACCU : 0.566\n",
            "[EPOCH 24] TR LOSS : 1.307, TE LOSS : 1.612, TR ACCU: 0.619, TE ACCU : 0.565\n",
            "[EPOCH 25] TR LOSS : 1.273, TE LOSS : 1.649, TR ACCU: 0.629, TE ACCU : 0.566\n",
            "[EPOCH 26] TR LOSS : 1.232, TE LOSS : 1.544, TR ACCU: 0.640, TE ACCU : 0.581\n",
            "[EPOCH 27] TR LOSS : 1.211, TE LOSS : 1.560, TR ACCU: 0.645, TE ACCU : 0.586\n",
            "[EPOCH 28] TR LOSS : 1.178, TE LOSS : 1.649, TR ACCU: 0.652, TE ACCU : 0.569\n",
            "[EPOCH 29] TR LOSS : 1.157, TE LOSS : 1.539, TR ACCU: 0.660, TE ACCU : 0.592\n",
            "[EPOCH 30] TR LOSS : 1.121, TE LOSS : 1.695, TR ACCU: 0.669, TE ACCU : 0.556\n",
            "[EPOCH 31] TR LOSS : 1.092, TE LOSS : 1.653, TR ACCU: 0.677, TE ACCU : 0.580\n",
            "[EPOCH 32] TR LOSS : 1.069, TE LOSS : 1.600, TR ACCU: 0.682, TE ACCU : 0.588\n",
            "[EPOCH 33] TR LOSS : 1.045, TE LOSS : 1.516, TR ACCU: 0.688, TE ACCU : 0.604\n",
            "[EPOCH 34] TR LOSS : 1.022, TE LOSS : 1.545, TR ACCU: 0.695, TE ACCU : 0.600\n",
            "[EPOCH 35] TR LOSS : 0.980, TE LOSS : 1.480, TR ACCU: 0.707, TE ACCU : 0.618\n",
            "[EPOCH 36] TR LOSS : 0.972, TE LOSS : 1.476, TR ACCU: 0.704, TE ACCU : 0.618\n",
            "[EPOCH 37] TR LOSS : 0.936, TE LOSS : 1.517, TR ACCU: 0.716, TE ACCU : 0.615\n",
            "[EPOCH 38] TR LOSS : 0.927, TE LOSS : 1.473, TR ACCU: 0.719, TE ACCU : 0.619\n",
            "[EPOCH 39] TR LOSS : 0.899, TE LOSS : 1.563, TR ACCU: 0.727, TE ACCU : 0.610\n",
            "[EPOCH 40] TR LOSS : 0.876, TE LOSS : 1.580, TR ACCU: 0.732, TE ACCU : 0.605\n",
            "[EPOCH 41] TR LOSS : 0.858, TE LOSS : 1.599, TR ACCU: 0.740, TE ACCU : 0.607\n",
            "[EPOCH 42] TR LOSS : 0.827, TE LOSS : 1.575, TR ACCU: 0.746, TE ACCU : 0.617\n",
            "[EPOCH 43] TR LOSS : 0.813, TE LOSS : 1.468, TR ACCU: 0.750, TE ACCU : 0.634\n",
            "[EPOCH 44] TR LOSS : 0.792, TE LOSS : 1.548, TR ACCU: 0.757, TE ACCU : 0.627\n",
            "[EPOCH 45] TR LOSS : 0.781, TE LOSS : 1.498, TR ACCU: 0.760, TE ACCU : 0.627\n",
            "[EPOCH 46] TR LOSS : 0.755, TE LOSS : 1.561, TR ACCU: 0.767, TE ACCU : 0.621\n",
            "[EPOCH 47] TR LOSS : 0.739, TE LOSS : 1.494, TR ACCU: 0.770, TE ACCU : 0.637\n",
            "[EPOCH 48] TR LOSS : 0.720, TE LOSS : 1.564, TR ACCU: 0.780, TE ACCU : 0.625\n",
            "[EPOCH 49] TR LOSS : 0.705, TE LOSS : 1.589, TR ACCU: 0.783, TE ACCU : 0.628\n",
            "[EPOCH 50] TR LOSS : 0.694, TE LOSS : 1.527, TR ACCU: 0.784, TE ACCU : 0.641\n",
            "[EPOCH 51] TR LOSS : 0.682, TE LOSS : 1.546, TR ACCU: 0.788, TE ACCU : 0.631\n",
            "[EPOCH 52] TR LOSS : 0.655, TE LOSS : 1.599, TR ACCU: 0.797, TE ACCU : 0.629\n",
            "[EPOCH 53] TR LOSS : 0.640, TE LOSS : 1.618, TR ACCU: 0.802, TE ACCU : 0.628\n",
            "[EPOCH 54] TR LOSS : 0.636, TE LOSS : 1.609, TR ACCU: 0.802, TE ACCU : 0.631\n",
            "[EPOCH 55] TR LOSS : 0.618, TE LOSS : 1.490, TR ACCU: 0.807, TE ACCU : 0.649\n",
            "[EPOCH 56] TR LOSS : 0.600, TE LOSS : 1.578, TR ACCU: 0.813, TE ACCU : 0.635\n",
            "[EPOCH 57] TR LOSS : 0.580, TE LOSS : 1.569, TR ACCU: 0.817, TE ACCU : 0.639\n",
            "[EPOCH 58] TR LOSS : 0.554, TE LOSS : 1.597, TR ACCU: 0.825, TE ACCU : 0.635\n",
            "[EPOCH 59] TR LOSS : 0.563, TE LOSS : 1.626, TR ACCU: 0.823, TE ACCU : 0.640\n",
            "[EPOCH 60] TR LOSS : 0.546, TE LOSS : 1.614, TR ACCU: 0.830, TE ACCU : 0.640\n",
            "[EPOCH 61] TR LOSS : 0.529, TE LOSS : 1.630, TR ACCU: 0.833, TE ACCU : 0.643\n",
            "[EPOCH 62] TR LOSS : 0.526, TE LOSS : 1.643, TR ACCU: 0.835, TE ACCU : 0.638\n",
            "[EPOCH 63] TR LOSS : 0.505, TE LOSS : 1.666, TR ACCU: 0.841, TE ACCU : 0.639\n",
            "[EPOCH 64] TR LOSS : 0.488, TE LOSS : 1.629, TR ACCU: 0.847, TE ACCU : 0.646\n",
            "[EPOCH 65] TR LOSS : 0.486, TE LOSS : 1.650, TR ACCU: 0.847, TE ACCU : 0.639\n",
            "[EPOCH 66] TR LOSS : 0.470, TE LOSS : 1.572, TR ACCU: 0.853, TE ACCU : 0.654\n",
            "[EPOCH 67] TR LOSS : 0.460, TE LOSS : 1.592, TR ACCU: 0.855, TE ACCU : 0.655\n",
            "[EPOCH 68] TR LOSS : 0.455, TE LOSS : 1.656, TR ACCU: 0.857, TE ACCU : 0.648\n",
            "[EPOCH 69] TR LOSS : 0.445, TE LOSS : 1.724, TR ACCU: 0.860, TE ACCU : 0.640\n",
            "[EPOCH 70] TR LOSS : 0.431, TE LOSS : 1.632, TR ACCU: 0.864, TE ACCU : 0.652\n",
            "[EPOCH 71] TR LOSS : 0.422, TE LOSS : 1.623, TR ACCU: 0.866, TE ACCU : 0.658\n",
            "[EPOCH 72] TR LOSS : 0.409, TE LOSS : 1.634, TR ACCU: 0.871, TE ACCU : 0.655\n",
            "[EPOCH 73] TR LOSS : 0.405, TE LOSS : 1.673, TR ACCU: 0.873, TE ACCU : 0.651\n",
            "[EPOCH 74] TR LOSS : 0.395, TE LOSS : 1.687, TR ACCU: 0.876, TE ACCU : 0.648\n",
            "[EPOCH 75] TR LOSS : 0.385, TE LOSS : 1.599, TR ACCU: 0.879, TE ACCU : 0.658\n",
            "[EPOCH 76] TR LOSS : 0.376, TE LOSS : 1.678, TR ACCU: 0.882, TE ACCU : 0.657\n",
            "[EPOCH 77] TR LOSS : 0.367, TE LOSS : 1.794, TR ACCU: 0.884, TE ACCU : 0.647\n",
            "[EPOCH 78] TR LOSS : 0.368, TE LOSS : 1.710, TR ACCU: 0.886, TE ACCU : 0.650\n",
            "[EPOCH 79] TR LOSS : 0.356, TE LOSS : 1.662, TR ACCU: 0.887, TE ACCU : 0.656\n",
            "[EPOCH 80] TR LOSS : 0.362, TE LOSS : 1.670, TR ACCU: 0.888, TE ACCU : 0.658\n",
            "[EPOCH 81] TR LOSS : 0.343, TE LOSS : 1.732, TR ACCU: 0.893, TE ACCU : 0.651\n",
            "[EPOCH 82] TR LOSS : 0.332, TE LOSS : 1.764, TR ACCU: 0.897, TE ACCU : 0.654\n",
            "[EPOCH 83] TR LOSS : 0.322, TE LOSS : 1.711, TR ACCU: 0.898, TE ACCU : 0.656\n",
            "[EPOCH 84] TR LOSS : 0.318, TE LOSS : 1.639, TR ACCU: 0.900, TE ACCU : 0.664\n",
            "[EPOCH 85] TR LOSS : 0.315, TE LOSS : 1.705, TR ACCU: 0.901, TE ACCU : 0.660\n",
            "[EPOCH 86] TR LOSS : 0.315, TE LOSS : 1.710, TR ACCU: 0.903, TE ACCU : 0.652\n",
            "[EPOCH 87] TR LOSS : 0.309, TE LOSS : 1.771, TR ACCU: 0.903, TE ACCU : 0.650\n",
            "[EPOCH 88] TR LOSS : 0.303, TE LOSS : 1.751, TR ACCU: 0.904, TE ACCU : 0.658\n",
            "[EPOCH 89] TR LOSS : 0.294, TE LOSS : 1.716, TR ACCU: 0.908, TE ACCU : 0.658\n",
            "[EPOCH 90] TR LOSS : 0.284, TE LOSS : 1.766, TR ACCU: 0.911, TE ACCU : 0.657\n",
            "[EPOCH 91] TR LOSS : 0.292, TE LOSS : 1.800, TR ACCU: 0.908, TE ACCU : 0.656\n",
            "[EPOCH 92] TR LOSS : 0.282, TE LOSS : 1.754, TR ACCU: 0.912, TE ACCU : 0.661\n",
            "[EPOCH 93] TR LOSS : 0.281, TE LOSS : 1.717, TR ACCU: 0.913, TE ACCU : 0.664\n",
            "[EPOCH 94] TR LOSS : 0.271, TE LOSS : 1.853, TR ACCU: 0.916, TE ACCU : 0.648\n",
            "[EPOCH 95] TR LOSS : 0.271, TE LOSS : 1.803, TR ACCU: 0.915, TE ACCU : 0.660\n",
            "[EPOCH 96] TR LOSS : 0.272, TE LOSS : 1.788, TR ACCU: 0.914, TE ACCU : 0.656\n",
            "[EPOCH 97] TR LOSS : 0.259, TE LOSS : 1.779, TR ACCU: 0.920, TE ACCU : 0.652\n",
            "[EPOCH 98] TR LOSS : 0.254, TE LOSS : 1.820, TR ACCU: 0.921, TE ACCU : 0.662\n",
            "[EPOCH 99] TR LOSS : 0.254, TE LOSS : 1.759, TR ACCU: 0.921, TE ACCU : 0.663\n",
            "[EPOCH 100] TR LOSS : 0.251, TE LOSS : 1.749, TR ACCU: 0.922, TE ACCU : 0.666\n"
          ]
        }
      ],
      "source": [
        "max_epoch = 100\n",
        "\n",
        "# Lists to store training and testing losses\n",
        "tr_loss_saver = []\n",
        "te_loss_saver = []\n",
        "\n",
        "# Iterate over each epoch\n",
        "for epoch in tqdm(range(max_epoch)):\n",
        "    ### Train Phase\n",
        "\n",
        "    # Initialize Loss and Accuracy for training phase\n",
        "    train_loss = 0.0\n",
        "    train_accu = 0.0\n",
        "\n",
        "    # Iterate over the train_dataloader\n",
        "    for idx, sample in enumerate(train_dataloader):\n",
        "        # Call the train function to perform training on the current batch\n",
        "        curr_loss, num_correct = train(model, optimizer, sample)\n",
        "\n",
        "        # Update the total training loss and accuracy\n",
        "        train_loss += curr_loss / len(train_dataloader)\n",
        "        train_accu += num_correct / len(train_dataset)\n",
        "\n",
        "    # Save the training loss\n",
        "    tr_loss_saver.append(train_loss)\n",
        "\n",
        "    # Save the model state after each epoch\n",
        "    torch.save(model.state_dict(), 'recent.pth')\n",
        "\n",
        "    ### Test Phase\n",
        "\n",
        "    # Initialize Loss and Accuracy for testing phase\n",
        "    test_loss = 0.0\n",
        "    test_accu = 0.0\n",
        "\n",
        "    # Iterate over the test_dataloader\n",
        "    for idx, sample in enumerate(test_dataloader):\n",
        "        # Call the test function to evaluate the model on the current batch\n",
        "        curr_loss, num_correct = test(model, sample)\n",
        "\n",
        "        # Update the total testing loss and accuracy\n",
        "        test_loss += curr_loss / len(test_dataloader)\n",
        "        test_accu += num_correct / len(test_dataset)\n",
        "\n",
        "    # Save the testing loss\n",
        "    te_loss_saver.append(test_loss)\n",
        "\n",
        "    # Print the epoch-wise training and testing statistics\n",
        "    print('[EPOCH {}] TR LOSS : {:.03f}, TE LOSS : {:.03f}, TR ACCU: {:.03f}, TE ACCU : {:.03f}'.format(epoch+1, train_loss, test_loss, train_accu, test_accu))\n"
      ]
    },
    {
      "cell_type": "code",
      "execution_count": null,
      "metadata": {
        "id": "IThEIxT6TSTr",
        "outputId": "6edfd242-cb92-4ead-c4bf-4cf2b9d65ffa",
        "colab": {
          "base_uri": "https://localhost:8080/",
          "height": 333
        }
      },
      "outputs": [
        {
          "output_type": "display_data",
          "data": {
            "text/plain": [
              "<Figure size 400x300 with 1 Axes>"
            ],
            "image/png": "[encoded data removed]"
          },
          "metadata": {}
        }
      ],
      "source": [
        "plt.figure(figsize=(4, 3))\n",
        "plt.plot(tr_loss_saver)  # Plot the training loss\n",
        "plt.plot(te_loss_saver)  # Plot the testing loss\n",
        "plt.legend(['Train Loss', 'Test Loss'])  # Add legend to the plot\n",
        "plt.xlabel('Epoch')  # Label for the x-axis\n",
        "plt.ylabel('Loss')  # Label for the y-axis\n",
        "plt.title('Train and Test Loss')  # Title of the plot\n",
        "plt.show()  # Display the plot"
      ]
    }
  ],
  "metadata": {
    "accelerator": "GPU",
    "colab": {
      "gpuType": "T4",
      "provenance": [],
      "include_colab_link": true
    },
    "kernelspec": {
      "display_name": "Python 3",
      "name": "python3"
    },
    "widgets": {
      "application/vnd.jupyter.widget-state+json": {
        "f4986a29975f4b25bd52fca3f7ad8c14": {
          "model_module": "@jupyter-widgets/controls",
          "model_name": "HBoxModel",
          "model_module_version": "1.5.0",
          "state": {
            "_dom_classes": [],
            "_model_module": "@jupyter-widgets/controls",
            "_model_module_version": "1.5.0",
            "_model_name": "HBoxModel",
            "_view_count": null,
            "_view_module": "@jupyter-widgets/controls",
            "_view_module_version": "1.5.0",
            "_view_name": "HBoxView",
            "box_style": "",
            "children": [
              "IPY_MODEL_a392c92574f54f37a695fb75b15c66be",
              "IPY_MODEL_1b2ae7178f4944afb46ff674b1dac0f6",
              "IPY_MODEL_58a68e8c53ab471d9867e93259f3e085"
            ],
            "layout": "IPY_MODEL_aad5cd725f324db6ba13b6a47eee587a"
          }
        },
        "a392c92574f54f37a695fb75b15c66be": {
          "model_module": "@jupyter-widgets/controls",
          "model_name": "HTMLModel",
          "model_module_version": "1.5.0",
          "state": {
            "_dom_classes": [],
            "_model_module": "@jupyter-widgets/controls",
            "_model_module_version": "1.5.0",
            "_model_name": "HTMLModel",
            "_view_count": null,
            "_view_module": "@jupyter-widgets/controls",
            "_view_module_version": "1.5.0",
            "_view_name": "HTMLView",
            "description": "",
            "description_tooltip": null,
            "layout": "IPY_MODEL_1804a9a1eb7f4f0faa1bbee8603ddf00",
            "placeholder": "​",
            "style": "IPY_MODEL_4449265decfe4130b5fddd570aa745d7",
            "value": "100%"
          }
        },
        "1b2ae7178f4944afb46ff674b1dac0f6": {
          "model_module": "@jupyter-widgets/controls",
          "model_name": "FloatProgressModel",
          "model_module_version": "1.5.0",
          "state": {
            "_dom_classes": [],
            "_model_module": "@jupyter-widgets/controls",
            "_model_module_version": "1.5.0",
            "_model_name": "FloatProgressModel",
            "_view_count": null,
            "_view_module": "@jupyter-widgets/controls",
            "_view_module_version": "1.5.0",
            "_view_name": "ProgressView",
            "bar_style": "success",
            "description": "",
            "description_tooltip": null,
            "layout": "IPY_MODEL_1c3efb6e87834034bf949971f4a1fa51",
            "max": 100,
            "min": 0,
            "orientation": "horizontal",
            "style": "IPY_MODEL_89ddb4da9d7041b78f828ceebda4a0d8",
            "value": 100
          }
        },
        "58a68e8c53ab471d9867e93259f3e085": {
          "model_module": "@jupyter-widgets/controls",
          "model_name": "HTMLModel",
          "model_module_version": "1.5.0",
          "state": {
            "_dom_classes": [],
            "_model_module": "@jupyter-widgets/controls",
            "_model_module_version": "1.5.0",
            "_model_name": "HTMLModel",
            "_view_count": null,
            "_view_module": "@jupyter-widgets/controls",
            "_view_module_version": "1.5.0",
            "_view_name": "HTMLView",
            "description": "",
            "description_tooltip": null,
            "layout": "IPY_MODEL_aaab954af1d84c96a2933116980085db",
            "placeholder": "​",
            "style": "IPY_MODEL_8f4ee5016d2d4ff7a792e861d2a5820c",
            "value": " 100/100 [3:01:42&lt;00:00, 108.26s/it]"
          }
        },
        "aad5cd725f324db6ba13b6a47eee587a": {
          "model_module": "@jupyter-widgets/base",
          "model_name": "LayoutModel",
          "model_module_version": "1.2.0",
          "state": {
            "_model_module": "@jupyter-widgets/base",
            "_model_module_version": "1.2.0",
            "_model_name": "LayoutModel",
            "_view_count": null,
            "_view_module": "@jupyter-widgets/base",
            "_view_module_version": "1.2.0",
            "_view_name": "LayoutView",
            "align_content": null,
            "align_items": null,
            "align_self": null,
            "border": null,
            "bottom": null,
            "display": null,
            "flex": null,
            "flex_flow": null,
            "grid_area": null,
            "grid_auto_columns": null,
            "grid_auto_flow": null,
            "grid_auto_rows": null,
            "grid_column": null,
            "grid_gap": null,
            "grid_row": null,
            "grid_template_areas": null,
            "grid_template_columns": null,
            "grid_template_rows": null,
            "height": null,
            "justify_content": null,
            "justify_items": null,
            "left": null,
            "margin": null,
            "max_height": null,
            "max_width": null,
            "min_height": null,
            "min_width": null,
            "object_fit": null,
            "object_position": null,
            "order": null,
            "overflow": null,
            "overflow_x": null,
            "overflow_y": null,
            "padding": null,
            "right": null,
            "top": null,
            "visibility": null,
            "width": null
          }
        },
        "1804a9a1eb7f4f0faa1bbee8603ddf00": {
          "model_module": "@jupyter-widgets/base",
          "model_name": "LayoutModel",
          "model_module_version": "1.2.0",
          "state": {
            "_model_module": "@jupyter-widgets/base",
            "_model_module_version": "1.2.0",
            "_model_name": "LayoutModel",
            "_view_count": null,
            "_view_module": "@jupyter-widgets/base",
            "_view_module_version": "1.2.0",
            "_view_name": "LayoutView",
            "align_content": null,
            "align_items": null,
            "align_self": null,
            "border": null,
            "bottom": null,
            "display": null,
            "flex": null,
            "flex_flow": null,
            "grid_area": null,
            "grid_auto_columns": null,
            "grid_auto_flow": null,
            "grid_auto_rows": null,
            "grid_column": null,
            "grid_gap": null,
            "grid_row": null,
            "grid_template_areas": null,
            "grid_template_columns": null,
            "grid_template_rows": null,
            "height": null,
            "justify_content": null,
            "justify_items": null,
            "left": null,
            "margin": null,
            "max_height": null,
            "max_width": null,
            "min_height": null,
            "min_width": null,
            "object_fit": null,
            "object_position": null,
            "order": null,
            "overflow": null,
            "overflow_x": null,
            "overflow_y": null,
            "padding": null,
            "right": null,
            "top": null,
            "visibility": null,
            "width": null
          }
        },
        "4449265decfe4130b5fddd570aa745d7": {
          "model_module": "@jupyter-widgets/controls",
          "model_name": "DescriptionStyleModel",
          "model_module_version": "1.5.0",
          "state": {
            "_model_module": "@jupyter-widgets/controls",
            "_model_module_version": "1.5.0",
            "_model_name": "DescriptionStyleModel",
            "_view_count": null,
            "_view_module": "@jupyter-widgets/base",
            "_view_module_version": "1.2.0",
            "_view_name": "StyleView",
            "description_width": ""
          }
        },
        "1c3efb6e87834034bf949971f4a1fa51": {
          "model_module": "@jupyter-widgets/base",
          "model_name": "LayoutModel",
          "model_module_version": "1.2.0",
          "state": {
            "_model_module": "@jupyter-widgets/base",
            "_model_module_version": "1.2.0",
            "_model_name": "LayoutModel",
            "_view_count": null,
            "_view_module": "@jupyter-widgets/base",
            "_view_module_version": "1.2.0",
            "_view_name": "LayoutView",
            "align_content": null,
            "align_items": null,
            "align_self": null,
            "border": null,
            "bottom": null,
            "display": null,
            "flex": null,
            "flex_flow": null,
            "grid_area": null,
            "grid_auto_columns": null,
            "grid_auto_flow": null,
            "grid_auto_rows": null,
            "grid_column": null,
            "grid_gap": null,
            "grid_row": null,
            "grid_template_areas": null,
            "grid_template_columns": null,
            "grid_template_rows": null,
            "height": null,
            "justify_content": null,
            "justify_items": null,
            "left": null,
            "margin": null,
            "max_height": null,
            "max_width": null,
            "min_height": null,
            "min_width": null,
            "object_fit": null,
            "object_position": null,
            "order": null,
            "overflow": null,
            "overflow_x": null,
            "overflow_y": null,
            "padding": null,
            "right": null,
            "top": null,
            "visibility": null,
            "width": null
          }
        },
        "89ddb4da9d7041b78f828ceebda4a0d8": {
          "model_module": "@jupyter-widgets/controls",
          "model_name": "ProgressStyleModel",
          "model_module_version": "1.5.0",
          "state": {
            "_model_module": "@jupyter-widgets/controls",
            "_model_module_version": "1.5.0",
            "_model_name": "ProgressStyleModel",
            "_view_count": null,
            "_view_module": "@jupyter-widgets/base",
            "_view_module_version": "1.2.0",
            "_view_name": "StyleView",
            "bar_color": null,
            "description_width": ""
          }
        },
        "aaab954af1d84c96a2933116980085db": {
          "model_module": "@jupyter-widgets/base",
          "model_name": "LayoutModel",
          "model_module_version": "1.2.0",
          "state": {
            "_model_module": "@jupyter-widgets/base",
            "_model_module_version": "1.2.0",
            "_model_name": "LayoutModel",
            "_view_count": null,
            "_view_module": "@jupyter-widgets/base",
            "_view_module_version": "1.2.0",
            "_view_name": "LayoutView",
            "align_content": null,
            "align_items": null,
            "align_self": null,
            "border": null,
            "bottom": null,
            "display": null,
            "flex": null,
            "flex_flow": null,
            "grid_area": null,
            "grid_auto_columns": null,
            "grid_auto_flow": null,
            "grid_auto_rows": null,
            "grid_column": null,
            "grid_gap": null,
            "grid_row": null,
            "grid_template_areas": null,
            "grid_template_columns": null,
            "grid_template_rows": null,
            "height": null,
            "justify_content": null,
            "justify_items": null,
            "left": null,
            "margin": null,
            "max_height": null,
            "max_width": null,
            "min_height": null,
            "min_width": null,
            "object_fit": null,
            "object_position": null,
            "order": null,
            "overflow": null,
            "overflow_x": null,
            "overflow_y": null,
            "padding": null,
            "right": null,
            "top": null,
            "visibility": null,
            "width": null
          }
        },
        "8f4ee5016d2d4ff7a792e861d2a5820c": {
          "model_module": "@jupyter-widgets/controls",
          "model_name": "DescriptionStyleModel",
          "model_module_version": "1.5.0",
          "state": {
            "_model_module": "@jupyter-widgets/controls",
            "_model_module_version": "1.5.0",
            "_model_name": "DescriptionStyleModel",
            "_view_count": null,
            "_view_module": "@jupyter-widgets/base",
            "_view_module_version": "1.2.0",
            "_view_name": "StyleView",
            "description_width": ""
          }
        }
      }
    }
  },
  "nbformat": 4,
  "nbformat_minor": 0
}