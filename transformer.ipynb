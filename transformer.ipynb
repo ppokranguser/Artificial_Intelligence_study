{
  "cells": [
    {
      "cell_type": "markdown",
      "metadata": {
        "id": "view-in-github",
        "colab_type": "text"
      },
      "source": [
        "<a href=\"https://colab.research.google.com/github/ppokranguser/Artificial_Intelligence_study/blob/main/transformer.ipynb\" target=\"_parent\"><img src=\"https://colab.research.google.com/assets/colab-badge.svg\" alt=\"Open In Colab\"/></a>"
      ]
    },
    {
      "cell_type": "markdown",
      "metadata": {
        "id": "1Z8kXCBBTJGk"
      },
      "source": [
        "## CAU-AI Assignment3"
      ]
    },
    {
      "cell_type": "markdown",
      "metadata": {
        "id": "oRmpuIwi6tmG"
      },
      "source": [
        "### Environment"
      ]
    },
    {
      "cell_type": "code",
      "execution_count": null,
      "metadata": {
        "colab": {
          "base_uri": "https://localhost:8080/"
        },
        "id": "xYsSS56TO4GN",
        "outputId": "7cc41f56-2dd2-40b5-9668-312f386ac2a3"
      },
      "outputs": [
        {
          "output_type": "stream",
          "name": "stdout",
          "text": [
            "Reading package lists... Done\n",
            "Building dependency tree... Done\n",
            "Reading state information... Done\n",
            "python3.7 is already the newest version (3.7.17-1+jammy1).\n",
            "0 upgraded, 0 newly installed, 0 to remove and 49 not upgraded.\n",
            "Requirement already satisfied: torchtext==0.6.0 in /usr/local/lib/python3.10/dist-packages (0.6.0)\n",
            "Requirement already satisfied: tqdm in /usr/local/lib/python3.10/dist-packages (from torchtext==0.6.0) (4.66.6)\n",
            "Requirement already satisfied: requests in /usr/local/lib/python3.10/dist-packages (from torchtext==0.6.0) (2.32.3)\n",
            "Requirement already satisfied: torch in /usr/local/lib/python3.10/dist-packages (from torchtext==0.6.0) (2.5.1+cu121)\n",
            "Requirement already satisfied: numpy in /usr/local/lib/python3.10/dist-packages (from torchtext==0.6.0) (1.26.4)\n",
            "Requirement already satisfied: six in /usr/local/lib/python3.10/dist-packages (from torchtext==0.6.0) (1.16.0)\n",
            "Requirement already satisfied: sentencepiece in /usr/local/lib/python3.10/dist-packages (from torchtext==0.6.0) (0.2.0)\n",
            "Requirement already satisfied: charset-normalizer<4,>=2 in /usr/local/lib/python3.10/dist-packages (from requests->torchtext==0.6.0) (3.4.0)\n",
            "Requirement already satisfied: idna<4,>=2.5 in /usr/local/lib/python3.10/dist-packages (from requests->torchtext==0.6.0) (3.10)\n",
            "Requirement already satisfied: urllib3<3,>=1.21.1 in /usr/local/lib/python3.10/dist-packages (from requests->torchtext==0.6.0) (2.2.3)\n",
            "Requirement already satisfied: certifi>=2017.4.17 in /usr/local/lib/python3.10/dist-packages (from requests->torchtext==0.6.0) (2024.8.30)\n",
            "Requirement already satisfied: filelock in /usr/local/lib/python3.10/dist-packages (from torch->torchtext==0.6.0) (3.16.1)\n",
            "Requirement already satisfied: typing-extensions>=4.8.0 in /usr/local/lib/python3.10/dist-packages (from torch->torchtext==0.6.0) (4.12.2)\n",
            "Requirement already satisfied: networkx in /usr/local/lib/python3.10/dist-packages (from torch->torchtext==0.6.0) (3.4.2)\n",
            "Requirement already satisfied: jinja2 in /usr/local/lib/python3.10/dist-packages (from torch->torchtext==0.6.0) (3.1.4)\n",
            "Requirement already satisfied: fsspec in /usr/local/lib/python3.10/dist-packages (from torch->torchtext==0.6.0) (2024.10.0)\n",
            "Requirement already satisfied: sympy==1.13.1 in /usr/local/lib/python3.10/dist-packages (from torch->torchtext==0.6.0) (1.13.1)\n",
            "Requirement already satisfied: mpmath<1.4,>=1.1.0 in /usr/local/lib/python3.10/dist-packages (from sympy==1.13.1->torch->torchtext==0.6.0) (1.3.0)\n",
            "Requirement already satisfied: MarkupSafe>=2.0 in /usr/local/lib/python3.10/dist-packages (from jinja2->torch->torchtext==0.6.0) (3.0.2)\n",
            "Collecting de-core-news-sm==3.7.0\n",
            "  Downloading https://github.com/explosion/spacy-models/releases/download/de_core_news_sm-3.7.0/de_core_news_sm-3.7.0-py3-none-any.whl (14.6 MB)\n",
            "\u001b[2K     \u001b[90m━━━━━━━━━━━━━━━━━━━━━━━━━━━━━━━━━━━━━━━━\u001b[0m \u001b[32m14.6/14.6 MB\u001b[0m \u001b[31m26.6 MB/s\u001b[0m eta \u001b[36m0:00:00\u001b[0m\n",
            "\u001b[?25hRequirement already satisfied: spacy<3.8.0,>=3.7.0 in /usr/local/lib/python3.10/dist-packages (from de-core-news-sm==3.7.0) (3.7.5)\n",
            "Requirement already satisfied: spacy-legacy<3.1.0,>=3.0.11 in /usr/local/lib/python3.10/dist-packages (from spacy<3.8.0,>=3.7.0->de-core-news-sm==3.7.0) (3.0.12)\n",
            "Requirement already satisfied: spacy-loggers<2.0.0,>=1.0.0 in /usr/local/lib/python3.10/dist-packages (from spacy<3.8.0,>=3.7.0->de-core-news-sm==3.7.0) (1.0.5)\n",
            "Requirement already satisfied: murmurhash<1.1.0,>=0.28.0 in /usr/local/lib/python3.10/dist-packages (from spacy<3.8.0,>=3.7.0->de-core-news-sm==3.7.0) (1.0.11)\n",
            "Requirement already satisfied: cymem<2.1.0,>=2.0.2 in /usr/local/lib/python3.10/dist-packages (from spacy<3.8.0,>=3.7.0->de-core-news-sm==3.7.0) (2.0.10)\n",
            "Requirement already satisfied: preshed<3.1.0,>=3.0.2 in /usr/local/lib/python3.10/dist-packages (from spacy<3.8.0,>=3.7.0->de-core-news-sm==3.7.0) (3.0.9)\n",
            "Requirement already satisfied: thinc<8.3.0,>=8.2.2 in /usr/local/lib/python3.10/dist-packages (from spacy<3.8.0,>=3.7.0->de-core-news-sm==3.7.0) (8.2.5)\n",
            "Requirement already satisfied: wasabi<1.2.0,>=0.9.1 in /usr/local/lib/python3.10/dist-packages (from spacy<3.8.0,>=3.7.0->de-core-news-sm==3.7.0) (1.1.3)\n",
            "Requirement already satisfied: srsly<3.0.0,>=2.4.3 in /usr/local/lib/python3.10/dist-packages (from spacy<3.8.0,>=3.7.0->de-core-news-sm==3.7.0) (2.4.8)\n",
            "Requirement already satisfied: catalogue<2.1.0,>=2.0.6 in /usr/local/lib/python3.10/dist-packages (from spacy<3.8.0,>=3.7.0->de-core-news-sm==3.7.0) (2.0.10)\n",
            "Requirement already satisfied: weasel<0.5.0,>=0.1.0 in /usr/local/lib/python3.10/dist-packages (from spacy<3.8.0,>=3.7.0->de-core-news-sm==3.7.0) (0.4.1)\n",
            "Requirement already satisfied: typer<1.0.0,>=0.3.0 in /usr/local/lib/python3.10/dist-packages (from spacy<3.8.0,>=3.7.0->de-core-news-sm==3.7.0) (0.15.0)\n",
            "Requirement already satisfied: tqdm<5.0.0,>=4.38.0 in /usr/local/lib/python3.10/dist-packages (from spacy<3.8.0,>=3.7.0->de-core-news-sm==3.7.0) (4.66.6)\n",
            "Requirement already satisfied: requests<3.0.0,>=2.13.0 in /usr/local/lib/python3.10/dist-packages (from spacy<3.8.0,>=3.7.0->de-core-news-sm==3.7.0) (2.32.3)\n",
            "Requirement already satisfied: pydantic!=1.8,!=1.8.1,<3.0.0,>=1.7.4 in /usr/local/lib/python3.10/dist-packages (from spacy<3.8.0,>=3.7.0->de-core-news-sm==3.7.0) (2.10.3)\n",
            "Requirement already satisfied: jinja2 in /usr/local/lib/python3.10/dist-packages (from spacy<3.8.0,>=3.7.0->de-core-news-sm==3.7.0) (3.1.4)\n",
            "Requirement already satisfied: setuptools in /usr/local/lib/python3.10/dist-packages (from spacy<3.8.0,>=3.7.0->de-core-news-sm==3.7.0) (75.1.0)\n",
            "Requirement already satisfied: packaging>=20.0 in /usr/local/lib/python3.10/dist-packages (from spacy<3.8.0,>=3.7.0->de-core-news-sm==3.7.0) (24.2)\n",
            "Requirement already satisfied: langcodes<4.0.0,>=3.2.0 in /usr/local/lib/python3.10/dist-packages (from spacy<3.8.0,>=3.7.0->de-core-news-sm==3.7.0) (3.5.0)\n",
            "Requirement already satisfied: numpy>=1.19.0 in /usr/local/lib/python3.10/dist-packages (from spacy<3.8.0,>=3.7.0->de-core-news-sm==3.7.0) (1.26.4)\n",
            "Requirement already satisfied: language-data>=1.2 in /usr/local/lib/python3.10/dist-packages (from langcodes<4.0.0,>=3.2.0->spacy<3.8.0,>=3.7.0->de-core-news-sm==3.7.0) (1.3.0)\n",
            "Requirement already satisfied: annotated-types>=0.6.0 in /usr/local/lib/python3.10/dist-packages (from pydantic!=1.8,!=1.8.1,<3.0.0,>=1.7.4->spacy<3.8.0,>=3.7.0->de-core-news-sm==3.7.0) (0.7.0)\n",
            "Requirement already satisfied: pydantic-core==2.27.1 in /usr/local/lib/python3.10/dist-packages (from pydantic!=1.8,!=1.8.1,<3.0.0,>=1.7.4->spacy<3.8.0,>=3.7.0->de-core-news-sm==3.7.0) (2.27.1)\n",
            "Requirement already satisfied: typing-extensions>=4.12.2 in /usr/local/lib/python3.10/dist-packages (from pydantic!=1.8,!=1.8.1,<3.0.0,>=1.7.4->spacy<3.8.0,>=3.7.0->de-core-news-sm==3.7.0) (4.12.2)\n",
            "Requirement already satisfied: charset-normalizer<4,>=2 in /usr/local/lib/python3.10/dist-packages (from requests<3.0.0,>=2.13.0->spacy<3.8.0,>=3.7.0->de-core-news-sm==3.7.0) (3.4.0)\n",
            "Requirement already satisfied: idna<4,>=2.5 in /usr/local/lib/python3.10/dist-packages (from requests<3.0.0,>=2.13.0->spacy<3.8.0,>=3.7.0->de-core-news-sm==3.7.0) (3.10)\n",
            "Requirement already satisfied: urllib3<3,>=1.21.1 in /usr/local/lib/python3.10/dist-packages (from requests<3.0.0,>=2.13.0->spacy<3.8.0,>=3.7.0->de-core-news-sm==3.7.0) (2.2.3)\n",
            "Requirement already satisfied: certifi>=2017.4.17 in /usr/local/lib/python3.10/dist-packages (from requests<3.0.0,>=2.13.0->spacy<3.8.0,>=3.7.0->de-core-news-sm==3.7.0) (2024.8.30)\n",
            "Requirement already satisfied: blis<0.8.0,>=0.7.8 in /usr/local/lib/python3.10/dist-packages (from thinc<8.3.0,>=8.2.2->spacy<3.8.0,>=3.7.0->de-core-news-sm==3.7.0) (0.7.11)\n",
            "Requirement already satisfied: confection<1.0.0,>=0.0.1 in /usr/local/lib/python3.10/dist-packages (from thinc<8.3.0,>=8.2.2->spacy<3.8.0,>=3.7.0->de-core-news-sm==3.7.0) (0.1.5)\n",
            "Requirement already satisfied: click>=8.0.0 in /usr/local/lib/python3.10/dist-packages (from typer<1.0.0,>=0.3.0->spacy<3.8.0,>=3.7.0->de-core-news-sm==3.7.0) (8.1.7)\n",
            "Requirement already satisfied: shellingham>=1.3.0 in /usr/local/lib/python3.10/dist-packages (from typer<1.0.0,>=0.3.0->spacy<3.8.0,>=3.7.0->de-core-news-sm==3.7.0) (1.5.4)\n",
            "Requirement already satisfied: rich>=10.11.0 in /usr/local/lib/python3.10/dist-packages (from typer<1.0.0,>=0.3.0->spacy<3.8.0,>=3.7.0->de-core-news-sm==3.7.0) (13.9.4)\n",
            "Requirement already satisfied: cloudpathlib<1.0.0,>=0.7.0 in /usr/local/lib/python3.10/dist-packages (from weasel<0.5.0,>=0.1.0->spacy<3.8.0,>=3.7.0->de-core-news-sm==3.7.0) (0.20.0)\n",
            "Requirement already satisfied: smart-open<8.0.0,>=5.2.1 in /usr/local/lib/python3.10/dist-packages (from weasel<0.5.0,>=0.1.0->spacy<3.8.0,>=3.7.0->de-core-news-sm==3.7.0) (7.0.5)\n",
            "Requirement already satisfied: MarkupSafe>=2.0 in /usr/local/lib/python3.10/dist-packages (from jinja2->spacy<3.8.0,>=3.7.0->de-core-news-sm==3.7.0) (3.0.2)\n",
            "Requirement already satisfied: marisa-trie>=1.1.0 in /usr/local/lib/python3.10/dist-packages (from language-data>=1.2->langcodes<4.0.0,>=3.2.0->spacy<3.8.0,>=3.7.0->de-core-news-sm==3.7.0) (1.2.1)\n",
            "Requirement already satisfied: markdown-it-py>=2.2.0 in /usr/local/lib/python3.10/dist-packages (from rich>=10.11.0->typer<1.0.0,>=0.3.0->spacy<3.8.0,>=3.7.0->de-core-news-sm==3.7.0) (3.0.0)\n",
            "Requirement already satisfied: pygments<3.0.0,>=2.13.0 in /usr/local/lib/python3.10/dist-packages (from rich>=10.11.0->typer<1.0.0,>=0.3.0->spacy<3.8.0,>=3.7.0->de-core-news-sm==3.7.0) (2.18.0)\n",
            "Requirement already satisfied: wrapt in /usr/local/lib/python3.10/dist-packages (from smart-open<8.0.0,>=5.2.1->weasel<0.5.0,>=0.1.0->spacy<3.8.0,>=3.7.0->de-core-news-sm==3.7.0) (1.17.0)\n",
            "Requirement already satisfied: mdurl~=0.1 in /usr/local/lib/python3.10/dist-packages (from markdown-it-py>=2.2.0->rich>=10.11.0->typer<1.0.0,>=0.3.0->spacy<3.8.0,>=3.7.0->de-core-news-sm==3.7.0) (0.1.2)\n",
            "\u001b[38;5;2m✔ Download and installation successful\u001b[0m\n",
            "You can now load the package via spacy.load('de_core_news_sm')\n",
            "\u001b[38;5;3m⚠ Restart to reload dependencies\u001b[0m\n",
            "If you are in a Jupyter or Colab notebook, you may need to restart Python in\n",
            "order to load all the package's dependencies. You can do this by selecting the\n",
            "'Restart kernel' or 'Restart runtime' option.\n",
            "Collecting en-core-web-sm==3.7.1\n",
            "  Downloading https://github.com/explosion/spacy-models/releases/download/en_core_web_sm-3.7.1/en_core_web_sm-3.7.1-py3-none-any.whl (12.8 MB)\n",
            "\u001b[2K     \u001b[90m━━━━━━━━━━━━━━━━━━━━━━━━━━━━━━━━━━━━━━━━\u001b[0m \u001b[32m12.8/12.8 MB\u001b[0m \u001b[31m35.7 MB/s\u001b[0m eta \u001b[36m0:00:00\u001b[0m\n",
            "\u001b[?25hRequirement already satisfied: spacy<3.8.0,>=3.7.2 in /usr/local/lib/python3.10/dist-packages (from en-core-web-sm==3.7.1) (3.7.5)\n",
            "Requirement already satisfied: spacy-legacy<3.1.0,>=3.0.11 in /usr/local/lib/python3.10/dist-packages (from spacy<3.8.0,>=3.7.2->en-core-web-sm==3.7.1) (3.0.12)\n",
            "Requirement already satisfied: spacy-loggers<2.0.0,>=1.0.0 in /usr/local/lib/python3.10/dist-packages (from spacy<3.8.0,>=3.7.2->en-core-web-sm==3.7.1) (1.0.5)\n",
            "Requirement already satisfied: murmurhash<1.1.0,>=0.28.0 in /usr/local/lib/python3.10/dist-packages (from spacy<3.8.0,>=3.7.2->en-core-web-sm==3.7.1) (1.0.11)\n",
            "Requirement already satisfied: cymem<2.1.0,>=2.0.2 in /usr/local/lib/python3.10/dist-packages (from spacy<3.8.0,>=3.7.2->en-core-web-sm==3.7.1) (2.0.10)\n",
            "Requirement already satisfied: preshed<3.1.0,>=3.0.2 in /usr/local/lib/python3.10/dist-packages (from spacy<3.8.0,>=3.7.2->en-core-web-sm==3.7.1) (3.0.9)\n",
            "Requirement already satisfied: thinc<8.3.0,>=8.2.2 in /usr/local/lib/python3.10/dist-packages (from spacy<3.8.0,>=3.7.2->en-core-web-sm==3.7.1) (8.2.5)\n",
            "Requirement already satisfied: wasabi<1.2.0,>=0.9.1 in /usr/local/lib/python3.10/dist-packages (from spacy<3.8.0,>=3.7.2->en-core-web-sm==3.7.1) (1.1.3)\n",
            "Requirement already satisfied: srsly<3.0.0,>=2.4.3 in /usr/local/lib/python3.10/dist-packages (from spacy<3.8.0,>=3.7.2->en-core-web-sm==3.7.1) (2.4.8)\n",
            "Requirement already satisfied: catalogue<2.1.0,>=2.0.6 in /usr/local/lib/python3.10/dist-packages (from spacy<3.8.0,>=3.7.2->en-core-web-sm==3.7.1) (2.0.10)\n",
            "Requirement already satisfied: weasel<0.5.0,>=0.1.0 in /usr/local/lib/python3.10/dist-packages (from spacy<3.8.0,>=3.7.2->en-core-web-sm==3.7.1) (0.4.1)\n",
            "Requirement already satisfied: typer<1.0.0,>=0.3.0 in /usr/local/lib/python3.10/dist-packages (from spacy<3.8.0,>=3.7.2->en-core-web-sm==3.7.1) (0.15.0)\n",
            "Requirement already satisfied: tqdm<5.0.0,>=4.38.0 in /usr/local/lib/python3.10/dist-packages (from spacy<3.8.0,>=3.7.2->en-core-web-sm==3.7.1) (4.66.6)\n",
            "Requirement already satisfied: requests<3.0.0,>=2.13.0 in /usr/local/lib/python3.10/dist-packages (from spacy<3.8.0,>=3.7.2->en-core-web-sm==3.7.1) (2.32.3)\n",
            "Requirement already satisfied: pydantic!=1.8,!=1.8.1,<3.0.0,>=1.7.4 in /usr/local/lib/python3.10/dist-packages (from spacy<3.8.0,>=3.7.2->en-core-web-sm==3.7.1) (2.10.3)\n",
            "Requirement already satisfied: jinja2 in /usr/local/lib/python3.10/dist-packages (from spacy<3.8.0,>=3.7.2->en-core-web-sm==3.7.1) (3.1.4)\n",
            "Requirement already satisfied: setuptools in /usr/local/lib/python3.10/dist-packages (from spacy<3.8.0,>=3.7.2->en-core-web-sm==3.7.1) (75.1.0)\n",
            "Requirement already satisfied: packaging>=20.0 in /usr/local/lib/python3.10/dist-packages (from spacy<3.8.0,>=3.7.2->en-core-web-sm==3.7.1) (24.2)\n",
            "Requirement already satisfied: langcodes<4.0.0,>=3.2.0 in /usr/local/lib/python3.10/dist-packages (from spacy<3.8.0,>=3.7.2->en-core-web-sm==3.7.1) (3.5.0)\n",
            "Requirement already satisfied: numpy>=1.19.0 in /usr/local/lib/python3.10/dist-packages (from spacy<3.8.0,>=3.7.2->en-core-web-sm==3.7.1) (1.26.4)\n",
            "Requirement already satisfied: language-data>=1.2 in /usr/local/lib/python3.10/dist-packages (from langcodes<4.0.0,>=3.2.0->spacy<3.8.0,>=3.7.2->en-core-web-sm==3.7.1) (1.3.0)\n",
            "Requirement already satisfied: annotated-types>=0.6.0 in /usr/local/lib/python3.10/dist-packages (from pydantic!=1.8,!=1.8.1,<3.0.0,>=1.7.4->spacy<3.8.0,>=3.7.2->en-core-web-sm==3.7.1) (0.7.0)\n",
            "Requirement already satisfied: pydantic-core==2.27.1 in /usr/local/lib/python3.10/dist-packages (from pydantic!=1.8,!=1.8.1,<3.0.0,>=1.7.4->spacy<3.8.0,>=3.7.2->en-core-web-sm==3.7.1) (2.27.1)\n",
            "Requirement already satisfied: typing-extensions>=4.12.2 in /usr/local/lib/python3.10/dist-packages (from pydantic!=1.8,!=1.8.1,<3.0.0,>=1.7.4->spacy<3.8.0,>=3.7.2->en-core-web-sm==3.7.1) (4.12.2)\n",
            "Requirement already satisfied: charset-normalizer<4,>=2 in /usr/local/lib/python3.10/dist-packages (from requests<3.0.0,>=2.13.0->spacy<3.8.0,>=3.7.2->en-core-web-sm==3.7.1) (3.4.0)\n",
            "Requirement already satisfied: idna<4,>=2.5 in /usr/local/lib/python3.10/dist-packages (from requests<3.0.0,>=2.13.0->spacy<3.8.0,>=3.7.2->en-core-web-sm==3.7.1) (3.10)\n",
            "Requirement already satisfied: urllib3<3,>=1.21.1 in /usr/local/lib/python3.10/dist-packages (from requests<3.0.0,>=2.13.0->spacy<3.8.0,>=3.7.2->en-core-web-sm==3.7.1) (2.2.3)\n",
            "Requirement already satisfied: certifi>=2017.4.17 in /usr/local/lib/python3.10/dist-packages (from requests<3.0.0,>=2.13.0->spacy<3.8.0,>=3.7.2->en-core-web-sm==3.7.1) (2024.8.30)\n",
            "Requirement already satisfied: blis<0.8.0,>=0.7.8 in /usr/local/lib/python3.10/dist-packages (from thinc<8.3.0,>=8.2.2->spacy<3.8.0,>=3.7.2->en-core-web-sm==3.7.1) (0.7.11)\n",
            "Requirement already satisfied: confection<1.0.0,>=0.0.1 in /usr/local/lib/python3.10/dist-packages (from thinc<8.3.0,>=8.2.2->spacy<3.8.0,>=3.7.2->en-core-web-sm==3.7.1) (0.1.5)\n",
            "Requirement already satisfied: click>=8.0.0 in /usr/local/lib/python3.10/dist-packages (from typer<1.0.0,>=0.3.0->spacy<3.8.0,>=3.7.2->en-core-web-sm==3.7.1) (8.1.7)\n",
            "Requirement already satisfied: shellingham>=1.3.0 in /usr/local/lib/python3.10/dist-packages (from typer<1.0.0,>=0.3.0->spacy<3.8.0,>=3.7.2->en-core-web-sm==3.7.1) (1.5.4)\n",
            "Requirement already satisfied: rich>=10.11.0 in /usr/local/lib/python3.10/dist-packages (from typer<1.0.0,>=0.3.0->spacy<3.8.0,>=3.7.2->en-core-web-sm==3.7.1) (13.9.4)\n",
            "Requirement already satisfied: cloudpathlib<1.0.0,>=0.7.0 in /usr/local/lib/python3.10/dist-packages (from weasel<0.5.0,>=0.1.0->spacy<3.8.0,>=3.7.2->en-core-web-sm==3.7.1) (0.20.0)\n",
            "Requirement already satisfied: smart-open<8.0.0,>=5.2.1 in /usr/local/lib/python3.10/dist-packages (from weasel<0.5.0,>=0.1.0->spacy<3.8.0,>=3.7.2->en-core-web-sm==3.7.1) (7.0.5)\n",
            "Requirement already satisfied: MarkupSafe>=2.0 in /usr/local/lib/python3.10/dist-packages (from jinja2->spacy<3.8.0,>=3.7.2->en-core-web-sm==3.7.1) (3.0.2)\n",
            "Requirement already satisfied: marisa-trie>=1.1.0 in /usr/local/lib/python3.10/dist-packages (from language-data>=1.2->langcodes<4.0.0,>=3.2.0->spacy<3.8.0,>=3.7.2->en-core-web-sm==3.7.1) (1.2.1)\n",
            "Requirement already satisfied: markdown-it-py>=2.2.0 in /usr/local/lib/python3.10/dist-packages (from rich>=10.11.0->typer<1.0.0,>=0.3.0->spacy<3.8.0,>=3.7.2->en-core-web-sm==3.7.1) (3.0.0)\n",
            "Requirement already satisfied: pygments<3.0.0,>=2.13.0 in /usr/local/lib/python3.10/dist-packages (from rich>=10.11.0->typer<1.0.0,>=0.3.0->spacy<3.8.0,>=3.7.2->en-core-web-sm==3.7.1) (2.18.0)\n",
            "Requirement already satisfied: wrapt in /usr/local/lib/python3.10/dist-packages (from smart-open<8.0.0,>=5.2.1->weasel<0.5.0,>=0.1.0->spacy<3.8.0,>=3.7.2->en-core-web-sm==3.7.1) (1.17.0)\n",
            "Requirement already satisfied: mdurl~=0.1 in /usr/local/lib/python3.10/dist-packages (from markdown-it-py>=2.2.0->rich>=10.11.0->typer<1.0.0,>=0.3.0->spacy<3.8.0,>=3.7.2->en-core-web-sm==3.7.1) (0.1.2)\n",
            "\u001b[38;5;2m✔ Download and installation successful\u001b[0m\n",
            "You can now load the package via spacy.load('en_core_web_sm')\n",
            "\u001b[38;5;3m⚠ Restart to reload dependencies\u001b[0m\n",
            "If you are in a Jupyter or Colab notebook, you may need to restart Python in\n",
            "order to load all the package's dependencies. You can do this by selecting the\n",
            "'Restart kernel' or 'Restart runtime' option.\n"
          ]
        }
      ],
      "source": [
        "!apt install python3.7\n",
        "!pip install -U torchtext==0.6.0\n",
        "!python -m spacy download de_core_news_sm\n",
        "!python -m spacy download en_core_web_sm"
      ]
    },
    {
      "cell_type": "code",
      "execution_count": null,
      "metadata": {
        "colab": {
          "base_uri": "https://localhost:8080/"
        },
        "id": "KvQ8kjBZTJGn",
        "outputId": "00d6bad1-5764-43c2-9177-65a4e25b2d94"
      },
      "outputs": [
        {
          "output_type": "stream",
          "name": "stdout",
          "text": [
            "Archive:  multi30k.zip\n",
            "replace multi30k/test2016.de? [y]es, [n]o, [A]ll, [N]one, [r]ename: "
          ]
        }
      ],
      "source": [
        "# Unzip the data\n",
        "!unzip multi30k.zip"
      ]
    },
    {
      "cell_type": "code",
      "execution_count": null,
      "metadata": {
        "id": "SK0SmqmrO6Nl"
      },
      "outputs": [],
      "source": [
        "import torch\n",
        "import torch.nn as nn\n",
        "\n",
        "from torchtext.datasets import Multi30k\n",
        "from torchtext.data import Field, BucketIterator\n",
        "\n",
        "import spacy\n",
        "import math\n",
        "import time\n",
        "import numpy as np\n",
        "import matplotlib.pyplot as plt\n",
        "\n",
        "# Device\n",
        "device = torch.device('cuda' if torch.cuda.is_available() else 'cpu')\n",
        "\n",
        "# Seed\n",
        "seed = 0\n",
        "torch.manual_seed(seed)\n",
        "torch.cuda.manual_seed(seed)\n",
        "torch.cuda.manual_seed_all(seed)"
      ]
    },
    {
      "cell_type": "markdown",
      "metadata": {
        "id": "47lR58WD7DRX"
      },
      "source": [
        "### Dataset"
      ]
    },
    {
      "cell_type": "markdown",
      "metadata": {
        "id": "4UAhFW9n7WhS"
      },
      "source": [
        "Tokenizer"
      ]
    },
    {
      "cell_type": "code",
      "execution_count": null,
      "metadata": {
        "id": "1o-xtgU1O6Lg"
      },
      "outputs": [],
      "source": [
        "spacy_de = spacy.load('de_core_news_sm')\n",
        "spacy_en = spacy.load('en_core_web_sm')"
      ]
    },
    {
      "cell_type": "code",
      "execution_count": null,
      "metadata": {
        "id": "3qnvi5747OVP"
      },
      "outputs": [],
      "source": [
        "def tokenize_de(text):\n",
        "  return [tok.text for tok in spacy_de.tokenizer(text)]\n",
        "\n",
        "def tokenize_en(text):\n",
        "  return [tok.text for tok in spacy_en.tokenizer(text)]"
      ]
    },
    {
      "cell_type": "code",
      "execution_count": null,
      "metadata": {
        "id": "T2Oh0NEvO6Gw"
      },
      "outputs": [],
      "source": [
        "SRC = Field(\n",
        "    tokenize=tokenize_de,\n",
        "    init_token='<sos>',\n",
        "    eos_token='<eos>',\n",
        "    lower=True,\n",
        "    batch_first=True\n",
        ")\n",
        "TRG = Field(\n",
        "    tokenize=tokenize_en,\n",
        "    init_token='<sos>',\n",
        "    eos_token='<eos>',\n",
        "    lower=True,\n",
        "    batch_first=True\n",
        ")"
      ]
    },
    {
      "cell_type": "markdown",
      "metadata": {
        "id": "eXqHcvqo7pbO"
      },
      "source": [
        "Split"
      ]
    },
    {
      "cell_type": "code",
      "execution_count": null,
      "metadata": {
        "id": "BzdH7NPjO6Ea"
      },
      "outputs": [],
      "source": [
        "# Split the Multi30k dataset into training, validation, and test sets\n",
        "train_data, val_data, test_data = Multi30k.splits(exts=('.de', '.en'), fields=(SRC, TRG), root='./')"
      ]
    },
    {
      "cell_type": "code",
      "execution_count": null,
      "metadata": {
        "colab": {
          "base_uri": "https://localhost:8080/"
        },
        "id": "f33ZtgEX7lCz",
        "outputId": "402ff638-2c2f-47ae-9abd-eeb45a586f9c"
      },
      "outputs": [
        {
          "output_type": "stream",
          "name": "stdout",
          "text": [
            "Number of train data: 29000\n",
            "Number of val data: 1014\n",
            "Number of test data: 1000\n"
          ]
        }
      ],
      "source": [
        "# Number of data\n",
        "print(f\"Number of train data: {len(train_data.examples)}\")\n",
        "print(f\"Number of val data: {len(val_data.examples)}\")\n",
        "print(f\"Number of test data: {len(test_data.examples)}\")"
      ]
    },
    {
      "cell_type": "code",
      "execution_count": null,
      "metadata": {
        "colab": {
          "base_uri": "https://localhost:8080/"
        },
        "id": "sAlLnj-Yr-_9",
        "outputId": "af64cbd3-2e35-4846-f575-b83e997fd373"
      },
      "outputs": [
        {
          "output_type": "stream",
          "name": "stdout",
          "text": [
            "{'src': ['ein', 'junge', 'mit', 'einem', 'blauen', 'handtuch', 'und', 'einem', 'weißen', 'hut', 'hält', 'eine', 'taucherbrille', 'und', 'einen', 'schnorchel', '.'], 'trg': ['boy', 'with', 'a', 'blue', 'towel', 'and', 'white', 'hat', 'holding', 'goggles', 'and', 'a', 'snokel', '.']}\n",
            "{'src': ['ein', 'schwarz-weißer', 'hund', 'springt', 'auf', 'der', 'wiese', '.'], 'trg': ['a', 'black', 'and', 'white', 'dog', 'is', 'jumping', 'in', 'the', 'grass', '.']}\n",
            "{'src': ['zwei', 'männer', 'in', 'schwarzen', 'hemden', ',', 'die', 'jeweils', 'auf', 'einem', 'arm', 'stehen', '.'], 'trg': ['two', 'men', 'in', 'black', 'shirts', 'each', 'standing', 'on', 'one', 'arm', '.']}\n",
            "{'src': ['ein', 'kind', 'mit', 'schwimmbrille', ',', 'das', 'vor', 'einem', 'schwimmbecken', 'in', 'ein', 'handtuch', 'eingewickelt', 'ist', ',', 'weint', '.'], 'trg': ['a', 'child', 'wearing', 'goggles', 'and', 'wrapped', 'in', 'a', 'towel', 'is', 'crying', 'in', 'front', 'of', 'a', 'pool', '.']}\n",
            "{'src': ['ein', 'mann', 'in', 'einem', 'offiziellen', 'gelben', 'hemd', 'beobachtet', 'den', 'verkehr', '.'], 'trg': ['a', 'man', 'wearing', 'an', 'official', 'yellow', 'shirt', 'is', 'watching', 'traffic', '.']}\n"
          ]
        }
      ],
      "source": [
        "# Examples of data\n",
        "examples = np.random.randint(len(train_data.examples), size=5)\n",
        "for idx in examples:\n",
        "  print(f\"{vars(train_data.examples[idx])}\")"
      ]
    },
    {
      "cell_type": "markdown",
      "metadata": {
        "id": "1YsLSjy_7vwl"
      },
      "source": [
        "Vocabulary"
      ]
    },
    {
      "cell_type": "code",
      "execution_count": null,
      "metadata": {
        "id": "_sS5spHjO6CT"
      },
      "outputs": [],
      "source": [
        "SRC.build_vocab(train_data, min_freq = 2)\n",
        "TRG.build_vocab(train_data, min_freq = 2)"
      ]
    },
    {
      "cell_type": "code",
      "execution_count": null,
      "metadata": {
        "colab": {
          "base_uri": "https://localhost:8080/"
        },
        "id": "JgZ-K6OQ7tjh",
        "outputId": "6bbca2b8-cdf4-4173-e8e0-985f8ffae2f1"
      },
      "outputs": [
        {
          "output_type": "stream",
          "name": "stdout",
          "text": [
            "Source vocab size (de): 7853\n",
            "Target vocab size (en): 5893\n"
          ]
        }
      ],
      "source": [
        "# Vocabulary size\n",
        "print(f\"Source vocab size (de): {len(SRC.vocab)}\")\n",
        "print(f\"Target vocab size (en): {len(TRG.vocab)}\")"
      ]
    },
    {
      "cell_type": "code",
      "execution_count": null,
      "metadata": {
        "colab": {
          "base_uri": "https://localhost:8080/"
        },
        "id": "M9KNEV2AttJf",
        "outputId": "da479691-942f-458f-c070-4573c6f514e5"
      },
      "outputs": [
        {
          "output_type": "stream",
          "name": "stdout",
          "text": [
            "<unk> token: 0\n",
            "<pad> token: 1\n",
            "<sos> token: 2\n",
            "<eos> token: 3\n",
            "happy: 667\n"
          ]
        }
      ],
      "source": [
        "# Token index\n",
        "print(f\"<unk> token: {TRG.vocab.stoi['abc']}\")\n",
        "print(f\"<pad> token: {TRG.vocab.stoi[TRG.pad_token]}\")\n",
        "print(f\"<sos> token: {TRG.vocab.stoi['<sos>']}\")\n",
        "print(f\"<eos> token: {TRG.vocab.stoi['<eos>']}\")\n",
        "print(f\"happy: {TRG.vocab.stoi['happy']}\")"
      ]
    },
    {
      "cell_type": "markdown",
      "metadata": {
        "id": "T3S507L18DgH"
      },
      "source": [
        "Iterator"
      ]
    },
    {
      "cell_type": "code",
      "execution_count": null,
      "metadata": {
        "id": "fcC9XGdSO59W"
      },
      "outputs": [],
      "source": [
        "# \"Tune\" part\n",
        "BATCH_SIZE = 64 # to be tuned by yourself\n",
        "\n",
        "train_iter, val_iter, test_iter = BucketIterator.splits(\n",
        "    (train_data, val_data, test_data),\n",
        "    batch_size=BATCH_SIZE,\n",
        "    device=device\n",
        ")"
      ]
    },
    {
      "cell_type": "code",
      "execution_count": null,
      "metadata": {
        "colab": {
          "base_uri": "https://localhost:8080/"
        },
        "id": "JrRK_uiQ8GHl",
        "outputId": "6e661702-91dd-46b9-c381-788035063cc4"
      },
      "outputs": [
        {
          "output_type": "stream",
          "name": "stdout",
          "text": [
            "src: tensor([   2,    8, 4092,  512, 5860,   12,    8, 2173,    9,   35,   15,    0,\n",
            "           0,    9,   33,   92,   28,  324,    4,    3,    1,    1,    1,    1,\n",
            "           1], device='cuda:0')\n",
            "trg: tensor([   2,    4,  183,  945,  105, 3390, 1345,   69,    4,  742,   58,    7,\n",
            "        2943,   89, 3580,   18,  366,    7,   68,    5,    3,    1,    1,    1,\n",
            "           1,    1,    1,    1,    1], device='cuda:0')\n",
            "\n",
            "src: tensor([   2,    5,  171,   32,   37,   75,  747, 4941,    7,  197,  762,    4,\n",
            "           3,    1,    1,    1,    1,    1,    1,    1,    1,    1,    1,    1,\n",
            "           1,    1,    1,    1,    1,    1], device='cuda:0')\n",
            "trg: tensor([  2,   4,  61,  35,   6,   7,  95, 136, 121, 600,  90,   6, 227, 203,\n",
            "          5,   3,   1,   1,   1,   1,   1,   1,   1,   1,   1,   1,   1,   1,\n",
            "          1,   1,   1,   1,   1], device='cuda:0')\n",
            "\n",
            "src: tensor([  2,   5,  25,  11,   6,  51,  79,  10, 102, 219,  38, 816,   4,   3,\n",
            "          1,   1,   1,   1,   1,   1,   1,   1,   1], device='cuda:0')\n",
            "trg: tensor([  2,   4,  33,  13,   4,  25, 109,  11,  62, 148,  10,  37, 213,   5,\n",
            "          3,   1,   1,   1,   1,   1,   1,   1,   1], device='cuda:0')\n",
            "\n"
          ]
        }
      ],
      "source": [
        "# Examples of input and output\n",
        "for iter, batch in enumerate(train_iter):\n",
        "    src = batch.src\n",
        "    trg = batch.trg\n",
        "\n",
        "    print(f\"src: {src[0]}\")\n",
        "    print(f\"trg: {trg[0]}\\n\")\n",
        "\n",
        "    if iter == 2:\n",
        "        break"
      ]
    },
    {
      "cell_type": "markdown",
      "metadata": {
        "id": "pbwnSOau8OdE"
      },
      "source": [
        "### Model"
      ]
    },
    {
      "cell_type": "markdown",
      "metadata": {
        "id": "A7Vbo7gb8Pv1"
      },
      "source": [
        "Multi-Head Attention"
      ]
    },
    {
      "cell_type": "code",
      "execution_count": null,
      "metadata": {
        "id": "LK4JarFxO56-"
      },
      "outputs": [],
      "source": [
        "class MultiHeadAttention(nn.Module):\n",
        "    def __init__(self, hidden_dim, n_heads, dropout):\n",
        "        super(MultiHeadAttention, self).__init__()\n",
        "\n",
        "        self.hidden_dim = hidden_dim\n",
        "        self.n_heads = n_heads\n",
        "        self.head_dim = hidden_dim // n_heads\n",
        "\n",
        "        self.fc_q = nn.Linear(hidden_dim, hidden_dim)\n",
        "        self.fc_k = nn.Linear(hidden_dim, hidden_dim)\n",
        "        self.fc_v = nn.Linear(hidden_dim, hidden_dim)\n",
        "        self.fc_o = nn.Linear(hidden_dim, hidden_dim)\n",
        "\n",
        "        self.dropout = nn.Dropout(dropout)\n",
        "        self.softmax = nn.Softmax(dim=-1)\n",
        "\n",
        "    def forward(self, query, key, value, mask=None):\n",
        "        \"\"\"\n",
        "        Perform Multi-Head Attention with Scaled Dot-Product Attention.\n",
        "        \"\"\"\n",
        "        batch_size = query.size(0)\n",
        "\n",
        "        # Linear projections for query, key, and value\n",
        "        Q = self.fc_q(query)  # Shape: (batch_size, q_len, hidden_dim)\n",
        "        K = self.fc_k(key)    # Shape: (batch_size, k_len, hidden_dim)\n",
        "        V = self.fc_v(value)  # Shape: (batch_size, v_len, hidden_dim)\n",
        "\n",
        "        # Reshape and permute to (batch_size, n_heads, seq_len, head_dim)\n",
        "        Q = Q.view(batch_size, -1, self.n_heads, self.head_dim).permute(0, 2, 1, 3)\n",
        "        K = K.view(batch_size, -1, self.n_heads, self.head_dim).permute(0, 2, 1, 3)\n",
        "        V = V.view(batch_size, -1, self.n_heads, self.head_dim).permute(0, 2, 1, 3)\n",
        "\n",
        "        # Scaled dot-product attention with learnable scale\n",
        "        scale = nn.Parameter(torch.tensor(self.head_dim ** 0.5, requires_grad=True, device=query.device))\n",
        "        attn_scores = torch.matmul(Q, K.transpose(-2, -1)) / scale\n",
        "\n",
        "        # Apply mask (if provided)\n",
        "        if mask is not None:\n",
        "            attn_scores = attn_scores.masked_fill(mask == 0, -1e9)  # 부드럽게 조정\n",
        "\n",
        "        # Attention probabilities\n",
        "        attn_probs = self.softmax(attn_scores)\n",
        "        attn_probs = self.dropout(attn_probs)\n",
        "\n",
        "        # Weighted sum of values\n",
        "        attn_output = torch.matmul(attn_probs, V)  # Shape: (batch_size, n_heads, q_len, head_dim)\n",
        "\n",
        "        # Concatenate heads and project back\n",
        "        attn_output = attn_output.permute(0, 2, 1, 3).contiguous()\n",
        "        attn_output = attn_output.view(batch_size, -1, self.hidden_dim)\n",
        "        output = self.fc_o(attn_output)  # Shape: (batch_size, q_len, hidden_dim)\n",
        "\n",
        "        return output, attn_probs\n"
      ]
    },
    {
      "cell_type": "markdown",
      "metadata": {
        "id": "ydBkBpnZ8WhF"
      },
      "source": [
        "Position-wise Feed-Forward Network"
      ]
    },
    {
      "cell_type": "code",
      "execution_count": null,
      "metadata": {
        "id": "N0rM2MnA8WHw"
      },
      "outputs": [],
      "source": [
        "class PositionwiseFeedForward(nn.Module):\n",
        "    def __init__(self, hidden_dim, ffn_dim, dropout):\n",
        "        super(PositionwiseFeedForward, self).__init__()\n",
        "\n",
        "        self.fc_1 = nn.Linear(hidden_dim, ffn_dim)\n",
        "        self.fc_2 = nn.Linear(ffn_dim, hidden_dim)\n",
        "\n",
        "        self.relu = nn.ReLU()\n",
        "        self.dropout = nn.Dropout(dropout)\n",
        "\n",
        "    def forward(self, x):\n",
        "        \"\"\"\n",
        "        Perform Position-wise Feed-Forward Network.\n",
        "        \"\"\"\n",
        "        x = self.fc_1(x)  # Shape: (batch_size, seq_len, ffn_dim)\n",
        "        x = self.relu(x) * torch.sigmoid(x)  # Swish 적용\n",
        "        x = self.dropout(x)  # Apply dropout\n",
        "        x = self.fc_2(x)  # Shape: (batch_size, seq_len, hidden_dim)\n",
        "        return x\n",
        "\n"
      ]
    },
    {
      "cell_type": "markdown",
      "metadata": {
        "id": "HI-mXxiS9hVS"
      },
      "source": [
        "Positional Encoding"
      ]
    },
    {
      "cell_type": "code",
      "execution_count": null,
      "metadata": {
        "id": "JSKcLNSB9j3W"
      },
      "outputs": [],
      "source": [
        "def PositionalEncoding(hidden_dim, seq_len):\n",
        "    positional_encoding = torch.zeros((seq_len, hidden_dim))\n",
        "\n",
        "    pos = torch.arange(0, seq_len, dtype=torch.float).unsqueeze(1)\n",
        "\n",
        "    _2i = torch.arange(0, hidden_dim, step=2, dtype=torch.float)\n",
        "\n",
        "    positional_encoding[:, 0::2] = torch.sin(pos / (10000 ** (_2i / hidden_dim)))\n",
        "    positional_encoding[:, 1::2] = torch.cos(pos / (10000 ** (_2i / hidden_dim)))\n",
        "\n",
        "    pos_enc = positional_encoding.unsqueeze(0)\n",
        "\n",
        "    return pos_enc"
      ]
    },
    {
      "cell_type": "markdown",
      "metadata": {
        "id": "V7RZIVZE8uQC"
      },
      "source": [
        "Encoder Layer"
      ]
    },
    {
      "cell_type": "code",
      "execution_count": null,
      "metadata": {
        "id": "yGnygekKO54o"
      },
      "outputs": [],
      "source": [
        "class EncoderLayer(nn.Module):\n",
        "    def __init__(self, hidden_dim, n_heads, ffn_dim, dropout):\n",
        "        super(EncoderLayer, self).__init__()\n",
        "\n",
        "        self.self_attention = MultiHeadAttention(hidden_dim, n_heads, dropout)\n",
        "        self.norm_1 = nn.LayerNorm(hidden_dim)\n",
        "\n",
        "        self.ffn = PositionwiseFeedForward(hidden_dim, ffn_dim, dropout)\n",
        "        self.norm_2 = nn.LayerNorm(hidden_dim)\n",
        "\n",
        "        self.dropout = nn.Dropout(dropout)\n",
        "\n",
        "    def forward(self, x, mask=None):\n",
        "        # Self-Attention\n",
        "        _x, _ = self.self_attention(x, x, x, mask)\n",
        "        x = self.norm_1(x + self.dropout(_x))\n",
        "\n",
        "        # Feed Forward Network\n",
        "        _x = self.ffn(x)\n",
        "        x = self.norm_2(x + self.dropout(_x))\n",
        "\n",
        "        return x"
      ]
    },
    {
      "cell_type": "markdown",
      "metadata": {
        "id": "Wg-hjB618yM1"
      },
      "source": [
        "Encoder"
      ]
    },
    {
      "cell_type": "code",
      "execution_count": null,
      "metadata": {
        "id": "qMrSv_caO52V"
      },
      "outputs": [],
      "source": [
        "class Encoder(nn.Module):\n",
        "    def __init__(self, input_dim, hidden_dim, n_layers, n_heads, ffn_dim, max_len, dropout):\n",
        "        super(Encoder, self).__init__()\n",
        "\n",
        "        self.src_emb = nn.Embedding(input_dim, hidden_dim)\n",
        "\n",
        "        self.hidden_dim = hidden_dim\n",
        "\n",
        "        self.layers = nn.ModuleList([EncoderLayer(hidden_dim, n_heads, ffn_dim, dropout) for _ in range(n_layers)])\n",
        "\n",
        "        self.dropout = nn.Dropout(dropout)\n",
        "\n",
        "        self.scale = math.sqrt(hidden_dim)\n",
        "\n",
        "    def forward(self, x, mask=None):\n",
        "        batch_size, seq_len = x.size()\n",
        "\n",
        "        pos_enc = PositionalEncoding(self.hidden_dim, seq_len).to(x.device)\n",
        "        x = self.dropout((self.src_emb(x) * self.scale) + pos_enc)\n",
        "\n",
        "        for layer in self.layers:\n",
        "            x = layer(x, mask)\n",
        "\n",
        "        return x"
      ]
    },
    {
      "cell_type": "markdown",
      "metadata": {
        "id": "VsVhf6jx8zD-"
      },
      "source": [
        "Decoder Layer"
      ]
    },
    {
      "cell_type": "code",
      "execution_count": null,
      "metadata": {
        "id": "G4IfxggGO50D"
      },
      "outputs": [],
      "source": [
        "class DecoderLayer(nn.Module):\n",
        "    def __init__(self, hidden_dim, n_heads, ffn_dim, dropout):\n",
        "        super(DecoderLayer, self).__init__()\n",
        "\n",
        "        self.self_attention = MultiHeadAttention(hidden_dim, n_heads, dropout)\n",
        "        self.norm_1 = nn.LayerNorm(hidden_dim)\n",
        "\n",
        "        self.enc_dec_attention = MultiHeadAttention(hidden_dim, n_heads, dropout)\n",
        "        self.norm_2 = nn.LayerNorm(hidden_dim)\n",
        "\n",
        "        self.ffn = PositionwiseFeedForward(hidden_dim, ffn_dim, dropout)\n",
        "        self.norm_3 = nn.LayerNorm(hidden_dim)\n",
        "\n",
        "        self.dropout = nn.Dropout(dropout)\n",
        "\n",
        "    def forward(self, x, enc_output, trg_mask=None, src_mask=None):\n",
        "        # Self-Attention\n",
        "        _x, _ = self.self_attention(x, x, x, trg_mask)\n",
        "        x = self.norm_1(x + self.dropout(_x))\n",
        "\n",
        "        # Encoder-Decoder Attention\n",
        "        _x, attn = self.enc_dec_attention(x, enc_output, enc_output, src_mask)\n",
        "        x = self.norm_2(x + self.dropout(_x))\n",
        "\n",
        "        # Feed Forward Network\n",
        "        _x = self.ffn(x)\n",
        "        x = self.norm_3(x + self.dropout(_x))\n",
        "\n",
        "        return x, attn"
      ]
    },
    {
      "cell_type": "markdown",
      "metadata": {
        "id": "wUlwcxfZ80v8"
      },
      "source": [
        "Decoder"
      ]
    },
    {
      "cell_type": "code",
      "execution_count": null,
      "metadata": {
        "id": "ZMvvdHUl80_S"
      },
      "outputs": [],
      "source": [
        "class Decoder(nn.Module):\n",
        "    def __init__(self, output_dim, hidden_dim, n_layers, n_heads, ffn_dim, max_len, dropout):\n",
        "        super(Decoder, self).__init__()\n",
        "\n",
        "        self.trg_emb = nn.Embedding(output_dim, hidden_dim)\n",
        "\n",
        "        self.hidden_dim = hidden_dim\n",
        "\n",
        "        self.layers = nn.ModuleList([DecoderLayer(hidden_dim, n_heads, ffn_dim, dropout) for _ in range(n_layers)])\n",
        "\n",
        "        self.fc_out = nn.Linear(hidden_dim, output_dim)\n",
        "\n",
        "        self.dropout = nn.Dropout(dropout)\n",
        "\n",
        "        self.scale = math.sqrt(hidden_dim)\n",
        "\n",
        "    def forward(self, x, enc_output, trg_mask=None, src_mask=None):\n",
        "        batch_size, seq_len = x.size()\n",
        "\n",
        "        pos_enc = PositionalEncoding(self.hidden_dim, seq_len).to(x.device)\n",
        "        x = self.dropout((self.trg_emb(x) * self.scale) + pos_enc)\n",
        "\n",
        "        for layer in self.layers:\n",
        "            x, attn = layer(x, enc_output, trg_mask, src_mask)\n",
        "\n",
        "        output = self.fc_out(x)\n",
        "\n",
        "        return output, attn"
      ]
    },
    {
      "cell_type": "markdown",
      "metadata": {
        "id": "v6fQVJiL83EH"
      },
      "source": [
        "Transformer"
      ]
    },
    {
      "cell_type": "code",
      "execution_count": null,
      "metadata": {
        "id": "MaN3sbqs83-A"
      },
      "outputs": [],
      "source": [
        "class Transformer(nn.Module):\n",
        "    def __init__(self, input_dim, output_dim, hidden_dim, n_layers, n_heads, ffn_dim, max_len, dropout, src_pad_idx, trg_pad_idx, device):\n",
        "        super(Transformer, self).__init__()\n",
        "\n",
        "        self.src_pad_idx = src_pad_idx\n",
        "        self.trg_pad_idx = trg_pad_idx\n",
        "\n",
        "        self.device = device\n",
        "\n",
        "        self.encoder = Encoder(input_dim, hidden_dim, n_layers, n_heads, ffn_dim, max_len, dropout)\n",
        "        self.decoder = Decoder(output_dim, hidden_dim, n_layers, n_heads, ffn_dim, max_len, dropout)\n",
        "\n",
        "    def pad_mask(self, src, trg, src_pad_idx, trg_pad_idx):\n",
        "        src_mask = (src != src_pad_idx).unsqueeze(1).unsqueeze(2)\n",
        "        trg_mask = (trg != trg_pad_idx).unsqueeze(1).unsqueeze(3)\n",
        "        trg_mask = trg_mask & self.subsequent_mask(trg_mask.shape[2])\n",
        "        return src_mask, trg_mask\n",
        "\n",
        "    def subsequent_mask(self, seq_len):\n",
        "        sub_mask = torch.tril(torch.ones((seq_len, seq_len), dtype=torch.long)).to(self.device)\n",
        "        return sub_mask\n",
        "\n",
        "    def forward(self, src, trg):\n",
        "        src_mask, trg_mask = self.pad_mask(src, trg, self.src_pad_idx, self.trg_pad_idx)\n",
        "\n",
        "        enc_output = self.encoder(src, mask=src_mask)\n",
        "        output, attn = self.decoder(trg, enc_output, trg_mask=trg_mask, src_mask=src_mask)\n",
        "\n",
        "        return output, attn"
      ]
    },
    {
      "cell_type": "markdown",
      "metadata": {
        "id": "e9Bkd-v19ACb"
      },
      "source": [
        "### Training"
      ]
    },
    {
      "cell_type": "markdown",
      "metadata": {
        "id": "CZ3Wg3fe9TA4"
      },
      "source": [
        "Hyperparameter"
      ]
    },
    {
      "cell_type": "code",
      "execution_count": null,
      "metadata": {
        "id": "3wV2JNps9LY8"
      },
      "outputs": [],
      "source": [
        "INPUT_DIM = len(SRC.vocab)\n",
        "OUTPUT_DIM = len(TRG.vocab)\n",
        "MAX_LEN = 100\n",
        "\n",
        "SRC_PAD_IDX = SRC.vocab.stoi[SRC.pad_token]\n",
        "TRG_PAD_IDX = TRG.vocab.stoi[TRG.pad_token]\n",
        "\n",
        "# Tune\n",
        "HIDDEN_DIM = 256\n",
        "N_LAYERS = 2\n",
        "N_HEADS = 4\n",
        "FFN_DIM = 4096\n",
        "DROPOUT = 0.1"
      ]
    },
    {
      "cell_type": "code",
      "execution_count": null,
      "metadata": {
        "id": "zDyGKOkG_DCw"
      },
      "outputs": [],
      "source": [
        "# Tune\n",
        "EPOCH = 40\n",
        "LEARNING_RATE = 4.932830179027451e-05"
      ]
    },
    {
      "cell_type": "markdown",
      "metadata": {
        "id": "YYrg5Cjv_s91"
      },
      "source": [
        "Utils"
      ]
    },
    {
      "cell_type": "code",
      "execution_count": null,
      "metadata": {
        "id": "EUuA5WcO-lvY"
      },
      "outputs": [],
      "source": [
        "def count_parameters(model):\n",
        "    return sum(p.numel() for p in model.parameters() if p.requires_grad)\n",
        "\n",
        "def initialize_weights(model):\n",
        "    if hasattr(model, 'weight') and model.weight.dim() > 1:\n",
        "        nn.init.xavier_uniform_(model.weight.data)\n",
        "\n",
        "def idx_to_word(token, vocab):\n",
        "    sentence = []\n",
        "    for t in token:\n",
        "        if t > 3:\n",
        "            sentence.append(vocab.itos[t])\n",
        "\n",
        "    return sentence\n",
        "\n",
        "def epoch_time(start_time, end_time):\n",
        "    elapsed_time = end_time - start_time\n",
        "    elapsed_mins = int(elapsed_time / 60)\n",
        "    elapsed_secs = int(elapsed_time - (elapsed_mins * 60))\n",
        "\n",
        "    return elapsed_mins, elapsed_secs"
      ]
    },
    {
      "cell_type": "markdown",
      "metadata": {
        "id": "qtr9CRia9DQg"
      },
      "source": [
        "Train"
      ]
    },
    {
      "cell_type": "code",
      "execution_count": null,
      "metadata": {
        "id": "F1IIbfou9A0E"
      },
      "outputs": [],
      "source": [
        "def train(model, train_iter, optimizer, criterion):\n",
        "    model.train()\n",
        "    train_loss = 0\n",
        "    for _, batch in enumerate(train_iter):\n",
        "        src = batch.src\n",
        "        trg = batch.trg\n",
        "\n",
        "        optimizer.zero_grad()\n",
        "\n",
        "        output, _ = model(src, trg[:,:-1])\n",
        "        output = output.contiguous().view(-1, output.shape[-1])\n",
        "        trg = trg[:,1:].contiguous().view(-1)\n",
        "\n",
        "        loss = criterion(output, trg)\n",
        "        train_loss += loss.item() / len(train_iter)\n",
        "\n",
        "        loss.backward()\n",
        "        optimizer.step()\n",
        "\n",
        "    return train_loss"
      ]
    },
    {
      "cell_type": "markdown",
      "metadata": {
        "id": "_rgQRGUP-3FO"
      },
      "source": [
        "Evaluation"
      ]
    },
    {
      "cell_type": "code",
      "execution_count": null,
      "metadata": {
        "id": "P7ryS0bx-4UZ"
      },
      "outputs": [],
      "source": [
        "def eval(model, eval_iter, criterion):\n",
        "    model.eval()\n",
        "    eval_loss = 0\n",
        "    with torch.no_grad():\n",
        "        for _, batch in enumerate(eval_iter):\n",
        "            src = batch.src\n",
        "            trg = batch.trg\n",
        "\n",
        "            output, _ = model(src, trg[:,:-1])\n",
        "            output = output.contiguous().view(-1, output.shape[-1])\n",
        "            trg = trg[:,1:].contiguous().view(-1)\n",
        "\n",
        "            loss = criterion(output, trg)\n",
        "            eval_loss += loss.item() / len(eval_iter)\n",
        "\n",
        "    return eval_loss"
      ]
    },
    {
      "cell_type": "markdown",
      "metadata": {
        "id": "mMAlj--f_8jD"
      },
      "source": [
        "Train & Val"
      ]
    },
    {
      "cell_type": "code",
      "execution_count": null,
      "metadata": {
        "colab": {
          "base_uri": "https://localhost:8080/"
        },
        "id": "ouGMAvGi_9vm",
        "outputId": "6ab03e05-7f05-43d5-8ecb-8971d080ede8"
      },
      "outputs": [
        {
          "output_type": "stream",
          "name": "stdout",
          "text": [
            "The model has 15,023,621 trainable parameters.\n"
          ]
        }
      ],
      "source": [
        "model = Transformer(\n",
        "    input_dim=INPUT_DIM,\n",
        "    output_dim=OUTPUT_DIM,\n",
        "    hidden_dim=HIDDEN_DIM,\n",
        "    n_layers=N_LAYERS,\n",
        "    n_heads=N_HEADS,\n",
        "    ffn_dim=FFN_DIM,\n",
        "    max_len=MAX_LEN,\n",
        "    dropout=DROPOUT,\n",
        "    src_pad_idx=SRC_PAD_IDX,\n",
        "    trg_pad_idx=TRG_PAD_IDX,\n",
        "    device=device\n",
        ").to(device)\n",
        "\n",
        "print(f\"The model has {count_parameters(model):,} trainable parameters.\")\n",
        "\n",
        "model.apply(initialize_weights)\n",
        "\n",
        "optimizer = torch.optim.Adam(model.parameters(), lr=LEARNING_RATE)\n",
        "criterion = nn.CrossEntropyLoss(ignore_index=TRG_PAD_IDX)"
      ]
    },
    {
      "cell_type": "code",
      "execution_count": null,
      "metadata": {
        "colab": {
          "base_uri": "https://localhost:8080/"
        },
        "id": "kKWiWGjubann",
        "outputId": "b7f2231a-c97e-451a-c502-16e98107c446"
      },
      "outputs": [
        {
          "output_type": "stream",
          "name": "stdout",
          "text": [
            "Epoch: 1 | Time: 0m 27s\n",
            "\tTrain Loss: 5.733 | Train PPL: 308.795\n",
            "\tVal Loss: 4.475 | Val PPL:  87.793\n",
            "Epoch: 2 | Time: 0m 25s\n",
            "\tTrain Loss: 4.223 | Train PPL:  68.252\n",
            "\tVal Loss: 3.646 | Val PPL:  38.331\n",
            "Epoch: 3 | Time: 0m 25s\n",
            "\tTrain Loss: 3.623 | Train PPL:  37.461\n",
            "\tVal Loss: 3.171 | Val PPL:  23.837\n",
            "Epoch: 4 | Time: 0m 25s\n",
            "\tTrain Loss: 3.249 | Train PPL:  25.759\n",
            "\tVal Loss: 2.866 | Val PPL:  17.558\n",
            "Epoch: 5 | Time: 0m 25s\n",
            "\tTrain Loss: 2.976 | Train PPL:  19.610\n",
            "\tVal Loss: 2.646 | Val PPL:  14.102\n",
            "Epoch: 6 | Time: 0m 25s\n",
            "\tTrain Loss: 2.763 | Train PPL:  15.846\n",
            "\tVal Loss: 2.484 | Val PPL:  11.988\n",
            "Epoch: 7 | Time: 0m 25s\n",
            "\tTrain Loss: 2.591 | Train PPL:  13.343\n",
            "\tVal Loss: 2.344 | Val PPL:  10.419\n",
            "Epoch: 8 | Time: 0m 27s\n",
            "\tTrain Loss: 2.443 | Train PPL:  11.511\n",
            "\tVal Loss: 2.240 | Val PPL:   9.393\n",
            "Epoch: 9 | Time: 0m 26s\n",
            "\tTrain Loss: 2.313 | Train PPL:  10.109\n",
            "\tVal Loss: 2.139 | Val PPL:   8.490\n",
            "Epoch: 10 | Time: 0m 25s\n",
            "\tTrain Loss: 2.200 | Train PPL:   9.029\n",
            "\tVal Loss: 2.060 | Val PPL:   7.845\n",
            "Epoch: 11 | Time: 0m 25s\n",
            "\tTrain Loss: 2.096 | Train PPL:   8.135\n",
            "\tVal Loss: 1.995 | Val PPL:   7.355\n",
            "Epoch: 12 | Time: 0m 25s\n",
            "\tTrain Loss: 2.004 | Train PPL:   7.422\n",
            "\tVal Loss: 1.929 | Val PPL:   6.881\n",
            "Epoch: 13 | Time: 0m 25s\n",
            "\tTrain Loss: 1.916 | Train PPL:   6.795\n",
            "\tVal Loss: 1.877 | Val PPL:   6.535\n",
            "Epoch: 14 | Time: 0m 25s\n",
            "\tTrain Loss: 1.843 | Train PPL:   6.314\n",
            "\tVal Loss: 1.834 | Val PPL:   6.258\n",
            "Epoch: 15 | Time: 0m 25s\n",
            "\tTrain Loss: 1.772 | Train PPL:   5.882\n",
            "\tVal Loss: 1.794 | Val PPL:   6.015\n",
            "Epoch: 16 | Time: 0m 25s\n",
            "\tTrain Loss: 1.706 | Train PPL:   5.506\n",
            "\tVal Loss: 1.758 | Val PPL:   5.800\n",
            "Epoch: 17 | Time: 0m 25s\n",
            "\tTrain Loss: 1.648 | Train PPL:   5.196\n",
            "\tVal Loss: 1.729 | Val PPL:   5.633\n",
            "Epoch: 18 | Time: 0m 25s\n",
            "\tTrain Loss: 1.590 | Train PPL:   4.905\n",
            "\tVal Loss: 1.695 | Val PPL:   5.444\n",
            "Epoch: 19 | Time: 0m 25s\n",
            "\tTrain Loss: 1.538 | Train PPL:   4.658\n",
            "\tVal Loss: 1.669 | Val PPL:   5.305\n",
            "Epoch: 20 | Time: 0m 25s\n",
            "\tTrain Loss: 1.486 | Train PPL:   4.421\n",
            "\tVal Loss: 1.650 | Val PPL:   5.209\n",
            "Epoch: 21 | Time: 0m 25s\n",
            "\tTrain Loss: 1.440 | Train PPL:   4.221\n",
            "\tVal Loss: 1.632 | Val PPL:   5.113\n",
            "Epoch: 22 | Time: 0m 25s\n",
            "\tTrain Loss: 1.398 | Train PPL:   4.049\n",
            "\tVal Loss: 1.617 | Val PPL:   5.037\n",
            "Epoch: 23 | Time: 0m 25s\n",
            "\tTrain Loss: 1.356 | Train PPL:   3.881\n",
            "\tVal Loss: 1.610 | Val PPL:   5.001\n",
            "Epoch: 24 | Time: 0m 25s\n",
            "\tTrain Loss: 1.318 | Train PPL:   3.737\n",
            "\tVal Loss: 1.598 | Val PPL:   4.945\n",
            "Epoch: 25 | Time: 0m 25s\n",
            "\tTrain Loss: 1.279 | Train PPL:   3.593\n",
            "\tVal Loss: 1.597 | Val PPL:   4.938\n",
            "Epoch: 26 | Time: 0m 25s\n",
            "\tTrain Loss: 1.245 | Train PPL:   3.472\n",
            "\tVal Loss: 1.580 | Val PPL:   4.854\n",
            "Epoch: 27 | Time: 0m 25s\n",
            "\tTrain Loss: 1.210 | Train PPL:   3.353\n",
            "\tVal Loss: 1.567 | Val PPL:   4.792\n",
            "Epoch: 28 | Time: 0m 25s\n",
            "\tTrain Loss: 1.176 | Train PPL:   3.241\n",
            "\tVal Loss: 1.569 | Val PPL:   4.801\n",
            "Epoch: 29 | Time: 0m 25s\n",
            "\tTrain Loss: 1.145 | Train PPL:   3.142\n",
            "\tVal Loss: 1.561 | Val PPL:   4.764\n",
            "Epoch: 30 | Time: 0m 25s\n",
            "\tTrain Loss: 1.114 | Train PPL:   3.047\n",
            "\tVal Loss: 1.564 | Val PPL:   4.779\n",
            "Epoch: 31 | Time: 0m 25s\n",
            "\tTrain Loss: 1.087 | Train PPL:   2.965\n",
            "\tVal Loss: 1.557 | Val PPL:   4.746\n",
            "Epoch: 32 | Time: 0m 25s\n",
            "\tTrain Loss: 1.057 | Train PPL:   2.878\n",
            "\tVal Loss: 1.555 | Val PPL:   4.737\n",
            "Epoch: 33 | Time: 0m 25s\n",
            "\tTrain Loss: 1.032 | Train PPL:   2.806\n",
            "\tVal Loss: 1.567 | Val PPL:   4.791\n",
            "Epoch: 34 | Time: 0m 25s\n",
            "\tTrain Loss: 1.004 | Train PPL:   2.728\n",
            "\tVal Loss: 1.562 | Val PPL:   4.768\n",
            "Epoch: 35 | Time: 0m 25s\n",
            "\tTrain Loss: 0.978 | Train PPL:   2.660\n",
            "\tVal Loss: 1.564 | Val PPL:   4.778\n",
            "Epoch: 36 | Time: 0m 25s\n",
            "\tTrain Loss: 0.955 | Train PPL:   2.599\n",
            "\tVal Loss: 1.568 | Val PPL:   4.798\n",
            "Epoch: 37 | Time: 0m 25s\n",
            "\tTrain Loss: 0.929 | Train PPL:   2.532\n",
            "\tVal Loss: 1.572 | Val PPL:   4.814\n",
            "Epoch: 38 | Time: 0m 25s\n",
            "\tTrain Loss: 0.908 | Train PPL:   2.479\n",
            "\tVal Loss: 1.582 | Val PPL:   4.865\n",
            "Epoch: 39 | Time: 0m 25s\n",
            "\tTrain Loss: 0.884 | Train PPL:   2.420\n",
            "\tVal Loss: 1.587 | Val PPL:   4.889\n",
            "Epoch: 40 | Time: 0m 25s\n",
            "\tTrain Loss: 0.863 | Train PPL:   2.371\n",
            "\tVal Loss: 1.588 | Val PPL:   4.894\n"
          ]
        }
      ],
      "source": [
        "# Train & Val\n",
        "best_loss = 999.\n",
        "for epoch in range(EPOCH):\n",
        "    start_time = time.time()\n",
        "\n",
        "    train_loss = train(model, train_iter, optimizer, criterion)\n",
        "    val_loss = eval(model, val_iter, criterion)\n",
        "\n",
        "    end_time = time.time()\n",
        "\n",
        "    epoch_mins, epoch_secs = epoch_time(start_time, end_time)\n",
        "\n",
        "    if val_loss < best_loss:\n",
        "        best_loss = val_loss\n",
        "        torch.save(model.state_dict(), 'best_model.pt')\n",
        "\n",
        "    print(f\"Epoch: {epoch+1} | Time: {epoch_mins}m {epoch_secs}s\")\n",
        "    print(f\"\\tTrain Loss: {train_loss:.3f} | Train PPL: {math.exp(train_loss):7.3f}\")\n",
        "    print(f\"\\tVal Loss: {val_loss:.3f} | Val PPL: {math.exp(val_loss):7.3f}\")"
      ]
    },
    {
      "cell_type": "markdown",
      "metadata": {
        "id": "j2-YTcFl7pbh"
      },
      "source": [
        "Test"
      ]
    },
    {
      "cell_type": "code",
      "execution_count": null,
      "metadata": {
        "colab": {
          "base_uri": "https://localhost:8080/"
        },
        "id": "T9IGf9FY2J-W",
        "outputId": "be90e517-c8b7-466a-924c-f242a0abad11"
      },
      "outputs": [
        {
          "output_type": "stream",
          "name": "stderr",
          "text": [
            "<ipython-input-35-c32c25916694>:2: FutureWarning: You are using `torch.load` with `weights_only=False` (the current default value), which uses the default pickle module implicitly. It is possible to construct malicious pickle data which will execute arbitrary code during unpickling (See https://github.com/pytorch/pytorch/blob/main/SECURITY.md#untrusted-models for more details). In a future release, the default value for `weights_only` will be flipped to `True`. This limits the functions that could be executed during unpickling. Arbitrary objects will no longer be allowed to be loaded via this mode unless they are explicitly allowlisted by the user via `torch.serialization.add_safe_globals`. We recommend you start setting `weights_only=True` for any use case where you don't have full control of the loaded file. Please open an issue on GitHub for any issues related to this experimental feature.\n",
            "  model.load_state_dict(torch.load('best_model.pt'))\n"
          ]
        },
        {
          "output_type": "execute_result",
          "data": {
            "text/plain": [
              "Transformer(\n",
              "  (encoder): Encoder(\n",
              "    (src_emb): Embedding(7853, 256)\n",
              "    (layers): ModuleList(\n",
              "      (0-1): 2 x EncoderLayer(\n",
              "        (self_attention): MultiHeadAttention(\n",
              "          (fc_q): Linear(in_features=256, out_features=256, bias=True)\n",
              "          (fc_k): Linear(in_features=256, out_features=256, bias=True)\n",
              "          (fc_v): Linear(in_features=256, out_features=256, bias=True)\n",
              "          (fc_o): Linear(in_features=256, out_features=256, bias=True)\n",
              "          (dropout): Dropout(p=0.1, inplace=False)\n",
              "          (softmax): Softmax(dim=-1)\n",
              "        )\n",
              "        (norm_1): LayerNorm((256,), eps=1e-05, elementwise_affine=True)\n",
              "        (ffn): PositionwiseFeedForward(\n",
              "          (fc_1): Linear(in_features=256, out_features=4096, bias=True)\n",
              "          (fc_2): Linear(in_features=4096, out_features=256, bias=True)\n",
              "          (relu): ReLU()\n",
              "          (dropout): Dropout(p=0.1, inplace=False)\n",
              "        )\n",
              "        (norm_2): LayerNorm((256,), eps=1e-05, elementwise_affine=True)\n",
              "        (dropout): Dropout(p=0.1, inplace=False)\n",
              "      )\n",
              "    )\n",
              "    (dropout): Dropout(p=0.1, inplace=False)\n",
              "  )\n",
              "  (decoder): Decoder(\n",
              "    (trg_emb): Embedding(5893, 256)\n",
              "    (layers): ModuleList(\n",
              "      (0-1): 2 x DecoderLayer(\n",
              "        (self_attention): MultiHeadAttention(\n",
              "          (fc_q): Linear(in_features=256, out_features=256, bias=True)\n",
              "          (fc_k): Linear(in_features=256, out_features=256, bias=True)\n",
              "          (fc_v): Linear(in_features=256, out_features=256, bias=True)\n",
              "          (fc_o): Linear(in_features=256, out_features=256, bias=True)\n",
              "          (dropout): Dropout(p=0.1, inplace=False)\n",
              "          (softmax): Softmax(dim=-1)\n",
              "        )\n",
              "        (norm_1): LayerNorm((256,), eps=1e-05, elementwise_affine=True)\n",
              "        (enc_dec_attention): MultiHeadAttention(\n",
              "          (fc_q): Linear(in_features=256, out_features=256, bias=True)\n",
              "          (fc_k): Linear(in_features=256, out_features=256, bias=True)\n",
              "          (fc_v): Linear(in_features=256, out_features=256, bias=True)\n",
              "          (fc_o): Linear(in_features=256, out_features=256, bias=True)\n",
              "          (dropout): Dropout(p=0.1, inplace=False)\n",
              "          (softmax): Softmax(dim=-1)\n",
              "        )\n",
              "        (norm_2): LayerNorm((256,), eps=1e-05, elementwise_affine=True)\n",
              "        (ffn): PositionwiseFeedForward(\n",
              "          (fc_1): Linear(in_features=256, out_features=4096, bias=True)\n",
              "          (fc_2): Linear(in_features=4096, out_features=256, bias=True)\n",
              "          (relu): ReLU()\n",
              "          (dropout): Dropout(p=0.1, inplace=False)\n",
              "        )\n",
              "        (norm_3): LayerNorm((256,), eps=1e-05, elementwise_affine=True)\n",
              "        (dropout): Dropout(p=0.1, inplace=False)\n",
              "      )\n",
              "    )\n",
              "    (fc_out): Linear(in_features=256, out_features=5893, bias=True)\n",
              "    (dropout): Dropout(p=0.1, inplace=False)\n",
              "  )\n",
              ")"
            ]
          },
          "metadata": {},
          "execution_count": 35
        }
      ],
      "source": [
        "# Test\n",
        "model.load_state_dict(torch.load('best_model.pt'))\n",
        "model.to(device)"
      ]
    },
    {
      "cell_type": "code",
      "execution_count": null,
      "metadata": {
        "colab": {
          "base_uri": "https://localhost:8080/"
        },
        "id": "IWT7ScAr2QSb",
        "outputId": "09ba3110-574b-402d-ab0e-52612dd9bd3c"
      },
      "outputs": [
        {
          "output_type": "stream",
          "name": "stdout",
          "text": [
            "\tTest Loss: 1.624 | Test PPL:   5.072\n"
          ]
        }
      ],
      "source": [
        "# Test\n",
        "test_loss = eval(model, test_iter, criterion)\n",
        "print(f\"\\tTest Loss: {test_loss:.3f} | Test PPL: {math.exp(test_loss):7.3f}\")"
      ]
    },
    {
      "cell_type": "markdown",
      "metadata": {
        "id": "3U472udWB3Pu"
      },
      "source": [
        "### Inference"
      ]
    },
    {
      "cell_type": "markdown",
      "metadata": {
        "id": "1dCQIP7NCc0q"
      },
      "source": [
        "Translation"
      ]
    },
    {
      "cell_type": "code",
      "execution_count": null,
      "metadata": {
        "id": "FmKVKiisCZeq"
      },
      "outputs": [],
      "source": [
        "def machine_translation(sentence, SRC, TRG, model, device, max_len=50):\n",
        "    model.eval()\n",
        "\n",
        "    if isinstance(sentence, list):\n",
        "      sentence = \" \".join(sentence)\n",
        "      token = tokenize_de(sentence)\n",
        "      token = [SRC.init_token] + token + [SRC.eos_token]\n",
        "\n",
        "      src = [SRC.vocab.stoi[tok] for tok in token]\n",
        "      src = torch.tensor(src, dtype=torch.long).unsqueeze(0).to(device)\n",
        "    else:\n",
        "      src = sentence.unsqueeze(0)\n",
        "\n",
        "    src_mask = (src != model.src_pad_idx).unsqueeze(1).unsqueeze(2)\n",
        "\n",
        "    with torch.no_grad():\n",
        "        enc_output = model.encoder(src, mask=src_mask)\n",
        "\n",
        "    trg_idx = [TRG.vocab.stoi[TRG.init_token]]\n",
        "    trg_idx = torch.tensor(trg_idx, dtype=torch.long).unsqueeze(0).to(device)\n",
        "\n",
        "    for _ in range(max_len):\n",
        "        trg_mask = (trg_idx != model.trg_pad_idx).unsqueeze(1).unsqueeze(3)\n",
        "        trg_mask = trg_mask & model.subsequent_mask(trg_mask.shape[2])\n",
        "\n",
        "        with torch.no_grad():\n",
        "            output, attn = model.decoder(trg_idx, enc_output, trg_mask=trg_mask, src_mask=src_mask)\n",
        "\n",
        "        pred = output.argmax(dim=-1)\n",
        "        pred = pred[:,-1].unsqueeze(1)\n",
        "\n",
        "        trg_idx = torch.cat((trg_idx, pred), dim=-1)\n",
        "\n",
        "        if pred == TRG.vocab.stoi[TRG.eos_token]:\n",
        "            break\n",
        "\n",
        "    trg_idx = trg_idx.squeeze(0)\n",
        "    translate = [TRG.vocab.itos[t] for t in trg_idx]\n",
        "\n",
        "    return translate, attn"
      ]
    },
    {
      "cell_type": "markdown",
      "metadata": {
        "id": "fAKOkkzC2ieL"
      },
      "source": [
        "BLEU score"
      ]
    },
    {
      "cell_type": "code",
      "execution_count": null,
      "metadata": {
        "id": "DM_aD4T12iHs"
      },
      "outputs": [],
      "source": [
        "from torchtext.data.metrics import bleu_score\n",
        "\n",
        "def calculate_score(test_iter, SRC, TRG, model, device):\n",
        "    preds, trgs = [], []\n",
        "\n",
        "    for batch in test_iter:\n",
        "        src = batch.src\n",
        "        trg = batch.trg\n",
        "\n",
        "        for j in range(len(batch)):\n",
        "            pred, _ = machine_translation(src[j], SRC, TRG, model, device)\n",
        "            preds.append(pred[1:-1])\n",
        "            trg_word = idx_to_word(trg[j], TRG.vocab)\n",
        "            trgs.append([trg_word])\n",
        "\n",
        "    bleu = bleu_score(preds, trgs)\n",
        "\n",
        "    return bleu"
      ]
    },
    {
      "cell_type": "code",
      "execution_count": null,
      "metadata": {
        "colab": {
          "base_uri": "https://localhost:8080/"
        },
        "id": "SxebhhS67hgM",
        "outputId": "60d84a6d-4c16-4831-9a0f-db88d6541ab9"
      },
      "outputs": [
        {
          "output_type": "stream",
          "name": "stdout",
          "text": [
            "BLEU score: 39.92\n"
          ]
        }
      ],
      "source": [
        "# BLEU score\n",
        "bleu_score = calculate_score(test_iter, SRC, TRG, model, device)\n",
        "print(f\"BLEU score: {bleu_score*100:.2f}\")"
      ]
    },
    {
      "cell_type": "markdown",
      "metadata": {
        "id": "sPclCyBuCJqu"
      },
      "source": [
        "## Visualization"
      ]
    },
    {
      "cell_type": "markdown",
      "metadata": {
        "id": "mJF9PrPYC1jl"
      },
      "source": [
        "Attention score"
      ]
    },
    {
      "cell_type": "code",
      "execution_count": null,
      "metadata": {
        "id": "-qQtUPttC2if"
      },
      "outputs": [],
      "source": [
        "def visualize_attention(src, translate, attn, n_heads=8, n_rows=4, n_cols=2):\n",
        "    assert n_rows * n_cols == n_heads\n",
        "\n",
        "    fig = plt.figure(figsize=(n_cols*8, n_rows*8))\n",
        "    fig.suptitle(f\"Attention Score\", fontsize=16)\n",
        "\n",
        "    for i in range(n_heads):\n",
        "        # i = head\n",
        "        ax = fig.add_subplot(n_rows, n_cols, i+1)\n",
        "        ax.set_title(f\"Head {i+1}\", fontsize=16, pad=25)\n",
        "\n",
        "        att = attn.squeeze(0)[i].cpu().detach().numpy()\n",
        "\n",
        "        a = ax.matshow(att, cmap='Blues', aspect=\"auto\")\n",
        "\n",
        "        ax.tick_params(labelsize=12)\n",
        "        ax.set_xticks(np.arange(len(src)+2))\n",
        "        ax.set_yticks(np.arange(len(translate[:-1])))\n",
        "        ax.set_xticklabels(['<sos>'] + src + ['<eos>'], rotation=45)\n",
        "        ax.set_yticklabels(translate[:-1])\n",
        "\n",
        "        cbar = fig.colorbar(a, ax=ax)\n",
        "\n",
        "    plt.tight_layout()\n",
        "    plt.show()\n",
        "    plt.close()"
      ]
    },
    {
      "cell_type": "code",
      "execution_count": null,
      "metadata": {
        "colab": {
          "base_uri": "https://localhost:8080/",
          "height": 727
        },
        "id": "G5CPa1y-g7ky",
        "outputId": "9739a727-1eb0-4de9-a644-0df01dd84d9b"
      },
      "outputs": [
        {
          "output_type": "stream",
          "name": "stdout",
          "text": [
            "src: ['ein', 'älterer', 'mann', 'spielt', 'ein', 'videospiel', '.']\n",
            "trg: ['an', 'older', 'man', 'is', 'playing', 'a', 'video', 'arcade', 'game', '.']\n",
            "translate: ['<sos>', 'an', 'older', 'man', 'is', 'playing', 'a', 'video', 'game', '.', '<eos>']\n"
          ]
        },
        {
          "output_type": "display_data",
          "data": {
            "text/plain": [
              "<Figure size 1600x1600 with 8 Axes>"
            ],
            "image/png": "[encoded data removed]"
          },
          "metadata": {}
        }
      ],
      "source": [
        "# Attention score\n",
        "idx = 998 # random\n",
        "\n",
        "src = vars(test_data.examples[idx])['src']\n",
        "trg = vars(test_data.examples[idx])['trg']\n",
        "\n",
        "print(f\"src: {src}\")\n",
        "print(f\"trg: {trg}\")\n",
        "\n",
        "translate, attn = machine_translation(src, SRC, TRG, model, device)\n",
        "print(f\"translate: {translate}\")\n",
        "visualize_attention(src, translate, attn, N_HEADS, 2, N_HEADS // 2)"
      ]
    },
    {
      "cell_type": "code",
      "execution_count": null,
      "metadata": {
        "id": "ZhdvEtdtdX8l"
      },
      "outputs": [],
      "source": []
    }
  ],
  "metadata": {
    "accelerator": "GPU",
    "colab": {
      "gpuType": "T4",
      "provenance": [],
      "include_colab_link": true
    },
    "kernelspec": {
      "display_name": "Python 3",
      "name": "python3"
    },
    "language_info": {
      "name": "python"
    }
  },
  "nbformat": 4,
  "nbformat_minor": 0
}